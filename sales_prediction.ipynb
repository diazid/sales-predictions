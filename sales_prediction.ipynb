{
  "nbformat": 4,
  "nbformat_minor": 0,
  "metadata": {
    "colab": {
      "provenance": [],
      "authorship_tag": "ABX9TyNkoH9Z3uvG39m6W75Uln6L",
      "include_colab_link": true
    },
    "kernelspec": {
      "name": "python3",
      "display_name": "Python 3"
    },
    "language_info": {
      "name": "python"
    }
  },
  "cells": [
    {
      "cell_type": "markdown",
      "metadata": {
        "id": "view-in-github",
        "colab_type": "text"
      },
      "source": [
        "<a href=\"https://colab.research.google.com/github/diazid/sales-predictions/blob/main/sales_prediction.ipynb\" target=\"_parent\"><img src=\"https://colab.research.google.com/assets/colab-badge.svg\" alt=\"Open In Colab\"/></a>"
      ]
    },
    {
      "cell_type": "markdown",
      "source": [
        "# Project 1 - Part 1: Foor Sales Prediction\n",
        "\n",
        "Name: Israel Diaz"
      ],
      "metadata": {
        "id": "mYISzyPjvICw"
      }
    },
    {
      "cell_type": "markdown",
      "source": [
        "## Loading Data"
      ],
      "metadata": {
        "id": "6__zyAHuvV4o"
      }
    },
    {
      "cell_type": "code",
      "source": [],
      "metadata": {
        "id": "TeEVELDxvU1X"
      },
      "execution_count": null,
      "outputs": []
    },
    {
      "cell_type": "markdown",
      "source": [
        "## Data Cleaning"
      ],
      "metadata": {
        "id": "teqfxMLZvbqP"
      }
    },
    {
      "cell_type": "code",
      "source": [],
      "metadata": {
        "id": "nfyFY4ugvd7Y"
      },
      "execution_count": null,
      "outputs": []
    },
    {
      "cell_type": "markdown",
      "source": [
        "## Exploratory Visuals"
      ],
      "metadata": {
        "id": "E3AwQqQ5vei0"
      }
    },
    {
      "cell_type": "code",
      "source": [],
      "metadata": {
        "id": "TdkjqGrKvhUv"
      },
      "execution_count": null,
      "outputs": []
    },
    {
      "cell_type": "markdown",
      "source": [
        "## Explanatory Visuals"
      ],
      "metadata": {
        "id": "3827ej84viEo"
      }
    },
    {
      "cell_type": "code",
      "source": [],
      "metadata": {
        "id": "BVQdspJvvll_"
      },
      "execution_count": null,
      "outputs": []
    }
  ]
}