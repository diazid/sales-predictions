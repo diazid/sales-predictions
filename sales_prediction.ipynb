{
  "nbformat": 4,
  "nbformat_minor": 0,
  "metadata": {
    "colab": {
      "provenance": [],
      "toc_visible": true,
      "authorship_tag": "ABX9TyPH0LMSO4Kw8jebT5kHcSdo",
      "include_colab_link": true
    },
    "kernelspec": {
      "name": "python3",
      "display_name": "Python 3"
    },
    "language_info": {
      "name": "python"
    }
  },
  "cells": [
    {
      "cell_type": "markdown",
      "metadata": {
        "id": "view-in-github",
        "colab_type": "text"
      },
      "source": [
        "<a href=\"https://colab.research.google.com/github/diazid/sales-predictions/blob/main/sales_prediction.ipynb\" target=\"_parent\"><img src=\"https://colab.research.google.com/assets/colab-badge.svg\" alt=\"Open In Colab\"/></a>"
      ]
    },
    {
      "cell_type": "markdown",
      "source": [
        "# Food Sales Prediction\n",
        "\n",
        "Name: Israel Diaz\n",
        "\n"
      ],
      "metadata": {
        "id": "mYISzyPjvICw"
      }
    },
    {
      "cell_type": "markdown",
      "source": [
        "**Description:**\n",
        "\n",
        "This project will be a sales prediction for food items sold at various stores. The goal of this is to help the retailer understand the properties of products and outlets that play crucial roles in increasing sales."
      ],
      "metadata": {
        "id": "7YljQ6D-ocra"
      }
    },
    {
      "cell_type": "markdown",
      "source": [
        "**Data**\n",
        "\n",
        "The data frame register 8523 entries and 12 variable. Each variable represent the following. \n",
        "\n",
        "\n",
        "\n",
        "|Variable Name            \t| Description |\n",
        "|---------------------------|-------------|\n",
        "|Item_Identifier            |\tUnique product ID|\n",
        "|Item_Weight\t              | Weight of product|\n",
        "|Item_Fat_Content           |\tWhether the product is low fat or regular|\n",
        "|Item_Visibility          \t|The percentage of total display area of all products in a store allocated to the particular product|\n",
        "|Item_Type\t                |The category to which the product belongs|\n",
        "|Item_MRP\t                  |Maximum Retail Price (list price) of the product|\n",
        "|Outlet_Identifier          |Unique store ID|\n",
        "|Outlet_Establishment_Year\t|The year in which store was established|\n",
        "|Outlet_Size\t              |The size of the store in terms of ground area covered|\n",
        "|Outlet_Location_Type\t      |The type of area in which the store is located|\n",
        "|Outlet_Type\t              |Whether the outlet is a grocery store or some sort of supermarket|\n",
        "|Item_Outlet_Sales         \t|Sales of the product in the particular store. This is the target variable to be predicted. |\n"
      ],
      "metadata": {
        "id": "t1dVYMNflQiK"
      }
    },
    {
      "cell_type": "markdown",
      "source": [
        "## Loading Data"
      ],
      "metadata": {
        "id": "6__zyAHuvV4o"
      }
    },
    {
      "cell_type": "markdown",
      "source": [
        "Loading data from container"
      ],
      "metadata": {
        "id": "cuSWe_qHLlEU"
      }
    },
    {
      "cell_type": "code",
      "source": [
        "filepath = 'https://drive.google.com/uc?export=download&id=1qiuKCaKtV3UnnvF02Old4UDHZ3mD4O_6'"
      ],
      "metadata": {
        "id": "t9jF7cvgMCP1"
      },
      "execution_count": null,
      "outputs": []
    },
    {
      "cell_type": "code",
      "source": [
        "#IMPORTING PANDAS LIBRARY\n",
        "import pandas as pd\n",
        "import numpy as np\n",
        "import matplotlib.pyplot as plt\n",
        "import seaborn as sns\n",
        "import random\n",
        "import plotly.graph_objects as go\n",
        "pd.set_option('display.max_columns', None)\n",
        "plt.style.use('ggplot')\n",
        "\n",
        "#ML LIBRARIES\n",
        "from sklearn.model_selection import train_test_split\n",
        "from sklearn.preprocessing import OneHotEncoder,StandardScaler\n",
        "from sklearn.compose import ColumnTransformer,make_column_transformer,make_column_selector\n",
        "from sklearn.pipeline import Pipeline, make_pipeline\n",
        "from sklearn.impute import SimpleImputer\n",
        "from sklearn import set_config\n",
        "from sklearn.dummy import DummyRegressor\n",
        "from sklearn.metrics import r2_score, mean_squared_error, mean_absolute_error\n",
        "from sklearn.linear_model import LinearRegression\n",
        "from sklearn.tree import DecisionTreeRegressor\n",
        "set_config(display='diagram')\n"
      ],
      "metadata": {
        "id": "6ahp_E0BNawL"
      },
      "execution_count": null,
      "outputs": []
    },
    {
      "cell_type": "code",
      "source": [
        "#LOADING DATA INTO PANDAS DATAFRAME\n",
        "df = pd.read_csv(filepath)"
      ],
      "metadata": {
        "id": "AknmUylRNj0A"
      },
      "execution_count": null,
      "outputs": []
    },
    {
      "cell_type": "markdown",
      "source": [
        "Previewing the content and info."
      ],
      "metadata": {
        "id": "EDoTSC9QPLEJ"
      }
    },
    {
      "cell_type": "code",
      "source": [
        "df.info()"
      ],
      "metadata": {
        "colab": {
          "base_uri": "https://localhost:8080/"
        },
        "id": "tLhPyzRcODuI",
        "outputId": "2fcf26c6-6ce7-4183-b2e9-71a0a299f478"
      },
      "execution_count": null,
      "outputs": [
        {
          "output_type": "stream",
          "name": "stdout",
          "text": [
            "<class 'pandas.core.frame.DataFrame'>\n",
            "RangeIndex: 8523 entries, 0 to 8522\n",
            "Data columns (total 12 columns):\n",
            " #   Column                     Non-Null Count  Dtype  \n",
            "---  ------                     --------------  -----  \n",
            " 0   Item_Identifier            8523 non-null   object \n",
            " 1   Item_Weight                7060 non-null   float64\n",
            " 2   Item_Fat_Content           8523 non-null   object \n",
            " 3   Item_Visibility            8523 non-null   float64\n",
            " 4   Item_Type                  8523 non-null   object \n",
            " 5   Item_MRP                   8523 non-null   float64\n",
            " 6   Outlet_Identifier          8523 non-null   object \n",
            " 7   Outlet_Establishment_Year  8523 non-null   int64  \n",
            " 8   Outlet_Size                6113 non-null   object \n",
            " 9   Outlet_Location_Type       8523 non-null   object \n",
            " 10  Outlet_Type                8523 non-null   object \n",
            " 11  Item_Outlet_Sales          8523 non-null   float64\n",
            "dtypes: float64(4), int64(1), object(7)\n",
            "memory usage: 799.2+ KB\n"
          ]
        }
      ]
    },
    {
      "cell_type": "markdown",
      "source": [
        "I see that there is a couple of the variables that has missing values:\n",
        "\n",
        "* No. Entries : 8523\n",
        "* `Item Weight` : 7060 non null values\n",
        "* `Outlet_Size` : 6113 non null values\n",
        "\n",
        "Other variables are complete. "
      ],
      "metadata": {
        "id": "v2SXhv2jOehP"
      }
    },
    {
      "cell_type": "code",
      "source": [
        "df.head()"
      ],
      "metadata": {
        "colab": {
          "base_uri": "https://localhost:8080/",
          "height": 357
        },
        "id": "xWzO8E0iOR5U",
        "outputId": "afe4fa3d-79f3-45bd-8429-fa5c240a940c"
      },
      "execution_count": null,
      "outputs": [
        {
          "output_type": "execute_result",
          "data": {
            "text/plain": [
              "  Item_Identifier  Item_Weight Item_Fat_Content  Item_Visibility  \\\n",
              "0           FDA15         9.30          Low Fat         0.016047   \n",
              "1           DRC01         5.92          Regular         0.019278   \n",
              "2           FDN15        17.50          Low Fat         0.016760   \n",
              "3           FDX07        19.20          Regular         0.000000   \n",
              "4           NCD19         8.93          Low Fat         0.000000   \n",
              "\n",
              "               Item_Type  Item_MRP Outlet_Identifier  \\\n",
              "0                  Dairy  249.8092            OUT049   \n",
              "1            Soft Drinks   48.2692            OUT018   \n",
              "2                   Meat  141.6180            OUT049   \n",
              "3  Fruits and Vegetables  182.0950            OUT010   \n",
              "4              Household   53.8614            OUT013   \n",
              "\n",
              "   Outlet_Establishment_Year Outlet_Size Outlet_Location_Type  \\\n",
              "0                       1999      Medium               Tier 1   \n",
              "1                       2009      Medium               Tier 3   \n",
              "2                       1999      Medium               Tier 1   \n",
              "3                       1998         NaN               Tier 3   \n",
              "4                       1987        High               Tier 3   \n",
              "\n",
              "         Outlet_Type  Item_Outlet_Sales  \n",
              "0  Supermarket Type1          3735.1380  \n",
              "1  Supermarket Type2           443.4228  \n",
              "2  Supermarket Type1          2097.2700  \n",
              "3      Grocery Store           732.3800  \n",
              "4  Supermarket Type1           994.7052  "
            ],
            "text/html": [
              "\n",
              "  <div id=\"df-a29fb218-f821-4865-89d8-31abf4723b1f\">\n",
              "    <div class=\"colab-df-container\">\n",
              "      <div>\n",
              "<style scoped>\n",
              "    .dataframe tbody tr th:only-of-type {\n",
              "        vertical-align: middle;\n",
              "    }\n",
              "\n",
              "    .dataframe tbody tr th {\n",
              "        vertical-align: top;\n",
              "    }\n",
              "\n",
              "    .dataframe thead th {\n",
              "        text-align: right;\n",
              "    }\n",
              "</style>\n",
              "<table border=\"1\" class=\"dataframe\">\n",
              "  <thead>\n",
              "    <tr style=\"text-align: right;\">\n",
              "      <th></th>\n",
              "      <th>Item_Identifier</th>\n",
              "      <th>Item_Weight</th>\n",
              "      <th>Item_Fat_Content</th>\n",
              "      <th>Item_Visibility</th>\n",
              "      <th>Item_Type</th>\n",
              "      <th>Item_MRP</th>\n",
              "      <th>Outlet_Identifier</th>\n",
              "      <th>Outlet_Establishment_Year</th>\n",
              "      <th>Outlet_Size</th>\n",
              "      <th>Outlet_Location_Type</th>\n",
              "      <th>Outlet_Type</th>\n",
              "      <th>Item_Outlet_Sales</th>\n",
              "    </tr>\n",
              "  </thead>\n",
              "  <tbody>\n",
              "    <tr>\n",
              "      <th>0</th>\n",
              "      <td>FDA15</td>\n",
              "      <td>9.30</td>\n",
              "      <td>Low Fat</td>\n",
              "      <td>0.016047</td>\n",
              "      <td>Dairy</td>\n",
              "      <td>249.8092</td>\n",
              "      <td>OUT049</td>\n",
              "      <td>1999</td>\n",
              "      <td>Medium</td>\n",
              "      <td>Tier 1</td>\n",
              "      <td>Supermarket Type1</td>\n",
              "      <td>3735.1380</td>\n",
              "    </tr>\n",
              "    <tr>\n",
              "      <th>1</th>\n",
              "      <td>DRC01</td>\n",
              "      <td>5.92</td>\n",
              "      <td>Regular</td>\n",
              "      <td>0.019278</td>\n",
              "      <td>Soft Drinks</td>\n",
              "      <td>48.2692</td>\n",
              "      <td>OUT018</td>\n",
              "      <td>2009</td>\n",
              "      <td>Medium</td>\n",
              "      <td>Tier 3</td>\n",
              "      <td>Supermarket Type2</td>\n",
              "      <td>443.4228</td>\n",
              "    </tr>\n",
              "    <tr>\n",
              "      <th>2</th>\n",
              "      <td>FDN15</td>\n",
              "      <td>17.50</td>\n",
              "      <td>Low Fat</td>\n",
              "      <td>0.016760</td>\n",
              "      <td>Meat</td>\n",
              "      <td>141.6180</td>\n",
              "      <td>OUT049</td>\n",
              "      <td>1999</td>\n",
              "      <td>Medium</td>\n",
              "      <td>Tier 1</td>\n",
              "      <td>Supermarket Type1</td>\n",
              "      <td>2097.2700</td>\n",
              "    </tr>\n",
              "    <tr>\n",
              "      <th>3</th>\n",
              "      <td>FDX07</td>\n",
              "      <td>19.20</td>\n",
              "      <td>Regular</td>\n",
              "      <td>0.000000</td>\n",
              "      <td>Fruits and Vegetables</td>\n",
              "      <td>182.0950</td>\n",
              "      <td>OUT010</td>\n",
              "      <td>1998</td>\n",
              "      <td>NaN</td>\n",
              "      <td>Tier 3</td>\n",
              "      <td>Grocery Store</td>\n",
              "      <td>732.3800</td>\n",
              "    </tr>\n",
              "    <tr>\n",
              "      <th>4</th>\n",
              "      <td>NCD19</td>\n",
              "      <td>8.93</td>\n",
              "      <td>Low Fat</td>\n",
              "      <td>0.000000</td>\n",
              "      <td>Household</td>\n",
              "      <td>53.8614</td>\n",
              "      <td>OUT013</td>\n",
              "      <td>1987</td>\n",
              "      <td>High</td>\n",
              "      <td>Tier 3</td>\n",
              "      <td>Supermarket Type1</td>\n",
              "      <td>994.7052</td>\n",
              "    </tr>\n",
              "  </tbody>\n",
              "</table>\n",
              "</div>\n",
              "      <button class=\"colab-df-convert\" onclick=\"convertToInteractive('df-a29fb218-f821-4865-89d8-31abf4723b1f')\"\n",
              "              title=\"Convert this dataframe to an interactive table.\"\n",
              "              style=\"display:none;\">\n",
              "        \n",
              "  <svg xmlns=\"http://www.w3.org/2000/svg\" height=\"24px\"viewBox=\"0 0 24 24\"\n",
              "       width=\"24px\">\n",
              "    <path d=\"M0 0h24v24H0V0z\" fill=\"none\"/>\n",
              "    <path d=\"M18.56 5.44l.94 2.06.94-2.06 2.06-.94-2.06-.94-.94-2.06-.94 2.06-2.06.94zm-11 1L8.5 8.5l.94-2.06 2.06-.94-2.06-.94L8.5 2.5l-.94 2.06-2.06.94zm10 10l.94 2.06.94-2.06 2.06-.94-2.06-.94-.94-2.06-.94 2.06-2.06.94z\"/><path d=\"M17.41 7.96l-1.37-1.37c-.4-.4-.92-.59-1.43-.59-.52 0-1.04.2-1.43.59L10.3 9.45l-7.72 7.72c-.78.78-.78 2.05 0 2.83L4 21.41c.39.39.9.59 1.41.59.51 0 1.02-.2 1.41-.59l7.78-7.78 2.81-2.81c.8-.78.8-2.07 0-2.86zM5.41 20L4 18.59l7.72-7.72 1.47 1.35L5.41 20z\"/>\n",
              "  </svg>\n",
              "      </button>\n",
              "      \n",
              "  <style>\n",
              "    .colab-df-container {\n",
              "      display:flex;\n",
              "      flex-wrap:wrap;\n",
              "      gap: 12px;\n",
              "    }\n",
              "\n",
              "    .colab-df-convert {\n",
              "      background-color: #E8F0FE;\n",
              "      border: none;\n",
              "      border-radius: 50%;\n",
              "      cursor: pointer;\n",
              "      display: none;\n",
              "      fill: #1967D2;\n",
              "      height: 32px;\n",
              "      padding: 0 0 0 0;\n",
              "      width: 32px;\n",
              "    }\n",
              "\n",
              "    .colab-df-convert:hover {\n",
              "      background-color: #E2EBFA;\n",
              "      box-shadow: 0px 1px 2px rgba(60, 64, 67, 0.3), 0px 1px 3px 1px rgba(60, 64, 67, 0.15);\n",
              "      fill: #174EA6;\n",
              "    }\n",
              "\n",
              "    [theme=dark] .colab-df-convert {\n",
              "      background-color: #3B4455;\n",
              "      fill: #D2E3FC;\n",
              "    }\n",
              "\n",
              "    [theme=dark] .colab-df-convert:hover {\n",
              "      background-color: #434B5C;\n",
              "      box-shadow: 0px 1px 3px 1px rgba(0, 0, 0, 0.15);\n",
              "      filter: drop-shadow(0px 1px 2px rgba(0, 0, 0, 0.3));\n",
              "      fill: #FFFFFF;\n",
              "    }\n",
              "  </style>\n",
              "\n",
              "      <script>\n",
              "        const buttonEl =\n",
              "          document.querySelector('#df-a29fb218-f821-4865-89d8-31abf4723b1f button.colab-df-convert');\n",
              "        buttonEl.style.display =\n",
              "          google.colab.kernel.accessAllowed ? 'block' : 'none';\n",
              "\n",
              "        async function convertToInteractive(key) {\n",
              "          const element = document.querySelector('#df-a29fb218-f821-4865-89d8-31abf4723b1f');\n",
              "          const dataTable =\n",
              "            await google.colab.kernel.invokeFunction('convertToInteractive',\n",
              "                                                     [key], {});\n",
              "          if (!dataTable) return;\n",
              "\n",
              "          const docLinkHtml = 'Like what you see? Visit the ' +\n",
              "            '<a target=\"_blank\" href=https://colab.research.google.com/notebooks/data_table.ipynb>data table notebook</a>'\n",
              "            + ' to learn more about interactive tables.';\n",
              "          element.innerHTML = '';\n",
              "          dataTable['output_type'] = 'display_data';\n",
              "          await google.colab.output.renderOutput(dataTable, element);\n",
              "          const docLink = document.createElement('div');\n",
              "          docLink.innerHTML = docLinkHtml;\n",
              "          element.appendChild(docLink);\n",
              "        }\n",
              "      </script>\n",
              "    </div>\n",
              "  </div>\n",
              "  "
            ]
          },
          "metadata": {},
          "execution_count": 5
        }
      ]
    },
    {
      "cell_type": "code",
      "source": [
        "df.shape"
      ],
      "metadata": {
        "colab": {
          "base_uri": "https://localhost:8080/"
        },
        "id": "TN1gMQbrVzRy",
        "outputId": "1e20c3db-d684-4a08-a0d9-e5148c9c6dbb"
      },
      "execution_count": null,
      "outputs": [
        {
          "output_type": "execute_result",
          "data": {
            "text/plain": [
              "(8523, 12)"
            ]
          },
          "metadata": {},
          "execution_count": 6
        }
      ]
    },
    {
      "cell_type": "markdown",
      "source": [
        "## Data Cleaning"
      ],
      "metadata": {
        "id": "teqfxMLZvbqP"
      }
    },
    {
      "cell_type": "markdown",
      "source": [
        "### Data types"
      ],
      "metadata": {
        "id": "_oazdDwssKli"
      }
    },
    {
      "cell_type": "code",
      "source": [
        "df.dtypes"
      ],
      "metadata": {
        "id": "nfyFY4ugvd7Y",
        "colab": {
          "base_uri": "https://localhost:8080/"
        },
        "outputId": "283ef8ec-754d-4acd-83c8-49227d281637"
      },
      "execution_count": null,
      "outputs": [
        {
          "output_type": "execute_result",
          "data": {
            "text/plain": [
              "Item_Identifier               object\n",
              "Item_Weight                  float64\n",
              "Item_Fat_Content              object\n",
              "Item_Visibility              float64\n",
              "Item_Type                     object\n",
              "Item_MRP                     float64\n",
              "Outlet_Identifier             object\n",
              "Outlet_Establishment_Year      int64\n",
              "Outlet_Size                   object\n",
              "Outlet_Location_Type          object\n",
              "Outlet_Type                   object\n",
              "Item_Outlet_Sales            float64\n",
              "dtype: object"
            ]
          },
          "metadata": {},
          "execution_count": 7
        }
      ]
    },
    {
      "cell_type": "markdown",
      "source": [
        "All data types seems to be correct, at least in the first watch. If in the next steps I find I have to change in the data types it will be done. "
      ],
      "metadata": {
        "id": "Ya-gUcTNWJ0T"
      }
    },
    {
      "cell_type": "markdown",
      "source": [
        "### Finding Duplicates"
      ],
      "metadata": {
        "id": "hxnr-bCTsOy0"
      }
    },
    {
      "cell_type": "code",
      "source": [
        "df.duplicated().sum()"
      ],
      "metadata": {
        "colab": {
          "base_uri": "https://localhost:8080/"
        },
        "id": "WcmTk5oPVi3b",
        "outputId": "60620532-3ddc-47bb-af6b-75bc4498b46d"
      },
      "execution_count": null,
      "outputs": [
        {
          "output_type": "execute_result",
          "data": {
            "text/plain": [
              "0"
            ]
          },
          "metadata": {},
          "execution_count": 8
        }
      ]
    },
    {
      "cell_type": "markdown",
      "source": [
        "There are no duplicated entries in the data set."
      ],
      "metadata": {
        "id": "32iMMDQqWqZt"
      }
    },
    {
      "cell_type": "markdown",
      "source": [
        "### Solving Missing Values"
      ],
      "metadata": {
        "id": "p5jk25kdsRp5"
      }
    },
    {
      "cell_type": "code",
      "source": [
        "df.isna().sum()"
      ],
      "metadata": {
        "colab": {
          "base_uri": "https://localhost:8080/"
        },
        "id": "h3Ui-Ix7WpDm",
        "outputId": "7a8437f2-aa7f-4581-9d97-f12fcf82f035"
      },
      "execution_count": null,
      "outputs": [
        {
          "output_type": "execute_result",
          "data": {
            "text/plain": [
              "Item_Identifier                 0\n",
              "Item_Weight                  1463\n",
              "Item_Fat_Content                0\n",
              "Item_Visibility                 0\n",
              "Item_Type                       0\n",
              "Item_MRP                        0\n",
              "Outlet_Identifier               0\n",
              "Outlet_Establishment_Year       0\n",
              "Outlet_Size                  2410\n",
              "Outlet_Location_Type            0\n",
              "Outlet_Type                     0\n",
              "Item_Outlet_Sales               0\n",
              "dtype: int64"
            ]
          },
          "metadata": {},
          "execution_count": 9
        }
      ]
    },
    {
      "cell_type": "markdown",
      "source": [
        "There are have missing values in `Item_Weight` and `Outlet_type` columns. \n",
        "\n",
        "I'll impute the mean value according the `Item_Type`, let's say, not just only 1 mean for all the missing values but the ones grouped by `Item_Type`.\n"
      ],
      "metadata": {
        "id": "g1UIh1d6XCqO"
      }
    },
    {
      "cell_type": "code",
      "source": [
        "df['Item_Weight'] = df.groupby(\"Item_Type\")[\"Item_Weight\"].transform(lambda x: x.fillna(x.mean()))\n",
        "\n",
        "\n",
        "## taken from \n",
        "## 'https://datascience.stackexchange.com/questions/37717/imputation-missing-values-other-than-using-mean-median-in-python'"
      ],
      "metadata": {
        "id": "PzFjsEZGV0AX"
      },
      "execution_count": null,
      "outputs": []
    },
    {
      "cell_type": "code",
      "source": [
        "df.isna().sum()"
      ],
      "metadata": {
        "colab": {
          "base_uri": "https://localhost:8080/"
        },
        "id": "34VZfW2vUekJ",
        "outputId": "5371418a-2585-4046-b510-4f2dc4bf2db0"
      },
      "execution_count": null,
      "outputs": [
        {
          "output_type": "execute_result",
          "data": {
            "text/plain": [
              "Item_Identifier                 0\n",
              "Item_Weight                     0\n",
              "Item_Fat_Content                0\n",
              "Item_Visibility                 0\n",
              "Item_Type                       0\n",
              "Item_MRP                        0\n",
              "Outlet_Identifier               0\n",
              "Outlet_Establishment_Year       0\n",
              "Outlet_Size                  2410\n",
              "Outlet_Location_Type            0\n",
              "Outlet_Type                     0\n",
              "Item_Outlet_Sales               0\n",
              "dtype: int64"
            ]
          },
          "metadata": {},
          "execution_count": 11
        }
      ]
    },
    {
      "cell_type": "markdown",
      "source": [
        "Done!"
      ],
      "metadata": {
        "id": "UfmDRKdOZGnX"
      }
    },
    {
      "cell_type": "markdown",
      "source": [
        "Other columns that presented missing values is `Outlet_Size` variable:"
      ],
      "metadata": {
        "id": "0wwmbf7drMQ7"
      }
    },
    {
      "cell_type": "code",
      "source": [
        "df['Outlet_Size'].value_counts()"
      ],
      "metadata": {
        "colab": {
          "base_uri": "https://localhost:8080/"
        },
        "id": "hYcSCk9VZK8w",
        "outputId": "b5dfce88-f785-4d4c-a93a-dec22b2cdf52"
      },
      "execution_count": null,
      "outputs": [
        {
          "output_type": "execute_result",
          "data": {
            "text/plain": [
              "Medium    2793\n",
              "Small     2388\n",
              "High       932\n",
              "Name: Outlet_Size, dtype: int64"
            ]
          },
          "metadata": {},
          "execution_count": 12
        }
      ]
    },
    {
      "cell_type": "markdown",
      "source": [
        "There are three categories in the `Outlet_Size` variable:\n",
        "* Small\n",
        "* Medium\n",
        "* High\n",
        "\n",
        "Due to the this variable is categorical, and due to we don't know more information about the reason of the missing values, I will impute the missing values to `unknown` category. "
      ],
      "metadata": {
        "id": "5Pg0Vs5zrYKi"
      }
    },
    {
      "cell_type": "markdown",
      "source": [
        "Once this is corrected, I can continue with the previus analysis between `Outlet_Size` and `Item_Fat_Content`"
      ],
      "metadata": {
        "id": "frcEgOoozQm_"
      }
    },
    {
      "cell_type": "markdown",
      "source": [
        "#### Imputing missing values to `unknown` category."
      ],
      "metadata": {
        "id": "Ixy2kKQR3au_"
      }
    },
    {
      "cell_type": "code",
      "source": [
        "# IMPUTING MISSING VALUES TO UNKNOWN CATEGORY\n",
        "\n",
        "#imputing the missing values to Unknown\n",
        "df['Outlet_Size'].fillna('Unknown', inplace=True)"
      ],
      "metadata": {
        "id": "eCnnJzt-dqDB"
      },
      "execution_count": null,
      "outputs": []
    },
    {
      "cell_type": "markdown",
      "source": [
        "#### Checking the data with imputed values"
      ],
      "metadata": {
        "id": "If0sSuVs4Yky"
      }
    },
    {
      "cell_type": "code",
      "source": [
        "df.isna().sum()"
      ],
      "metadata": {
        "colab": {
          "base_uri": "https://localhost:8080/"
        },
        "id": "QwNHYadp4edy",
        "outputId": "9ee87a87-e3ff-4c32-c049-3d26bfc105bf"
      },
      "execution_count": null,
      "outputs": [
        {
          "output_type": "execute_result",
          "data": {
            "text/plain": [
              "Item_Identifier              0\n",
              "Item_Weight                  0\n",
              "Item_Fat_Content             0\n",
              "Item_Visibility              0\n",
              "Item_Type                    0\n",
              "Item_MRP                     0\n",
              "Outlet_Identifier            0\n",
              "Outlet_Establishment_Year    0\n",
              "Outlet_Size                  0\n",
              "Outlet_Location_Type         0\n",
              "Outlet_Type                  0\n",
              "Item_Outlet_Sales            0\n",
              "dtype: int64"
            ]
          },
          "metadata": {},
          "execution_count": 14
        }
      ]
    },
    {
      "cell_type": "code",
      "source": [
        "df['Outlet_Size'].unique()"
      ],
      "metadata": {
        "colab": {
          "base_uri": "https://localhost:8080/"
        },
        "id": "fYX9l87P4g_U",
        "outputId": "842e7110-524f-4f8d-aad7-546a1c61a2cf"
      },
      "execution_count": null,
      "outputs": [
        {
          "output_type": "execute_result",
          "data": {
            "text/plain": [
              "array(['Medium', 'Unknown', 'High', 'Small'], dtype=object)"
            ]
          },
          "metadata": {},
          "execution_count": 15
        }
      ]
    },
    {
      "cell_type": "markdown",
      "source": [
        "Done!, \n",
        "\n",
        "No more missing values. "
      ],
      "metadata": {
        "id": "JYSJZOG_45Kb"
      }
    },
    {
      "cell_type": "markdown",
      "source": [
        "### Looking for Inconsistencies"
      ],
      "metadata": {
        "id": "RV7McsLL5edM"
      }
    },
    {
      "cell_type": "code",
      "source": [
        "df['Item_Fat_Content'].unique()"
      ],
      "metadata": {
        "colab": {
          "base_uri": "https://localhost:8080/"
        },
        "id": "Yl0A2MYkyPIZ",
        "outputId": "3db7f70c-6f8b-42a3-8c0c-ecdc002f1e54"
      },
      "execution_count": null,
      "outputs": [
        {
          "output_type": "execute_result",
          "data": {
            "text/plain": [
              "array(['Low Fat', 'Regular', 'low fat', 'LF', 'reg'], dtype=object)"
            ]
          },
          "metadata": {},
          "execution_count": 16
        }
      ]
    },
    {
      "cell_type": "markdown",
      "source": [
        "I will assume that the category `LF` is the same as `Low Fat`, as well as `reg` to `Regular`. And the will be added capt to `low fat`. "
      ],
      "metadata": {
        "id": "WO1Tz6J7yqoM"
      }
    },
    {
      "cell_type": "code",
      "source": [
        "df['Item_Fat_Content'].replace({'LF': 'Low Fat', \n",
        "                                'low fat': 'Low Fat', \n",
        "                                'reg': 'Regular'}, \n",
        "                                inplace=True)\n",
        "\n",
        "df['Item_Fat_Content'].unique()"
      ],
      "metadata": {
        "colab": {
          "base_uri": "https://localhost:8080/"
        },
        "id": "rJiXCZQRyYY-",
        "outputId": "9700d112-9233-42b1-c410-a625d41c5cdc"
      },
      "execution_count": null,
      "outputs": [
        {
          "output_type": "execute_result",
          "data": {
            "text/plain": [
              "array(['Low Fat', 'Regular'], dtype=object)"
            ]
          },
          "metadata": {},
          "execution_count": 17
        }
      ]
    },
    {
      "cell_type": "code",
      "source": [
        "df['Item_Identifier'].unique()"
      ],
      "metadata": {
        "colab": {
          "base_uri": "https://localhost:8080/"
        },
        "id": "8b5BG5Ncvfj7",
        "outputId": "38acedcf-fa76-484b-a8fa-6be7fb520c15"
      },
      "execution_count": null,
      "outputs": [
        {
          "output_type": "execute_result",
          "data": {
            "text/plain": [
              "array(['FDA15', 'DRC01', 'FDN15', ..., 'NCF55', 'NCW30', 'NCW05'],\n",
              "      dtype=object)"
            ]
          },
          "metadata": {},
          "execution_count": 18
        }
      ]
    },
    {
      "cell_type": "code",
      "source": [
        "df['Outlet_Establishment_Year'].unique()"
      ],
      "metadata": {
        "colab": {
          "base_uri": "https://localhost:8080/"
        },
        "id": "bH4rzCVTv1ee",
        "outputId": "7dae44d1-cfef-4fd9-a97b-6a56ae48a2fe"
      },
      "execution_count": null,
      "outputs": [
        {
          "output_type": "execute_result",
          "data": {
            "text/plain": [
              "array([1999, 2009, 1998, 1987, 1985, 2002, 2007, 1997, 2004])"
            ]
          },
          "metadata": {},
          "execution_count": 19
        }
      ]
    },
    {
      "cell_type": "code",
      "source": [
        "df['Outlet_Identifier'].unique()"
      ],
      "metadata": {
        "colab": {
          "base_uri": "https://localhost:8080/"
        },
        "id": "I8m3ts9gv7jv",
        "outputId": "1f04ec68-ba7f-47e5-8787-399789beeecd"
      },
      "execution_count": null,
      "outputs": [
        {
          "output_type": "execute_result",
          "data": {
            "text/plain": [
              "array(['OUT049', 'OUT018', 'OUT010', 'OUT013', 'OUT027', 'OUT045',\n",
              "       'OUT017', 'OUT046', 'OUT035', 'OUT019'], dtype=object)"
            ]
          },
          "metadata": {},
          "execution_count": 20
        }
      ]
    },
    {
      "cell_type": "code",
      "source": [
        "df['Outlet_Location_Type'].unique()"
      ],
      "metadata": {
        "colab": {
          "base_uri": "https://localhost:8080/"
        },
        "id": "q5Vs-U7_wDCa",
        "outputId": "4f6e5c44-67fc-4cad-818f-77d6440643e3"
      },
      "execution_count": null,
      "outputs": [
        {
          "output_type": "execute_result",
          "data": {
            "text/plain": [
              "array(['Tier 1', 'Tier 3', 'Tier 2'], dtype=object)"
            ]
          },
          "metadata": {},
          "execution_count": 21
        }
      ]
    },
    {
      "cell_type": "code",
      "source": [
        "df['Outlet_Type'].unique()"
      ],
      "metadata": {
        "colab": {
          "base_uri": "https://localhost:8080/"
        },
        "id": "aA8i7hlCwJHz",
        "outputId": "f5a18579-a569-411a-f9e6-e9852f743e99"
      },
      "execution_count": null,
      "outputs": [
        {
          "output_type": "execute_result",
          "data": {
            "text/plain": [
              "array(['Supermarket Type1', 'Supermarket Type2', 'Grocery Store',\n",
              "       'Supermarket Type3'], dtype=object)"
            ]
          },
          "metadata": {},
          "execution_count": 22
        }
      ]
    },
    {
      "cell_type": "markdown",
      "source": [
        "I see no more inconsistencies"
      ],
      "metadata": {
        "id": "XoItI5Jr5_Mq"
      }
    },
    {
      "cell_type": "markdown",
      "source": [
        "### Summary statistics"
      ],
      "metadata": {
        "id": "bdlZjpwgy8qG"
      }
    },
    {
      "cell_type": "code",
      "source": [
        "df.describe()"
      ],
      "metadata": {
        "colab": {
          "base_uri": "https://localhost:8080/",
          "height": 300
        },
        "id": "BAb1c9PbysrF",
        "outputId": "e538f258-42ee-45b0-adf0-db48fe61cf3d"
      },
      "execution_count": null,
      "outputs": [
        {
          "output_type": "execute_result",
          "data": {
            "text/plain": [
              "       Item_Weight  Item_Visibility     Item_MRP  Outlet_Establishment_Year  \\\n",
              "count  8523.000000      8523.000000  8523.000000                8523.000000   \n",
              "mean     12.857890         0.066132   140.992782                1997.831867   \n",
              "std       4.232804         0.051598    62.275067                   8.371760   \n",
              "min       4.555000         0.000000    31.290000                1985.000000   \n",
              "25%       9.310000         0.026989    93.826500                1987.000000   \n",
              "50%      12.867061         0.053931   143.012800                1999.000000   \n",
              "75%      16.000000         0.094585   185.643700                2004.000000   \n",
              "max      21.350000         0.328391   266.888400                2009.000000   \n",
              "\n",
              "       Item_Outlet_Sales  \n",
              "count        8523.000000  \n",
              "mean         2181.288914  \n",
              "std          1706.499616  \n",
              "min            33.290000  \n",
              "25%           834.247400  \n",
              "50%          1794.331000  \n",
              "75%          3101.296400  \n",
              "max         13086.964800  "
            ],
            "text/html": [
              "\n",
              "  <div id=\"df-d80994ec-3a84-4b46-b761-b77f643da38c\">\n",
              "    <div class=\"colab-df-container\">\n",
              "      <div>\n",
              "<style scoped>\n",
              "    .dataframe tbody tr th:only-of-type {\n",
              "        vertical-align: middle;\n",
              "    }\n",
              "\n",
              "    .dataframe tbody tr th {\n",
              "        vertical-align: top;\n",
              "    }\n",
              "\n",
              "    .dataframe thead th {\n",
              "        text-align: right;\n",
              "    }\n",
              "</style>\n",
              "<table border=\"1\" class=\"dataframe\">\n",
              "  <thead>\n",
              "    <tr style=\"text-align: right;\">\n",
              "      <th></th>\n",
              "      <th>Item_Weight</th>\n",
              "      <th>Item_Visibility</th>\n",
              "      <th>Item_MRP</th>\n",
              "      <th>Outlet_Establishment_Year</th>\n",
              "      <th>Item_Outlet_Sales</th>\n",
              "    </tr>\n",
              "  </thead>\n",
              "  <tbody>\n",
              "    <tr>\n",
              "      <th>count</th>\n",
              "      <td>8523.000000</td>\n",
              "      <td>8523.000000</td>\n",
              "      <td>8523.000000</td>\n",
              "      <td>8523.000000</td>\n",
              "      <td>8523.000000</td>\n",
              "    </tr>\n",
              "    <tr>\n",
              "      <th>mean</th>\n",
              "      <td>12.857890</td>\n",
              "      <td>0.066132</td>\n",
              "      <td>140.992782</td>\n",
              "      <td>1997.831867</td>\n",
              "      <td>2181.288914</td>\n",
              "    </tr>\n",
              "    <tr>\n",
              "      <th>std</th>\n",
              "      <td>4.232804</td>\n",
              "      <td>0.051598</td>\n",
              "      <td>62.275067</td>\n",
              "      <td>8.371760</td>\n",
              "      <td>1706.499616</td>\n",
              "    </tr>\n",
              "    <tr>\n",
              "      <th>min</th>\n",
              "      <td>4.555000</td>\n",
              "      <td>0.000000</td>\n",
              "      <td>31.290000</td>\n",
              "      <td>1985.000000</td>\n",
              "      <td>33.290000</td>\n",
              "    </tr>\n",
              "    <tr>\n",
              "      <th>25%</th>\n",
              "      <td>9.310000</td>\n",
              "      <td>0.026989</td>\n",
              "      <td>93.826500</td>\n",
              "      <td>1987.000000</td>\n",
              "      <td>834.247400</td>\n",
              "    </tr>\n",
              "    <tr>\n",
              "      <th>50%</th>\n",
              "      <td>12.867061</td>\n",
              "      <td>0.053931</td>\n",
              "      <td>143.012800</td>\n",
              "      <td>1999.000000</td>\n",
              "      <td>1794.331000</td>\n",
              "    </tr>\n",
              "    <tr>\n",
              "      <th>75%</th>\n",
              "      <td>16.000000</td>\n",
              "      <td>0.094585</td>\n",
              "      <td>185.643700</td>\n",
              "      <td>2004.000000</td>\n",
              "      <td>3101.296400</td>\n",
              "    </tr>\n",
              "    <tr>\n",
              "      <th>max</th>\n",
              "      <td>21.350000</td>\n",
              "      <td>0.328391</td>\n",
              "      <td>266.888400</td>\n",
              "      <td>2009.000000</td>\n",
              "      <td>13086.964800</td>\n",
              "    </tr>\n",
              "  </tbody>\n",
              "</table>\n",
              "</div>\n",
              "      <button class=\"colab-df-convert\" onclick=\"convertToInteractive('df-d80994ec-3a84-4b46-b761-b77f643da38c')\"\n",
              "              title=\"Convert this dataframe to an interactive table.\"\n",
              "              style=\"display:none;\">\n",
              "        \n",
              "  <svg xmlns=\"http://www.w3.org/2000/svg\" height=\"24px\"viewBox=\"0 0 24 24\"\n",
              "       width=\"24px\">\n",
              "    <path d=\"M0 0h24v24H0V0z\" fill=\"none\"/>\n",
              "    <path d=\"M18.56 5.44l.94 2.06.94-2.06 2.06-.94-2.06-.94-.94-2.06-.94 2.06-2.06.94zm-11 1L8.5 8.5l.94-2.06 2.06-.94-2.06-.94L8.5 2.5l-.94 2.06-2.06.94zm10 10l.94 2.06.94-2.06 2.06-.94-2.06-.94-.94-2.06-.94 2.06-2.06.94z\"/><path d=\"M17.41 7.96l-1.37-1.37c-.4-.4-.92-.59-1.43-.59-.52 0-1.04.2-1.43.59L10.3 9.45l-7.72 7.72c-.78.78-.78 2.05 0 2.83L4 21.41c.39.39.9.59 1.41.59.51 0 1.02-.2 1.41-.59l7.78-7.78 2.81-2.81c.8-.78.8-2.07 0-2.86zM5.41 20L4 18.59l7.72-7.72 1.47 1.35L5.41 20z\"/>\n",
              "  </svg>\n",
              "      </button>\n",
              "      \n",
              "  <style>\n",
              "    .colab-df-container {\n",
              "      display:flex;\n",
              "      flex-wrap:wrap;\n",
              "      gap: 12px;\n",
              "    }\n",
              "\n",
              "    .colab-df-convert {\n",
              "      background-color: #E8F0FE;\n",
              "      border: none;\n",
              "      border-radius: 50%;\n",
              "      cursor: pointer;\n",
              "      display: none;\n",
              "      fill: #1967D2;\n",
              "      height: 32px;\n",
              "      padding: 0 0 0 0;\n",
              "      width: 32px;\n",
              "    }\n",
              "\n",
              "    .colab-df-convert:hover {\n",
              "      background-color: #E2EBFA;\n",
              "      box-shadow: 0px 1px 2px rgba(60, 64, 67, 0.3), 0px 1px 3px 1px rgba(60, 64, 67, 0.15);\n",
              "      fill: #174EA6;\n",
              "    }\n",
              "\n",
              "    [theme=dark] .colab-df-convert {\n",
              "      background-color: #3B4455;\n",
              "      fill: #D2E3FC;\n",
              "    }\n",
              "\n",
              "    [theme=dark] .colab-df-convert:hover {\n",
              "      background-color: #434B5C;\n",
              "      box-shadow: 0px 1px 3px 1px rgba(0, 0, 0, 0.15);\n",
              "      filter: drop-shadow(0px 1px 2px rgba(0, 0, 0, 0.3));\n",
              "      fill: #FFFFFF;\n",
              "    }\n",
              "  </style>\n",
              "\n",
              "      <script>\n",
              "        const buttonEl =\n",
              "          document.querySelector('#df-d80994ec-3a84-4b46-b761-b77f643da38c button.colab-df-convert');\n",
              "        buttonEl.style.display =\n",
              "          google.colab.kernel.accessAllowed ? 'block' : 'none';\n",
              "\n",
              "        async function convertToInteractive(key) {\n",
              "          const element = document.querySelector('#df-d80994ec-3a84-4b46-b761-b77f643da38c');\n",
              "          const dataTable =\n",
              "            await google.colab.kernel.invokeFunction('convertToInteractive',\n",
              "                                                     [key], {});\n",
              "          if (!dataTable) return;\n",
              "\n",
              "          const docLinkHtml = 'Like what you see? Visit the ' +\n",
              "            '<a target=\"_blank\" href=https://colab.research.google.com/notebooks/data_table.ipynb>data table notebook</a>'\n",
              "            + ' to learn more about interactive tables.';\n",
              "          element.innerHTML = '';\n",
              "          dataTable['output_type'] = 'display_data';\n",
              "          await google.colab.output.renderOutput(dataTable, element);\n",
              "          const docLink = document.createElement('div');\n",
              "          docLink.innerHTML = docLinkHtml;\n",
              "          element.appendChild(docLink);\n",
              "        }\n",
              "      </script>\n",
              "    </div>\n",
              "  </div>\n",
              "  "
            ]
          },
          "metadata": {},
          "execution_count": 23
        }
      ]
    },
    {
      "cell_type": "markdown",
      "source": [
        "## Exploratory Data Analysis"
      ],
      "metadata": {
        "id": "E3AwQqQ5vei0"
      }
    },
    {
      "cell_type": "markdown",
      "source": [
        "Before perform any explortory analysis I will covert variables into categorical"
      ],
      "metadata": {
        "id": "Rs1suNRUuj03"
      }
    },
    {
      "cell_type": "code",
      "source": [
        "df.info()"
      ],
      "metadata": {
        "colab": {
          "base_uri": "https://localhost:8080/"
        },
        "id": "1-U8MDJUvGav",
        "outputId": "f2a682ce-c922-4ec5-e25d-16df4343b193"
      },
      "execution_count": null,
      "outputs": [
        {
          "output_type": "stream",
          "name": "stdout",
          "text": [
            "<class 'pandas.core.frame.DataFrame'>\n",
            "RangeIndex: 8523 entries, 0 to 8522\n",
            "Data columns (total 12 columns):\n",
            " #   Column                     Non-Null Count  Dtype  \n",
            "---  ------                     --------------  -----  \n",
            " 0   Item_Identifier            8523 non-null   object \n",
            " 1   Item_Weight                8523 non-null   float64\n",
            " 2   Item_Fat_Content           8523 non-null   object \n",
            " 3   Item_Visibility            8523 non-null   float64\n",
            " 4   Item_Type                  8523 non-null   object \n",
            " 5   Item_MRP                   8523 non-null   float64\n",
            " 6   Outlet_Identifier          8523 non-null   object \n",
            " 7   Outlet_Establishment_Year  8523 non-null   int64  \n",
            " 8   Outlet_Size                8523 non-null   object \n",
            " 9   Outlet_Location_Type       8523 non-null   object \n",
            " 10  Outlet_Type                8523 non-null   object \n",
            " 11  Item_Outlet_Sales          8523 non-null   float64\n",
            "dtypes: float64(4), int64(1), object(7)\n",
            "memory usage: 799.2+ KB\n"
          ]
        }
      ]
    },
    {
      "cell_type": "code",
      "source": [
        "# Converting variables into categorial when is the case. \n",
        "\n",
        "df['Item_Identifier'] = df['Item_Identifier'].astype('category')\n",
        "df['Item_Fat_Content'] = df['Item_Fat_Content'].astype('category')\n",
        "df['Item_Type'] = df['Item_Type'].astype('category')\n",
        "df['Outlet_Identifier'] = df['Outlet_Identifier'].astype('category')\n",
        "df['Outlet_Establishment_Year'] = df['Outlet_Establishment_Year'].astype('category')\n",
        "df['Outlet_Size'] = df['Outlet_Size'].astype('category')\n",
        "df['Outlet_Location_Type'] = df['Outlet_Location_Type'].astype('category')\n",
        "df['Outlet_Type'] = df['Outlet_Type'].astype('category')\n",
        "\n"
      ],
      "metadata": {
        "id": "TLXhqUWO1EJv"
      },
      "execution_count": null,
      "outputs": []
    },
    {
      "cell_type": "markdown",
      "source": [
        "Checking the results"
      ],
      "metadata": {
        "id": "imqhLF_Q18xq"
      }
    },
    {
      "cell_type": "code",
      "source": [
        "df.dtypes"
      ],
      "metadata": {
        "colab": {
          "base_uri": "https://localhost:8080/"
        },
        "id": "etzfLAnF17T0",
        "outputId": "241a4cdd-0850-4391-f2fb-6e5db462f804"
      },
      "execution_count": null,
      "outputs": [
        {
          "output_type": "execute_result",
          "data": {
            "text/plain": [
              "Item_Identifier              category\n",
              "Item_Weight                   float64\n",
              "Item_Fat_Content             category\n",
              "Item_Visibility               float64\n",
              "Item_Type                    category\n",
              "Item_MRP                      float64\n",
              "Outlet_Identifier            category\n",
              "Outlet_Establishment_Year    category\n",
              "Outlet_Size                  category\n",
              "Outlet_Location_Type         category\n",
              "Outlet_Type                  category\n",
              "Item_Outlet_Sales             float64\n",
              "dtype: object"
            ]
          },
          "metadata": {},
          "execution_count": 26
        }
      ]
    },
    {
      "cell_type": "markdown",
      "source": [
        "#### Histograms"
      ],
      "metadata": {
        "id": "dgY_nDRxAB-X"
      }
    },
    {
      "cell_type": "markdown",
      "source": [
        "I want to see the distribution of data of some variables"
      ],
      "metadata": {
        "id": "y7Ot0kRpzJXX"
      }
    },
    {
      "cell_type": "markdown",
      "source": [
        "##### Item_fat_content"
      ],
      "metadata": {
        "id": "0kw8uEgVA4Ue"
      }
    },
    {
      "cell_type": "code",
      "source": [
        "ax = sns.FacetGrid(data = df,\n",
        "              col= 'Outlet_Establishment_Year',\n",
        "              sharex= True, sharey= True,\n",
        "              col_wrap=3,\n",
        "              size=4, aspect=1\n",
        "              )\n",
        "ax.map_dataframe(sns.histplot,  \n",
        "             x=\"Item_Fat_Content\", \n",
        "             color = '#29B6F6',\n",
        "             ax = ax)\n",
        "ax.fig.subplots_adjust(top=0.9)\n",
        "ax.fig.suptitle('Item Fat Content Histograms by Year')\n",
        "ax.set_xticklabels(rotation=0)  #rotate xlabels\n",
        "plt.show()\n",
        "\n",
        "# FacetGrid taken from Seaborn Documentation.\n",
        "# Title taken from https://stackoverflow.com/questions/29813694/how-to-add-a-title-to-seaborn-facet-plot"
      ],
      "metadata": {
        "colab": {
          "base_uri": "https://localhost:8080/",
          "height": 903
        },
        "id": "zuLYvIFmAPzO",
        "outputId": "3de27d08-93b8-43a9-977b-bd297645079d"
      },
      "execution_count": null,
      "outputs": [
        {
          "output_type": "stream",
          "name": "stderr",
          "text": [
            "/usr/local/lib/python3.8/dist-packages/seaborn/axisgrid.py:337: UserWarning: The `size` parameter has been renamed to `height`; please update your code.\n",
            "  warnings.warn(msg, UserWarning)\n"
          ]
        },
        {
          "output_type": "display_data",
          "data": {
            "text/plain": [
              "<Figure size 864x864 with 9 Axes>"
            ],
            "image/png": "[encoded data removed]"
          },
          "metadata": {}
        }
      ]
    },
    {
      "cell_type": "markdown",
      "source": [
        "Insights:\n",
        "\n",
        "* The low fat items almost doubled the regular items in quantity every year."
      ],
      "metadata": {
        "id": "MBw7QQGpCKms"
      }
    },
    {
      "cell_type": "markdown",
      "source": [
        "##### Item_Type\n"
      ],
      "metadata": {
        "id": "HOxBFrD4CXR3"
      }
    },
    {
      "cell_type": "code",
      "source": [
        "ax = sns.FacetGrid(data = df,\n",
        "              col= 'Outlet_Establishment_Year',\n",
        "              sharex= True, sharey= True,\n",
        "              col_wrap=3,\n",
        "              size=4, aspect=1\n",
        "              )\n",
        "ax.map_dataframe(sns.countplot, \n",
        "                 x=\"Item_Type\", \n",
        "                 color = '#29B6F6',\n",
        "                 order=df.Item_Type.value_counts(ascending=True).index, \n",
        "                 ax=ax)\n",
        "ax.set_xticklabels(rotation=90)  #rotate xlabels\n",
        "ax.fig.subplots_adjust(top=0.9)\n",
        "ax.fig.suptitle('Item Type Histograms by Year') #Mail title\n",
        "plt.show()\n",
        "\n",
        "# FacetGrid taken from Seaborn Documentation.\n",
        "# Title taken from https://stackoverflow.com/questions/29813694/how-to-add-a-title-to-seaborn-facet-plot"
      ],
      "metadata": {
        "colab": {
          "base_uri": "https://localhost:8080/",
          "height": 1000
        },
        "id": "WDTc2eeaCWuW",
        "outputId": "194cf608-6719-4f54-99d6-cedb368daf10"
      },
      "execution_count": null,
      "outputs": [
        {
          "output_type": "stream",
          "name": "stderr",
          "text": [
            "/usr/local/lib/python3.8/dist-packages/seaborn/axisgrid.py:337: UserWarning: The `size` parameter has been renamed to `height`; please update your code.\n",
            "  warnings.warn(msg, UserWarning)\n"
          ]
        },
        {
          "output_type": "display_data",
          "data": {
            "text/plain": [
              "<Figure size 864x864 with 9 Axes>"
            ],
            "image/png": "[encoded data removed]"
          },
          "metadata": {}
        }
      ]
    },
    {
      "cell_type": "markdown",
      "source": [
        "Insights:\n",
        "\n",
        "- Seafood was the item with less quantity every year. \n",
        "- Fruits and Vegetables was the item with more quantity almost every year except 2007, followed by Snack Foods that was the first one in 2007.."
      ],
      "metadata": {
        "id": "P73yc-JuDsHP"
      }
    },
    {
      "cell_type": "markdown",
      "source": [
        "##### Outlet_stablishment_Year"
      ],
      "metadata": {
        "id": "5GOmaNQhDPtg"
      }
    },
    {
      "cell_type": "code",
      "source": [
        "fig, ax = plt.subplots(figsize=(10, 5))\n",
        "sns.histplot(data=df, \n",
        "             x=\"Outlet_Establishment_Year\", \n",
        "             color = '#29B6F6',\n",
        "             ax = ax)\n",
        "\n",
        "plt.title('Outlet Establishment Year Histogram')\n",
        "plt.xlabel('Year')\n",
        "plt.xticks(rotation = 90)\n",
        "plt.show()"
      ],
      "metadata": {
        "colab": {
          "base_uri": "https://localhost:8080/",
          "height": 369
        },
        "id": "T7wMss-ECU-d",
        "outputId": "2f31b36d-01e6-4ed8-c07c-65f15e0d2184"
      },
      "execution_count": null,
      "outputs": [
        {
          "output_type": "display_data",
          "data": {
            "text/plain": [
              "<Figure size 720x360 with 1 Axes>"
            ],
            "image/png": "[encoded data removed]"
          },
          "metadata": {}
        }
      ]
    },
    {
      "cell_type": "markdown",
      "source": [
        "Insights:\n",
        "\n",
        "- Not every year were established Outlets.\n",
        "- 1985 was the year of the greater amounts of outlets. "
      ],
      "metadata": {
        "id": "0pQ3mfypD28s"
      }
    },
    {
      "cell_type": "markdown",
      "source": [
        "##### Outlet Size"
      ],
      "metadata": {
        "id": "2z142isDpX5C"
      }
    },
    {
      "cell_type": "code",
      "source": [
        "ax = sns.FacetGrid(data = df,\n",
        "              col= 'Outlet_Establishment_Year',\n",
        "              sharex= True, sharey= True,\n",
        "              col_wrap=3,\n",
        "              size=4, aspect=1\n",
        "              )\n",
        "ax.map_dataframe(sns.histplot,  \n",
        "             x=\"Outlet_Size\", \n",
        "             color = '#29B6F6',\n",
        "             ax = ax)\n",
        "ax.fig.subplots_adjust(top=0.9)\n",
        "ax.fig.suptitle('Outlet Size Histogra by Year')\n",
        "ax.set_xticklabels(rotation=0)  #rotate xlabels\n",
        "plt.show()"
      ],
      "metadata": {
        "colab": {
          "base_uri": "https://localhost:8080/",
          "height": 903
        },
        "id": "S3ZbAu96pXPX",
        "outputId": "0a7f3a6c-7690-43e1-8ae5-6bfc64abe9bc"
      },
      "execution_count": null,
      "outputs": [
        {
          "output_type": "stream",
          "name": "stderr",
          "text": [
            "/usr/local/lib/python3.8/dist-packages/seaborn/axisgrid.py:337: UserWarning: The `size` parameter has been renamed to `height`; please update your code.\n",
            "  warnings.warn(msg, UserWarning)\n"
          ]
        },
        {
          "output_type": "display_data",
          "data": {
            "text/plain": [
              "<Figure size 864x864 with 9 Axes>"
            ],
            "image/png": "[encoded data removed]"
          },
          "metadata": {}
        }
      ]
    },
    {
      "cell_type": "markdown",
      "source": [
        "Insights:\n",
        "\n",
        "- 1985 were established small and medium sized outlets. And medium sized outlets doubled the small ones.\n",
        "- 1987 was the only year in which was established high sized outlets. \n",
        "- 1998, 2002 and 2007 we don't know the size of the outlet.\n",
        "- The other years were medium sized oulets. "
      ],
      "metadata": {
        "id": "x2hHOsWB-oe_"
      }
    },
    {
      "cell_type": "markdown",
      "source": [
        "#### Boxplots"
      ],
      "metadata": {
        "id": "4f4M33gbpH7I"
      }
    },
    {
      "cell_type": "markdown",
      "source": [
        "##### Fat Content vs Outlet Sales"
      ],
      "metadata": {
        "id": "XoDzJrg8cE_f"
      }
    },
    {
      "cell_type": "markdown",
      "source": [
        "I want to know how the sales performed by Item Fat Content."
      ],
      "metadata": {
        "id": "MnRsVnF3LL5y"
      }
    },
    {
      "cell_type": "code",
      "source": [
        "fig, ax = plt.subplots(figsize = (10,5))\n",
        "sns.boxplot(data = df,\n",
        "            x = 'Item_Fat_Content',\n",
        "            y = 'Item_Outlet_Sales',\n",
        "            notch = True,\n",
        "            width = 0.15,\n",
        "            palette = ['#29B6F6', '#26A69A'],\n",
        "            ax = ax\n",
        "            )\n",
        "\n",
        "plt.title('Fat Content vs Outlet Sales')\n",
        "plt.xlabel('Fat Content')\n",
        "plt.ylabel('Outlet Sales')\n",
        "plt.show()"
      ],
      "metadata": {
        "colab": {
          "base_uri": "https://localhost:8080/",
          "height": 354
        },
        "id": "HWbZgieUhD2L",
        "outputId": "4406761b-d3ea-47a1-d641-2a774cc0ad4e"
      },
      "execution_count": null,
      "outputs": [
        {
          "output_type": "display_data",
          "data": {
            "text/plain": [
              "<Figure size 720x360 with 1 Axes>"
            ],
            "image/png": "[encoded data removed]"
          },
          "metadata": {}
        }
      ]
    },
    {
      "cell_type": "code",
      "source": [
        "print('Low Fat Median:', np.median(df[df.Item_Fat_Content == 'Low Fat']['Item_Outlet_Sales']))\n",
        "print('Regular Median:', np.median(df[df.Item_Fat_Content == 'Regular']['Item_Outlet_Sales']))\n",
        "print('Low Fat Q3:', np.percentile(df[df.Item_Fat_Content == 'Low Fat']['Item_Outlet_Sales'], 75))\n",
        "print('Regular Q3:', np.percentile(df[df.Item_Fat_Content == 'Regular']['Item_Outlet_Sales'], 75))\n",
        "print('Most Sold LF:', np.max(df[df.Item_Fat_Content == 'Low Fat']['Item_Outlet_Sales']))\n",
        "print('Most Sold Reg:', np.max(df[df.Item_Fat_Content == 'Regular']['Item_Outlet_Sales']))"
      ],
      "metadata": {
        "colab": {
          "base_uri": "https://localhost:8080/"
        },
        "id": "ElrKOM4rDOfN",
        "outputId": "c127cd75-0f26-4de4-f0e4-dee388c5b5a7"
      },
      "execution_count": null,
      "outputs": [
        {
          "output_type": "stream",
          "name": "stdout",
          "text": [
            "Low Fat Median: 1765.0358\n",
            "Regular Median: 1844.5989\n",
            "Low Fat Q3: 3050.6956\n",
            "Regular Q3: 3198.66965\n",
            "Most Sold LF: 13086.9648\n",
            "Most Sold Reg: 12117.56\n"
          ]
        }
      ]
    },
    {
      "cell_type": "markdown",
      "source": [
        "Insights:\n",
        "\n",
        "- In average, the outlets sold near 1800 both in Low Fat and Regulat Items. \n",
        "- 75% of the sales in Low Fat items are bellow the 3050, versus Regular Items are bellow 3198.\n",
        "- We see a long number of dots above both boxes but in this case ther are not to be considered outliers because they are all part of the observations. \n",
        "- The item that sold the most in Low Fat made 13086 vs the one in Regular made 12117\n",
        "\n",
        "\n"
      ],
      "metadata": {
        "id": "PNV0Z4UHkZV-"
      }
    },
    {
      "cell_type": "markdown",
      "source": [
        "##### Outlet Size vs Outlet Sales"
      ],
      "metadata": {
        "id": "SPhaFWghs6ka"
      }
    },
    {
      "cell_type": "markdown",
      "source": [
        "I will to do the same with the Outlet Size"
      ],
      "metadata": {
        "id": "Tj3OaXekQIXV"
      }
    },
    {
      "cell_type": "code",
      "source": [
        "fig, ax = plt.subplots(figsize = (10,5))\n",
        "sns.boxplot(data = df,\n",
        "            x = 'Outlet_Size',\n",
        "            y = 'Item_Outlet_Sales',\n",
        "            notch = True,\n",
        "            width = 0.15,\n",
        "            palette = ['#29B6F6', '#26A69A', '#66BB6A', '#D4E157'],\n",
        "            ax = ax\n",
        "            )\n",
        "\n",
        "plt.title('Outlet Size vs Outlet Sales')\n",
        "plt.xlabel('Outlet Size')\n",
        "plt.ylabel('Outlet Sales')\n",
        "plt.show()"
      ],
      "metadata": {
        "colab": {
          "base_uri": "https://localhost:8080/",
          "height": 354
        },
        "id": "CW8yU8mts6C9",
        "outputId": "e5486b78-e751-4cf5-f2fc-26e26320d3fc"
      },
      "execution_count": null,
      "outputs": [
        {
          "output_type": "display_data",
          "data": {
            "text/plain": [
              "<Figure size 720x360 with 1 Axes>"
            ],
            "image/png": "[encoded data removed]"
          },
          "metadata": {}
        }
      ]
    },
    {
      "cell_type": "code",
      "source": [
        "print('High Median:', np.median(df[df.Outlet_Size == 'High']['Item_Outlet_Sales']))\n",
        "print('Medium Median:', np.median(df[df.Outlet_Size == 'Medium']['Item_Outlet_Sales']))\n",
        "print('Small Median:', np.median(df[df.Outlet_Size == 'Small']['Item_Outlet_Sales']))\n",
        "print('Unknown Median:', np.median(df[df.Outlet_Size == 'Unknown']['Item_Outlet_Sales']))\n",
        "\n",
        "print('High Q3:', np.percentile(df[df.Outlet_Size == 'High']['Item_Outlet_Sales'], 75))\n",
        "print('Medium Q3:', np.percentile(df[df.Outlet_Size == 'Medium']['Item_Outlet_Sales'], 75))\n",
        "print('Small Q3:', np.percentile(df[df.Outlet_Size == 'Small']['Item_Outlet_Sales'], 75))\n",
        "print('Unknown Q3:', np.percentile(df[df.Outlet_Size == 'Unknown']['Item_Outlet_Sales'], 75))\n",
        "\n",
        "print('High Most sold:', np.max(df[df.Outlet_Size == 'High']['Item_Outlet_Sales']))\n",
        "print('Medium Most sold:', np.max(df[df.Outlet_Size == 'Medium']['Item_Outlet_Sales']))\n",
        "print('Small Most sold:', np.max(df[df.Outlet_Size == 'Small']['Item_Outlet_Sales']))\n",
        "print('Unknown Most sold:', np.max(df[df.Outlet_Size == 'Unknown']['Item_Outlet_Sales']))"
      ],
      "metadata": {
        "colab": {
          "base_uri": "https://localhost:8080/"
        },
        "id": "jEYogYPOQjcd",
        "outputId": "230977e7-afa4-4c12-fa4a-f634f4a3212b"
      },
      "execution_count": null,
      "outputs": [
        {
          "output_type": "stream",
          "name": "stdout",
          "text": [
            "High Median: 2050.664\n",
            "Medium Median: 2251.0698\n",
            "Small Median: 1544.656\n",
            "Unknown Median: 1443.4544\n",
            "High Q3: 3166.37835\n",
            "Medium Q3: 3691.1952\n",
            "Small Q3: 2824.3236\n",
            "Unknown Q3: 2681.5095\n",
            "High Most sold: 10256.649\n",
            "Medium Most sold: 13086.9648\n",
            "Small Most sold: 9779.9362\n",
            "Unknown Most sold: 9664.7528\n"
          ]
        }
      ]
    },
    {
      "cell_type": "markdown",
      "source": [
        "Insights:\n",
        "\n",
        "- Small sized Outlet made sales with an median of 1544. The 75% of the sales located bellow of 3166, and made the maximum of 10256. \n",
        "- Medium sized Outlet made the more amount of sales with an median of 2251. The 75% of the sales located bellow of 2824, and made the maximum of 9779. This is correct because Medium sized outlets sales is the greater part in the dataset. \n",
        "- High sized Outlet made sales with an median of 2050. The 75% of the sales located bellow of 3166, and made the maximum of 10256. \n",
        "- Unknown sized Outlet made sales with an median of 1443. The 75% of the sales located bellow of 2681, and made the maximum of 9664. "
      ],
      "metadata": {
        "id": "wS41_gVgR1Wl"
      }
    },
    {
      "cell_type": "markdown",
      "source": [
        "#### Correlations of the variables"
      ],
      "metadata": {
        "id": "BsUtnlkJ3Vqx"
      }
    },
    {
      "cell_type": "markdown",
      "source": [
        "For this task I will plot a heatmap for better undestanding the data"
      ],
      "metadata": {
        "id": "2mWzU2Py3mqC"
      }
    },
    {
      "cell_type": "code",
      "source": [
        "corr = df.corr()"
      ],
      "metadata": {
        "id": "bIh60LDwGhRb"
      },
      "execution_count": null,
      "outputs": []
    },
    {
      "cell_type": "code",
      "source": [
        "corr"
      ],
      "metadata": {
        "colab": {
          "base_uri": "https://localhost:8080/",
          "height": 175
        },
        "id": "xSNNTgfWtr8X",
        "outputId": "fdce5ff5-447b-4786-c46f-8765b1933e3d"
      },
      "execution_count": null,
      "outputs": [
        {
          "output_type": "execute_result",
          "data": {
            "text/plain": [
              "                   Item_Weight  Item_Visibility  Item_MRP  Item_Outlet_Sales\n",
              "Item_Weight           1.000000        -0.011620  0.025821           0.012088\n",
              "Item_Visibility      -0.011620         1.000000 -0.001315          -0.128625\n",
              "Item_MRP              0.025821        -0.001315  1.000000           0.567574\n",
              "Item_Outlet_Sales     0.012088        -0.128625  0.567574           1.000000"
            ],
            "text/html": [
              "\n",
              "  <div id=\"df-3384fe73-71e1-4ad1-b918-2db68f749a45\">\n",
              "    <div class=\"colab-df-container\">\n",
              "      <div>\n",
              "<style scoped>\n",
              "    .dataframe tbody tr th:only-of-type {\n",
              "        vertical-align: middle;\n",
              "    }\n",
              "\n",
              "    .dataframe tbody tr th {\n",
              "        vertical-align: top;\n",
              "    }\n",
              "\n",
              "    .dataframe thead th {\n",
              "        text-align: right;\n",
              "    }\n",
              "</style>\n",
              "<table border=\"1\" class=\"dataframe\">\n",
              "  <thead>\n",
              "    <tr style=\"text-align: right;\">\n",
              "      <th></th>\n",
              "      <th>Item_Weight</th>\n",
              "      <th>Item_Visibility</th>\n",
              "      <th>Item_MRP</th>\n",
              "      <th>Item_Outlet_Sales</th>\n",
              "    </tr>\n",
              "  </thead>\n",
              "  <tbody>\n",
              "    <tr>\n",
              "      <th>Item_Weight</th>\n",
              "      <td>1.000000</td>\n",
              "      <td>-0.011620</td>\n",
              "      <td>0.025821</td>\n",
              "      <td>0.012088</td>\n",
              "    </tr>\n",
              "    <tr>\n",
              "      <th>Item_Visibility</th>\n",
              "      <td>-0.011620</td>\n",
              "      <td>1.000000</td>\n",
              "      <td>-0.001315</td>\n",
              "      <td>-0.128625</td>\n",
              "    </tr>\n",
              "    <tr>\n",
              "      <th>Item_MRP</th>\n",
              "      <td>0.025821</td>\n",
              "      <td>-0.001315</td>\n",
              "      <td>1.000000</td>\n",
              "      <td>0.567574</td>\n",
              "    </tr>\n",
              "    <tr>\n",
              "      <th>Item_Outlet_Sales</th>\n",
              "      <td>0.012088</td>\n",
              "      <td>-0.128625</td>\n",
              "      <td>0.567574</td>\n",
              "      <td>1.000000</td>\n",
              "    </tr>\n",
              "  </tbody>\n",
              "</table>\n",
              "</div>\n",
              "      <button class=\"colab-df-convert\" onclick=\"convertToInteractive('df-3384fe73-71e1-4ad1-b918-2db68f749a45')\"\n",
              "              title=\"Convert this dataframe to an interactive table.\"\n",
              "              style=\"display:none;\">\n",
              "        \n",
              "  <svg xmlns=\"http://www.w3.org/2000/svg\" height=\"24px\"viewBox=\"0 0 24 24\"\n",
              "       width=\"24px\">\n",
              "    <path d=\"M0 0h24v24H0V0z\" fill=\"none\"/>\n",
              "    <path d=\"M18.56 5.44l.94 2.06.94-2.06 2.06-.94-2.06-.94-.94-2.06-.94 2.06-2.06.94zm-11 1L8.5 8.5l.94-2.06 2.06-.94-2.06-.94L8.5 2.5l-.94 2.06-2.06.94zm10 10l.94 2.06.94-2.06 2.06-.94-2.06-.94-.94-2.06-.94 2.06-2.06.94z\"/><path d=\"M17.41 7.96l-1.37-1.37c-.4-.4-.92-.59-1.43-.59-.52 0-1.04.2-1.43.59L10.3 9.45l-7.72 7.72c-.78.78-.78 2.05 0 2.83L4 21.41c.39.39.9.59 1.41.59.51 0 1.02-.2 1.41-.59l7.78-7.78 2.81-2.81c.8-.78.8-2.07 0-2.86zM5.41 20L4 18.59l7.72-7.72 1.47 1.35L5.41 20z\"/>\n",
              "  </svg>\n",
              "      </button>\n",
              "      \n",
              "  <style>\n",
              "    .colab-df-container {\n",
              "      display:flex;\n",
              "      flex-wrap:wrap;\n",
              "      gap: 12px;\n",
              "    }\n",
              "\n",
              "    .colab-df-convert {\n",
              "      background-color: #E8F0FE;\n",
              "      border: none;\n",
              "      border-radius: 50%;\n",
              "      cursor: pointer;\n",
              "      display: none;\n",
              "      fill: #1967D2;\n",
              "      height: 32px;\n",
              "      padding: 0 0 0 0;\n",
              "      width: 32px;\n",
              "    }\n",
              "\n",
              "    .colab-df-convert:hover {\n",
              "      background-color: #E2EBFA;\n",
              "      box-shadow: 0px 1px 2px rgba(60, 64, 67, 0.3), 0px 1px 3px 1px rgba(60, 64, 67, 0.15);\n",
              "      fill: #174EA6;\n",
              "    }\n",
              "\n",
              "    [theme=dark] .colab-df-convert {\n",
              "      background-color: #3B4455;\n",
              "      fill: #D2E3FC;\n",
              "    }\n",
              "\n",
              "    [theme=dark] .colab-df-convert:hover {\n",
              "      background-color: #434B5C;\n",
              "      box-shadow: 0px 1px 3px 1px rgba(0, 0, 0, 0.15);\n",
              "      filter: drop-shadow(0px 1px 2px rgba(0, 0, 0, 0.3));\n",
              "      fill: #FFFFFF;\n",
              "    }\n",
              "  </style>\n",
              "\n",
              "      <script>\n",
              "        const buttonEl =\n",
              "          document.querySelector('#df-3384fe73-71e1-4ad1-b918-2db68f749a45 button.colab-df-convert');\n",
              "        buttonEl.style.display =\n",
              "          google.colab.kernel.accessAllowed ? 'block' : 'none';\n",
              "\n",
              "        async function convertToInteractive(key) {\n",
              "          const element = document.querySelector('#df-3384fe73-71e1-4ad1-b918-2db68f749a45');\n",
              "          const dataTable =\n",
              "            await google.colab.kernel.invokeFunction('convertToInteractive',\n",
              "                                                     [key], {});\n",
              "          if (!dataTable) return;\n",
              "\n",
              "          const docLinkHtml = 'Like what you see? Visit the ' +\n",
              "            '<a target=\"_blank\" href=https://colab.research.google.com/notebooks/data_table.ipynb>data table notebook</a>'\n",
              "            + ' to learn more about interactive tables.';\n",
              "          element.innerHTML = '';\n",
              "          dataTable['output_type'] = 'display_data';\n",
              "          await google.colab.output.renderOutput(dataTable, element);\n",
              "          const docLink = document.createElement('div');\n",
              "          docLink.innerHTML = docLinkHtml;\n",
              "          element.appendChild(docLink);\n",
              "        }\n",
              "      </script>\n",
              "    </div>\n",
              "  </div>\n",
              "  "
            ]
          },
          "metadata": {},
          "execution_count": 36
        }
      ]
    },
    {
      "cell_type": "code",
      "source": [
        "fig, ax = plt.subplots(figsize=(10, 10))\n",
        "sns.heatmap(corr, \n",
        "            cmap = 'magma', \n",
        "            annot = True, \n",
        "            linewidth=.5, \n",
        "            ax = ax)\n",
        "\n",
        "plt.title('Correlation Plot')\n",
        "plt.show()"
      ],
      "metadata": {
        "colab": {
          "base_uri": "https://localhost:8080/",
          "height": 609
        },
        "id": "Jsp60v6XGdbk",
        "outputId": "b499839a-ff33-4b35-8265-ae4b26bf1038"
      },
      "execution_count": null,
      "outputs": [
        {
          "output_type": "display_data",
          "data": {
            "text/plain": [
              "<Figure size 720x720 with 2 Axes>"
            ],
            "image/png": "[encoded data removed]"
          },
          "metadata": {}
        }
      ]
    },
    {
      "cell_type": "markdown",
      "source": [
        "Insights:\n",
        "\n",
        "- Item_Outlet_Sales and Item_MRP, with moderate correlation of 0.57.\n",
        "- Everyother posible pair of variables seems no to be correlated. \n",
        "\n"
      ],
      "metadata": {
        "id": "v_XHdXc8GmCx"
      }
    },
    {
      "cell_type": "markdown",
      "source": [
        "### Sales per Item Type, Outlet Location and Year.\n",
        "\n",
        "If your are watching this file out of a actual Jupyter Notebook you won't be able to see the graph bellow, because is a JS based \"live\" graph and Github is not going to run it inside a Jupyter Notebook file.\n",
        "\n",
        "The graph look like the image bellow, but is interactive, you can hovering the image to get some insights. \n",
        "\n",
        "![](https://raw.githubusercontent.com/diazid/sales-predictions/main/paralelset.png)\n",
        "\n",
        "You must run the file to see the graph. "
      ],
      "metadata": {
        "id": "bay6LagzCAyw"
      }
    },
    {
      "cell_type": "code",
      "source": [
        "#Building a Parallel Set\n",
        "\n",
        "## taken from https://plotly.com/python/parallel-categories-diagram/\n",
        "## it will require import plotly.graph_objects as go\n",
        "\n",
        "#getting values of location type, stablishment year, and item type\n",
        "storelist = df.Outlet_Location_Type.unique().tolist()\n",
        "yearlist = df.Outlet_Establishment_Year.unique().tolist()\n",
        "itemlist = df.Item_Type.unique().tolist()\n",
        "\n",
        "#designing a function to perform the task\n",
        "def categorical_dimensions(storeloc, year, item):\n",
        "  #defining variables\n",
        "  itemtype = {'label':'Item Type', 'values': []}\n",
        "  locationtype = {'label':'Location Type', 'values': []}\n",
        "  yearvalue = {'label':'Year', 'values': []}\n",
        "  global sales\n",
        "  global dimensions\n",
        "  sales=[]\n",
        "\n",
        "  # iteration\n",
        "  for year in yearlist:\n",
        "    for store in storelist:\n",
        "      for item in itemlist:\n",
        "        itemtype['values'].append(item)\n",
        "        locationtype['values'].append(store)\n",
        "        yearvalue['values'].append(year)\n",
        "        #operation\n",
        "        result = sum(df[(df['Outlet_Location_Type'] == store) & (df['Item_Type'] == item) & (df['Outlet_Establishment_Year'] == year)]['Item_Outlet_Sales'])\n",
        "        sales.append(result)\n",
        "  dimensions = [itemtype, locationtype, yearvalue]\n",
        "  return \n",
        "  \n",
        "categorical_dimensions(storelist, yearlist, itemlist)\n",
        "\n",
        "#creating 16 random colors (taken from stackoverflow https://stackoverflow.com/questions/28999287/generate-random-colors-rgb)\n",
        "random.seed('greenbelt')\n",
        "no_of_colors=16\n",
        "color=[\"#\"+''.join([random.choice('0123456789ABCDEF') for i in range(6)]) for j in range(no_of_colors)]\n",
        "\n",
        "#linking colors to a item type\n",
        "item_colors = dict(zip(np.unique(dimensions[0]['values']), color))\n",
        "\n",
        "#mapping color to the list of items\n",
        "color_list = [*map(item_colors.get, dimensions[0]['values'])]\n",
        "colorscale = [[0, 'lightsteelblue'], [1, 'mediumseagreen']]\n",
        "#building the parallel set graph\n",
        "####STILL WORKING ON THIS GRAPH I'M HAVING ISSUES WITH THE COLORS\n",
        "\n",
        "fig = go.Figure(go.Parcats(\n",
        "    dimensions= dimensions,\n",
        "    counts=sales, line={'shape': 'hspline', 'cmin':0, 'cmax':1,\n",
        "                        'color': color_list, 'colorscale':colorscale},\n",
        "    hoveron='color', hoverinfo='count',\n",
        "    labelfont={'size': 16, 'family': 'Verdana'},\n",
        "    tickfont={'size': 12, 'family': 'Verdana'},\n",
        "    arrangement='freeform')\n",
        ")\n",
        "\n",
        "fig.update_layout(\n",
        "        height=800, width=700,\n",
        "        dragmode='lasso', hovermode='closest')\n",
        "\n",
        "fig.show()"
      ],
      "metadata": {
        "id": "VETBlAfe-EjZ",
        "colab": {
          "base_uri": "https://localhost:8080/",
          "height": 817
        },
        "outputId": "d02b4e09-0072-424d-ae5e-b1841bedf620"
      },
      "execution_count": null,
      "outputs": [
        {
          "output_type": "display_data",
          "data": {
            "text/html": [
              "<html>\n",
              "<head><meta charset=\"utf-8\" /></head>\n",
              "<body>\n",
              "    <div>            <script src=\"https://cdnjs.cloudflare.com/ajax/libs/mathjax/2.7.5/MathJax.js?config=TeX-AMS-MML_SVG\"></script><script type=\"text/javascript\">if (window.MathJax) {MathJax.Hub.Config({SVG: {font: \"STIX-Web\"}});}</script>                <script type=\"text/javascript\">window.PlotlyConfig = {MathJaxConfig: 'local'};</script>\n",
              "        <script src=\"https://cdn.plot.ly/plotly-2.8.3.min.js\"></script>                <div id=\"37865b86-d80d-4667-ab88-6125557da1ea\" class=\"plotly-graph-div\" style=\"height:800px; width:700px;\"></div>            <script type=\"text/javascript\">                                    window.PLOTLYENV=window.PLOTLYENV || {};                                    if (document.getElementById(\"37865b86-d80d-4667-ab88-6125557da1ea\")) {                    Plotly.newPlot(                        \"37865b86-d80d-4667-ab88-6125557da1ea\",                        [{\"arrangement\":\"freeform\",\"counts\":[179680.7776,97585.64019999998,105149.79400000001,335113.7849999999,254817.6392,139263.3886,350244.09,215879.65780000002,30214.6698,112844.4446,62927.421200000004,138138.18660000002,60490.593199999996,42019.969600000004,47772.4816,11827.2712,0,0,0,0,0,0,0,0,0,0,0,0,0,0,0,0,0,0,0,0,0,0,0,0,0,0,0,0,0,0,0,0,0,0,0,0,0,0,0,0,0,0,0,0,0,0,0,0,152130.63940000004,88495.47280000003,94655.45439999999,263471.70759999997,196267.18719999996,121065.07719999997,278714.53280000004,183599.01059999998,22496.0504,108845.64980000003,49445.636999999995,145681.70059999995,54604.9212,33110.8998,37072.409799999994,22166.4794,0,0,0,0,0,0,0,0,0,0,0,0,0,0,0,0,0,0,0,0,0,0,0,0,0,0,0,0,0,0,0,0,15307.407800000003,9441.044,13580.988400000002,24548.046000000002,25550.075000000004,10693.4138,25942.897,17942.644200000002,4081.3540000000003,13570.335600000002,4067.3721999999993,9019.5926,7657.3658000000005,2733.7748,3256.4278,947.4333999999999,0,0,0,0,0,0,0,0,0,0,0,0,0,0,0,0,0,0,0,0,0,0,0,0,0,0,0,0,0,0,0,0,196254.537,115234.66660000004,95200.0788,341526.7705999999,248046.45320000008,149715.78279999996,309246.12340000004,203696.8494,27355.7246,119135.58879999997,54362.56999999999,143732.2382,52018.288199999995,43753.047,35238.13079999999,8146.728799999999,0,0,0,0,0,0,0,0,0,0,0,0,0,0,0,0,16144.318399999995,9113.470399999998,11995.7186,24054.022399999998,18157.031800000004,14133.602399999996,25653.274,15252.8122,3762.4358,10945.0862,1768.3648000000003,16739.543599999997,4947.5598,1167.8132,4522.113599999999,1336.9263999999998,262317.2104,147822.2476,216288.45900000003,576028.1886000003,378299.5704000001,224172.19680000003,513088.1171999999,316272.31080000004,50432.3526,199084.18699999998,78957.8878,272150.41059999994,110518.80519999997,49170.66160000001,40513.92999999999,18809.515799999997,0,0,0,0,0,0,0,0,0,0,0,0,0,0,0,0,0,0,0,0,0,0,0,0,0,0,0,0,0,0,0,0,0,0,0,0,0,0,0,0,0,0,0,0,0,0,0,0,154650.02659999992,108679.19980000003,81606.4402,326414.44219999993,222456.43019999992,150368.9326,288438.54179999995,177020.24080000006,21802.9526,104603.1722,56274.08179999999,174307.7716,65663.85919999999,38346.751,40165.050800000005,25927.5836,0,0,0,0,0,0,0,0,0,0,0,0,0,0,0,0,0,0,0,0,0,0,0,0,0,0,0,0,0,0,0,0,185955.2768,123710.30059999999,96822.63339999998,319504.10399999993,222526.33920000007,147731.03299999994,311071.0812,239347.11039999995,24436.191600000002,124751.6118,55432.5106,175853.0934,49008.8722,43893.53080000001,37388.66479999999,10032.940200000001,175086.09179999994,86064.63699999999,95072.24519999998,304751.3075999998,219520.25220000002,173376.31740000003,274813.6106000001,243236.71399999992,16599.725599999998,133189.2952,44615.9238,173084.69699999996,71870.4468,39258.89699999999,41540.59360000001,26314.413399999998,0,0,0,0,0,0,0,0,0,0,0,0,0,0,0,0,0,0,0,0,0,0,0,0,0,0,0,0,0,0,0,0,0,0,0,0,0,0,0,0,0,0,0,0,0,0,0,0,0,0,0,0,0,0,0,0,0,0,0,0,0,0,0,0,185067.7654,106751.04299999999,107193.8,304647.4427999997,269852.7347999999,135005.5976,355573.8189999999,213487.4384,31117.494599999998,118230.76660000003,49941.658,195444.2584,76456.4772,57945.90560000001,38047.806800000006,23358.927200000002],\"dimensions\":[{\"label\":\"Item Type\",\"values\":[\"Dairy\",\"Soft Drinks\",\"Meat\",\"Fruits and Vegetables\",\"Household\",\"Baking Goods\",\"Snack Foods\",\"Frozen Foods\",\"Breakfast\",\"Health and Hygiene\",\"Hard Drinks\",\"Canned\",\"Breads\",\"Starchy Foods\",\"Others\",\"Seafood\",\"Dairy\",\"Soft Drinks\",\"Meat\",\"Fruits and Vegetables\",\"Household\",\"Baking Goods\",\"Snack Foods\",\"Frozen Foods\",\"Breakfast\",\"Health and Hygiene\",\"Hard Drinks\",\"Canned\",\"Breads\",\"Starchy Foods\",\"Others\",\"Seafood\",\"Dairy\",\"Soft Drinks\",\"Meat\",\"Fruits and Vegetables\",\"Household\",\"Baking Goods\",\"Snack Foods\",\"Frozen Foods\",\"Breakfast\",\"Health and Hygiene\",\"Hard Drinks\",\"Canned\",\"Breads\",\"Starchy Foods\",\"Others\",\"Seafood\",\"Dairy\",\"Soft Drinks\",\"Meat\",\"Fruits and Vegetables\",\"Household\",\"Baking Goods\",\"Snack Foods\",\"Frozen Foods\",\"Breakfast\",\"Health and Hygiene\",\"Hard Drinks\",\"Canned\",\"Breads\",\"Starchy Foods\",\"Others\",\"Seafood\",\"Dairy\",\"Soft Drinks\",\"Meat\",\"Fruits and Vegetables\",\"Household\",\"Baking Goods\",\"Snack Foods\",\"Frozen Foods\",\"Breakfast\",\"Health and Hygiene\",\"Hard Drinks\",\"Canned\",\"Breads\",\"Starchy Foods\",\"Others\",\"Seafood\",\"Dairy\",\"Soft Drinks\",\"Meat\",\"Fruits and Vegetables\",\"Household\",\"Baking Goods\",\"Snack Foods\",\"Frozen Foods\",\"Breakfast\",\"Health and Hygiene\",\"Hard Drinks\",\"Canned\",\"Breads\",\"Starchy Foods\",\"Others\",\"Seafood\",\"Dairy\",\"Soft Drinks\",\"Meat\",\"Fruits and Vegetables\",\"Household\",\"Baking Goods\",\"Snack Foods\",\"Frozen Foods\",\"Breakfast\",\"Health and Hygiene\",\"Hard Drinks\",\"Canned\",\"Breads\",\"Starchy Foods\",\"Others\",\"Seafood\",\"Dairy\",\"Soft Drinks\",\"Meat\",\"Fruits and Vegetables\",\"Household\",\"Baking Goods\",\"Snack Foods\",\"Frozen Foods\",\"Breakfast\",\"Health and Hygiene\",\"Hard Drinks\",\"Canned\",\"Breads\",\"Starchy Foods\",\"Others\",\"Seafood\",\"Dairy\",\"Soft Drinks\",\"Meat\",\"Fruits and Vegetables\",\"Household\",\"Baking Goods\",\"Snack Foods\",\"Frozen Foods\",\"Breakfast\",\"Health and Hygiene\",\"Hard Drinks\",\"Canned\",\"Breads\",\"Starchy Foods\",\"Others\",\"Seafood\",\"Dairy\",\"Soft Drinks\",\"Meat\",\"Fruits and Vegetables\",\"Household\",\"Baking Goods\",\"Snack Foods\",\"Frozen Foods\",\"Breakfast\",\"Health and Hygiene\",\"Hard Drinks\",\"Canned\",\"Breads\",\"Starchy Foods\",\"Others\",\"Seafood\",\"Dairy\",\"Soft Drinks\",\"Meat\",\"Fruits and Vegetables\",\"Household\",\"Baking Goods\",\"Snack Foods\",\"Frozen Foods\",\"Breakfast\",\"Health and Hygiene\",\"Hard Drinks\",\"Canned\",\"Breads\",\"Starchy Foods\",\"Others\",\"Seafood\",\"Dairy\",\"Soft Drinks\",\"Meat\",\"Fruits and Vegetables\",\"Household\",\"Baking Goods\",\"Snack Foods\",\"Frozen Foods\",\"Breakfast\",\"Health and Hygiene\",\"Hard Drinks\",\"Canned\",\"Breads\",\"Starchy Foods\",\"Others\",\"Seafood\",\"Dairy\",\"Soft Drinks\",\"Meat\",\"Fruits and Vegetables\",\"Household\",\"Baking Goods\",\"Snack Foods\",\"Frozen Foods\",\"Breakfast\",\"Health and Hygiene\",\"Hard Drinks\",\"Canned\",\"Breads\",\"Starchy Foods\",\"Others\",\"Seafood\",\"Dairy\",\"Soft Drinks\",\"Meat\",\"Fruits and Vegetables\",\"Household\",\"Baking Goods\",\"Snack Foods\",\"Frozen Foods\",\"Breakfast\",\"Health and Hygiene\",\"Hard Drinks\",\"Canned\",\"Breads\",\"Starchy Foods\",\"Others\",\"Seafood\",\"Dairy\",\"Soft Drinks\",\"Meat\",\"Fruits and Vegetables\",\"Household\",\"Baking Goods\",\"Snack Foods\",\"Frozen Foods\",\"Breakfast\",\"Health and Hygiene\",\"Hard Drinks\",\"Canned\",\"Breads\",\"Starchy Foods\",\"Others\",\"Seafood\",\"Dairy\",\"Soft Drinks\",\"Meat\",\"Fruits and Vegetables\",\"Household\",\"Baking Goods\",\"Snack Foods\",\"Frozen Foods\",\"Breakfast\",\"Health and Hygiene\",\"Hard Drinks\",\"Canned\",\"Breads\",\"Starchy Foods\",\"Others\",\"Seafood\",\"Dairy\",\"Soft Drinks\",\"Meat\",\"Fruits and Vegetables\",\"Household\",\"Baking Goods\",\"Snack Foods\",\"Frozen Foods\",\"Breakfast\",\"Health and Hygiene\",\"Hard Drinks\",\"Canned\",\"Breads\",\"Starchy Foods\",\"Others\",\"Seafood\",\"Dairy\",\"Soft Drinks\",\"Meat\",\"Fruits and Vegetables\",\"Household\",\"Baking Goods\",\"Snack Foods\",\"Frozen Foods\",\"Breakfast\",\"Health and Hygiene\",\"Hard Drinks\",\"Canned\",\"Breads\",\"Starchy Foods\",\"Others\",\"Seafood\",\"Dairy\",\"Soft Drinks\",\"Meat\",\"Fruits and Vegetables\",\"Household\",\"Baking Goods\",\"Snack Foods\",\"Frozen Foods\",\"Breakfast\",\"Health and Hygiene\",\"Hard Drinks\",\"Canned\",\"Breads\",\"Starchy Foods\",\"Others\",\"Seafood\",\"Dairy\",\"Soft Drinks\",\"Meat\",\"Fruits and Vegetables\",\"Household\",\"Baking Goods\",\"Snack Foods\",\"Frozen Foods\",\"Breakfast\",\"Health and Hygiene\",\"Hard Drinks\",\"Canned\",\"Breads\",\"Starchy Foods\",\"Others\",\"Seafood\",\"Dairy\",\"Soft Drinks\",\"Meat\",\"Fruits and Vegetables\",\"Household\",\"Baking Goods\",\"Snack Foods\",\"Frozen Foods\",\"Breakfast\",\"Health and Hygiene\",\"Hard Drinks\",\"Canned\",\"Breads\",\"Starchy Foods\",\"Others\",\"Seafood\",\"Dairy\",\"Soft Drinks\",\"Meat\",\"Fruits and Vegetables\",\"Household\",\"Baking Goods\",\"Snack Foods\",\"Frozen Foods\",\"Breakfast\",\"Health and Hygiene\",\"Hard Drinks\",\"Canned\",\"Breads\",\"Starchy Foods\",\"Others\",\"Seafood\",\"Dairy\",\"Soft Drinks\",\"Meat\",\"Fruits and Vegetables\",\"Household\",\"Baking Goods\",\"Snack Foods\",\"Frozen Foods\",\"Breakfast\",\"Health and Hygiene\",\"Hard Drinks\",\"Canned\",\"Breads\",\"Starchy Foods\",\"Others\",\"Seafood\",\"Dairy\",\"Soft Drinks\",\"Meat\",\"Fruits and Vegetables\",\"Household\",\"Baking Goods\",\"Snack Foods\",\"Frozen Foods\",\"Breakfast\",\"Health and Hygiene\",\"Hard Drinks\",\"Canned\",\"Breads\",\"Starchy Foods\",\"Others\",\"Seafood\",\"Dairy\",\"Soft Drinks\",\"Meat\",\"Fruits and Vegetables\",\"Household\",\"Baking Goods\",\"Snack Foods\",\"Frozen Foods\",\"Breakfast\",\"Health and Hygiene\",\"Hard Drinks\",\"Canned\",\"Breads\",\"Starchy Foods\",\"Others\",\"Seafood\",\"Dairy\",\"Soft Drinks\",\"Meat\",\"Fruits and Vegetables\",\"Household\",\"Baking Goods\",\"Snack Foods\",\"Frozen Foods\",\"Breakfast\",\"Health and Hygiene\",\"Hard Drinks\",\"Canned\",\"Breads\",\"Starchy Foods\",\"Others\",\"Seafood\",\"Dairy\",\"Soft Drinks\",\"Meat\",\"Fruits and Vegetables\",\"Household\",\"Baking Goods\",\"Snack Foods\",\"Frozen Foods\",\"Breakfast\",\"Health and Hygiene\",\"Hard Drinks\",\"Canned\",\"Breads\",\"Starchy Foods\",\"Others\",\"Seafood\"]},{\"label\":\"Location Type\",\"values\":[\"Tier 1\",\"Tier 1\",\"Tier 1\",\"Tier 1\",\"Tier 1\",\"Tier 1\",\"Tier 1\",\"Tier 1\",\"Tier 1\",\"Tier 1\",\"Tier 1\",\"Tier 1\",\"Tier 1\",\"Tier 1\",\"Tier 1\",\"Tier 1\",\"Tier 3\",\"Tier 3\",\"Tier 3\",\"Tier 3\",\"Tier 3\",\"Tier 3\",\"Tier 3\",\"Tier 3\",\"Tier 3\",\"Tier 3\",\"Tier 3\",\"Tier 3\",\"Tier 3\",\"Tier 3\",\"Tier 3\",\"Tier 3\",\"Tier 2\",\"Tier 2\",\"Tier 2\",\"Tier 2\",\"Tier 2\",\"Tier 2\",\"Tier 2\",\"Tier 2\",\"Tier 2\",\"Tier 2\",\"Tier 2\",\"Tier 2\",\"Tier 2\",\"Tier 2\",\"Tier 2\",\"Tier 2\",\"Tier 1\",\"Tier 1\",\"Tier 1\",\"Tier 1\",\"Tier 1\",\"Tier 1\",\"Tier 1\",\"Tier 1\",\"Tier 1\",\"Tier 1\",\"Tier 1\",\"Tier 1\",\"Tier 1\",\"Tier 1\",\"Tier 1\",\"Tier 1\",\"Tier 3\",\"Tier 3\",\"Tier 3\",\"Tier 3\",\"Tier 3\",\"Tier 3\",\"Tier 3\",\"Tier 3\",\"Tier 3\",\"Tier 3\",\"Tier 3\",\"Tier 3\",\"Tier 3\",\"Tier 3\",\"Tier 3\",\"Tier 3\",\"Tier 2\",\"Tier 2\",\"Tier 2\",\"Tier 2\",\"Tier 2\",\"Tier 2\",\"Tier 2\",\"Tier 2\",\"Tier 2\",\"Tier 2\",\"Tier 2\",\"Tier 2\",\"Tier 2\",\"Tier 2\",\"Tier 2\",\"Tier 2\",\"Tier 1\",\"Tier 1\",\"Tier 1\",\"Tier 1\",\"Tier 1\",\"Tier 1\",\"Tier 1\",\"Tier 1\",\"Tier 1\",\"Tier 1\",\"Tier 1\",\"Tier 1\",\"Tier 1\",\"Tier 1\",\"Tier 1\",\"Tier 1\",\"Tier 3\",\"Tier 3\",\"Tier 3\",\"Tier 3\",\"Tier 3\",\"Tier 3\",\"Tier 3\",\"Tier 3\",\"Tier 3\",\"Tier 3\",\"Tier 3\",\"Tier 3\",\"Tier 3\",\"Tier 3\",\"Tier 3\",\"Tier 3\",\"Tier 2\",\"Tier 2\",\"Tier 2\",\"Tier 2\",\"Tier 2\",\"Tier 2\",\"Tier 2\",\"Tier 2\",\"Tier 2\",\"Tier 2\",\"Tier 2\",\"Tier 2\",\"Tier 2\",\"Tier 2\",\"Tier 2\",\"Tier 2\",\"Tier 1\",\"Tier 1\",\"Tier 1\",\"Tier 1\",\"Tier 1\",\"Tier 1\",\"Tier 1\",\"Tier 1\",\"Tier 1\",\"Tier 1\",\"Tier 1\",\"Tier 1\",\"Tier 1\",\"Tier 1\",\"Tier 1\",\"Tier 1\",\"Tier 3\",\"Tier 3\",\"Tier 3\",\"Tier 3\",\"Tier 3\",\"Tier 3\",\"Tier 3\",\"Tier 3\",\"Tier 3\",\"Tier 3\",\"Tier 3\",\"Tier 3\",\"Tier 3\",\"Tier 3\",\"Tier 3\",\"Tier 3\",\"Tier 2\",\"Tier 2\",\"Tier 2\",\"Tier 2\",\"Tier 2\",\"Tier 2\",\"Tier 2\",\"Tier 2\",\"Tier 2\",\"Tier 2\",\"Tier 2\",\"Tier 2\",\"Tier 2\",\"Tier 2\",\"Tier 2\",\"Tier 2\",\"Tier 1\",\"Tier 1\",\"Tier 1\",\"Tier 1\",\"Tier 1\",\"Tier 1\",\"Tier 1\",\"Tier 1\",\"Tier 1\",\"Tier 1\",\"Tier 1\",\"Tier 1\",\"Tier 1\",\"Tier 1\",\"Tier 1\",\"Tier 1\",\"Tier 3\",\"Tier 3\",\"Tier 3\",\"Tier 3\",\"Tier 3\",\"Tier 3\",\"Tier 3\",\"Tier 3\",\"Tier 3\",\"Tier 3\",\"Tier 3\",\"Tier 3\",\"Tier 3\",\"Tier 3\",\"Tier 3\",\"Tier 3\",\"Tier 2\",\"Tier 2\",\"Tier 2\",\"Tier 2\",\"Tier 2\",\"Tier 2\",\"Tier 2\",\"Tier 2\",\"Tier 2\",\"Tier 2\",\"Tier 2\",\"Tier 2\",\"Tier 2\",\"Tier 2\",\"Tier 2\",\"Tier 2\",\"Tier 1\",\"Tier 1\",\"Tier 1\",\"Tier 1\",\"Tier 1\",\"Tier 1\",\"Tier 1\",\"Tier 1\",\"Tier 1\",\"Tier 1\",\"Tier 1\",\"Tier 1\",\"Tier 1\",\"Tier 1\",\"Tier 1\",\"Tier 1\",\"Tier 3\",\"Tier 3\",\"Tier 3\",\"Tier 3\",\"Tier 3\",\"Tier 3\",\"Tier 3\",\"Tier 3\",\"Tier 3\",\"Tier 3\",\"Tier 3\",\"Tier 3\",\"Tier 3\",\"Tier 3\",\"Tier 3\",\"Tier 3\",\"Tier 2\",\"Tier 2\",\"Tier 2\",\"Tier 2\",\"Tier 2\",\"Tier 2\",\"Tier 2\",\"Tier 2\",\"Tier 2\",\"Tier 2\",\"Tier 2\",\"Tier 2\",\"Tier 2\",\"Tier 2\",\"Tier 2\",\"Tier 2\",\"Tier 1\",\"Tier 1\",\"Tier 1\",\"Tier 1\",\"Tier 1\",\"Tier 1\",\"Tier 1\",\"Tier 1\",\"Tier 1\",\"Tier 1\",\"Tier 1\",\"Tier 1\",\"Tier 1\",\"Tier 1\",\"Tier 1\",\"Tier 1\",\"Tier 3\",\"Tier 3\",\"Tier 3\",\"Tier 3\",\"Tier 3\",\"Tier 3\",\"Tier 3\",\"Tier 3\",\"Tier 3\",\"Tier 3\",\"Tier 3\",\"Tier 3\",\"Tier 3\",\"Tier 3\",\"Tier 3\",\"Tier 3\",\"Tier 2\",\"Tier 2\",\"Tier 2\",\"Tier 2\",\"Tier 2\",\"Tier 2\",\"Tier 2\",\"Tier 2\",\"Tier 2\",\"Tier 2\",\"Tier 2\",\"Tier 2\",\"Tier 2\",\"Tier 2\",\"Tier 2\",\"Tier 2\",\"Tier 1\",\"Tier 1\",\"Tier 1\",\"Tier 1\",\"Tier 1\",\"Tier 1\",\"Tier 1\",\"Tier 1\",\"Tier 1\",\"Tier 1\",\"Tier 1\",\"Tier 1\",\"Tier 1\",\"Tier 1\",\"Tier 1\",\"Tier 1\",\"Tier 3\",\"Tier 3\",\"Tier 3\",\"Tier 3\",\"Tier 3\",\"Tier 3\",\"Tier 3\",\"Tier 3\",\"Tier 3\",\"Tier 3\",\"Tier 3\",\"Tier 3\",\"Tier 3\",\"Tier 3\",\"Tier 3\",\"Tier 3\",\"Tier 2\",\"Tier 2\",\"Tier 2\",\"Tier 2\",\"Tier 2\",\"Tier 2\",\"Tier 2\",\"Tier 2\",\"Tier 2\",\"Tier 2\",\"Tier 2\",\"Tier 2\",\"Tier 2\",\"Tier 2\",\"Tier 2\",\"Tier 2\",\"Tier 1\",\"Tier 1\",\"Tier 1\",\"Tier 1\",\"Tier 1\",\"Tier 1\",\"Tier 1\",\"Tier 1\",\"Tier 1\",\"Tier 1\",\"Tier 1\",\"Tier 1\",\"Tier 1\",\"Tier 1\",\"Tier 1\",\"Tier 1\",\"Tier 3\",\"Tier 3\",\"Tier 3\",\"Tier 3\",\"Tier 3\",\"Tier 3\",\"Tier 3\",\"Tier 3\",\"Tier 3\",\"Tier 3\",\"Tier 3\",\"Tier 3\",\"Tier 3\",\"Tier 3\",\"Tier 3\",\"Tier 3\",\"Tier 2\",\"Tier 2\",\"Tier 2\",\"Tier 2\",\"Tier 2\",\"Tier 2\",\"Tier 2\",\"Tier 2\",\"Tier 2\",\"Tier 2\",\"Tier 2\",\"Tier 2\",\"Tier 2\",\"Tier 2\",\"Tier 2\",\"Tier 2\"]},{\"label\":\"Year\",\"values\":[1999,1999,1999,1999,1999,1999,1999,1999,1999,1999,1999,1999,1999,1999,1999,1999,1999,1999,1999,1999,1999,1999,1999,1999,1999,1999,1999,1999,1999,1999,1999,1999,1999,1999,1999,1999,1999,1999,1999,1999,1999,1999,1999,1999,1999,1999,1999,1999,2009,2009,2009,2009,2009,2009,2009,2009,2009,2009,2009,2009,2009,2009,2009,2009,2009,2009,2009,2009,2009,2009,2009,2009,2009,2009,2009,2009,2009,2009,2009,2009,2009,2009,2009,2009,2009,2009,2009,2009,2009,2009,2009,2009,2009,2009,2009,2009,1998,1998,1998,1998,1998,1998,1998,1998,1998,1998,1998,1998,1998,1998,1998,1998,1998,1998,1998,1998,1998,1998,1998,1998,1998,1998,1998,1998,1998,1998,1998,1998,1998,1998,1998,1998,1998,1998,1998,1998,1998,1998,1998,1998,1998,1998,1998,1998,1987,1987,1987,1987,1987,1987,1987,1987,1987,1987,1987,1987,1987,1987,1987,1987,1987,1987,1987,1987,1987,1987,1987,1987,1987,1987,1987,1987,1987,1987,1987,1987,1987,1987,1987,1987,1987,1987,1987,1987,1987,1987,1987,1987,1987,1987,1987,1987,1985,1985,1985,1985,1985,1985,1985,1985,1985,1985,1985,1985,1985,1985,1985,1985,1985,1985,1985,1985,1985,1985,1985,1985,1985,1985,1985,1985,1985,1985,1985,1985,1985,1985,1985,1985,1985,1985,1985,1985,1985,1985,1985,1985,1985,1985,1985,1985,2002,2002,2002,2002,2002,2002,2002,2002,2002,2002,2002,2002,2002,2002,2002,2002,2002,2002,2002,2002,2002,2002,2002,2002,2002,2002,2002,2002,2002,2002,2002,2002,2002,2002,2002,2002,2002,2002,2002,2002,2002,2002,2002,2002,2002,2002,2002,2002,2007,2007,2007,2007,2007,2007,2007,2007,2007,2007,2007,2007,2007,2007,2007,2007,2007,2007,2007,2007,2007,2007,2007,2007,2007,2007,2007,2007,2007,2007,2007,2007,2007,2007,2007,2007,2007,2007,2007,2007,2007,2007,2007,2007,2007,2007,2007,2007,1997,1997,1997,1997,1997,1997,1997,1997,1997,1997,1997,1997,1997,1997,1997,1997,1997,1997,1997,1997,1997,1997,1997,1997,1997,1997,1997,1997,1997,1997,1997,1997,1997,1997,1997,1997,1997,1997,1997,1997,1997,1997,1997,1997,1997,1997,1997,1997,2004,2004,2004,2004,2004,2004,2004,2004,2004,2004,2004,2004,2004,2004,2004,2004,2004,2004,2004,2004,2004,2004,2004,2004,2004,2004,2004,2004,2004,2004,2004,2004,2004,2004,2004,2004,2004,2004,2004,2004,2004,2004,2004,2004,2004,2004,2004,2004]}],\"hoverinfo\":\"count\",\"hoveron\":\"color\",\"labelfont\":{\"family\":\"Verdana\",\"size\":16},\"line\":{\"cmax\":1,\"cmin\":0,\"color\":[\"#30414D\",\"#2387A2\",\"#AC5D69\",\"#EAB041\",\"#840CB7\",\"#78D9C2\",\"#FF79DE\",\"#8C0203\",\"#FEF2E8\",\"#25D88B\",\"#B79C5E\",\"#5CFEB6\",\"#21A335\",\"#D395B5\",\"#206D02\",\"#664753\",\"#30414D\",\"#2387A2\",\"#AC5D69\",\"#EAB041\",\"#840CB7\",\"#78D9C2\",\"#FF79DE\",\"#8C0203\",\"#FEF2E8\",\"#25D88B\",\"#B79C5E\",\"#5CFEB6\",\"#21A335\",\"#D395B5\",\"#206D02\",\"#664753\",\"#30414D\",\"#2387A2\",\"#AC5D69\",\"#EAB041\",\"#840CB7\",\"#78D9C2\",\"#FF79DE\",\"#8C0203\",\"#FEF2E8\",\"#25D88B\",\"#B79C5E\",\"#5CFEB6\",\"#21A335\",\"#D395B5\",\"#206D02\",\"#664753\",\"#30414D\",\"#2387A2\",\"#AC5D69\",\"#EAB041\",\"#840CB7\",\"#78D9C2\",\"#FF79DE\",\"#8C0203\",\"#FEF2E8\",\"#25D88B\",\"#B79C5E\",\"#5CFEB6\",\"#21A335\",\"#D395B5\",\"#206D02\",\"#664753\",\"#30414D\",\"#2387A2\",\"#AC5D69\",\"#EAB041\",\"#840CB7\",\"#78D9C2\",\"#FF79DE\",\"#8C0203\",\"#FEF2E8\",\"#25D88B\",\"#B79C5E\",\"#5CFEB6\",\"#21A335\",\"#D395B5\",\"#206D02\",\"#664753\",\"#30414D\",\"#2387A2\",\"#AC5D69\",\"#EAB041\",\"#840CB7\",\"#78D9C2\",\"#FF79DE\",\"#8C0203\",\"#FEF2E8\",\"#25D88B\",\"#B79C5E\",\"#5CFEB6\",\"#21A335\",\"#D395B5\",\"#206D02\",\"#664753\",\"#30414D\",\"#2387A2\",\"#AC5D69\",\"#EAB041\",\"#840CB7\",\"#78D9C2\",\"#FF79DE\",\"#8C0203\",\"#FEF2E8\",\"#25D88B\",\"#B79C5E\",\"#5CFEB6\",\"#21A335\",\"#D395B5\",\"#206D02\",\"#664753\",\"#30414D\",\"#2387A2\",\"#AC5D69\",\"#EAB041\",\"#840CB7\",\"#78D9C2\",\"#FF79DE\",\"#8C0203\",\"#FEF2E8\",\"#25D88B\",\"#B79C5E\",\"#5CFEB6\",\"#21A335\",\"#D395B5\",\"#206D02\",\"#664753\",\"#30414D\",\"#2387A2\",\"#AC5D69\",\"#EAB041\",\"#840CB7\",\"#78D9C2\",\"#FF79DE\",\"#8C0203\",\"#FEF2E8\",\"#25D88B\",\"#B79C5E\",\"#5CFEB6\",\"#21A335\",\"#D395B5\",\"#206D02\",\"#664753\",\"#30414D\",\"#2387A2\",\"#AC5D69\",\"#EAB041\",\"#840CB7\",\"#78D9C2\",\"#FF79DE\",\"#8C0203\",\"#FEF2E8\",\"#25D88B\",\"#B79C5E\",\"#5CFEB6\",\"#21A335\",\"#D395B5\",\"#206D02\",\"#664753\",\"#30414D\",\"#2387A2\",\"#AC5D69\",\"#EAB041\",\"#840CB7\",\"#78D9C2\",\"#FF79DE\",\"#8C0203\",\"#FEF2E8\",\"#25D88B\",\"#B79C5E\",\"#5CFEB6\",\"#21A335\",\"#D395B5\",\"#206D02\",\"#664753\",\"#30414D\",\"#2387A2\",\"#AC5D69\",\"#EAB041\",\"#840CB7\",\"#78D9C2\",\"#FF79DE\",\"#8C0203\",\"#FEF2E8\",\"#25D88B\",\"#B79C5E\",\"#5CFEB6\",\"#21A335\",\"#D395B5\",\"#206D02\",\"#664753\",\"#30414D\",\"#2387A2\",\"#AC5D69\",\"#EAB041\",\"#840CB7\",\"#78D9C2\",\"#FF79DE\",\"#8C0203\",\"#FEF2E8\",\"#25D88B\",\"#B79C5E\",\"#5CFEB6\",\"#21A335\",\"#D395B5\",\"#206D02\",\"#664753\",\"#30414D\",\"#2387A2\",\"#AC5D69\",\"#EAB041\",\"#840CB7\",\"#78D9C2\",\"#FF79DE\",\"#8C0203\",\"#FEF2E8\",\"#25D88B\",\"#B79C5E\",\"#5CFEB6\",\"#21A335\",\"#D395B5\",\"#206D02\",\"#664753\",\"#30414D\",\"#2387A2\",\"#AC5D69\",\"#EAB041\",\"#840CB7\",\"#78D9C2\",\"#FF79DE\",\"#8C0203\",\"#FEF2E8\",\"#25D88B\",\"#B79C5E\",\"#5CFEB6\",\"#21A335\",\"#D395B5\",\"#206D02\",\"#664753\",\"#30414D\",\"#2387A2\",\"#AC5D69\",\"#EAB041\",\"#840CB7\",\"#78D9C2\",\"#FF79DE\",\"#8C0203\",\"#FEF2E8\",\"#25D88B\",\"#B79C5E\",\"#5CFEB6\",\"#21A335\",\"#D395B5\",\"#206D02\",\"#664753\",\"#30414D\",\"#2387A2\",\"#AC5D69\",\"#EAB041\",\"#840CB7\",\"#78D9C2\",\"#FF79DE\",\"#8C0203\",\"#FEF2E8\",\"#25D88B\",\"#B79C5E\",\"#5CFEB6\",\"#21A335\",\"#D395B5\",\"#206D02\",\"#664753\",\"#30414D\",\"#2387A2\",\"#AC5D69\",\"#EAB041\",\"#840CB7\",\"#78D9C2\",\"#FF79DE\",\"#8C0203\",\"#FEF2E8\",\"#25D88B\",\"#B79C5E\",\"#5CFEB6\",\"#21A335\",\"#D395B5\",\"#206D02\",\"#664753\",\"#30414D\",\"#2387A2\",\"#AC5D69\",\"#EAB041\",\"#840CB7\",\"#78D9C2\",\"#FF79DE\",\"#8C0203\",\"#FEF2E8\",\"#25D88B\",\"#B79C5E\",\"#5CFEB6\",\"#21A335\",\"#D395B5\",\"#206D02\",\"#664753\",\"#30414D\",\"#2387A2\",\"#AC5D69\",\"#EAB041\",\"#840CB7\",\"#78D9C2\",\"#FF79DE\",\"#8C0203\",\"#FEF2E8\",\"#25D88B\",\"#B79C5E\",\"#5CFEB6\",\"#21A335\",\"#D395B5\",\"#206D02\",\"#664753\",\"#30414D\",\"#2387A2\",\"#AC5D69\",\"#EAB041\",\"#840CB7\",\"#78D9C2\",\"#FF79DE\",\"#8C0203\",\"#FEF2E8\",\"#25D88B\",\"#B79C5E\",\"#5CFEB6\",\"#21A335\",\"#D395B5\",\"#206D02\",\"#664753\",\"#30414D\",\"#2387A2\",\"#AC5D69\",\"#EAB041\",\"#840CB7\",\"#78D9C2\",\"#FF79DE\",\"#8C0203\",\"#FEF2E8\",\"#25D88B\",\"#B79C5E\",\"#5CFEB6\",\"#21A335\",\"#D395B5\",\"#206D02\",\"#664753\",\"#30414D\",\"#2387A2\",\"#AC5D69\",\"#EAB041\",\"#840CB7\",\"#78D9C2\",\"#FF79DE\",\"#8C0203\",\"#FEF2E8\",\"#25D88B\",\"#B79C5E\",\"#5CFEB6\",\"#21A335\",\"#D395B5\",\"#206D02\",\"#664753\",\"#30414D\",\"#2387A2\",\"#AC5D69\",\"#EAB041\",\"#840CB7\",\"#78D9C2\",\"#FF79DE\",\"#8C0203\",\"#FEF2E8\",\"#25D88B\",\"#B79C5E\",\"#5CFEB6\",\"#21A335\",\"#D395B5\",\"#206D02\",\"#664753\",\"#30414D\",\"#2387A2\",\"#AC5D69\",\"#EAB041\",\"#840CB7\",\"#78D9C2\",\"#FF79DE\",\"#8C0203\",\"#FEF2E8\",\"#25D88B\",\"#B79C5E\",\"#5CFEB6\",\"#21A335\",\"#D395B5\",\"#206D02\",\"#664753\",\"#30414D\",\"#2387A2\",\"#AC5D69\",\"#EAB041\",\"#840CB7\",\"#78D9C2\",\"#FF79DE\",\"#8C0203\",\"#FEF2E8\",\"#25D88B\",\"#B79C5E\",\"#5CFEB6\",\"#21A335\",\"#D395B5\",\"#206D02\",\"#664753\",\"#30414D\",\"#2387A2\",\"#AC5D69\",\"#EAB041\",\"#840CB7\",\"#78D9C2\",\"#FF79DE\",\"#8C0203\",\"#FEF2E8\",\"#25D88B\",\"#B79C5E\",\"#5CFEB6\",\"#21A335\",\"#D395B5\",\"#206D02\",\"#664753\"],\"colorscale\":[[0,\"lightsteelblue\"],[1,\"mediumseagreen\"]],\"shape\":\"hspline\"},\"tickfont\":{\"family\":\"Verdana\",\"size\":12},\"type\":\"parcats\"}],                        {\"template\":{\"data\":{\"bar\":[{\"error_x\":{\"color\":\"#2a3f5f\"},\"error_y\":{\"color\":\"#2a3f5f\"},\"marker\":{\"line\":{\"color\":\"#E5ECF6\",\"width\":0.5},\"pattern\":{\"fillmode\":\"overlay\",\"size\":10,\"solidity\":0.2}},\"type\":\"bar\"}],\"barpolar\":[{\"marker\":{\"line\":{\"color\":\"#E5ECF6\",\"width\":0.5},\"pattern\":{\"fillmode\":\"overlay\",\"size\":10,\"solidity\":0.2}},\"type\":\"barpolar\"}],\"carpet\":[{\"aaxis\":{\"endlinecolor\":\"#2a3f5f\",\"gridcolor\":\"white\",\"linecolor\":\"white\",\"minorgridcolor\":\"white\",\"startlinecolor\":\"#2a3f5f\"},\"baxis\":{\"endlinecolor\":\"#2a3f5f\",\"gridcolor\":\"white\",\"linecolor\":\"white\",\"minorgridcolor\":\"white\",\"startlinecolor\":\"#2a3f5f\"},\"type\":\"carpet\"}],\"choropleth\":[{\"colorbar\":{\"outlinewidth\":0,\"ticks\":\"\"},\"type\":\"choropleth\"}],\"contour\":[{\"colorbar\":{\"outlinewidth\":0,\"ticks\":\"\"},\"colorscale\":[[0.0,\"#0d0887\"],[0.1111111111111111,\"#46039f\"],[0.2222222222222222,\"#7201a8\"],[0.3333333333333333,\"#9c179e\"],[0.4444444444444444,\"#bd3786\"],[0.5555555555555556,\"#d8576b\"],[0.6666666666666666,\"#ed7953\"],[0.7777777777777778,\"#fb9f3a\"],[0.8888888888888888,\"#fdca26\"],[1.0,\"#f0f921\"]],\"type\":\"contour\"}],\"contourcarpet\":[{\"colorbar\":{\"outlinewidth\":0,\"ticks\":\"\"},\"type\":\"contourcarpet\"}],\"heatmap\":[{\"colorbar\":{\"outlinewidth\":0,\"ticks\":\"\"},\"colorscale\":[[0.0,\"#0d0887\"],[0.1111111111111111,\"#46039f\"],[0.2222222222222222,\"#7201a8\"],[0.3333333333333333,\"#9c179e\"],[0.4444444444444444,\"#bd3786\"],[0.5555555555555556,\"#d8576b\"],[0.6666666666666666,\"#ed7953\"],[0.7777777777777778,\"#fb9f3a\"],[0.8888888888888888,\"#fdca26\"],[1.0,\"#f0f921\"]],\"type\":\"heatmap\"}],\"heatmapgl\":[{\"colorbar\":{\"outlinewidth\":0,\"ticks\":\"\"},\"colorscale\":[[0.0,\"#0d0887\"],[0.1111111111111111,\"#46039f\"],[0.2222222222222222,\"#7201a8\"],[0.3333333333333333,\"#9c179e\"],[0.4444444444444444,\"#bd3786\"],[0.5555555555555556,\"#d8576b\"],[0.6666666666666666,\"#ed7953\"],[0.7777777777777778,\"#fb9f3a\"],[0.8888888888888888,\"#fdca26\"],[1.0,\"#f0f921\"]],\"type\":\"heatmapgl\"}],\"histogram\":[{\"marker\":{\"pattern\":{\"fillmode\":\"overlay\",\"size\":10,\"solidity\":0.2}},\"type\":\"histogram\"}],\"histogram2d\":[{\"colorbar\":{\"outlinewidth\":0,\"ticks\":\"\"},\"colorscale\":[[0.0,\"#0d0887\"],[0.1111111111111111,\"#46039f\"],[0.2222222222222222,\"#7201a8\"],[0.3333333333333333,\"#9c179e\"],[0.4444444444444444,\"#bd3786\"],[0.5555555555555556,\"#d8576b\"],[0.6666666666666666,\"#ed7953\"],[0.7777777777777778,\"#fb9f3a\"],[0.8888888888888888,\"#fdca26\"],[1.0,\"#f0f921\"]],\"type\":\"histogram2d\"}],\"histogram2dcontour\":[{\"colorbar\":{\"outlinewidth\":0,\"ticks\":\"\"},\"colorscale\":[[0.0,\"#0d0887\"],[0.1111111111111111,\"#46039f\"],[0.2222222222222222,\"#7201a8\"],[0.3333333333333333,\"#9c179e\"],[0.4444444444444444,\"#bd3786\"],[0.5555555555555556,\"#d8576b\"],[0.6666666666666666,\"#ed7953\"],[0.7777777777777778,\"#fb9f3a\"],[0.8888888888888888,\"#fdca26\"],[1.0,\"#f0f921\"]],\"type\":\"histogram2dcontour\"}],\"mesh3d\":[{\"colorbar\":{\"outlinewidth\":0,\"ticks\":\"\"},\"type\":\"mesh3d\"}],\"parcoords\":[{\"line\":{\"colorbar\":{\"outlinewidth\":0,\"ticks\":\"\"}},\"type\":\"parcoords\"}],\"pie\":[{\"automargin\":true,\"type\":\"pie\"}],\"scatter\":[{\"marker\":{\"colorbar\":{\"outlinewidth\":0,\"ticks\":\"\"}},\"type\":\"scatter\"}],\"scatter3d\":[{\"line\":{\"colorbar\":{\"outlinewidth\":0,\"ticks\":\"\"}},\"marker\":{\"colorbar\":{\"outlinewidth\":0,\"ticks\":\"\"}},\"type\":\"scatter3d\"}],\"scattercarpet\":[{\"marker\":{\"colorbar\":{\"outlinewidth\":0,\"ticks\":\"\"}},\"type\":\"scattercarpet\"}],\"scattergeo\":[{\"marker\":{\"colorbar\":{\"outlinewidth\":0,\"ticks\":\"\"}},\"type\":\"scattergeo\"}],\"scattergl\":[{\"marker\":{\"colorbar\":{\"outlinewidth\":0,\"ticks\":\"\"}},\"type\":\"scattergl\"}],\"scattermapbox\":[{\"marker\":{\"colorbar\":{\"outlinewidth\":0,\"ticks\":\"\"}},\"type\":\"scattermapbox\"}],\"scatterpolar\":[{\"marker\":{\"colorbar\":{\"outlinewidth\":0,\"ticks\":\"\"}},\"type\":\"scatterpolar\"}],\"scatterpolargl\":[{\"marker\":{\"colorbar\":{\"outlinewidth\":0,\"ticks\":\"\"}},\"type\":\"scatterpolargl\"}],\"scatterternary\":[{\"marker\":{\"colorbar\":{\"outlinewidth\":0,\"ticks\":\"\"}},\"type\":\"scatterternary\"}],\"surface\":[{\"colorbar\":{\"outlinewidth\":0,\"ticks\":\"\"},\"colorscale\":[[0.0,\"#0d0887\"],[0.1111111111111111,\"#46039f\"],[0.2222222222222222,\"#7201a8\"],[0.3333333333333333,\"#9c179e\"],[0.4444444444444444,\"#bd3786\"],[0.5555555555555556,\"#d8576b\"],[0.6666666666666666,\"#ed7953\"],[0.7777777777777778,\"#fb9f3a\"],[0.8888888888888888,\"#fdca26\"],[1.0,\"#f0f921\"]],\"type\":\"surface\"}],\"table\":[{\"cells\":{\"fill\":{\"color\":\"#EBF0F8\"},\"line\":{\"color\":\"white\"}},\"header\":{\"fill\":{\"color\":\"#C8D4E3\"},\"line\":{\"color\":\"white\"}},\"type\":\"table\"}]},\"layout\":{\"annotationdefaults\":{\"arrowcolor\":\"#2a3f5f\",\"arrowhead\":0,\"arrowwidth\":1},\"autotypenumbers\":\"strict\",\"coloraxis\":{\"colorbar\":{\"outlinewidth\":0,\"ticks\":\"\"}},\"colorscale\":{\"diverging\":[[0,\"#8e0152\"],[0.1,\"#c51b7d\"],[0.2,\"#de77ae\"],[0.3,\"#f1b6da\"],[0.4,\"#fde0ef\"],[0.5,\"#f7f7f7\"],[0.6,\"#e6f5d0\"],[0.7,\"#b8e186\"],[0.8,\"#7fbc41\"],[0.9,\"#4d9221\"],[1,\"#276419\"]],\"sequential\":[[0.0,\"#0d0887\"],[0.1111111111111111,\"#46039f\"],[0.2222222222222222,\"#7201a8\"],[0.3333333333333333,\"#9c179e\"],[0.4444444444444444,\"#bd3786\"],[0.5555555555555556,\"#d8576b\"],[0.6666666666666666,\"#ed7953\"],[0.7777777777777778,\"#fb9f3a\"],[0.8888888888888888,\"#fdca26\"],[1.0,\"#f0f921\"]],\"sequentialminus\":[[0.0,\"#0d0887\"],[0.1111111111111111,\"#46039f\"],[0.2222222222222222,\"#7201a8\"],[0.3333333333333333,\"#9c179e\"],[0.4444444444444444,\"#bd3786\"],[0.5555555555555556,\"#d8576b\"],[0.6666666666666666,\"#ed7953\"],[0.7777777777777778,\"#fb9f3a\"],[0.8888888888888888,\"#fdca26\"],[1.0,\"#f0f921\"]]},\"colorway\":[\"#636efa\",\"#EF553B\",\"#00cc96\",\"#ab63fa\",\"#FFA15A\",\"#19d3f3\",\"#FF6692\",\"#B6E880\",\"#FF97FF\",\"#FECB52\"],\"font\":{\"color\":\"#2a3f5f\"},\"geo\":{\"bgcolor\":\"white\",\"lakecolor\":\"white\",\"landcolor\":\"#E5ECF6\",\"showlakes\":true,\"showland\":true,\"subunitcolor\":\"white\"},\"hoverlabel\":{\"align\":\"left\"},\"hovermode\":\"closest\",\"mapbox\":{\"style\":\"light\"},\"paper_bgcolor\":\"white\",\"plot_bgcolor\":\"#E5ECF6\",\"polar\":{\"angularaxis\":{\"gridcolor\":\"white\",\"linecolor\":\"white\",\"ticks\":\"\"},\"bgcolor\":\"#E5ECF6\",\"radialaxis\":{\"gridcolor\":\"white\",\"linecolor\":\"white\",\"ticks\":\"\"}},\"scene\":{\"xaxis\":{\"backgroundcolor\":\"#E5ECF6\",\"gridcolor\":\"white\",\"gridwidth\":2,\"linecolor\":\"white\",\"showbackground\":true,\"ticks\":\"\",\"zerolinecolor\":\"white\"},\"yaxis\":{\"backgroundcolor\":\"#E5ECF6\",\"gridcolor\":\"white\",\"gridwidth\":2,\"linecolor\":\"white\",\"showbackground\":true,\"ticks\":\"\",\"zerolinecolor\":\"white\"},\"zaxis\":{\"backgroundcolor\":\"#E5ECF6\",\"gridcolor\":\"white\",\"gridwidth\":2,\"linecolor\":\"white\",\"showbackground\":true,\"ticks\":\"\",\"zerolinecolor\":\"white\"}},\"shapedefaults\":{\"line\":{\"color\":\"#2a3f5f\"}},\"ternary\":{\"aaxis\":{\"gridcolor\":\"white\",\"linecolor\":\"white\",\"ticks\":\"\"},\"baxis\":{\"gridcolor\":\"white\",\"linecolor\":\"white\",\"ticks\":\"\"},\"bgcolor\":\"#E5ECF6\",\"caxis\":{\"gridcolor\":\"white\",\"linecolor\":\"white\",\"ticks\":\"\"}},\"title\":{\"x\":0.05},\"xaxis\":{\"automargin\":true,\"gridcolor\":\"white\",\"linecolor\":\"white\",\"ticks\":\"\",\"title\":{\"standoff\":15},\"zerolinecolor\":\"white\",\"zerolinewidth\":2},\"yaxis\":{\"automargin\":true,\"gridcolor\":\"white\",\"linecolor\":\"white\",\"ticks\":\"\",\"title\":{\"standoff\":15},\"zerolinecolor\":\"white\",\"zerolinewidth\":2}}},\"height\":800,\"width\":700,\"dragmode\":\"lasso\",\"hovermode\":\"closest\"},                        {\"responsive\": true}                    ).then(function(){\n",
              "                            \n",
              "var gd = document.getElementById('37865b86-d80d-4667-ab88-6125557da1ea');\n",
              "var x = new MutationObserver(function (mutations, observer) {{\n",
              "        var display = window.getComputedStyle(gd).display;\n",
              "        if (!display || display === 'none') {{\n",
              "            console.log([gd, 'removed!']);\n",
              "            Plotly.purge(gd);\n",
              "            observer.disconnect();\n",
              "        }}\n",
              "}});\n",
              "\n",
              "// Listen for the removal of the full notebook cells\n",
              "var notebookContainer = gd.closest('#notebook-container');\n",
              "if (notebookContainer) {{\n",
              "    x.observe(notebookContainer, {childList: true});\n",
              "}}\n",
              "\n",
              "// Listen for the clearing of the current output cell\n",
              "var outputEl = gd.closest('.output');\n",
              "if (outputEl) {{\n",
              "    x.observe(outputEl, {childList: true});\n",
              "}}\n",
              "\n",
              "                        })                };                            </script>        </div>\n",
              "</body>\n",
              "</html>"
            ]
          },
          "metadata": {}
        }
      ]
    },
    {
      "cell_type": "markdown",
      "source": [
        "**Insights**\n",
        "\n",
        "This graph is very insightfull because is possible to compare 2 or more  variables. \n",
        "\n",
        "In this case I am studying `Item_Type`, `Outlet_Location_Type`, and `Outlet_Establishment_Year`, and the width of every stream correspond to the sales of that particular portion of the stream, so it is possible to compare the total sales per item, location, and year. \n",
        "\n",
        "* By hovering over the graph is easy to see that the item most sold was `Fruits and Vegetables` of every year.\n",
        "* Tier_1 location sold the most in years 1997 and 1999.\n",
        "* Tier 2 location sold the most in years 2002, 2004, and 2007\n",
        "* Tier 3 location sold the most in years 1985, 1987, 1998, and 2009\n",
        "* The proportions of Items in every Tier location seem to be the same."
      ],
      "metadata": {
        "id": "B-gFU5asgstU"
      }
    },
    {
      "cell_type": "markdown",
      "source": [
        "### Item Visibility vs Outlet Sales"
      ],
      "metadata": {
        "id": "NDHF1bJsSwFF"
      }
    },
    {
      "cell_type": "code",
      "source": [
        "## Facetgrid (taken from seaborn documentation)\n",
        "\n",
        "#define facetgrid\n",
        "g = sns.FacetGrid(data=df, \n",
        "                  col=\"Outlet_Establishment_Year\", \n",
        "                  palette='Blues', \n",
        "                  col_wrap=4, \n",
        "                  margin_titles=True, \n",
        "                  despine=False, \n",
        "                  sharex=True, \n",
        "                  sharey=True)\n",
        "\n",
        "#mapping the graph\n",
        "g.map_dataframe(sns.histplot, \n",
        "                y=\"Item_Visibility\", \n",
        "                x=\"Item_Outlet_Sales\", \n",
        "                bins=(20,20))\n",
        "\n",
        "#mapping mean line (taken in part from https://stackoverflow.com/questions/51891370/draw-a-line-at-specific-position-annotate-a-facetgrid-in-seaborn)\n",
        "for i, year in enumerate(df['Outlet_Establishment_Year'].unique().sort_values(ascending=True).tolist()):\n",
        "  g.axes[i].axvline(df[df['Outlet_Establishment_Year'] == year]['Item_Outlet_Sales'].mean(), c='k', ls='--')\n",
        "\n",
        "#aesthetics\n",
        "g.fig.suptitle('Visibility vs Ouletsales per Year', fontsize=15)\n",
        "g.set_axis_labels(\"Outlet Sales ($)\", \"Item Visibility\")\n",
        "g.set_titles(col_template=\"{col_name}\")\n",
        "g.tight_layout(rect=[0, 0.03, 1, 0.93])\n",
        "plt.show()"
      ],
      "metadata": {
        "colab": {
          "base_uri": "https://localhost:8080/",
          "height": 636
        },
        "id": "VtXwqARGLB4p",
        "outputId": "0989af99-500a-4989-e05e-95f5cdc44e8a"
      },
      "execution_count": null,
      "outputs": [
        {
          "output_type": "display_data",
          "data": {
            "text/plain": [
              "<Figure size 864x648 with 9 Axes>"
            ],
            "image/png": "[encoded data removed]"
          },
          "metadata": {}
        }
      ]
    },
    {
      "cell_type": "markdown",
      "source": [
        "**Insights**\n",
        "\n",
        "* Every year (except 1985 and 1998) it is seen that for a range of visibility between 0 - 0.1 the highest amount of sales between 0 to 5000 was produced.\n",
        "* In 1985, the range was much higher than in subsequent years, with sales between 0 - 7,500 for a visibility range of between 0 - 0.2.\n",
        "* In 1998, sales were quite low for any visibility range.\n",
        "* Exist low inverse correlation between these two variables. "
      ],
      "metadata": {
        "id": "6z73HmCuoWsP"
      }
    },
    {
      "cell_type": "markdown",
      "source": [
        "### Item_MRP vs Item_Outlet_Sales"
      ],
      "metadata": {
        "id": "sztci6r_OjfW"
      }
    },
    {
      "cell_type": "code",
      "source": [
        "## Facetgrid (taken from seaborn documentation)\n",
        "\n",
        "#define facetgrid\n",
        "g = sns.FacetGrid(data=df, \n",
        "                  col=\"Outlet_Establishment_Year\", \n",
        "                  palette='Blues', \n",
        "                  col_wrap=4, \n",
        "                  margin_titles=True, \n",
        "                  despine=False, \n",
        "                  sharex=True, \n",
        "                  sharey=True)\n",
        "\n",
        "#mapping the graph\n",
        "g.map_dataframe(sns.histplot, \n",
        "                y=\"Item_MRP\", \n",
        "                x=\"Item_Outlet_Sales\", \n",
        "                bins=(20,20))\n",
        "\n",
        "#mapping mean line (taken in part from https://stackoverflow.com/questions/51891370/draw-a-line-at-specific-position-annotate-a-facetgrid-in-seaborn)\n",
        "for i, year in enumerate(df['Outlet_Establishment_Year'].unique().sort_values(ascending=True).tolist()):\n",
        "  g.axes[i].axvline(df[df['Outlet_Establishment_Year'] == year]['Item_Outlet_Sales'].mean(), c='k', ls='--')\n",
        "\n",
        "#aesthetics\n",
        "g.fig.suptitle('MRP vs Ouletsales per Year', fontsize=15)\n",
        "g.set_axis_labels(\"Outlet Sales ($)\", \"MRP\")\n",
        "g.set_titles(col_template=\"{col_name}\")\n",
        "g.tight_layout(rect=[0, 0.03, 1, 0.93])\n",
        "plt.show()"
      ],
      "metadata": {
        "colab": {
          "base_uri": "https://localhost:8080/",
          "height": 636
        },
        "id": "kE9u6aNNN8c_",
        "outputId": "572b885d-02f9-4188-df80-fa82c9220e76"
      },
      "execution_count": null,
      "outputs": [
        {
          "output_type": "display_data",
          "data": {
            "text/plain": [
              "<Figure size 864x648 with 9 Axes>"
            ],
            "image/png": "[encoded data removed]"
          },
          "metadata": {}
        }
      ]
    },
    {
      "cell_type": "markdown",
      "source": [
        "**Insights**\n",
        "\n",
        "* As I saw above the Average Sales is around 2500.\n",
        "* Exist a positive correlation between these variables, the more MRP we have a wider range of sales. "
      ],
      "metadata": {
        "id": "2eHW2VmJPYCm"
      }
    },
    {
      "cell_type": "markdown",
      "source": [
        "## Processing for Machine Learning \n",
        "\n"
      ],
      "metadata": {
        "id": "G2k7G79N8HrN"
      }
    },
    {
      "cell_type": "markdown",
      "source": [
        "For this stage I will load the original data to preventing data leakage, and a bad model. \n",
        "\n",
        "The following steps will be:\n",
        "\n",
        "* Loading requiered libraries\n",
        "* Loading dataset\n",
        "* Preliminary steps: Drop duplicated and resolve unconsistencies\n",
        "* Impute Ordinal Categories\n",
        "* Train Test Split\n",
        "* Create the pipeline\n",
        "* Make transformations"
      ],
      "metadata": {
        "id": "y7yuku7m9_e1"
      }
    },
    {
      "cell_type": "markdown",
      "source": [
        "### Prepreparation"
      ],
      "metadata": {
        "id": "JZj6ZoogDJ2v"
      }
    },
    {
      "cell_type": "code",
      "source": [
        "## RELOADING DATASET\n",
        "url = 'https://drive.google.com/uc?export=download&id=1qiuKCaKtV3UnnvF02Old4UDHZ3mD4O_6'\n",
        "\n",
        "df2 = pd.read_csv(url)\n",
        "df2.head()"
      ],
      "metadata": {
        "id": "1_1_zFKbUEE9",
        "colab": {
          "base_uri": "https://localhost:8080/",
          "height": 357
        },
        "outputId": "59a459f2-ce7d-40ed-d40e-f9ef53be02ce"
      },
      "execution_count": null,
      "outputs": [
        {
          "output_type": "execute_result",
          "data": {
            "text/plain": [
              "  Item_Identifier  Item_Weight Item_Fat_Content  Item_Visibility  \\\n",
              "0           FDA15         9.30          Low Fat         0.016047   \n",
              "1           DRC01         5.92          Regular         0.019278   \n",
              "2           FDN15        17.50          Low Fat         0.016760   \n",
              "3           FDX07        19.20          Regular         0.000000   \n",
              "4           NCD19         8.93          Low Fat         0.000000   \n",
              "\n",
              "               Item_Type  Item_MRP Outlet_Identifier  \\\n",
              "0                  Dairy  249.8092            OUT049   \n",
              "1            Soft Drinks   48.2692            OUT018   \n",
              "2                   Meat  141.6180            OUT049   \n",
              "3  Fruits and Vegetables  182.0950            OUT010   \n",
              "4              Household   53.8614            OUT013   \n",
              "\n",
              "   Outlet_Establishment_Year Outlet_Size Outlet_Location_Type  \\\n",
              "0                       1999      Medium               Tier 1   \n",
              "1                       2009      Medium               Tier 3   \n",
              "2                       1999      Medium               Tier 1   \n",
              "3                       1998         NaN               Tier 3   \n",
              "4                       1987        High               Tier 3   \n",
              "\n",
              "         Outlet_Type  Item_Outlet_Sales  \n",
              "0  Supermarket Type1          3735.1380  \n",
              "1  Supermarket Type2           443.4228  \n",
              "2  Supermarket Type1          2097.2700  \n",
              "3      Grocery Store           732.3800  \n",
              "4  Supermarket Type1           994.7052  "
            ],
            "text/html": [
              "\n",
              "  <div id=\"df-dc4e2cd9-539b-4d1c-be4f-9076af09518a\">\n",
              "    <div class=\"colab-df-container\">\n",
              "      <div>\n",
              "<style scoped>\n",
              "    .dataframe tbody tr th:only-of-type {\n",
              "        vertical-align: middle;\n",
              "    }\n",
              "\n",
              "    .dataframe tbody tr th {\n",
              "        vertical-align: top;\n",
              "    }\n",
              "\n",
              "    .dataframe thead th {\n",
              "        text-align: right;\n",
              "    }\n",
              "</style>\n",
              "<table border=\"1\" class=\"dataframe\">\n",
              "  <thead>\n",
              "    <tr style=\"text-align: right;\">\n",
              "      <th></th>\n",
              "      <th>Item_Identifier</th>\n",
              "      <th>Item_Weight</th>\n",
              "      <th>Item_Fat_Content</th>\n",
              "      <th>Item_Visibility</th>\n",
              "      <th>Item_Type</th>\n",
              "      <th>Item_MRP</th>\n",
              "      <th>Outlet_Identifier</th>\n",
              "      <th>Outlet_Establishment_Year</th>\n",
              "      <th>Outlet_Size</th>\n",
              "      <th>Outlet_Location_Type</th>\n",
              "      <th>Outlet_Type</th>\n",
              "      <th>Item_Outlet_Sales</th>\n",
              "    </tr>\n",
              "  </thead>\n",
              "  <tbody>\n",
              "    <tr>\n",
              "      <th>0</th>\n",
              "      <td>FDA15</td>\n",
              "      <td>9.30</td>\n",
              "      <td>Low Fat</td>\n",
              "      <td>0.016047</td>\n",
              "      <td>Dairy</td>\n",
              "      <td>249.8092</td>\n",
              "      <td>OUT049</td>\n",
              "      <td>1999</td>\n",
              "      <td>Medium</td>\n",
              "      <td>Tier 1</td>\n",
              "      <td>Supermarket Type1</td>\n",
              "      <td>3735.1380</td>\n",
              "    </tr>\n",
              "    <tr>\n",
              "      <th>1</th>\n",
              "      <td>DRC01</td>\n",
              "      <td>5.92</td>\n",
              "      <td>Regular</td>\n",
              "      <td>0.019278</td>\n",
              "      <td>Soft Drinks</td>\n",
              "      <td>48.2692</td>\n",
              "      <td>OUT018</td>\n",
              "      <td>2009</td>\n",
              "      <td>Medium</td>\n",
              "      <td>Tier 3</td>\n",
              "      <td>Supermarket Type2</td>\n",
              "      <td>443.4228</td>\n",
              "    </tr>\n",
              "    <tr>\n",
              "      <th>2</th>\n",
              "      <td>FDN15</td>\n",
              "      <td>17.50</td>\n",
              "      <td>Low Fat</td>\n",
              "      <td>0.016760</td>\n",
              "      <td>Meat</td>\n",
              "      <td>141.6180</td>\n",
              "      <td>OUT049</td>\n",
              "      <td>1999</td>\n",
              "      <td>Medium</td>\n",
              "      <td>Tier 1</td>\n",
              "      <td>Supermarket Type1</td>\n",
              "      <td>2097.2700</td>\n",
              "    </tr>\n",
              "    <tr>\n",
              "      <th>3</th>\n",
              "      <td>FDX07</td>\n",
              "      <td>19.20</td>\n",
              "      <td>Regular</td>\n",
              "      <td>0.000000</td>\n",
              "      <td>Fruits and Vegetables</td>\n",
              "      <td>182.0950</td>\n",
              "      <td>OUT010</td>\n",
              "      <td>1998</td>\n",
              "      <td>NaN</td>\n",
              "      <td>Tier 3</td>\n",
              "      <td>Grocery Store</td>\n",
              "      <td>732.3800</td>\n",
              "    </tr>\n",
              "    <tr>\n",
              "      <th>4</th>\n",
              "      <td>NCD19</td>\n",
              "      <td>8.93</td>\n",
              "      <td>Low Fat</td>\n",
              "      <td>0.000000</td>\n",
              "      <td>Household</td>\n",
              "      <td>53.8614</td>\n",
              "      <td>OUT013</td>\n",
              "      <td>1987</td>\n",
              "      <td>High</td>\n",
              "      <td>Tier 3</td>\n",
              "      <td>Supermarket Type1</td>\n",
              "      <td>994.7052</td>\n",
              "    </tr>\n",
              "  </tbody>\n",
              "</table>\n",
              "</div>\n",
              "      <button class=\"colab-df-convert\" onclick=\"convertToInteractive('df-dc4e2cd9-539b-4d1c-be4f-9076af09518a')\"\n",
              "              title=\"Convert this dataframe to an interactive table.\"\n",
              "              style=\"display:none;\">\n",
              "        \n",
              "  <svg xmlns=\"http://www.w3.org/2000/svg\" height=\"24px\"viewBox=\"0 0 24 24\"\n",
              "       width=\"24px\">\n",
              "    <path d=\"M0 0h24v24H0V0z\" fill=\"none\"/>\n",
              "    <path d=\"M18.56 5.44l.94 2.06.94-2.06 2.06-.94-2.06-.94-.94-2.06-.94 2.06-2.06.94zm-11 1L8.5 8.5l.94-2.06 2.06-.94-2.06-.94L8.5 2.5l-.94 2.06-2.06.94zm10 10l.94 2.06.94-2.06 2.06-.94-2.06-.94-.94-2.06-.94 2.06-2.06.94z\"/><path d=\"M17.41 7.96l-1.37-1.37c-.4-.4-.92-.59-1.43-.59-.52 0-1.04.2-1.43.59L10.3 9.45l-7.72 7.72c-.78.78-.78 2.05 0 2.83L4 21.41c.39.39.9.59 1.41.59.51 0 1.02-.2 1.41-.59l7.78-7.78 2.81-2.81c.8-.78.8-2.07 0-2.86zM5.41 20L4 18.59l7.72-7.72 1.47 1.35L5.41 20z\"/>\n",
              "  </svg>\n",
              "      </button>\n",
              "      \n",
              "  <style>\n",
              "    .colab-df-container {\n",
              "      display:flex;\n",
              "      flex-wrap:wrap;\n",
              "      gap: 12px;\n",
              "    }\n",
              "\n",
              "    .colab-df-convert {\n",
              "      background-color: #E8F0FE;\n",
              "      border: none;\n",
              "      border-radius: 50%;\n",
              "      cursor: pointer;\n",
              "      display: none;\n",
              "      fill: #1967D2;\n",
              "      height: 32px;\n",
              "      padding: 0 0 0 0;\n",
              "      width: 32px;\n",
              "    }\n",
              "\n",
              "    .colab-df-convert:hover {\n",
              "      background-color: #E2EBFA;\n",
              "      box-shadow: 0px 1px 2px rgba(60, 64, 67, 0.3), 0px 1px 3px 1px rgba(60, 64, 67, 0.15);\n",
              "      fill: #174EA6;\n",
              "    }\n",
              "\n",
              "    [theme=dark] .colab-df-convert {\n",
              "      background-color: #3B4455;\n",
              "      fill: #D2E3FC;\n",
              "    }\n",
              "\n",
              "    [theme=dark] .colab-df-convert:hover {\n",
              "      background-color: #434B5C;\n",
              "      box-shadow: 0px 1px 3px 1px rgba(0, 0, 0, 0.15);\n",
              "      filter: drop-shadow(0px 1px 2px rgba(0, 0, 0, 0.3));\n",
              "      fill: #FFFFFF;\n",
              "    }\n",
              "  </style>\n",
              "\n",
              "      <script>\n",
              "        const buttonEl =\n",
              "          document.querySelector('#df-dc4e2cd9-539b-4d1c-be4f-9076af09518a button.colab-df-convert');\n",
              "        buttonEl.style.display =\n",
              "          google.colab.kernel.accessAllowed ? 'block' : 'none';\n",
              "\n",
              "        async function convertToInteractive(key) {\n",
              "          const element = document.querySelector('#df-dc4e2cd9-539b-4d1c-be4f-9076af09518a');\n",
              "          const dataTable =\n",
              "            await google.colab.kernel.invokeFunction('convertToInteractive',\n",
              "                                                     [key], {});\n",
              "          if (!dataTable) return;\n",
              "\n",
              "          const docLinkHtml = 'Like what you see? Visit the ' +\n",
              "            '<a target=\"_blank\" href=https://colab.research.google.com/notebooks/data_table.ipynb>data table notebook</a>'\n",
              "            + ' to learn more about interactive tables.';\n",
              "          element.innerHTML = '';\n",
              "          dataTable['output_type'] = 'display_data';\n",
              "          await google.colab.output.renderOutput(dataTable, element);\n",
              "          const docLink = document.createElement('div');\n",
              "          docLink.innerHTML = docLinkHtml;\n",
              "          element.appendChild(docLink);\n",
              "        }\n",
              "      </script>\n",
              "    </div>\n",
              "  </div>\n",
              "  "
            ]
          },
          "metadata": {},
          "execution_count": 41
        }
      ]
    },
    {
      "cell_type": "markdown",
      "source": [
        "I saw before that there is no duplicated, then I will resolving known inconsistencies"
      ],
      "metadata": {
        "id": "ftXkjyw3BN3V"
      }
    },
    {
      "cell_type": "code",
      "source": [
        "df2['Item_Fat_Content'].replace({'LF': 'Low Fat', \n",
        "                                'low fat': 'Low Fat', \n",
        "                                'reg': 'Regular'}, \n",
        "                                inplace=True)\n",
        "df2['Item_Fat_Content'].unique()"
      ],
      "metadata": {
        "colab": {
          "base_uri": "https://localhost:8080/"
        },
        "id": "xZzxgTiTBDP4",
        "outputId": "56008bc9-d23a-4c30-f282-3ef18773eca1"
      },
      "execution_count": null,
      "outputs": [
        {
          "output_type": "execute_result",
          "data": {
            "text/plain": [
              "array(['Low Fat', 'Regular'], dtype=object)"
            ]
          },
          "metadata": {},
          "execution_count": 42
        }
      ]
    },
    {
      "cell_type": "markdown",
      "source": [
        "### Ordinal Encoding"
      ],
      "metadata": {
        "id": "Vysp87YlJIaL"
      }
    },
    {
      "cell_type": "code",
      "source": [
        "#### I decided to Hot-Encode this variables as well so I commented the code. ####\n",
        "\n",
        "## Item_Fat_Content\n",
        "#ifc_dict = {'Low Fat': 0, 'Regular':1}\n",
        "#df2['Item_Fat_Content'].replace(ifc_dict, inplace=True)\n",
        "#df2['Item_Fat_Content'].unique()"
      ],
      "metadata": {
        "id": "lnLKTsrNJPJc"
      },
      "execution_count": null,
      "outputs": []
    },
    {
      "cell_type": "code",
      "source": [
        "## Outlet_Size\n",
        "#os_dict = {'Small':0, 'Medium':1, 'High':2}\n",
        "#df2['Outlet_Size'].replace(os_dict, inplace=True)\n",
        "#df2['Outlet_Size'].unique()"
      ],
      "metadata": {
        "id": "ZLJbNYctJzQZ"
      },
      "execution_count": null,
      "outputs": []
    },
    {
      "cell_type": "markdown",
      "source": [
        "### Train/Test Split"
      ],
      "metadata": {
        "id": "OnwAVXTEG8Rn"
      }
    },
    {
      "cell_type": "code",
      "source": [
        "## Target Variable\n",
        "y = df2['Item_Outlet_Sales'].copy()\n",
        "\n",
        "## FEATURES MATRIX\n",
        "X = df2.loc[:, ['Item_Weight', 'Item_Fat_Content', 'Item_Visibility', 'Item_Type', 'Item_MRP', 'Outlet_Size', 'Outlet_Location_Type', 'Outlet_Type']].copy()\n",
        "\n",
        "## SPLIT\n",
        "X_train, X_test, y_train, y_test = train_test_split(X, y, train_size = 0.75, random_state = 42)\n",
        "\n",
        "X_train.head()"
      ],
      "metadata": {
        "colab": {
          "base_uri": "https://localhost:8080/",
          "height": 206
        },
        "id": "TM1JVfl1GZ8N",
        "outputId": "3b1be164-1f26-44e1-e68b-9e7cb297d34b"
      },
      "execution_count": null,
      "outputs": [
        {
          "output_type": "execute_result",
          "data": {
            "text/plain": [
              "      Item_Weight Item_Fat_Content  Item_Visibility     Item_Type  Item_MRP  \\\n",
              "4776       16.350          Low Fat         0.029565     Household  256.4646   \n",
              "7510       15.250          Regular         0.000000   Snack Foods  179.7660   \n",
              "5828       12.350          Regular         0.158716          Meat  157.2946   \n",
              "5327        7.975          Low Fat         0.014628  Baking Goods   82.3250   \n",
              "4810       19.350          Low Fat         0.016645  Frozen Foods  120.9098   \n",
              "\n",
              "     Outlet_Size Outlet_Location_Type        Outlet_Type  \n",
              "4776      Medium               Tier 3  Supermarket Type2  \n",
              "7510      Medium               Tier 3  Supermarket Type2  \n",
              "5828      Medium               Tier 1  Supermarket Type1  \n",
              "5327       Small               Tier 2  Supermarket Type1  \n",
              "4810         NaN               Tier 2  Supermarket Type1  "
            ],
            "text/html": [
              "\n",
              "  <div id=\"df-1eaaabc3-6238-4db5-8446-f23db0dbcfb7\">\n",
              "    <div class=\"colab-df-container\">\n",
              "      <div>\n",
              "<style scoped>\n",
              "    .dataframe tbody tr th:only-of-type {\n",
              "        vertical-align: middle;\n",
              "    }\n",
              "\n",
              "    .dataframe tbody tr th {\n",
              "        vertical-align: top;\n",
              "    }\n",
              "\n",
              "    .dataframe thead th {\n",
              "        text-align: right;\n",
              "    }\n",
              "</style>\n",
              "<table border=\"1\" class=\"dataframe\">\n",
              "  <thead>\n",
              "    <tr style=\"text-align: right;\">\n",
              "      <th></th>\n",
              "      <th>Item_Weight</th>\n",
              "      <th>Item_Fat_Content</th>\n",
              "      <th>Item_Visibility</th>\n",
              "      <th>Item_Type</th>\n",
              "      <th>Item_MRP</th>\n",
              "      <th>Outlet_Size</th>\n",
              "      <th>Outlet_Location_Type</th>\n",
              "      <th>Outlet_Type</th>\n",
              "    </tr>\n",
              "  </thead>\n",
              "  <tbody>\n",
              "    <tr>\n",
              "      <th>4776</th>\n",
              "      <td>16.350</td>\n",
              "      <td>Low Fat</td>\n",
              "      <td>0.029565</td>\n",
              "      <td>Household</td>\n",
              "      <td>256.4646</td>\n",
              "      <td>Medium</td>\n",
              "      <td>Tier 3</td>\n",
              "      <td>Supermarket Type2</td>\n",
              "    </tr>\n",
              "    <tr>\n",
              "      <th>7510</th>\n",
              "      <td>15.250</td>\n",
              "      <td>Regular</td>\n",
              "      <td>0.000000</td>\n",
              "      <td>Snack Foods</td>\n",
              "      <td>179.7660</td>\n",
              "      <td>Medium</td>\n",
              "      <td>Tier 3</td>\n",
              "      <td>Supermarket Type2</td>\n",
              "    </tr>\n",
              "    <tr>\n",
              "      <th>5828</th>\n",
              "      <td>12.350</td>\n",
              "      <td>Regular</td>\n",
              "      <td>0.158716</td>\n",
              "      <td>Meat</td>\n",
              "      <td>157.2946</td>\n",
              "      <td>Medium</td>\n",
              "      <td>Tier 1</td>\n",
              "      <td>Supermarket Type1</td>\n",
              "    </tr>\n",
              "    <tr>\n",
              "      <th>5327</th>\n",
              "      <td>7.975</td>\n",
              "      <td>Low Fat</td>\n",
              "      <td>0.014628</td>\n",
              "      <td>Baking Goods</td>\n",
              "      <td>82.3250</td>\n",
              "      <td>Small</td>\n",
              "      <td>Tier 2</td>\n",
              "      <td>Supermarket Type1</td>\n",
              "    </tr>\n",
              "    <tr>\n",
              "      <th>4810</th>\n",
              "      <td>19.350</td>\n",
              "      <td>Low Fat</td>\n",
              "      <td>0.016645</td>\n",
              "      <td>Frozen Foods</td>\n",
              "      <td>120.9098</td>\n",
              "      <td>NaN</td>\n",
              "      <td>Tier 2</td>\n",
              "      <td>Supermarket Type1</td>\n",
              "    </tr>\n",
              "  </tbody>\n",
              "</table>\n",
              "</div>\n",
              "      <button class=\"colab-df-convert\" onclick=\"convertToInteractive('df-1eaaabc3-6238-4db5-8446-f23db0dbcfb7')\"\n",
              "              title=\"Convert this dataframe to an interactive table.\"\n",
              "              style=\"display:none;\">\n",
              "        \n",
              "  <svg xmlns=\"http://www.w3.org/2000/svg\" height=\"24px\"viewBox=\"0 0 24 24\"\n",
              "       width=\"24px\">\n",
              "    <path d=\"M0 0h24v24H0V0z\" fill=\"none\"/>\n",
              "    <path d=\"M18.56 5.44l.94 2.06.94-2.06 2.06-.94-2.06-.94-.94-2.06-.94 2.06-2.06.94zm-11 1L8.5 8.5l.94-2.06 2.06-.94-2.06-.94L8.5 2.5l-.94 2.06-2.06.94zm10 10l.94 2.06.94-2.06 2.06-.94-2.06-.94-.94-2.06-.94 2.06-2.06.94z\"/><path d=\"M17.41 7.96l-1.37-1.37c-.4-.4-.92-.59-1.43-.59-.52 0-1.04.2-1.43.59L10.3 9.45l-7.72 7.72c-.78.78-.78 2.05 0 2.83L4 21.41c.39.39.9.59 1.41.59.51 0 1.02-.2 1.41-.59l7.78-7.78 2.81-2.81c.8-.78.8-2.07 0-2.86zM5.41 20L4 18.59l7.72-7.72 1.47 1.35L5.41 20z\"/>\n",
              "  </svg>\n",
              "      </button>\n",
              "      \n",
              "  <style>\n",
              "    .colab-df-container {\n",
              "      display:flex;\n",
              "      flex-wrap:wrap;\n",
              "      gap: 12px;\n",
              "    }\n",
              "\n",
              "    .colab-df-convert {\n",
              "      background-color: #E8F0FE;\n",
              "      border: none;\n",
              "      border-radius: 50%;\n",
              "      cursor: pointer;\n",
              "      display: none;\n",
              "      fill: #1967D2;\n",
              "      height: 32px;\n",
              "      padding: 0 0 0 0;\n",
              "      width: 32px;\n",
              "    }\n",
              "\n",
              "    .colab-df-convert:hover {\n",
              "      background-color: #E2EBFA;\n",
              "      box-shadow: 0px 1px 2px rgba(60, 64, 67, 0.3), 0px 1px 3px 1px rgba(60, 64, 67, 0.15);\n",
              "      fill: #174EA6;\n",
              "    }\n",
              "\n",
              "    [theme=dark] .colab-df-convert {\n",
              "      background-color: #3B4455;\n",
              "      fill: #D2E3FC;\n",
              "    }\n",
              "\n",
              "    [theme=dark] .colab-df-convert:hover {\n",
              "      background-color: #434B5C;\n",
              "      box-shadow: 0px 1px 3px 1px rgba(0, 0, 0, 0.15);\n",
              "      filter: drop-shadow(0px 1px 2px rgba(0, 0, 0, 0.3));\n",
              "      fill: #FFFFFF;\n",
              "    }\n",
              "  </style>\n",
              "\n",
              "      <script>\n",
              "        const buttonEl =\n",
              "          document.querySelector('#df-1eaaabc3-6238-4db5-8446-f23db0dbcfb7 button.colab-df-convert');\n",
              "        buttonEl.style.display =\n",
              "          google.colab.kernel.accessAllowed ? 'block' : 'none';\n",
              "\n",
              "        async function convertToInteractive(key) {\n",
              "          const element = document.querySelector('#df-1eaaabc3-6238-4db5-8446-f23db0dbcfb7');\n",
              "          const dataTable =\n",
              "            await google.colab.kernel.invokeFunction('convertToInteractive',\n",
              "                                                     [key], {});\n",
              "          if (!dataTable) return;\n",
              "\n",
              "          const docLinkHtml = 'Like what you see? Visit the ' +\n",
              "            '<a target=\"_blank\" href=https://colab.research.google.com/notebooks/data_table.ipynb>data table notebook</a>'\n",
              "            + ' to learn more about interactive tables.';\n",
              "          element.innerHTML = '';\n",
              "          dataTable['output_type'] = 'display_data';\n",
              "          await google.colab.output.renderOutput(dataTable, element);\n",
              "          const docLink = document.createElement('div');\n",
              "          docLink.innerHTML = docLinkHtml;\n",
              "          element.appendChild(docLink);\n",
              "        }\n",
              "      </script>\n",
              "    </div>\n",
              "  </div>\n",
              "  "
            ]
          },
          "metadata": {},
          "execution_count": 45
        }
      ]
    },
    {
      "cell_type": "markdown",
      "source": [
        "### Column Transformer Pipeline"
      ],
      "metadata": {
        "id": "HTK6kvHlL68X"
      }
    },
    {
      "cell_type": "markdown",
      "source": [
        "#### Preparation"
      ],
      "metadata": {
        "id": "JRFTtzY4NYdJ"
      }
    },
    {
      "cell_type": "code",
      "source": [
        "## SELECTORS\n",
        "cat_selector = make_column_selector(dtype_include='object')\n",
        "num_selector = make_column_selector(dtype_include='number')"
      ],
      "metadata": {
        "id": "AWZvpqRoI4Va"
      },
      "execution_count": null,
      "outputs": []
    },
    {
      "cell_type": "code",
      "source": [
        "## IMPUTERS\n",
        "freq_imputer = SimpleImputer(strategy='most_frequent')\n",
        "mean_imputer = SimpleImputer(strategy='mean')"
      ],
      "metadata": {
        "id": "MQF7SaLyMC-Y"
      },
      "execution_count": null,
      "outputs": []
    },
    {
      "cell_type": "code",
      "source": [
        "## SCALER\n",
        "scaler = StandardScaler()"
      ],
      "metadata": {
        "id": "vsLZ9umqMJ3e"
      },
      "execution_count": null,
      "outputs": []
    },
    {
      "cell_type": "code",
      "source": [
        "## OHE\n",
        "ohe = OneHotEncoder(handle_unknown='ignore', sparse=False)"
      ],
      "metadata": {
        "id": "1aeQGih3MMdJ"
      },
      "execution_count": null,
      "outputs": []
    },
    {
      "cell_type": "code",
      "source": [
        "## INSTANTIATE PIPELINE\n",
        "### Numeric pipeline\n",
        "numeric_pipe = make_pipeline(mean_imputer, scaler)\n",
        "### Categorical pipeline\n",
        "categorical_pipe = make_pipeline(freq_imputer, ohe)"
      ],
      "metadata": {
        "id": "AH-07NWpMN8Z"
      },
      "execution_count": null,
      "outputs": []
    },
    {
      "cell_type": "code",
      "source": [
        "## INSTANTIATE COLUMNTRANSFORMER\n",
        "### Tuples for Column Transformer\n",
        "number_tuple = (numeric_pipe, num_selector)\n",
        "category_tuple = (categorical_pipe, cat_selector)\n",
        "\n",
        "# ColumnTransformer\n",
        "preprocessor = make_column_transformer(number_tuple, category_tuple, remainder = 'drop')\n",
        "preprocessor"
      ],
      "metadata": {
        "colab": {
          "base_uri": "https://localhost:8080/",
          "height": 153
        },
        "id": "3FIFZCJbMcr9",
        "outputId": "5ddfaf4f-a66e-445d-9eeb-320c75472e97"
      },
      "execution_count": null,
      "outputs": [
        {
          "output_type": "execute_result",
          "data": {
            "text/plain": [
              "ColumnTransformer(transformers=[('pipeline-1',\n",
              "                                 Pipeline(steps=[('simpleimputer',\n",
              "                                                  SimpleImputer()),\n",
              "                                                 ('standardscaler',\n",
              "                                                  StandardScaler())]),\n",
              "                                 <sklearn.compose._column_transformer.make_column_selector object at 0x7f990a2e7340>),\n",
              "                                ('pipeline-2',\n",
              "                                 Pipeline(steps=[('simpleimputer',\n",
              "                                                  SimpleImputer(strategy='most_frequent')),\n",
              "                                                 ('onehotencoder',\n",
              "                                                  OneHotEncoder(handle_unknown='ignore',\n",
              "                                                                sparse=False))]),\n",
              "                                 <sklearn.compose._column_transformer.make_column_selector object at 0x7f990bf42c10>)])"
            ],
            "text/html": [
              "<style>#sk-dabbc78d-8d51-4328-a334-07d77d343232 {color: black;background-color: white;}#sk-dabbc78d-8d51-4328-a334-07d77d343232 pre{padding: 0;}#sk-dabbc78d-8d51-4328-a334-07d77d343232 div.sk-toggleable {background-color: white;}#sk-dabbc78d-8d51-4328-a334-07d77d343232 label.sk-toggleable__label {cursor: pointer;display: block;width: 100%;margin-bottom: 0;padding: 0.3em;box-sizing: border-box;text-align: center;}#sk-dabbc78d-8d51-4328-a334-07d77d343232 label.sk-toggleable__label-arrow:before {content: \"▸\";float: left;margin-right: 0.25em;color: #696969;}#sk-dabbc78d-8d51-4328-a334-07d77d343232 label.sk-toggleable__label-arrow:hover:before {color: black;}#sk-dabbc78d-8d51-4328-a334-07d77d343232 div.sk-estimator:hover label.sk-toggleable__label-arrow:before {color: black;}#sk-dabbc78d-8d51-4328-a334-07d77d343232 div.sk-toggleable__content {max-height: 0;max-width: 0;overflow: hidden;text-align: left;background-color: #f0f8ff;}#sk-dabbc78d-8d51-4328-a334-07d77d343232 div.sk-toggleable__content pre {margin: 0.2em;color: black;border-radius: 0.25em;background-color: #f0f8ff;}#sk-dabbc78d-8d51-4328-a334-07d77d343232 input.sk-toggleable__control:checked~div.sk-toggleable__content {max-height: 200px;max-width: 100%;overflow: auto;}#sk-dabbc78d-8d51-4328-a334-07d77d343232 input.sk-toggleable__control:checked~label.sk-toggleable__label-arrow:before {content: \"▾\";}#sk-dabbc78d-8d51-4328-a334-07d77d343232 div.sk-estimator input.sk-toggleable__control:checked~label.sk-toggleable__label {background-color: #d4ebff;}#sk-dabbc78d-8d51-4328-a334-07d77d343232 div.sk-label input.sk-toggleable__control:checked~label.sk-toggleable__label {background-color: #d4ebff;}#sk-dabbc78d-8d51-4328-a334-07d77d343232 input.sk-hidden--visually {border: 0;clip: rect(1px 1px 1px 1px);clip: rect(1px, 1px, 1px, 1px);height: 1px;margin: -1px;overflow: hidden;padding: 0;position: absolute;width: 1px;}#sk-dabbc78d-8d51-4328-a334-07d77d343232 div.sk-estimator {font-family: monospace;background-color: #f0f8ff;border: 1px dotted black;border-radius: 0.25em;box-sizing: border-box;margin-bottom: 0.5em;}#sk-dabbc78d-8d51-4328-a334-07d77d343232 div.sk-estimator:hover {background-color: #d4ebff;}#sk-dabbc78d-8d51-4328-a334-07d77d343232 div.sk-parallel-item::after {content: \"\";width: 100%;border-bottom: 1px solid gray;flex-grow: 1;}#sk-dabbc78d-8d51-4328-a334-07d77d343232 div.sk-label:hover label.sk-toggleable__label {background-color: #d4ebff;}#sk-dabbc78d-8d51-4328-a334-07d77d343232 div.sk-serial::before {content: \"\";position: absolute;border-left: 1px solid gray;box-sizing: border-box;top: 2em;bottom: 0;left: 50%;}#sk-dabbc78d-8d51-4328-a334-07d77d343232 div.sk-serial {display: flex;flex-direction: column;align-items: center;background-color: white;padding-right: 0.2em;padding-left: 0.2em;}#sk-dabbc78d-8d51-4328-a334-07d77d343232 div.sk-item {z-index: 1;}#sk-dabbc78d-8d51-4328-a334-07d77d343232 div.sk-parallel {display: flex;align-items: stretch;justify-content: center;background-color: white;}#sk-dabbc78d-8d51-4328-a334-07d77d343232 div.sk-parallel::before {content: \"\";position: absolute;border-left: 1px solid gray;box-sizing: border-box;top: 2em;bottom: 0;left: 50%;}#sk-dabbc78d-8d51-4328-a334-07d77d343232 div.sk-parallel-item {display: flex;flex-direction: column;position: relative;background-color: white;}#sk-dabbc78d-8d51-4328-a334-07d77d343232 div.sk-parallel-item:first-child::after {align-self: flex-end;width: 50%;}#sk-dabbc78d-8d51-4328-a334-07d77d343232 div.sk-parallel-item:last-child::after {align-self: flex-start;width: 50%;}#sk-dabbc78d-8d51-4328-a334-07d77d343232 div.sk-parallel-item:only-child::after {width: 0;}#sk-dabbc78d-8d51-4328-a334-07d77d343232 div.sk-dashed-wrapped {border: 1px dashed gray;margin: 0 0.4em 0.5em 0.4em;box-sizing: border-box;padding-bottom: 0.4em;background-color: white;position: relative;}#sk-dabbc78d-8d51-4328-a334-07d77d343232 div.sk-label label {font-family: monospace;font-weight: bold;background-color: white;display: inline-block;line-height: 1.2em;}#sk-dabbc78d-8d51-4328-a334-07d77d343232 div.sk-label-container {position: relative;z-index: 2;text-align: center;}#sk-dabbc78d-8d51-4328-a334-07d77d343232 div.sk-container {/* jupyter's `normalize.less` sets `[hidden] { display: none; }` but bootstrap.min.css set `[hidden] { display: none !important; }` so we also need the `!important` here to be able to override the default hidden behavior on the sphinx rendered scikit-learn.org. See: https://github.com/scikit-learn/scikit-learn/issues/21755 */display: inline-block !important;position: relative;}#sk-dabbc78d-8d51-4328-a334-07d77d343232 div.sk-text-repr-fallback {display: none;}</style><div id=\"sk-dabbc78d-8d51-4328-a334-07d77d343232\" class=\"sk-top-container\"><div class=\"sk-text-repr-fallback\"><pre>ColumnTransformer(transformers=[(&#x27;pipeline-1&#x27;,\n",
              "                                 Pipeline(steps=[(&#x27;simpleimputer&#x27;,\n",
              "                                                  SimpleImputer()),\n",
              "                                                 (&#x27;standardscaler&#x27;,\n",
              "                                                  StandardScaler())]),\n",
              "                                 &lt;sklearn.compose._column_transformer.make_column_selector object at 0x7f990a2e7340&gt;),\n",
              "                                (&#x27;pipeline-2&#x27;,\n",
              "                                 Pipeline(steps=[(&#x27;simpleimputer&#x27;,\n",
              "                                                  SimpleImputer(strategy=&#x27;most_frequent&#x27;)),\n",
              "                                                 (&#x27;onehotencoder&#x27;,\n",
              "                                                  OneHotEncoder(handle_unknown=&#x27;ignore&#x27;,\n",
              "                                                                sparse=False))]),\n",
              "                                 &lt;sklearn.compose._column_transformer.make_column_selector object at 0x7f990bf42c10&gt;)])</pre><b>Please rerun this cell to show the HTML repr or trust the notebook.</b></div><div class=\"sk-container\" hidden><div class=\"sk-item sk-dashed-wrapped\"><div class=\"sk-label-container\"><div class=\"sk-label sk-toggleable\"><input class=\"sk-toggleable__control sk-hidden--visually\" id=\"72595181-0792-49e7-bf6f-90b26c81e262\" type=\"checkbox\" ><label for=\"72595181-0792-49e7-bf6f-90b26c81e262\" class=\"sk-toggleable__label sk-toggleable__label-arrow\">ColumnTransformer</label><div class=\"sk-toggleable__content\"><pre>ColumnTransformer(transformers=[(&#x27;pipeline-1&#x27;,\n",
              "                                 Pipeline(steps=[(&#x27;simpleimputer&#x27;,\n",
              "                                                  SimpleImputer()),\n",
              "                                                 (&#x27;standardscaler&#x27;,\n",
              "                                                  StandardScaler())]),\n",
              "                                 &lt;sklearn.compose._column_transformer.make_column_selector object at 0x7f990a2e7340&gt;),\n",
              "                                (&#x27;pipeline-2&#x27;,\n",
              "                                 Pipeline(steps=[(&#x27;simpleimputer&#x27;,\n",
              "                                                  SimpleImputer(strategy=&#x27;most_frequent&#x27;)),\n",
              "                                                 (&#x27;onehotencoder&#x27;,\n",
              "                                                  OneHotEncoder(handle_unknown=&#x27;ignore&#x27;,\n",
              "                                                                sparse=False))]),\n",
              "                                 &lt;sklearn.compose._column_transformer.make_column_selector object at 0x7f990bf42c10&gt;)])</pre></div></div></div><div class=\"sk-parallel\"><div class=\"sk-parallel-item\"><div class=\"sk-item\"><div class=\"sk-label-container\"><div class=\"sk-label sk-toggleable\"><input class=\"sk-toggleable__control sk-hidden--visually\" id=\"8aeda3b1-c05f-4f88-b2de-bec1f4b0c429\" type=\"checkbox\" ><label for=\"8aeda3b1-c05f-4f88-b2de-bec1f4b0c429\" class=\"sk-toggleable__label sk-toggleable__label-arrow\">pipeline-1</label><div class=\"sk-toggleable__content\"><pre>&lt;sklearn.compose._column_transformer.make_column_selector object at 0x7f990a2e7340&gt;</pre></div></div></div><div class=\"sk-serial\"><div class=\"sk-item\"><div class=\"sk-serial\"><div class=\"sk-item\"><div class=\"sk-estimator sk-toggleable\"><input class=\"sk-toggleable__control sk-hidden--visually\" id=\"d0f246c0-c67c-4baf-ad7c-5085d0e86b3a\" type=\"checkbox\" ><label for=\"d0f246c0-c67c-4baf-ad7c-5085d0e86b3a\" class=\"sk-toggleable__label sk-toggleable__label-arrow\">SimpleImputer</label><div class=\"sk-toggleable__content\"><pre>SimpleImputer()</pre></div></div></div><div class=\"sk-item\"><div class=\"sk-estimator sk-toggleable\"><input class=\"sk-toggleable__control sk-hidden--visually\" id=\"527394f2-eb44-47b9-887a-65eafaaa65fb\" type=\"checkbox\" ><label for=\"527394f2-eb44-47b9-887a-65eafaaa65fb\" class=\"sk-toggleable__label sk-toggleable__label-arrow\">StandardScaler</label><div class=\"sk-toggleable__content\"><pre>StandardScaler()</pre></div></div></div></div></div></div></div></div><div class=\"sk-parallel-item\"><div class=\"sk-item\"><div class=\"sk-label-container\"><div class=\"sk-label sk-toggleable\"><input class=\"sk-toggleable__control sk-hidden--visually\" id=\"dc95a1ec-b961-441d-9c73-1c7602a132f4\" type=\"checkbox\" ><label for=\"dc95a1ec-b961-441d-9c73-1c7602a132f4\" class=\"sk-toggleable__label sk-toggleable__label-arrow\">pipeline-2</label><div class=\"sk-toggleable__content\"><pre>&lt;sklearn.compose._column_transformer.make_column_selector object at 0x7f990bf42c10&gt;</pre></div></div></div><div class=\"sk-serial\"><div class=\"sk-item\"><div class=\"sk-serial\"><div class=\"sk-item\"><div class=\"sk-estimator sk-toggleable\"><input class=\"sk-toggleable__control sk-hidden--visually\" id=\"4dd177aa-6671-416f-b645-02317b6a35a7\" type=\"checkbox\" ><label for=\"4dd177aa-6671-416f-b645-02317b6a35a7\" class=\"sk-toggleable__label sk-toggleable__label-arrow\">SimpleImputer</label><div class=\"sk-toggleable__content\"><pre>SimpleImputer(strategy=&#x27;most_frequent&#x27;)</pre></div></div></div><div class=\"sk-item\"><div class=\"sk-estimator sk-toggleable\"><input class=\"sk-toggleable__control sk-hidden--visually\" id=\"7dc04616-6155-4440-aac5-c52a9381edae\" type=\"checkbox\" ><label for=\"7dc04616-6155-4440-aac5-c52a9381edae\" class=\"sk-toggleable__label sk-toggleable__label-arrow\">OneHotEncoder</label><div class=\"sk-toggleable__content\"><pre>OneHotEncoder(handle_unknown=&#x27;ignore&#x27;, sparse=False)</pre></div></div></div></div></div></div></div></div></div></div></div></div>"
            ]
          },
          "metadata": {},
          "execution_count": 51
        }
      ]
    },
    {
      "cell_type": "markdown",
      "source": [
        "#### Transformer Excecution"
      ],
      "metadata": {
        "id": "e0JrJ-sTNc3w"
      }
    },
    {
      "cell_type": "code",
      "source": [
        "## FIT ON TRAIN DATA\n",
        "preprocessor.fit(X_train)"
      ],
      "metadata": {
        "colab": {
          "base_uri": "https://localhost:8080/",
          "height": 153
        },
        "id": "Izn0dRhLNKYV",
        "outputId": "0517a92d-e4a3-4c80-a2d1-36801a91a709"
      },
      "execution_count": null,
      "outputs": [
        {
          "output_type": "execute_result",
          "data": {
            "text/plain": [
              "ColumnTransformer(transformers=[('pipeline-1',\n",
              "                                 Pipeline(steps=[('simpleimputer',\n",
              "                                                  SimpleImputer()),\n",
              "                                                 ('standardscaler',\n",
              "                                                  StandardScaler())]),\n",
              "                                 <sklearn.compose._column_transformer.make_column_selector object at 0x7f990a2e7340>),\n",
              "                                ('pipeline-2',\n",
              "                                 Pipeline(steps=[('simpleimputer',\n",
              "                                                  SimpleImputer(strategy='most_frequent')),\n",
              "                                                 ('onehotencoder',\n",
              "                                                  OneHotEncoder(handle_unknown='ignore',\n",
              "                                                                sparse=False))]),\n",
              "                                 <sklearn.compose._column_transformer.make_column_selector object at 0x7f990bf42c10>)])"
            ],
            "text/html": [
              "<style>#sk-bf3cf4d5-0f2c-4e70-a8dc-aa8a05b5ba3f {color: black;background-color: white;}#sk-bf3cf4d5-0f2c-4e70-a8dc-aa8a05b5ba3f pre{padding: 0;}#sk-bf3cf4d5-0f2c-4e70-a8dc-aa8a05b5ba3f div.sk-toggleable {background-color: white;}#sk-bf3cf4d5-0f2c-4e70-a8dc-aa8a05b5ba3f label.sk-toggleable__label {cursor: pointer;display: block;width: 100%;margin-bottom: 0;padding: 0.3em;box-sizing: border-box;text-align: center;}#sk-bf3cf4d5-0f2c-4e70-a8dc-aa8a05b5ba3f label.sk-toggleable__label-arrow:before {content: \"▸\";float: left;margin-right: 0.25em;color: #696969;}#sk-bf3cf4d5-0f2c-4e70-a8dc-aa8a05b5ba3f label.sk-toggleable__label-arrow:hover:before {color: black;}#sk-bf3cf4d5-0f2c-4e70-a8dc-aa8a05b5ba3f div.sk-estimator:hover label.sk-toggleable__label-arrow:before {color: black;}#sk-bf3cf4d5-0f2c-4e70-a8dc-aa8a05b5ba3f div.sk-toggleable__content {max-height: 0;max-width: 0;overflow: hidden;text-align: left;background-color: #f0f8ff;}#sk-bf3cf4d5-0f2c-4e70-a8dc-aa8a05b5ba3f div.sk-toggleable__content pre {margin: 0.2em;color: black;border-radius: 0.25em;background-color: #f0f8ff;}#sk-bf3cf4d5-0f2c-4e70-a8dc-aa8a05b5ba3f input.sk-toggleable__control:checked~div.sk-toggleable__content {max-height: 200px;max-width: 100%;overflow: auto;}#sk-bf3cf4d5-0f2c-4e70-a8dc-aa8a05b5ba3f input.sk-toggleable__control:checked~label.sk-toggleable__label-arrow:before {content: \"▾\";}#sk-bf3cf4d5-0f2c-4e70-a8dc-aa8a05b5ba3f div.sk-estimator input.sk-toggleable__control:checked~label.sk-toggleable__label {background-color: #d4ebff;}#sk-bf3cf4d5-0f2c-4e70-a8dc-aa8a05b5ba3f div.sk-label input.sk-toggleable__control:checked~label.sk-toggleable__label {background-color: #d4ebff;}#sk-bf3cf4d5-0f2c-4e70-a8dc-aa8a05b5ba3f input.sk-hidden--visually {border: 0;clip: rect(1px 1px 1px 1px);clip: rect(1px, 1px, 1px, 1px);height: 1px;margin: -1px;overflow: hidden;padding: 0;position: absolute;width: 1px;}#sk-bf3cf4d5-0f2c-4e70-a8dc-aa8a05b5ba3f div.sk-estimator {font-family: monospace;background-color: #f0f8ff;border: 1px dotted black;border-radius: 0.25em;box-sizing: border-box;margin-bottom: 0.5em;}#sk-bf3cf4d5-0f2c-4e70-a8dc-aa8a05b5ba3f div.sk-estimator:hover {background-color: #d4ebff;}#sk-bf3cf4d5-0f2c-4e70-a8dc-aa8a05b5ba3f div.sk-parallel-item::after {content: \"\";width: 100%;border-bottom: 1px solid gray;flex-grow: 1;}#sk-bf3cf4d5-0f2c-4e70-a8dc-aa8a05b5ba3f div.sk-label:hover label.sk-toggleable__label {background-color: #d4ebff;}#sk-bf3cf4d5-0f2c-4e70-a8dc-aa8a05b5ba3f div.sk-serial::before {content: \"\";position: absolute;border-left: 1px solid gray;box-sizing: border-box;top: 2em;bottom: 0;left: 50%;}#sk-bf3cf4d5-0f2c-4e70-a8dc-aa8a05b5ba3f div.sk-serial {display: flex;flex-direction: column;align-items: center;background-color: white;padding-right: 0.2em;padding-left: 0.2em;}#sk-bf3cf4d5-0f2c-4e70-a8dc-aa8a05b5ba3f div.sk-item {z-index: 1;}#sk-bf3cf4d5-0f2c-4e70-a8dc-aa8a05b5ba3f div.sk-parallel {display: flex;align-items: stretch;justify-content: center;background-color: white;}#sk-bf3cf4d5-0f2c-4e70-a8dc-aa8a05b5ba3f div.sk-parallel::before {content: \"\";position: absolute;border-left: 1px solid gray;box-sizing: border-box;top: 2em;bottom: 0;left: 50%;}#sk-bf3cf4d5-0f2c-4e70-a8dc-aa8a05b5ba3f div.sk-parallel-item {display: flex;flex-direction: column;position: relative;background-color: white;}#sk-bf3cf4d5-0f2c-4e70-a8dc-aa8a05b5ba3f div.sk-parallel-item:first-child::after {align-self: flex-end;width: 50%;}#sk-bf3cf4d5-0f2c-4e70-a8dc-aa8a05b5ba3f div.sk-parallel-item:last-child::after {align-self: flex-start;width: 50%;}#sk-bf3cf4d5-0f2c-4e70-a8dc-aa8a05b5ba3f div.sk-parallel-item:only-child::after {width: 0;}#sk-bf3cf4d5-0f2c-4e70-a8dc-aa8a05b5ba3f div.sk-dashed-wrapped {border: 1px dashed gray;margin: 0 0.4em 0.5em 0.4em;box-sizing: border-box;padding-bottom: 0.4em;background-color: white;position: relative;}#sk-bf3cf4d5-0f2c-4e70-a8dc-aa8a05b5ba3f div.sk-label label {font-family: monospace;font-weight: bold;background-color: white;display: inline-block;line-height: 1.2em;}#sk-bf3cf4d5-0f2c-4e70-a8dc-aa8a05b5ba3f div.sk-label-container {position: relative;z-index: 2;text-align: center;}#sk-bf3cf4d5-0f2c-4e70-a8dc-aa8a05b5ba3f div.sk-container {/* jupyter's `normalize.less` sets `[hidden] { display: none; }` but bootstrap.min.css set `[hidden] { display: none !important; }` so we also need the `!important` here to be able to override the default hidden behavior on the sphinx rendered scikit-learn.org. See: https://github.com/scikit-learn/scikit-learn/issues/21755 */display: inline-block !important;position: relative;}#sk-bf3cf4d5-0f2c-4e70-a8dc-aa8a05b5ba3f div.sk-text-repr-fallback {display: none;}</style><div id=\"sk-bf3cf4d5-0f2c-4e70-a8dc-aa8a05b5ba3f\" class=\"sk-top-container\"><div class=\"sk-text-repr-fallback\"><pre>ColumnTransformer(transformers=[(&#x27;pipeline-1&#x27;,\n",
              "                                 Pipeline(steps=[(&#x27;simpleimputer&#x27;,\n",
              "                                                  SimpleImputer()),\n",
              "                                                 (&#x27;standardscaler&#x27;,\n",
              "                                                  StandardScaler())]),\n",
              "                                 &lt;sklearn.compose._column_transformer.make_column_selector object at 0x7f990a2e7340&gt;),\n",
              "                                (&#x27;pipeline-2&#x27;,\n",
              "                                 Pipeline(steps=[(&#x27;simpleimputer&#x27;,\n",
              "                                                  SimpleImputer(strategy=&#x27;most_frequent&#x27;)),\n",
              "                                                 (&#x27;onehotencoder&#x27;,\n",
              "                                                  OneHotEncoder(handle_unknown=&#x27;ignore&#x27;,\n",
              "                                                                sparse=False))]),\n",
              "                                 &lt;sklearn.compose._column_transformer.make_column_selector object at 0x7f990bf42c10&gt;)])</pre><b>Please rerun this cell to show the HTML repr or trust the notebook.</b></div><div class=\"sk-container\" hidden><div class=\"sk-item sk-dashed-wrapped\"><div class=\"sk-label-container\"><div class=\"sk-label sk-toggleable\"><input class=\"sk-toggleable__control sk-hidden--visually\" id=\"41695d1d-2343-4bfa-84f3-0618bd766fb3\" type=\"checkbox\" ><label for=\"41695d1d-2343-4bfa-84f3-0618bd766fb3\" class=\"sk-toggleable__label sk-toggleable__label-arrow\">ColumnTransformer</label><div class=\"sk-toggleable__content\"><pre>ColumnTransformer(transformers=[(&#x27;pipeline-1&#x27;,\n",
              "                                 Pipeline(steps=[(&#x27;simpleimputer&#x27;,\n",
              "                                                  SimpleImputer()),\n",
              "                                                 (&#x27;standardscaler&#x27;,\n",
              "                                                  StandardScaler())]),\n",
              "                                 &lt;sklearn.compose._column_transformer.make_column_selector object at 0x7f990a2e7340&gt;),\n",
              "                                (&#x27;pipeline-2&#x27;,\n",
              "                                 Pipeline(steps=[(&#x27;simpleimputer&#x27;,\n",
              "                                                  SimpleImputer(strategy=&#x27;most_frequent&#x27;)),\n",
              "                                                 (&#x27;onehotencoder&#x27;,\n",
              "                                                  OneHotEncoder(handle_unknown=&#x27;ignore&#x27;,\n",
              "                                                                sparse=False))]),\n",
              "                                 &lt;sklearn.compose._column_transformer.make_column_selector object at 0x7f990bf42c10&gt;)])</pre></div></div></div><div class=\"sk-parallel\"><div class=\"sk-parallel-item\"><div class=\"sk-item\"><div class=\"sk-label-container\"><div class=\"sk-label sk-toggleable\"><input class=\"sk-toggleable__control sk-hidden--visually\" id=\"f8b3e25e-d339-4bba-bb1e-78bbed1bf6be\" type=\"checkbox\" ><label for=\"f8b3e25e-d339-4bba-bb1e-78bbed1bf6be\" class=\"sk-toggleable__label sk-toggleable__label-arrow\">pipeline-1</label><div class=\"sk-toggleable__content\"><pre>&lt;sklearn.compose._column_transformer.make_column_selector object at 0x7f990a2e7340&gt;</pre></div></div></div><div class=\"sk-serial\"><div class=\"sk-item\"><div class=\"sk-serial\"><div class=\"sk-item\"><div class=\"sk-estimator sk-toggleable\"><input class=\"sk-toggleable__control sk-hidden--visually\" id=\"7f0ee8e7-5d8c-4526-ab9a-c4660c0323ea\" type=\"checkbox\" ><label for=\"7f0ee8e7-5d8c-4526-ab9a-c4660c0323ea\" class=\"sk-toggleable__label sk-toggleable__label-arrow\">SimpleImputer</label><div class=\"sk-toggleable__content\"><pre>SimpleImputer()</pre></div></div></div><div class=\"sk-item\"><div class=\"sk-estimator sk-toggleable\"><input class=\"sk-toggleable__control sk-hidden--visually\" id=\"9973731a-6a46-460b-a33b-9a210f9e0f71\" type=\"checkbox\" ><label for=\"9973731a-6a46-460b-a33b-9a210f9e0f71\" class=\"sk-toggleable__label sk-toggleable__label-arrow\">StandardScaler</label><div class=\"sk-toggleable__content\"><pre>StandardScaler()</pre></div></div></div></div></div></div></div></div><div class=\"sk-parallel-item\"><div class=\"sk-item\"><div class=\"sk-label-container\"><div class=\"sk-label sk-toggleable\"><input class=\"sk-toggleable__control sk-hidden--visually\" id=\"e8cd2b73-cc31-4337-9a67-5d2319b3f649\" type=\"checkbox\" ><label for=\"e8cd2b73-cc31-4337-9a67-5d2319b3f649\" class=\"sk-toggleable__label sk-toggleable__label-arrow\">pipeline-2</label><div class=\"sk-toggleable__content\"><pre>&lt;sklearn.compose._column_transformer.make_column_selector object at 0x7f990bf42c10&gt;</pre></div></div></div><div class=\"sk-serial\"><div class=\"sk-item\"><div class=\"sk-serial\"><div class=\"sk-item\"><div class=\"sk-estimator sk-toggleable\"><input class=\"sk-toggleable__control sk-hidden--visually\" id=\"e386ae1b-79f0-48a9-9f22-bd903b6c0a95\" type=\"checkbox\" ><label for=\"e386ae1b-79f0-48a9-9f22-bd903b6c0a95\" class=\"sk-toggleable__label sk-toggleable__label-arrow\">SimpleImputer</label><div class=\"sk-toggleable__content\"><pre>SimpleImputer(strategy=&#x27;most_frequent&#x27;)</pre></div></div></div><div class=\"sk-item\"><div class=\"sk-estimator sk-toggleable\"><input class=\"sk-toggleable__control sk-hidden--visually\" id=\"81dbea89-78ef-4e99-b29e-1024b3f673b6\" type=\"checkbox\" ><label for=\"81dbea89-78ef-4e99-b29e-1024b3f673b6\" class=\"sk-toggleable__label sk-toggleable__label-arrow\">OneHotEncoder</label><div class=\"sk-toggleable__content\"><pre>OneHotEncoder(handle_unknown=&#x27;ignore&#x27;, sparse=False)</pre></div></div></div></div></div></div></div></div></div></div></div></div>"
            ]
          },
          "metadata": {},
          "execution_count": 52
        }
      ]
    },
    {
      "cell_type": "code",
      "source": [
        "## TRANSFORM TRAIN AND TEST DATA\n",
        "X_train_processed = preprocessor.transform(X_train)\n",
        "X_test_processed = preprocessor.transform(X_test)"
      ],
      "metadata": {
        "id": "TUdCanKQNtFZ"
      },
      "execution_count": null,
      "outputs": []
    },
    {
      "cell_type": "markdown",
      "source": [
        "#### Inspecting results"
      ],
      "metadata": {
        "id": "Pu0f9I9AN0NW"
      }
    },
    {
      "cell_type": "code",
      "source": [
        "print(np.isnan(X_train_processed).sum().sum(), 'missing values in training data')\n",
        "print(np.isnan(X_test_processed).sum().sum(), 'missing values in testing data')"
      ],
      "metadata": {
        "colab": {
          "base_uri": "https://localhost:8080/"
        },
        "id": "NrIKFYEkNyb9",
        "outputId": "6080e0f2-82c6-4f35-8330-8a2c4d256f80"
      },
      "execution_count": null,
      "outputs": [
        {
          "output_type": "stream",
          "name": "stdout",
          "text": [
            "0 missing values in training data\n",
            "0 missing values in testing data\n"
          ]
        }
      ]
    },
    {
      "cell_type": "markdown",
      "source": [
        "No missing values 👍"
      ],
      "metadata": {
        "id": "jq-RBn1mOtqx"
      }
    },
    {
      "cell_type": "code",
      "source": [
        "print('All data in X_train_processed are', X_train_processed.dtype)\n",
        "print('All data in X_test_processed are', X_test_processed.dtype)"
      ],
      "metadata": {
        "colab": {
          "base_uri": "https://localhost:8080/"
        },
        "id": "aY4UIH_bOtHm",
        "outputId": "2b1b7d55-dc08-4580-e981-254ccccbac93"
      },
      "execution_count": null,
      "outputs": [
        {
          "output_type": "stream",
          "name": "stdout",
          "text": [
            "All data in X_train_processed are float64\n",
            "All data in X_test_processed are float64\n"
          ]
        }
      ]
    },
    {
      "cell_type": "markdown",
      "source": [
        "All the data is numeric 👍"
      ],
      "metadata": {
        "id": "lKsAUp5GO-h8"
      }
    },
    {
      "cell_type": "code",
      "source": [
        "print('shape of data is', X_train_processed.shape)"
      ],
      "metadata": {
        "colab": {
          "base_uri": "https://localhost:8080/"
        },
        "id": "HaOQ0xgAO8TH",
        "outputId": "d05a21dc-47ec-49da-a337-1ca97facb1df"
      },
      "execution_count": null,
      "outputs": [
        {
          "output_type": "stream",
          "name": "stdout",
          "text": [
            "shape of data is (6392, 31)\n"
          ]
        }
      ]
    },
    {
      "cell_type": "code",
      "source": [
        "X_train_processed"
      ],
      "metadata": {
        "colab": {
          "base_uri": "https://localhost:8080/"
        },
        "id": "Vr23oKhxPGmr",
        "outputId": "2a3d4dd6-6278-4455-faaa-625ebb889f23"
      },
      "execution_count": null,
      "outputs": [
        {
          "output_type": "execute_result",
          "data": {
            "text/plain": [
              "array([[ 0.81724868, -0.71277507,  1.82810922, ...,  0.        ,\n",
              "         1.        ,  0.        ],\n",
              "       [ 0.5563395 , -1.29105225,  0.60336888, ...,  0.        ,\n",
              "         1.        ,  0.        ],\n",
              "       [-0.13151196,  1.81331864,  0.24454056, ...,  1.        ,\n",
              "         0.        ,  0.        ],\n",
              "       ...,\n",
              "       [ 1.11373638, -0.92052713,  1.52302674, ...,  1.        ,\n",
              "         0.        ,  0.        ],\n",
              "       [ 1.76600931, -0.2277552 , -0.38377708, ...,  1.        ,\n",
              "         0.        ,  0.        ],\n",
              "       [ 0.81724868, -0.95867683, -0.73836105, ...,  1.        ,\n",
              "         0.        ,  0.        ]])"
            ]
          },
          "metadata": {},
          "execution_count": 57
        }
      ]
    },
    {
      "cell_type": "markdown",
      "source": [
        "The data result is a numpy array, it won't be transformed to a pandas dataframe becuase this way it will be used to do machine learning. But for watching purpose I want to see how it looks like. "
      ],
      "metadata": {
        "id": "8FZO8PSBPWRZ"
      }
    },
    {
      "cell_type": "code",
      "source": [
        "result_df = pd.DataFrame(X_train_processed)\n",
        "result_df.head()"
      ],
      "metadata": {
        "colab": {
          "base_uri": "https://localhost:8080/",
          "height": 206
        },
        "id": "34JyE_wUPU7E",
        "outputId": "3a16639d-5d17-46bb-cc97-aefe877f03d9"
      },
      "execution_count": null,
      "outputs": [
        {
          "output_type": "execute_result",
          "data": {
            "text/plain": [
              "         0         1         2    3    4    5    6    7    8    9    10   11  \\\n",
              "0  0.817249 -0.712775  1.828109  1.0  0.0  0.0  0.0  0.0  0.0  0.0  0.0  0.0   \n",
              "1  0.556340 -1.291052  0.603369  0.0  1.0  0.0  0.0  0.0  0.0  0.0  0.0  0.0   \n",
              "2 -0.131512  1.813319  0.244541  0.0  1.0  0.0  0.0  0.0  0.0  0.0  0.0  0.0   \n",
              "3 -1.169219 -1.004931 -0.952591  1.0  0.0  1.0  0.0  0.0  0.0  0.0  0.0  0.0   \n",
              "4  1.528819 -0.965484 -0.336460  1.0  0.0  0.0  0.0  0.0  0.0  0.0  1.0  0.0   \n",
              "\n",
              "    12   13   14   15   16   17   18   19   20   21   22   23   24   25   26  \\\n",
              "0  0.0  0.0  1.0  0.0  0.0  0.0  0.0  0.0  0.0  0.0  1.0  0.0  0.0  0.0  1.0   \n",
              "1  0.0  0.0  0.0  0.0  0.0  0.0  1.0  0.0  0.0  0.0  1.0  0.0  0.0  0.0  1.0   \n",
              "2  0.0  0.0  0.0  1.0  0.0  0.0  0.0  0.0  0.0  0.0  1.0  0.0  1.0  0.0  0.0   \n",
              "3  0.0  0.0  0.0  0.0  0.0  0.0  0.0  0.0  0.0  0.0  0.0  1.0  0.0  1.0  0.0   \n",
              "4  0.0  0.0  0.0  0.0  0.0  0.0  0.0  0.0  0.0  0.0  1.0  0.0  0.0  1.0  0.0   \n",
              "\n",
              "    27   28   29   30  \n",
              "0  0.0  0.0  1.0  0.0  \n",
              "1  0.0  0.0  1.0  0.0  \n",
              "2  0.0  1.0  0.0  0.0  \n",
              "3  0.0  1.0  0.0  0.0  \n",
              "4  0.0  1.0  0.0  0.0  "
            ],
            "text/html": [
              "\n",
              "  <div id=\"df-5ab46b1d-7448-4378-b660-39f6e0b33a3e\">\n",
              "    <div class=\"colab-df-container\">\n",
              "      <div>\n",
              "<style scoped>\n",
              "    .dataframe tbody tr th:only-of-type {\n",
              "        vertical-align: middle;\n",
              "    }\n",
              "\n",
              "    .dataframe tbody tr th {\n",
              "        vertical-align: top;\n",
              "    }\n",
              "\n",
              "    .dataframe thead th {\n",
              "        text-align: right;\n",
              "    }\n",
              "</style>\n",
              "<table border=\"1\" class=\"dataframe\">\n",
              "  <thead>\n",
              "    <tr style=\"text-align: right;\">\n",
              "      <th></th>\n",
              "      <th>0</th>\n",
              "      <th>1</th>\n",
              "      <th>2</th>\n",
              "      <th>3</th>\n",
              "      <th>4</th>\n",
              "      <th>5</th>\n",
              "      <th>6</th>\n",
              "      <th>7</th>\n",
              "      <th>8</th>\n",
              "      <th>9</th>\n",
              "      <th>10</th>\n",
              "      <th>11</th>\n",
              "      <th>12</th>\n",
              "      <th>13</th>\n",
              "      <th>14</th>\n",
              "      <th>15</th>\n",
              "      <th>16</th>\n",
              "      <th>17</th>\n",
              "      <th>18</th>\n",
              "      <th>19</th>\n",
              "      <th>20</th>\n",
              "      <th>21</th>\n",
              "      <th>22</th>\n",
              "      <th>23</th>\n",
              "      <th>24</th>\n",
              "      <th>25</th>\n",
              "      <th>26</th>\n",
              "      <th>27</th>\n",
              "      <th>28</th>\n",
              "      <th>29</th>\n",
              "      <th>30</th>\n",
              "    </tr>\n",
              "  </thead>\n",
              "  <tbody>\n",
              "    <tr>\n",
              "      <th>0</th>\n",
              "      <td>0.817249</td>\n",
              "      <td>-0.712775</td>\n",
              "      <td>1.828109</td>\n",
              "      <td>1.0</td>\n",
              "      <td>0.0</td>\n",
              "      <td>0.0</td>\n",
              "      <td>0.0</td>\n",
              "      <td>0.0</td>\n",
              "      <td>0.0</td>\n",
              "      <td>0.0</td>\n",
              "      <td>0.0</td>\n",
              "      <td>0.0</td>\n",
              "      <td>0.0</td>\n",
              "      <td>0.0</td>\n",
              "      <td>1.0</td>\n",
              "      <td>0.0</td>\n",
              "      <td>0.0</td>\n",
              "      <td>0.0</td>\n",
              "      <td>0.0</td>\n",
              "      <td>0.0</td>\n",
              "      <td>0.0</td>\n",
              "      <td>0.0</td>\n",
              "      <td>1.0</td>\n",
              "      <td>0.0</td>\n",
              "      <td>0.0</td>\n",
              "      <td>0.0</td>\n",
              "      <td>1.0</td>\n",
              "      <td>0.0</td>\n",
              "      <td>0.0</td>\n",
              "      <td>1.0</td>\n",
              "      <td>0.0</td>\n",
              "    </tr>\n",
              "    <tr>\n",
              "      <th>1</th>\n",
              "      <td>0.556340</td>\n",
              "      <td>-1.291052</td>\n",
              "      <td>0.603369</td>\n",
              "      <td>0.0</td>\n",
              "      <td>1.0</td>\n",
              "      <td>0.0</td>\n",
              "      <td>0.0</td>\n",
              "      <td>0.0</td>\n",
              "      <td>0.0</td>\n",
              "      <td>0.0</td>\n",
              "      <td>0.0</td>\n",
              "      <td>0.0</td>\n",
              "      <td>0.0</td>\n",
              "      <td>0.0</td>\n",
              "      <td>0.0</td>\n",
              "      <td>0.0</td>\n",
              "      <td>0.0</td>\n",
              "      <td>0.0</td>\n",
              "      <td>1.0</td>\n",
              "      <td>0.0</td>\n",
              "      <td>0.0</td>\n",
              "      <td>0.0</td>\n",
              "      <td>1.0</td>\n",
              "      <td>0.0</td>\n",
              "      <td>0.0</td>\n",
              "      <td>0.0</td>\n",
              "      <td>1.0</td>\n",
              "      <td>0.0</td>\n",
              "      <td>0.0</td>\n",
              "      <td>1.0</td>\n",
              "      <td>0.0</td>\n",
              "    </tr>\n",
              "    <tr>\n",
              "      <th>2</th>\n",
              "      <td>-0.131512</td>\n",
              "      <td>1.813319</td>\n",
              "      <td>0.244541</td>\n",
              "      <td>0.0</td>\n",
              "      <td>1.0</td>\n",
              "      <td>0.0</td>\n",
              "      <td>0.0</td>\n",
              "      <td>0.0</td>\n",
              "      <td>0.0</td>\n",
              "      <td>0.0</td>\n",
              "      <td>0.0</td>\n",
              "      <td>0.0</td>\n",
              "      <td>0.0</td>\n",
              "      <td>0.0</td>\n",
              "      <td>0.0</td>\n",
              "      <td>1.0</td>\n",
              "      <td>0.0</td>\n",
              "      <td>0.0</td>\n",
              "      <td>0.0</td>\n",
              "      <td>0.0</td>\n",
              "      <td>0.0</td>\n",
              "      <td>0.0</td>\n",
              "      <td>1.0</td>\n",
              "      <td>0.0</td>\n",
              "      <td>1.0</td>\n",
              "      <td>0.0</td>\n",
              "      <td>0.0</td>\n",
              "      <td>0.0</td>\n",
              "      <td>1.0</td>\n",
              "      <td>0.0</td>\n",
              "      <td>0.0</td>\n",
              "    </tr>\n",
              "    <tr>\n",
              "      <th>3</th>\n",
              "      <td>-1.169219</td>\n",
              "      <td>-1.004931</td>\n",
              "      <td>-0.952591</td>\n",
              "      <td>1.0</td>\n",
              "      <td>0.0</td>\n",
              "      <td>1.0</td>\n",
              "      <td>0.0</td>\n",
              "      <td>0.0</td>\n",
              "      <td>0.0</td>\n",
              "      <td>0.0</td>\n",
              "      <td>0.0</td>\n",
              "      <td>0.0</td>\n",
              "      <td>0.0</td>\n",
              "      <td>0.0</td>\n",
              "      <td>0.0</td>\n",
              "      <td>0.0</td>\n",
              "      <td>0.0</td>\n",
              "      <td>0.0</td>\n",
              "      <td>0.0</td>\n",
              "      <td>0.0</td>\n",
              "      <td>0.0</td>\n",
              "      <td>0.0</td>\n",
              "      <td>0.0</td>\n",
              "      <td>1.0</td>\n",
              "      <td>0.0</td>\n",
              "      <td>1.0</td>\n",
              "      <td>0.0</td>\n",
              "      <td>0.0</td>\n",
              "      <td>1.0</td>\n",
              "      <td>0.0</td>\n",
              "      <td>0.0</td>\n",
              "    </tr>\n",
              "    <tr>\n",
              "      <th>4</th>\n",
              "      <td>1.528819</td>\n",
              "      <td>-0.965484</td>\n",
              "      <td>-0.336460</td>\n",
              "      <td>1.0</td>\n",
              "      <td>0.0</td>\n",
              "      <td>0.0</td>\n",
              "      <td>0.0</td>\n",
              "      <td>0.0</td>\n",
              "      <td>0.0</td>\n",
              "      <td>0.0</td>\n",
              "      <td>1.0</td>\n",
              "      <td>0.0</td>\n",
              "      <td>0.0</td>\n",
              "      <td>0.0</td>\n",
              "      <td>0.0</td>\n",
              "      <td>0.0</td>\n",
              "      <td>0.0</td>\n",
              "      <td>0.0</td>\n",
              "      <td>0.0</td>\n",
              "      <td>0.0</td>\n",
              "      <td>0.0</td>\n",
              "      <td>0.0</td>\n",
              "      <td>1.0</td>\n",
              "      <td>0.0</td>\n",
              "      <td>0.0</td>\n",
              "      <td>1.0</td>\n",
              "      <td>0.0</td>\n",
              "      <td>0.0</td>\n",
              "      <td>1.0</td>\n",
              "      <td>0.0</td>\n",
              "      <td>0.0</td>\n",
              "    </tr>\n",
              "  </tbody>\n",
              "</table>\n",
              "</div>\n",
              "      <button class=\"colab-df-convert\" onclick=\"convertToInteractive('df-5ab46b1d-7448-4378-b660-39f6e0b33a3e')\"\n",
              "              title=\"Convert this dataframe to an interactive table.\"\n",
              "              style=\"display:none;\">\n",
              "        \n",
              "  <svg xmlns=\"http://www.w3.org/2000/svg\" height=\"24px\"viewBox=\"0 0 24 24\"\n",
              "       width=\"24px\">\n",
              "    <path d=\"M0 0h24v24H0V0z\" fill=\"none\"/>\n",
              "    <path d=\"M18.56 5.44l.94 2.06.94-2.06 2.06-.94-2.06-.94-.94-2.06-.94 2.06-2.06.94zm-11 1L8.5 8.5l.94-2.06 2.06-.94-2.06-.94L8.5 2.5l-.94 2.06-2.06.94zm10 10l.94 2.06.94-2.06 2.06-.94-2.06-.94-.94-2.06-.94 2.06-2.06.94z\"/><path d=\"M17.41 7.96l-1.37-1.37c-.4-.4-.92-.59-1.43-.59-.52 0-1.04.2-1.43.59L10.3 9.45l-7.72 7.72c-.78.78-.78 2.05 0 2.83L4 21.41c.39.39.9.59 1.41.59.51 0 1.02-.2 1.41-.59l7.78-7.78 2.81-2.81c.8-.78.8-2.07 0-2.86zM5.41 20L4 18.59l7.72-7.72 1.47 1.35L5.41 20z\"/>\n",
              "  </svg>\n",
              "      </button>\n",
              "      \n",
              "  <style>\n",
              "    .colab-df-container {\n",
              "      display:flex;\n",
              "      flex-wrap:wrap;\n",
              "      gap: 12px;\n",
              "    }\n",
              "\n",
              "    .colab-df-convert {\n",
              "      background-color: #E8F0FE;\n",
              "      border: none;\n",
              "      border-radius: 50%;\n",
              "      cursor: pointer;\n",
              "      display: none;\n",
              "      fill: #1967D2;\n",
              "      height: 32px;\n",
              "      padding: 0 0 0 0;\n",
              "      width: 32px;\n",
              "    }\n",
              "\n",
              "    .colab-df-convert:hover {\n",
              "      background-color: #E2EBFA;\n",
              "      box-shadow: 0px 1px 2px rgba(60, 64, 67, 0.3), 0px 1px 3px 1px rgba(60, 64, 67, 0.15);\n",
              "      fill: #174EA6;\n",
              "    }\n",
              "\n",
              "    [theme=dark] .colab-df-convert {\n",
              "      background-color: #3B4455;\n",
              "      fill: #D2E3FC;\n",
              "    }\n",
              "\n",
              "    [theme=dark] .colab-df-convert:hover {\n",
              "      background-color: #434B5C;\n",
              "      box-shadow: 0px 1px 3px 1px rgba(0, 0, 0, 0.15);\n",
              "      filter: drop-shadow(0px 1px 2px rgba(0, 0, 0, 0.3));\n",
              "      fill: #FFFFFF;\n",
              "    }\n",
              "  </style>\n",
              "\n",
              "      <script>\n",
              "        const buttonEl =\n",
              "          document.querySelector('#df-5ab46b1d-7448-4378-b660-39f6e0b33a3e button.colab-df-convert');\n",
              "        buttonEl.style.display =\n",
              "          google.colab.kernel.accessAllowed ? 'block' : 'none';\n",
              "\n",
              "        async function convertToInteractive(key) {\n",
              "          const element = document.querySelector('#df-5ab46b1d-7448-4378-b660-39f6e0b33a3e');\n",
              "          const dataTable =\n",
              "            await google.colab.kernel.invokeFunction('convertToInteractive',\n",
              "                                                     [key], {});\n",
              "          if (!dataTable) return;\n",
              "\n",
              "          const docLinkHtml = 'Like what you see? Visit the ' +\n",
              "            '<a target=\"_blank\" href=https://colab.research.google.com/notebooks/data_table.ipynb>data table notebook</a>'\n",
              "            + ' to learn more about interactive tables.';\n",
              "          element.innerHTML = '';\n",
              "          dataTable['output_type'] = 'display_data';\n",
              "          await google.colab.output.renderOutput(dataTable, element);\n",
              "          const docLink = document.createElement('div');\n",
              "          docLink.innerHTML = docLinkHtml;\n",
              "          element.appendChild(docLink);\n",
              "        }\n",
              "      </script>\n",
              "    </div>\n",
              "  </div>\n",
              "  "
            ]
          },
          "metadata": {},
          "execution_count": 58
        }
      ]
    },
    {
      "cell_type": "markdown",
      "source": [
        "Also I would like to see how is the data distribution. "
      ],
      "metadata": {
        "id": "zZBeSUYhQFzI"
      }
    },
    {
      "cell_type": "code",
      "source": [
        "result_df.describe()"
      ],
      "metadata": {
        "colab": {
          "base_uri": "https://localhost:8080/",
          "height": 364
        },
        "id": "WQyPeikxRHLw",
        "outputId": "960e6453-c834-4c3d-c031-a23af7902293"
      },
      "execution_count": null,
      "outputs": [
        {
          "output_type": "execute_result",
          "data": {
            "text/plain": [
              "                 0             1             2            3            4   \\\n",
              "count  6.392000e+03  6.392000e+03  6.392000e+03  6392.000000  6392.000000   \n",
              "mean   4.457566e-16 -6.169450e-17  4.668773e-17     0.645964     0.354036   \n",
              "std    1.000078e+00  1.000078e+00  1.000078e+00     0.478258     0.478258   \n",
              "min   -1.980409e+00 -1.291052e+00 -1.767529e+00     0.000000     0.000000   \n",
              "25%   -8.075039e-01 -7.624234e-01 -7.638272e-01     0.000000     0.000000   \n",
              "50%    4.213344e-16 -2.318711e-01  3.400912e-02     1.000000     0.000000   \n",
              "75%    7.579511e-01  5.596016e-01  7.172910e-01     1.000000     1.000000   \n",
              "max    2.003199e+00  5.132050e+00  1.994559e+00     1.000000     1.000000   \n",
              "\n",
              "                5            6            7            8            9   \\\n",
              "count  6392.000000  6392.000000  6392.000000  6392.000000  6392.000000   \n",
              "mean      0.074781     0.027378     0.013141     0.075250     0.079318   \n",
              "std       0.263058     0.163195     0.113889     0.263815     0.270255   \n",
              "min       0.000000     0.000000     0.000000     0.000000     0.000000   \n",
              "25%       0.000000     0.000000     0.000000     0.000000     0.000000   \n",
              "50%       0.000000     0.000000     0.000000     0.000000     0.000000   \n",
              "75%       0.000000     0.000000     0.000000     0.000000     0.000000   \n",
              "max       1.000000     1.000000     1.000000     1.000000     1.000000   \n",
              "\n",
              "                10           11           12           13           14  \\\n",
              "count  6392.000000  6392.000000  6392.000000  6392.000000  6392.000000   \n",
              "mean      0.098874     0.148310     0.026439     0.061014     0.108730   \n",
              "std       0.298516     0.355435     0.160450     0.239374     0.311324   \n",
              "min       0.000000     0.000000     0.000000     0.000000     0.000000   \n",
              "25%       0.000000     0.000000     0.000000     0.000000     0.000000   \n",
              "50%       0.000000     0.000000     0.000000     0.000000     0.000000   \n",
              "75%       0.000000     0.000000     0.000000     0.000000     0.000000   \n",
              "max       1.000000     1.000000     1.000000     1.000000     1.000000   \n",
              "\n",
              "                15           16           17          18           19  \\\n",
              "count  6392.000000  6392.000000  6392.000000  6392.00000  6392.000000   \n",
              "mean      0.047247     0.020338     0.006571     0.14174     0.051783   \n",
              "std       0.212182     0.141164     0.080800     0.34881     0.221607   \n",
              "min       0.000000     0.000000     0.000000     0.00000     0.000000   \n",
              "25%       0.000000     0.000000     0.000000     0.00000     0.000000   \n",
              "50%       0.000000     0.000000     0.000000     0.00000     0.000000   \n",
              "75%       0.000000     0.000000     0.000000     0.00000     0.000000   \n",
              "max       1.000000     1.000000     1.000000     1.00000     1.000000   \n",
              "\n",
              "                20           21           22           23           24  \\\n",
              "count  6392.000000  6392.000000  6392.000000  6392.000000  6392.000000   \n",
              "mean      0.019086     0.107791     0.612484     0.279725     0.274562   \n",
              "std       0.136839     0.310141     0.487221     0.448899     0.446328   \n",
              "min       0.000000     0.000000     0.000000     0.000000     0.000000   \n",
              "25%       0.000000     0.000000     0.000000     0.000000     0.000000   \n",
              "50%       0.000000     0.000000     1.000000     0.000000     0.000000   \n",
              "75%       0.000000     0.000000     1.000000     1.000000     1.000000   \n",
              "max       1.000000     1.000000     1.000000     1.000000     1.000000   \n",
              "\n",
              "                25           26           27           28           29  \\\n",
              "count  6392.000000  6392.000000  6392.000000  6392.000000  6392.000000   \n",
              "mean      0.329474     0.395964     0.125000     0.651752     0.110138   \n",
              "std       0.470059     0.489095     0.330745     0.476452     0.313086   \n",
              "min       0.000000     0.000000     0.000000     0.000000     0.000000   \n",
              "25%       0.000000     0.000000     0.000000     0.000000     0.000000   \n",
              "50%       0.000000     0.000000     0.000000     1.000000     0.000000   \n",
              "75%       1.000000     1.000000     0.000000     1.000000     0.000000   \n",
              "max       1.000000     1.000000     1.000000     1.000000     1.000000   \n",
              "\n",
              "                30  \n",
              "count  6392.000000  \n",
              "mean      0.113110  \n",
              "std       0.316752  \n",
              "min       0.000000  \n",
              "25%       0.000000  \n",
              "50%       0.000000  \n",
              "75%       0.000000  \n",
              "max       1.000000  "
            ],
            "text/html": [
              "\n",
              "  <div id=\"df-3738adb6-827a-4f48-b49f-7550b4e747d9\">\n",
              "    <div class=\"colab-df-container\">\n",
              "      <div>\n",
              "<style scoped>\n",
              "    .dataframe tbody tr th:only-of-type {\n",
              "        vertical-align: middle;\n",
              "    }\n",
              "\n",
              "    .dataframe tbody tr th {\n",
              "        vertical-align: top;\n",
              "    }\n",
              "\n",
              "    .dataframe thead th {\n",
              "        text-align: right;\n",
              "    }\n",
              "</style>\n",
              "<table border=\"1\" class=\"dataframe\">\n",
              "  <thead>\n",
              "    <tr style=\"text-align: right;\">\n",
              "      <th></th>\n",
              "      <th>0</th>\n",
              "      <th>1</th>\n",
              "      <th>2</th>\n",
              "      <th>3</th>\n",
              "      <th>4</th>\n",
              "      <th>5</th>\n",
              "      <th>6</th>\n",
              "      <th>7</th>\n",
              "      <th>8</th>\n",
              "      <th>9</th>\n",
              "      <th>10</th>\n",
              "      <th>11</th>\n",
              "      <th>12</th>\n",
              "      <th>13</th>\n",
              "      <th>14</th>\n",
              "      <th>15</th>\n",
              "      <th>16</th>\n",
              "      <th>17</th>\n",
              "      <th>18</th>\n",
              "      <th>19</th>\n",
              "      <th>20</th>\n",
              "      <th>21</th>\n",
              "      <th>22</th>\n",
              "      <th>23</th>\n",
              "      <th>24</th>\n",
              "      <th>25</th>\n",
              "      <th>26</th>\n",
              "      <th>27</th>\n",
              "      <th>28</th>\n",
              "      <th>29</th>\n",
              "      <th>30</th>\n",
              "    </tr>\n",
              "  </thead>\n",
              "  <tbody>\n",
              "    <tr>\n",
              "      <th>count</th>\n",
              "      <td>6.392000e+03</td>\n",
              "      <td>6.392000e+03</td>\n",
              "      <td>6.392000e+03</td>\n",
              "      <td>6392.000000</td>\n",
              "      <td>6392.000000</td>\n",
              "      <td>6392.000000</td>\n",
              "      <td>6392.000000</td>\n",
              "      <td>6392.000000</td>\n",
              "      <td>6392.000000</td>\n",
              "      <td>6392.000000</td>\n",
              "      <td>6392.000000</td>\n",
              "      <td>6392.000000</td>\n",
              "      <td>6392.000000</td>\n",
              "      <td>6392.000000</td>\n",
              "      <td>6392.000000</td>\n",
              "      <td>6392.000000</td>\n",
              "      <td>6392.000000</td>\n",
              "      <td>6392.000000</td>\n",
              "      <td>6392.00000</td>\n",
              "      <td>6392.000000</td>\n",
              "      <td>6392.000000</td>\n",
              "      <td>6392.000000</td>\n",
              "      <td>6392.000000</td>\n",
              "      <td>6392.000000</td>\n",
              "      <td>6392.000000</td>\n",
              "      <td>6392.000000</td>\n",
              "      <td>6392.000000</td>\n",
              "      <td>6392.000000</td>\n",
              "      <td>6392.000000</td>\n",
              "      <td>6392.000000</td>\n",
              "      <td>6392.000000</td>\n",
              "    </tr>\n",
              "    <tr>\n",
              "      <th>mean</th>\n",
              "      <td>4.457566e-16</td>\n",
              "      <td>-6.169450e-17</td>\n",
              "      <td>4.668773e-17</td>\n",
              "      <td>0.645964</td>\n",
              "      <td>0.354036</td>\n",
              "      <td>0.074781</td>\n",
              "      <td>0.027378</td>\n",
              "      <td>0.013141</td>\n",
              "      <td>0.075250</td>\n",
              "      <td>0.079318</td>\n",
              "      <td>0.098874</td>\n",
              "      <td>0.148310</td>\n",
              "      <td>0.026439</td>\n",
              "      <td>0.061014</td>\n",
              "      <td>0.108730</td>\n",
              "      <td>0.047247</td>\n",
              "      <td>0.020338</td>\n",
              "      <td>0.006571</td>\n",
              "      <td>0.14174</td>\n",
              "      <td>0.051783</td>\n",
              "      <td>0.019086</td>\n",
              "      <td>0.107791</td>\n",
              "      <td>0.612484</td>\n",
              "      <td>0.279725</td>\n",
              "      <td>0.274562</td>\n",
              "      <td>0.329474</td>\n",
              "      <td>0.395964</td>\n",
              "      <td>0.125000</td>\n",
              "      <td>0.651752</td>\n",
              "      <td>0.110138</td>\n",
              "      <td>0.113110</td>\n",
              "    </tr>\n",
              "    <tr>\n",
              "      <th>std</th>\n",
              "      <td>1.000078e+00</td>\n",
              "      <td>1.000078e+00</td>\n",
              "      <td>1.000078e+00</td>\n",
              "      <td>0.478258</td>\n",
              "      <td>0.478258</td>\n",
              "      <td>0.263058</td>\n",
              "      <td>0.163195</td>\n",
              "      <td>0.113889</td>\n",
              "      <td>0.263815</td>\n",
              "      <td>0.270255</td>\n",
              "      <td>0.298516</td>\n",
              "      <td>0.355435</td>\n",
              "      <td>0.160450</td>\n",
              "      <td>0.239374</td>\n",
              "      <td>0.311324</td>\n",
              "      <td>0.212182</td>\n",
              "      <td>0.141164</td>\n",
              "      <td>0.080800</td>\n",
              "      <td>0.34881</td>\n",
              "      <td>0.221607</td>\n",
              "      <td>0.136839</td>\n",
              "      <td>0.310141</td>\n",
              "      <td>0.487221</td>\n",
              "      <td>0.448899</td>\n",
              "      <td>0.446328</td>\n",
              "      <td>0.470059</td>\n",
              "      <td>0.489095</td>\n",
              "      <td>0.330745</td>\n",
              "      <td>0.476452</td>\n",
              "      <td>0.313086</td>\n",
              "      <td>0.316752</td>\n",
              "    </tr>\n",
              "    <tr>\n",
              "      <th>min</th>\n",
              "      <td>-1.980409e+00</td>\n",
              "      <td>-1.291052e+00</td>\n",
              "      <td>-1.767529e+00</td>\n",
              "      <td>0.000000</td>\n",
              "      <td>0.000000</td>\n",
              "      <td>0.000000</td>\n",
              "      <td>0.000000</td>\n",
              "      <td>0.000000</td>\n",
              "      <td>0.000000</td>\n",
              "      <td>0.000000</td>\n",
              "      <td>0.000000</td>\n",
              "      <td>0.000000</td>\n",
              "      <td>0.000000</td>\n",
              "      <td>0.000000</td>\n",
              "      <td>0.000000</td>\n",
              "      <td>0.000000</td>\n",
              "      <td>0.000000</td>\n",
              "      <td>0.000000</td>\n",
              "      <td>0.00000</td>\n",
              "      <td>0.000000</td>\n",
              "      <td>0.000000</td>\n",
              "      <td>0.000000</td>\n",
              "      <td>0.000000</td>\n",
              "      <td>0.000000</td>\n",
              "      <td>0.000000</td>\n",
              "      <td>0.000000</td>\n",
              "      <td>0.000000</td>\n",
              "      <td>0.000000</td>\n",
              "      <td>0.000000</td>\n",
              "      <td>0.000000</td>\n",
              "      <td>0.000000</td>\n",
              "    </tr>\n",
              "    <tr>\n",
              "      <th>25%</th>\n",
              "      <td>-8.075039e-01</td>\n",
              "      <td>-7.624234e-01</td>\n",
              "      <td>-7.638272e-01</td>\n",
              "      <td>0.000000</td>\n",
              "      <td>0.000000</td>\n",
              "      <td>0.000000</td>\n",
              "      <td>0.000000</td>\n",
              "      <td>0.000000</td>\n",
              "      <td>0.000000</td>\n",
              "      <td>0.000000</td>\n",
              "      <td>0.000000</td>\n",
              "      <td>0.000000</td>\n",
              "      <td>0.000000</td>\n",
              "      <td>0.000000</td>\n",
              "      <td>0.000000</td>\n",
              "      <td>0.000000</td>\n",
              "      <td>0.000000</td>\n",
              "      <td>0.000000</td>\n",
              "      <td>0.00000</td>\n",
              "      <td>0.000000</td>\n",
              "      <td>0.000000</td>\n",
              "      <td>0.000000</td>\n",
              "      <td>0.000000</td>\n",
              "      <td>0.000000</td>\n",
              "      <td>0.000000</td>\n",
              "      <td>0.000000</td>\n",
              "      <td>0.000000</td>\n",
              "      <td>0.000000</td>\n",
              "      <td>0.000000</td>\n",
              "      <td>0.000000</td>\n",
              "      <td>0.000000</td>\n",
              "    </tr>\n",
              "    <tr>\n",
              "      <th>50%</th>\n",
              "      <td>4.213344e-16</td>\n",
              "      <td>-2.318711e-01</td>\n",
              "      <td>3.400912e-02</td>\n",
              "      <td>1.000000</td>\n",
              "      <td>0.000000</td>\n",
              "      <td>0.000000</td>\n",
              "      <td>0.000000</td>\n",
              "      <td>0.000000</td>\n",
              "      <td>0.000000</td>\n",
              "      <td>0.000000</td>\n",
              "      <td>0.000000</td>\n",
              "      <td>0.000000</td>\n",
              "      <td>0.000000</td>\n",
              "      <td>0.000000</td>\n",
              "      <td>0.000000</td>\n",
              "      <td>0.000000</td>\n",
              "      <td>0.000000</td>\n",
              "      <td>0.000000</td>\n",
              "      <td>0.00000</td>\n",
              "      <td>0.000000</td>\n",
              "      <td>0.000000</td>\n",
              "      <td>0.000000</td>\n",
              "      <td>1.000000</td>\n",
              "      <td>0.000000</td>\n",
              "      <td>0.000000</td>\n",
              "      <td>0.000000</td>\n",
              "      <td>0.000000</td>\n",
              "      <td>0.000000</td>\n",
              "      <td>1.000000</td>\n",
              "      <td>0.000000</td>\n",
              "      <td>0.000000</td>\n",
              "    </tr>\n",
              "    <tr>\n",
              "      <th>75%</th>\n",
              "      <td>7.579511e-01</td>\n",
              "      <td>5.596016e-01</td>\n",
              "      <td>7.172910e-01</td>\n",
              "      <td>1.000000</td>\n",
              "      <td>1.000000</td>\n",
              "      <td>0.000000</td>\n",
              "      <td>0.000000</td>\n",
              "      <td>0.000000</td>\n",
              "      <td>0.000000</td>\n",
              "      <td>0.000000</td>\n",
              "      <td>0.000000</td>\n",
              "      <td>0.000000</td>\n",
              "      <td>0.000000</td>\n",
              "      <td>0.000000</td>\n",
              "      <td>0.000000</td>\n",
              "      <td>0.000000</td>\n",
              "      <td>0.000000</td>\n",
              "      <td>0.000000</td>\n",
              "      <td>0.00000</td>\n",
              "      <td>0.000000</td>\n",
              "      <td>0.000000</td>\n",
              "      <td>0.000000</td>\n",
              "      <td>1.000000</td>\n",
              "      <td>1.000000</td>\n",
              "      <td>1.000000</td>\n",
              "      <td>1.000000</td>\n",
              "      <td>1.000000</td>\n",
              "      <td>0.000000</td>\n",
              "      <td>1.000000</td>\n",
              "      <td>0.000000</td>\n",
              "      <td>0.000000</td>\n",
              "    </tr>\n",
              "    <tr>\n",
              "      <th>max</th>\n",
              "      <td>2.003199e+00</td>\n",
              "      <td>5.132050e+00</td>\n",
              "      <td>1.994559e+00</td>\n",
              "      <td>1.000000</td>\n",
              "      <td>1.000000</td>\n",
              "      <td>1.000000</td>\n",
              "      <td>1.000000</td>\n",
              "      <td>1.000000</td>\n",
              "      <td>1.000000</td>\n",
              "      <td>1.000000</td>\n",
              "      <td>1.000000</td>\n",
              "      <td>1.000000</td>\n",
              "      <td>1.000000</td>\n",
              "      <td>1.000000</td>\n",
              "      <td>1.000000</td>\n",
              "      <td>1.000000</td>\n",
              "      <td>1.000000</td>\n",
              "      <td>1.000000</td>\n",
              "      <td>1.00000</td>\n",
              "      <td>1.000000</td>\n",
              "      <td>1.000000</td>\n",
              "      <td>1.000000</td>\n",
              "      <td>1.000000</td>\n",
              "      <td>1.000000</td>\n",
              "      <td>1.000000</td>\n",
              "      <td>1.000000</td>\n",
              "      <td>1.000000</td>\n",
              "      <td>1.000000</td>\n",
              "      <td>1.000000</td>\n",
              "      <td>1.000000</td>\n",
              "      <td>1.000000</td>\n",
              "    </tr>\n",
              "  </tbody>\n",
              "</table>\n",
              "</div>\n",
              "      <button class=\"colab-df-convert\" onclick=\"convertToInteractive('df-3738adb6-827a-4f48-b49f-7550b4e747d9')\"\n",
              "              title=\"Convert this dataframe to an interactive table.\"\n",
              "              style=\"display:none;\">\n",
              "        \n",
              "  <svg xmlns=\"http://www.w3.org/2000/svg\" height=\"24px\"viewBox=\"0 0 24 24\"\n",
              "       width=\"24px\">\n",
              "    <path d=\"M0 0h24v24H0V0z\" fill=\"none\"/>\n",
              "    <path d=\"M18.56 5.44l.94 2.06.94-2.06 2.06-.94-2.06-.94-.94-2.06-.94 2.06-2.06.94zm-11 1L8.5 8.5l.94-2.06 2.06-.94-2.06-.94L8.5 2.5l-.94 2.06-2.06.94zm10 10l.94 2.06.94-2.06 2.06-.94-2.06-.94-.94-2.06-.94 2.06-2.06.94z\"/><path d=\"M17.41 7.96l-1.37-1.37c-.4-.4-.92-.59-1.43-.59-.52 0-1.04.2-1.43.59L10.3 9.45l-7.72 7.72c-.78.78-.78 2.05 0 2.83L4 21.41c.39.39.9.59 1.41.59.51 0 1.02-.2 1.41-.59l7.78-7.78 2.81-2.81c.8-.78.8-2.07 0-2.86zM5.41 20L4 18.59l7.72-7.72 1.47 1.35L5.41 20z\"/>\n",
              "  </svg>\n",
              "      </button>\n",
              "      \n",
              "  <style>\n",
              "    .colab-df-container {\n",
              "      display:flex;\n",
              "      flex-wrap:wrap;\n",
              "      gap: 12px;\n",
              "    }\n",
              "\n",
              "    .colab-df-convert {\n",
              "      background-color: #E8F0FE;\n",
              "      border: none;\n",
              "      border-radius: 50%;\n",
              "      cursor: pointer;\n",
              "      display: none;\n",
              "      fill: #1967D2;\n",
              "      height: 32px;\n",
              "      padding: 0 0 0 0;\n",
              "      width: 32px;\n",
              "    }\n",
              "\n",
              "    .colab-df-convert:hover {\n",
              "      background-color: #E2EBFA;\n",
              "      box-shadow: 0px 1px 2px rgba(60, 64, 67, 0.3), 0px 1px 3px 1px rgba(60, 64, 67, 0.15);\n",
              "      fill: #174EA6;\n",
              "    }\n",
              "\n",
              "    [theme=dark] .colab-df-convert {\n",
              "      background-color: #3B4455;\n",
              "      fill: #D2E3FC;\n",
              "    }\n",
              "\n",
              "    [theme=dark] .colab-df-convert:hover {\n",
              "      background-color: #434B5C;\n",
              "      box-shadow: 0px 1px 3px 1px rgba(0, 0, 0, 0.15);\n",
              "      filter: drop-shadow(0px 1px 2px rgba(0, 0, 0, 0.3));\n",
              "      fill: #FFFFFF;\n",
              "    }\n",
              "  </style>\n",
              "\n",
              "      <script>\n",
              "        const buttonEl =\n",
              "          document.querySelector('#df-3738adb6-827a-4f48-b49f-7550b4e747d9 button.colab-df-convert');\n",
              "        buttonEl.style.display =\n",
              "          google.colab.kernel.accessAllowed ? 'block' : 'none';\n",
              "\n",
              "        async function convertToInteractive(key) {\n",
              "          const element = document.querySelector('#df-3738adb6-827a-4f48-b49f-7550b4e747d9');\n",
              "          const dataTable =\n",
              "            await google.colab.kernel.invokeFunction('convertToInteractive',\n",
              "                                                     [key], {});\n",
              "          if (!dataTable) return;\n",
              "\n",
              "          const docLinkHtml = 'Like what you see? Visit the ' +\n",
              "            '<a target=\"_blank\" href=https://colab.research.google.com/notebooks/data_table.ipynb>data table notebook</a>'\n",
              "            + ' to learn more about interactive tables.';\n",
              "          element.innerHTML = '';\n",
              "          dataTable['output_type'] = 'display_data';\n",
              "          await google.colab.output.renderOutput(dataTable, element);\n",
              "          const docLink = document.createElement('div');\n",
              "          docLink.innerHTML = docLinkHtml;\n",
              "          element.appendChild(docLink);\n",
              "        }\n",
              "      </script>\n",
              "    </div>\n",
              "  </div>\n",
              "  "
            ]
          },
          "metadata": {},
          "execution_count": 59
        }
      ]
    },
    {
      "cell_type": "markdown",
      "source": [
        "Like supposed to be, the numeric values were scaled and with standard deviation around 1, "
      ],
      "metadata": {
        "id": "O2uYBdYvR_et"
      }
    },
    {
      "cell_type": "markdown",
      "source": [
        "## Regression Models"
      ],
      "metadata": {
        "id": "rC7Ja2koZ2bu"
      }
    },
    {
      "cell_type": "markdown",
      "source": [
        "### Baseline Model"
      ],
      "metadata": {
        "id": "z78VGL53xnA9"
      }
    },
    {
      "cell_type": "code",
      "source": [
        "## INSTANTIATING THE DUMMY MODEL\n",
        "dummy = DummyRegressor(strategy='mean')\n",
        "\n",
        "## COMBINE PIPELINES\n",
        "dummy_pipe = make_pipeline(preprocessor, dummy)\n",
        "\n",
        "## FIT THE MODEL\n",
        "dummy_pipe.fit(X_train, y_train)\n",
        "\n",
        "## PREDICT\n",
        "dummy_train= dummy_pipe.predict(X_train)\n",
        "dummy_test= dummy_pipe.predict(X_test)"
      ],
      "metadata": {
        "id": "JogdwudgxySM"
      },
      "execution_count": null,
      "outputs": []
    },
    {
      "cell_type": "code",
      "source": [
        "## DEFINING METRIC FUNCTION\n",
        "def metrics(pred_train, pred_test):\n",
        "  ## Metrics\n",
        "  #train_MAE = mean_absolute_error(y_train, pred_train)\n",
        "  train_MSE = mean_squared_error(y_train, pred_train)\n",
        "  train_RMSE = np.sqrt(train_MSE)\n",
        "  train_r2 = r2_score(y_train, pred_train)\n",
        "\n",
        "  #test_MAE = mean_absolute_error(y_test, pred_test)\n",
        "  test_MSE = mean_squared_error(y_test, pred_test)\n",
        "  test_RMSE = np.sqrt(test_MSE)\n",
        "  test_r2 = r2_score(y_test, pred_test)\n",
        "\n",
        "  ## printing results\n",
        "  #scores = pd.DataFrame(index=['MAE', 'MSE', 'RMSE', 'R^2'], columns=['Train', 'Test'])\n",
        "  scores = pd.DataFrame(index=[ 'RMSE', 'R^2'], columns=['Train', 'Test'])\n",
        "  #scores.loc['MAE', 'Train'] = train_MAE\n",
        "  #scores.loc['MSE', 'Train'] = train_MSE\n",
        "  scores.loc['RMSE', 'Train'] = train_RMSE\n",
        "  scores.loc['R^2', 'Train'] = train_r2\n",
        "  #scores.loc['MAE', 'Test'] = test_MAE\n",
        "  #scores.loc['MSE', 'Test'] = test_MSE\n",
        "  scores.loc['RMSE', 'Test'] = test_RMSE\n",
        "  scores.loc['R^2', 'Test'] = test_r2\n",
        "\n",
        "  return scores"
      ],
      "metadata": {
        "id": "cEZDrNVLkXj6"
      },
      "execution_count": null,
      "outputs": []
    },
    {
      "cell_type": "code",
      "source": [
        "## METRICS\n",
        "dummy_metrics = metrics(dummy_train, dummy_test)\n",
        "dummy_metrics"
      ],
      "metadata": {
        "colab": {
          "base_uri": "https://localhost:8080/",
          "height": 112
        },
        "id": "mWF-PX_pyTe-",
        "outputId": "1590b2cd-70ae-4a79-cf0f-c6af906299d6"
      },
      "execution_count": null,
      "outputs": [
        {
          "output_type": "execute_result",
          "data": {
            "text/plain": [
              "            Train         Test\n",
              "RMSE  1720.306863  1664.975814\n",
              "R^2           0.0    -0.004772"
            ],
            "text/html": [
              "\n",
              "  <div id=\"df-9bd1d32c-3cd0-4d4a-b77d-25c76c331bd0\">\n",
              "    <div class=\"colab-df-container\">\n",
              "      <div>\n",
              "<style scoped>\n",
              "    .dataframe tbody tr th:only-of-type {\n",
              "        vertical-align: middle;\n",
              "    }\n",
              "\n",
              "    .dataframe tbody tr th {\n",
              "        vertical-align: top;\n",
              "    }\n",
              "\n",
              "    .dataframe thead th {\n",
              "        text-align: right;\n",
              "    }\n",
              "</style>\n",
              "<table border=\"1\" class=\"dataframe\">\n",
              "  <thead>\n",
              "    <tr style=\"text-align: right;\">\n",
              "      <th></th>\n",
              "      <th>Train</th>\n",
              "      <th>Test</th>\n",
              "    </tr>\n",
              "  </thead>\n",
              "  <tbody>\n",
              "    <tr>\n",
              "      <th>RMSE</th>\n",
              "      <td>1720.306863</td>\n",
              "      <td>1664.975814</td>\n",
              "    </tr>\n",
              "    <tr>\n",
              "      <th>R^2</th>\n",
              "      <td>0.0</td>\n",
              "      <td>-0.004772</td>\n",
              "    </tr>\n",
              "  </tbody>\n",
              "</table>\n",
              "</div>\n",
              "      <button class=\"colab-df-convert\" onclick=\"convertToInteractive('df-9bd1d32c-3cd0-4d4a-b77d-25c76c331bd0')\"\n",
              "              title=\"Convert this dataframe to an interactive table.\"\n",
              "              style=\"display:none;\">\n",
              "        \n",
              "  <svg xmlns=\"http://www.w3.org/2000/svg\" height=\"24px\"viewBox=\"0 0 24 24\"\n",
              "       width=\"24px\">\n",
              "    <path d=\"M0 0h24v24H0V0z\" fill=\"none\"/>\n",
              "    <path d=\"M18.56 5.44l.94 2.06.94-2.06 2.06-.94-2.06-.94-.94-2.06-.94 2.06-2.06.94zm-11 1L8.5 8.5l.94-2.06 2.06-.94-2.06-.94L8.5 2.5l-.94 2.06-2.06.94zm10 10l.94 2.06.94-2.06 2.06-.94-2.06-.94-.94-2.06-.94 2.06-2.06.94z\"/><path d=\"M17.41 7.96l-1.37-1.37c-.4-.4-.92-.59-1.43-.59-.52 0-1.04.2-1.43.59L10.3 9.45l-7.72 7.72c-.78.78-.78 2.05 0 2.83L4 21.41c.39.39.9.59 1.41.59.51 0 1.02-.2 1.41-.59l7.78-7.78 2.81-2.81c.8-.78.8-2.07 0-2.86zM5.41 20L4 18.59l7.72-7.72 1.47 1.35L5.41 20z\"/>\n",
              "  </svg>\n",
              "      </button>\n",
              "      \n",
              "  <style>\n",
              "    .colab-df-container {\n",
              "      display:flex;\n",
              "      flex-wrap:wrap;\n",
              "      gap: 12px;\n",
              "    }\n",
              "\n",
              "    .colab-df-convert {\n",
              "      background-color: #E8F0FE;\n",
              "      border: none;\n",
              "      border-radius: 50%;\n",
              "      cursor: pointer;\n",
              "      display: none;\n",
              "      fill: #1967D2;\n",
              "      height: 32px;\n",
              "      padding: 0 0 0 0;\n",
              "      width: 32px;\n",
              "    }\n",
              "\n",
              "    .colab-df-convert:hover {\n",
              "      background-color: #E2EBFA;\n",
              "      box-shadow: 0px 1px 2px rgba(60, 64, 67, 0.3), 0px 1px 3px 1px rgba(60, 64, 67, 0.15);\n",
              "      fill: #174EA6;\n",
              "    }\n",
              "\n",
              "    [theme=dark] .colab-df-convert {\n",
              "      background-color: #3B4455;\n",
              "      fill: #D2E3FC;\n",
              "    }\n",
              "\n",
              "    [theme=dark] .colab-df-convert:hover {\n",
              "      background-color: #434B5C;\n",
              "      box-shadow: 0px 1px 3px 1px rgba(0, 0, 0, 0.15);\n",
              "      filter: drop-shadow(0px 1px 2px rgba(0, 0, 0, 0.3));\n",
              "      fill: #FFFFFF;\n",
              "    }\n",
              "  </style>\n",
              "\n",
              "      <script>\n",
              "        const buttonEl =\n",
              "          document.querySelector('#df-9bd1d32c-3cd0-4d4a-b77d-25c76c331bd0 button.colab-df-convert');\n",
              "        buttonEl.style.display =\n",
              "          google.colab.kernel.accessAllowed ? 'block' : 'none';\n",
              "\n",
              "        async function convertToInteractive(key) {\n",
              "          const element = document.querySelector('#df-9bd1d32c-3cd0-4d4a-b77d-25c76c331bd0');\n",
              "          const dataTable =\n",
              "            await google.colab.kernel.invokeFunction('convertToInteractive',\n",
              "                                                     [key], {});\n",
              "          if (!dataTable) return;\n",
              "\n",
              "          const docLinkHtml = 'Like what you see? Visit the ' +\n",
              "            '<a target=\"_blank\" href=https://colab.research.google.com/notebooks/data_table.ipynb>data table notebook</a>'\n",
              "            + ' to learn more about interactive tables.';\n",
              "          element.innerHTML = '';\n",
              "          dataTable['output_type'] = 'display_data';\n",
              "          await google.colab.output.renderOutput(dataTable, element);\n",
              "          const docLink = document.createElement('div');\n",
              "          docLink.innerHTML = docLinkHtml;\n",
              "          element.appendChild(docLink);\n",
              "        }\n",
              "      </script>\n",
              "    </div>\n",
              "  </div>\n",
              "  "
            ]
          },
          "metadata": {},
          "execution_count": 62
        }
      ]
    },
    {
      "cell_type": "markdown",
      "source": [
        "### Linear Regression"
      ],
      "metadata": {
        "id": "eZAo7dHTaCvu"
      }
    },
    {
      "cell_type": "markdown",
      "source": [
        "**Model Pipeline**"
      ],
      "metadata": {
        "id": "Wci1R8ycfCN1"
      }
    },
    {
      "cell_type": "code",
      "source": [
        "## INSTANTIATE LINEAR REGRESION MODEL\n",
        "lreg = LinearRegression()"
      ],
      "metadata": {
        "id": "yyjWOYX0fBWa"
      },
      "execution_count": null,
      "outputs": []
    },
    {
      "cell_type": "markdown",
      "source": [
        "I'll combine the preprocessor pipeline I created with the model pipeline. "
      ],
      "metadata": {
        "id": "qegVPcrAgQeC"
      }
    },
    {
      "cell_type": "code",
      "source": [
        "## COMBINE PIPELINES\n",
        "lreg_pipe = make_pipeline(preprocessor, lreg)\n",
        "lreg_pipe"
      ],
      "metadata": {
        "colab": {
          "base_uri": "https://localhost:8080/",
          "height": 227
        },
        "id": "9yT3_53LgMfn",
        "outputId": "403f88fe-8212-4b2e-d3d2-9a38371e3dd5"
      },
      "execution_count": null,
      "outputs": [
        {
          "output_type": "execute_result",
          "data": {
            "text/plain": [
              "Pipeline(steps=[('columntransformer',\n",
              "                 ColumnTransformer(transformers=[('pipeline-1',\n",
              "                                                  Pipeline(steps=[('simpleimputer',\n",
              "                                                                   SimpleImputer()),\n",
              "                                                                  ('standardscaler',\n",
              "                                                                   StandardScaler())]),\n",
              "                                                  <sklearn.compose._column_transformer.make_column_selector object at 0x7f990a2e7340>),\n",
              "                                                 ('pipeline-2',\n",
              "                                                  Pipeline(steps=[('simpleimputer',\n",
              "                                                                   SimpleImputer(strategy='most_frequent')),\n",
              "                                                                  ('onehotencoder',\n",
              "                                                                   OneHotEncoder(handle_unknown='ignore',\n",
              "                                                                                 sparse=False))]),\n",
              "                                                  <sklearn.compose._column_transformer.make_column_selector object at 0x7f990bf42c10>)])),\n",
              "                ('linearregression', LinearRegression())])"
            ],
            "text/html": [
              "<style>#sk-d58aaf72-0f66-4844-bb42-abd5882ec60c {color: black;background-color: white;}#sk-d58aaf72-0f66-4844-bb42-abd5882ec60c pre{padding: 0;}#sk-d58aaf72-0f66-4844-bb42-abd5882ec60c div.sk-toggleable {background-color: white;}#sk-d58aaf72-0f66-4844-bb42-abd5882ec60c label.sk-toggleable__label {cursor: pointer;display: block;width: 100%;margin-bottom: 0;padding: 0.3em;box-sizing: border-box;text-align: center;}#sk-d58aaf72-0f66-4844-bb42-abd5882ec60c label.sk-toggleable__label-arrow:before {content: \"▸\";float: left;margin-right: 0.25em;color: #696969;}#sk-d58aaf72-0f66-4844-bb42-abd5882ec60c label.sk-toggleable__label-arrow:hover:before {color: black;}#sk-d58aaf72-0f66-4844-bb42-abd5882ec60c div.sk-estimator:hover label.sk-toggleable__label-arrow:before {color: black;}#sk-d58aaf72-0f66-4844-bb42-abd5882ec60c div.sk-toggleable__content {max-height: 0;max-width: 0;overflow: hidden;text-align: left;background-color: #f0f8ff;}#sk-d58aaf72-0f66-4844-bb42-abd5882ec60c div.sk-toggleable__content pre {margin: 0.2em;color: black;border-radius: 0.25em;background-color: #f0f8ff;}#sk-d58aaf72-0f66-4844-bb42-abd5882ec60c input.sk-toggleable__control:checked~div.sk-toggleable__content {max-height: 200px;max-width: 100%;overflow: auto;}#sk-d58aaf72-0f66-4844-bb42-abd5882ec60c input.sk-toggleable__control:checked~label.sk-toggleable__label-arrow:before {content: \"▾\";}#sk-d58aaf72-0f66-4844-bb42-abd5882ec60c div.sk-estimator input.sk-toggleable__control:checked~label.sk-toggleable__label {background-color: #d4ebff;}#sk-d58aaf72-0f66-4844-bb42-abd5882ec60c div.sk-label input.sk-toggleable__control:checked~label.sk-toggleable__label {background-color: #d4ebff;}#sk-d58aaf72-0f66-4844-bb42-abd5882ec60c input.sk-hidden--visually {border: 0;clip: rect(1px 1px 1px 1px);clip: rect(1px, 1px, 1px, 1px);height: 1px;margin: -1px;overflow: hidden;padding: 0;position: absolute;width: 1px;}#sk-d58aaf72-0f66-4844-bb42-abd5882ec60c div.sk-estimator {font-family: monospace;background-color: #f0f8ff;border: 1px dotted black;border-radius: 0.25em;box-sizing: border-box;margin-bottom: 0.5em;}#sk-d58aaf72-0f66-4844-bb42-abd5882ec60c div.sk-estimator:hover {background-color: #d4ebff;}#sk-d58aaf72-0f66-4844-bb42-abd5882ec60c div.sk-parallel-item::after {content: \"\";width: 100%;border-bottom: 1px solid gray;flex-grow: 1;}#sk-d58aaf72-0f66-4844-bb42-abd5882ec60c div.sk-label:hover label.sk-toggleable__label {background-color: #d4ebff;}#sk-d58aaf72-0f66-4844-bb42-abd5882ec60c div.sk-serial::before {content: \"\";position: absolute;border-left: 1px solid gray;box-sizing: border-box;top: 2em;bottom: 0;left: 50%;}#sk-d58aaf72-0f66-4844-bb42-abd5882ec60c div.sk-serial {display: flex;flex-direction: column;align-items: center;background-color: white;padding-right: 0.2em;padding-left: 0.2em;}#sk-d58aaf72-0f66-4844-bb42-abd5882ec60c div.sk-item {z-index: 1;}#sk-d58aaf72-0f66-4844-bb42-abd5882ec60c div.sk-parallel {display: flex;align-items: stretch;justify-content: center;background-color: white;}#sk-d58aaf72-0f66-4844-bb42-abd5882ec60c div.sk-parallel::before {content: \"\";position: absolute;border-left: 1px solid gray;box-sizing: border-box;top: 2em;bottom: 0;left: 50%;}#sk-d58aaf72-0f66-4844-bb42-abd5882ec60c div.sk-parallel-item {display: flex;flex-direction: column;position: relative;background-color: white;}#sk-d58aaf72-0f66-4844-bb42-abd5882ec60c div.sk-parallel-item:first-child::after {align-self: flex-end;width: 50%;}#sk-d58aaf72-0f66-4844-bb42-abd5882ec60c div.sk-parallel-item:last-child::after {align-self: flex-start;width: 50%;}#sk-d58aaf72-0f66-4844-bb42-abd5882ec60c div.sk-parallel-item:only-child::after {width: 0;}#sk-d58aaf72-0f66-4844-bb42-abd5882ec60c div.sk-dashed-wrapped {border: 1px dashed gray;margin: 0 0.4em 0.5em 0.4em;box-sizing: border-box;padding-bottom: 0.4em;background-color: white;position: relative;}#sk-d58aaf72-0f66-4844-bb42-abd5882ec60c div.sk-label label {font-family: monospace;font-weight: bold;background-color: white;display: inline-block;line-height: 1.2em;}#sk-d58aaf72-0f66-4844-bb42-abd5882ec60c div.sk-label-container {position: relative;z-index: 2;text-align: center;}#sk-d58aaf72-0f66-4844-bb42-abd5882ec60c div.sk-container {/* jupyter's `normalize.less` sets `[hidden] { display: none; }` but bootstrap.min.css set `[hidden] { display: none !important; }` so we also need the `!important` here to be able to override the default hidden behavior on the sphinx rendered scikit-learn.org. See: https://github.com/scikit-learn/scikit-learn/issues/21755 */display: inline-block !important;position: relative;}#sk-d58aaf72-0f66-4844-bb42-abd5882ec60c div.sk-text-repr-fallback {display: none;}</style><div id=\"sk-d58aaf72-0f66-4844-bb42-abd5882ec60c\" class=\"sk-top-container\"><div class=\"sk-text-repr-fallback\"><pre>Pipeline(steps=[(&#x27;columntransformer&#x27;,\n",
              "                 ColumnTransformer(transformers=[(&#x27;pipeline-1&#x27;,\n",
              "                                                  Pipeline(steps=[(&#x27;simpleimputer&#x27;,\n",
              "                                                                   SimpleImputer()),\n",
              "                                                                  (&#x27;standardscaler&#x27;,\n",
              "                                                                   StandardScaler())]),\n",
              "                                                  &lt;sklearn.compose._column_transformer.make_column_selector object at 0x7f990a2e7340&gt;),\n",
              "                                                 (&#x27;pipeline-2&#x27;,\n",
              "                                                  Pipeline(steps=[(&#x27;simpleimputer&#x27;,\n",
              "                                                                   SimpleImputer(strategy=&#x27;most_frequent&#x27;)),\n",
              "                                                                  (&#x27;onehotencoder&#x27;,\n",
              "                                                                   OneHotEncoder(handle_unknown=&#x27;ignore&#x27;,\n",
              "                                                                                 sparse=False))]),\n",
              "                                                  &lt;sklearn.compose._column_transformer.make_column_selector object at 0x7f990bf42c10&gt;)])),\n",
              "                (&#x27;linearregression&#x27;, LinearRegression())])</pre><b>Please rerun this cell to show the HTML repr or trust the notebook.</b></div><div class=\"sk-container\" hidden><div class=\"sk-item sk-dashed-wrapped\"><div class=\"sk-label-container\"><div class=\"sk-label sk-toggleable\"><input class=\"sk-toggleable__control sk-hidden--visually\" id=\"3e36e477-eba2-4f15-9d2f-0de12529f7db\" type=\"checkbox\" ><label for=\"3e36e477-eba2-4f15-9d2f-0de12529f7db\" class=\"sk-toggleable__label sk-toggleable__label-arrow\">Pipeline</label><div class=\"sk-toggleable__content\"><pre>Pipeline(steps=[(&#x27;columntransformer&#x27;,\n",
              "                 ColumnTransformer(transformers=[(&#x27;pipeline-1&#x27;,\n",
              "                                                  Pipeline(steps=[(&#x27;simpleimputer&#x27;,\n",
              "                                                                   SimpleImputer()),\n",
              "                                                                  (&#x27;standardscaler&#x27;,\n",
              "                                                                   StandardScaler())]),\n",
              "                                                  &lt;sklearn.compose._column_transformer.make_column_selector object at 0x7f990a2e7340&gt;),\n",
              "                                                 (&#x27;pipeline-2&#x27;,\n",
              "                                                  Pipeline(steps=[(&#x27;simpleimputer&#x27;,\n",
              "                                                                   SimpleImputer(strategy=&#x27;most_frequent&#x27;)),\n",
              "                                                                  (&#x27;onehotencoder&#x27;,\n",
              "                                                                   OneHotEncoder(handle_unknown=&#x27;ignore&#x27;,\n",
              "                                                                                 sparse=False))]),\n",
              "                                                  &lt;sklearn.compose._column_transformer.make_column_selector object at 0x7f990bf42c10&gt;)])),\n",
              "                (&#x27;linearregression&#x27;, LinearRegression())])</pre></div></div></div><div class=\"sk-serial\"><div class=\"sk-item sk-dashed-wrapped\"><div class=\"sk-label-container\"><div class=\"sk-label sk-toggleable\"><input class=\"sk-toggleable__control sk-hidden--visually\" id=\"1d199b95-b078-4868-8849-defa158e0ad3\" type=\"checkbox\" ><label for=\"1d199b95-b078-4868-8849-defa158e0ad3\" class=\"sk-toggleable__label sk-toggleable__label-arrow\">columntransformer: ColumnTransformer</label><div class=\"sk-toggleable__content\"><pre>ColumnTransformer(transformers=[(&#x27;pipeline-1&#x27;,\n",
              "                                 Pipeline(steps=[(&#x27;simpleimputer&#x27;,\n",
              "                                                  SimpleImputer()),\n",
              "                                                 (&#x27;standardscaler&#x27;,\n",
              "                                                  StandardScaler())]),\n",
              "                                 &lt;sklearn.compose._column_transformer.make_column_selector object at 0x7f990a2e7340&gt;),\n",
              "                                (&#x27;pipeline-2&#x27;,\n",
              "                                 Pipeline(steps=[(&#x27;simpleimputer&#x27;,\n",
              "                                                  SimpleImputer(strategy=&#x27;most_frequent&#x27;)),\n",
              "                                                 (&#x27;onehotencoder&#x27;,\n",
              "                                                  OneHotEncoder(handle_unknown=&#x27;ignore&#x27;,\n",
              "                                                                sparse=False))]),\n",
              "                                 &lt;sklearn.compose._column_transformer.make_column_selector object at 0x7f990bf42c10&gt;)])</pre></div></div></div><div class=\"sk-parallel\"><div class=\"sk-parallel-item\"><div class=\"sk-item\"><div class=\"sk-label-container\"><div class=\"sk-label sk-toggleable\"><input class=\"sk-toggleable__control sk-hidden--visually\" id=\"bb03d37c-a522-44cd-8e4a-60665b675476\" type=\"checkbox\" ><label for=\"bb03d37c-a522-44cd-8e4a-60665b675476\" class=\"sk-toggleable__label sk-toggleable__label-arrow\">pipeline-1</label><div class=\"sk-toggleable__content\"><pre>&lt;sklearn.compose._column_transformer.make_column_selector object at 0x7f990a2e7340&gt;</pre></div></div></div><div class=\"sk-serial\"><div class=\"sk-item\"><div class=\"sk-serial\"><div class=\"sk-item\"><div class=\"sk-estimator sk-toggleable\"><input class=\"sk-toggleable__control sk-hidden--visually\" id=\"598cb596-89a6-4e91-8bc1-89a774635b6a\" type=\"checkbox\" ><label for=\"598cb596-89a6-4e91-8bc1-89a774635b6a\" class=\"sk-toggleable__label sk-toggleable__label-arrow\">SimpleImputer</label><div class=\"sk-toggleable__content\"><pre>SimpleImputer()</pre></div></div></div><div class=\"sk-item\"><div class=\"sk-estimator sk-toggleable\"><input class=\"sk-toggleable__control sk-hidden--visually\" id=\"89828ae2-bd34-4fd7-ba96-8e8b8e3d86c6\" type=\"checkbox\" ><label for=\"89828ae2-bd34-4fd7-ba96-8e8b8e3d86c6\" class=\"sk-toggleable__label sk-toggleable__label-arrow\">StandardScaler</label><div class=\"sk-toggleable__content\"><pre>StandardScaler()</pre></div></div></div></div></div></div></div></div><div class=\"sk-parallel-item\"><div class=\"sk-item\"><div class=\"sk-label-container\"><div class=\"sk-label sk-toggleable\"><input class=\"sk-toggleable__control sk-hidden--visually\" id=\"7c9d2221-1a09-49fc-82ea-ece2a7281288\" type=\"checkbox\" ><label for=\"7c9d2221-1a09-49fc-82ea-ece2a7281288\" class=\"sk-toggleable__label sk-toggleable__label-arrow\">pipeline-2</label><div class=\"sk-toggleable__content\"><pre>&lt;sklearn.compose._column_transformer.make_column_selector object at 0x7f990bf42c10&gt;</pre></div></div></div><div class=\"sk-serial\"><div class=\"sk-item\"><div class=\"sk-serial\"><div class=\"sk-item\"><div class=\"sk-estimator sk-toggleable\"><input class=\"sk-toggleable__control sk-hidden--visually\" id=\"e9cc424e-f8da-4625-8e5e-770cc29e4891\" type=\"checkbox\" ><label for=\"e9cc424e-f8da-4625-8e5e-770cc29e4891\" class=\"sk-toggleable__label sk-toggleable__label-arrow\">SimpleImputer</label><div class=\"sk-toggleable__content\"><pre>SimpleImputer(strategy=&#x27;most_frequent&#x27;)</pre></div></div></div><div class=\"sk-item\"><div class=\"sk-estimator sk-toggleable\"><input class=\"sk-toggleable__control sk-hidden--visually\" id=\"c8e32628-4ca2-47e3-ad31-f07d3e01caea\" type=\"checkbox\" ><label for=\"c8e32628-4ca2-47e3-ad31-f07d3e01caea\" class=\"sk-toggleable__label sk-toggleable__label-arrow\">OneHotEncoder</label><div class=\"sk-toggleable__content\"><pre>OneHotEncoder(handle_unknown=&#x27;ignore&#x27;, sparse=False)</pre></div></div></div></div></div></div></div></div></div></div><div class=\"sk-item\"><div class=\"sk-estimator sk-toggleable\"><input class=\"sk-toggleable__control sk-hidden--visually\" id=\"f842627d-e780-484c-8d50-0179cd1e7512\" type=\"checkbox\" ><label for=\"f842627d-e780-484c-8d50-0179cd1e7512\" class=\"sk-toggleable__label sk-toggleable__label-arrow\">LinearRegression</label><div class=\"sk-toggleable__content\"><pre>LinearRegression()</pre></div></div></div></div></div></div></div>"
            ]
          },
          "metadata": {},
          "execution_count": 64
        }
      ]
    },
    {
      "cell_type": "markdown",
      "source": [
        "Fit the model on training data"
      ],
      "metadata": {
        "id": "6h3fIfDljFXN"
      }
    },
    {
      "cell_type": "code",
      "source": [
        "## FIT THE MODEL\n",
        "lreg_pipe.fit(X_train, y_train)"
      ],
      "metadata": {
        "colab": {
          "base_uri": "https://localhost:8080/",
          "height": 227
        },
        "id": "yh5TYZK_gyNX",
        "outputId": "cad38fac-1a43-4334-9c88-1f0244b32737"
      },
      "execution_count": null,
      "outputs": [
        {
          "output_type": "execute_result",
          "data": {
            "text/plain": [
              "Pipeline(steps=[('columntransformer',\n",
              "                 ColumnTransformer(transformers=[('pipeline-1',\n",
              "                                                  Pipeline(steps=[('simpleimputer',\n",
              "                                                                   SimpleImputer()),\n",
              "                                                                  ('standardscaler',\n",
              "                                                                   StandardScaler())]),\n",
              "                                                  <sklearn.compose._column_transformer.make_column_selector object at 0x7f990a2e7340>),\n",
              "                                                 ('pipeline-2',\n",
              "                                                  Pipeline(steps=[('simpleimputer',\n",
              "                                                                   SimpleImputer(strategy='most_frequent')),\n",
              "                                                                  ('onehotencoder',\n",
              "                                                                   OneHotEncoder(handle_unknown='ignore',\n",
              "                                                                                 sparse=False))]),\n",
              "                                                  <sklearn.compose._column_transformer.make_column_selector object at 0x7f990bf42c10>)])),\n",
              "                ('linearregression', LinearRegression())])"
            ],
            "text/html": [
              "<style>#sk-4e829b70-55eb-42ef-8b2e-631c88c80eba {color: black;background-color: white;}#sk-4e829b70-55eb-42ef-8b2e-631c88c80eba pre{padding: 0;}#sk-4e829b70-55eb-42ef-8b2e-631c88c80eba div.sk-toggleable {background-color: white;}#sk-4e829b70-55eb-42ef-8b2e-631c88c80eba label.sk-toggleable__label {cursor: pointer;display: block;width: 100%;margin-bottom: 0;padding: 0.3em;box-sizing: border-box;text-align: center;}#sk-4e829b70-55eb-42ef-8b2e-631c88c80eba label.sk-toggleable__label-arrow:before {content: \"▸\";float: left;margin-right: 0.25em;color: #696969;}#sk-4e829b70-55eb-42ef-8b2e-631c88c80eba label.sk-toggleable__label-arrow:hover:before {color: black;}#sk-4e829b70-55eb-42ef-8b2e-631c88c80eba div.sk-estimator:hover label.sk-toggleable__label-arrow:before {color: black;}#sk-4e829b70-55eb-42ef-8b2e-631c88c80eba div.sk-toggleable__content {max-height: 0;max-width: 0;overflow: hidden;text-align: left;background-color: #f0f8ff;}#sk-4e829b70-55eb-42ef-8b2e-631c88c80eba div.sk-toggleable__content pre {margin: 0.2em;color: black;border-radius: 0.25em;background-color: #f0f8ff;}#sk-4e829b70-55eb-42ef-8b2e-631c88c80eba input.sk-toggleable__control:checked~div.sk-toggleable__content {max-height: 200px;max-width: 100%;overflow: auto;}#sk-4e829b70-55eb-42ef-8b2e-631c88c80eba input.sk-toggleable__control:checked~label.sk-toggleable__label-arrow:before {content: \"▾\";}#sk-4e829b70-55eb-42ef-8b2e-631c88c80eba div.sk-estimator input.sk-toggleable__control:checked~label.sk-toggleable__label {background-color: #d4ebff;}#sk-4e829b70-55eb-42ef-8b2e-631c88c80eba div.sk-label input.sk-toggleable__control:checked~label.sk-toggleable__label {background-color: #d4ebff;}#sk-4e829b70-55eb-42ef-8b2e-631c88c80eba input.sk-hidden--visually {border: 0;clip: rect(1px 1px 1px 1px);clip: rect(1px, 1px, 1px, 1px);height: 1px;margin: -1px;overflow: hidden;padding: 0;position: absolute;width: 1px;}#sk-4e829b70-55eb-42ef-8b2e-631c88c80eba div.sk-estimator {font-family: monospace;background-color: #f0f8ff;border: 1px dotted black;border-radius: 0.25em;box-sizing: border-box;margin-bottom: 0.5em;}#sk-4e829b70-55eb-42ef-8b2e-631c88c80eba div.sk-estimator:hover {background-color: #d4ebff;}#sk-4e829b70-55eb-42ef-8b2e-631c88c80eba div.sk-parallel-item::after {content: \"\";width: 100%;border-bottom: 1px solid gray;flex-grow: 1;}#sk-4e829b70-55eb-42ef-8b2e-631c88c80eba div.sk-label:hover label.sk-toggleable__label {background-color: #d4ebff;}#sk-4e829b70-55eb-42ef-8b2e-631c88c80eba div.sk-serial::before {content: \"\";position: absolute;border-left: 1px solid gray;box-sizing: border-box;top: 2em;bottom: 0;left: 50%;}#sk-4e829b70-55eb-42ef-8b2e-631c88c80eba div.sk-serial {display: flex;flex-direction: column;align-items: center;background-color: white;padding-right: 0.2em;padding-left: 0.2em;}#sk-4e829b70-55eb-42ef-8b2e-631c88c80eba div.sk-item {z-index: 1;}#sk-4e829b70-55eb-42ef-8b2e-631c88c80eba div.sk-parallel {display: flex;align-items: stretch;justify-content: center;background-color: white;}#sk-4e829b70-55eb-42ef-8b2e-631c88c80eba div.sk-parallel::before {content: \"\";position: absolute;border-left: 1px solid gray;box-sizing: border-box;top: 2em;bottom: 0;left: 50%;}#sk-4e829b70-55eb-42ef-8b2e-631c88c80eba div.sk-parallel-item {display: flex;flex-direction: column;position: relative;background-color: white;}#sk-4e829b70-55eb-42ef-8b2e-631c88c80eba div.sk-parallel-item:first-child::after {align-self: flex-end;width: 50%;}#sk-4e829b70-55eb-42ef-8b2e-631c88c80eba div.sk-parallel-item:last-child::after {align-self: flex-start;width: 50%;}#sk-4e829b70-55eb-42ef-8b2e-631c88c80eba div.sk-parallel-item:only-child::after {width: 0;}#sk-4e829b70-55eb-42ef-8b2e-631c88c80eba div.sk-dashed-wrapped {border: 1px dashed gray;margin: 0 0.4em 0.5em 0.4em;box-sizing: border-box;padding-bottom: 0.4em;background-color: white;position: relative;}#sk-4e829b70-55eb-42ef-8b2e-631c88c80eba div.sk-label label {font-family: monospace;font-weight: bold;background-color: white;display: inline-block;line-height: 1.2em;}#sk-4e829b70-55eb-42ef-8b2e-631c88c80eba div.sk-label-container {position: relative;z-index: 2;text-align: center;}#sk-4e829b70-55eb-42ef-8b2e-631c88c80eba div.sk-container {/* jupyter's `normalize.less` sets `[hidden] { display: none; }` but bootstrap.min.css set `[hidden] { display: none !important; }` so we also need the `!important` here to be able to override the default hidden behavior on the sphinx rendered scikit-learn.org. See: https://github.com/scikit-learn/scikit-learn/issues/21755 */display: inline-block !important;position: relative;}#sk-4e829b70-55eb-42ef-8b2e-631c88c80eba div.sk-text-repr-fallback {display: none;}</style><div id=\"sk-4e829b70-55eb-42ef-8b2e-631c88c80eba\" class=\"sk-top-container\"><div class=\"sk-text-repr-fallback\"><pre>Pipeline(steps=[(&#x27;columntransformer&#x27;,\n",
              "                 ColumnTransformer(transformers=[(&#x27;pipeline-1&#x27;,\n",
              "                                                  Pipeline(steps=[(&#x27;simpleimputer&#x27;,\n",
              "                                                                   SimpleImputer()),\n",
              "                                                                  (&#x27;standardscaler&#x27;,\n",
              "                                                                   StandardScaler())]),\n",
              "                                                  &lt;sklearn.compose._column_transformer.make_column_selector object at 0x7f990a2e7340&gt;),\n",
              "                                                 (&#x27;pipeline-2&#x27;,\n",
              "                                                  Pipeline(steps=[(&#x27;simpleimputer&#x27;,\n",
              "                                                                   SimpleImputer(strategy=&#x27;most_frequent&#x27;)),\n",
              "                                                                  (&#x27;onehotencoder&#x27;,\n",
              "                                                                   OneHotEncoder(handle_unknown=&#x27;ignore&#x27;,\n",
              "                                                                                 sparse=False))]),\n",
              "                                                  &lt;sklearn.compose._column_transformer.make_column_selector object at 0x7f990bf42c10&gt;)])),\n",
              "                (&#x27;linearregression&#x27;, LinearRegression())])</pre><b>Please rerun this cell to show the HTML repr or trust the notebook.</b></div><div class=\"sk-container\" hidden><div class=\"sk-item sk-dashed-wrapped\"><div class=\"sk-label-container\"><div class=\"sk-label sk-toggleable\"><input class=\"sk-toggleable__control sk-hidden--visually\" id=\"a6970b63-3924-49e9-bf51-b1e83e74d88c\" type=\"checkbox\" ><label for=\"a6970b63-3924-49e9-bf51-b1e83e74d88c\" class=\"sk-toggleable__label sk-toggleable__label-arrow\">Pipeline</label><div class=\"sk-toggleable__content\"><pre>Pipeline(steps=[(&#x27;columntransformer&#x27;,\n",
              "                 ColumnTransformer(transformers=[(&#x27;pipeline-1&#x27;,\n",
              "                                                  Pipeline(steps=[(&#x27;simpleimputer&#x27;,\n",
              "                                                                   SimpleImputer()),\n",
              "                                                                  (&#x27;standardscaler&#x27;,\n",
              "                                                                   StandardScaler())]),\n",
              "                                                  &lt;sklearn.compose._column_transformer.make_column_selector object at 0x7f990a2e7340&gt;),\n",
              "                                                 (&#x27;pipeline-2&#x27;,\n",
              "                                                  Pipeline(steps=[(&#x27;simpleimputer&#x27;,\n",
              "                                                                   SimpleImputer(strategy=&#x27;most_frequent&#x27;)),\n",
              "                                                                  (&#x27;onehotencoder&#x27;,\n",
              "                                                                   OneHotEncoder(handle_unknown=&#x27;ignore&#x27;,\n",
              "                                                                                 sparse=False))]),\n",
              "                                                  &lt;sklearn.compose._column_transformer.make_column_selector object at 0x7f990bf42c10&gt;)])),\n",
              "                (&#x27;linearregression&#x27;, LinearRegression())])</pre></div></div></div><div class=\"sk-serial\"><div class=\"sk-item sk-dashed-wrapped\"><div class=\"sk-label-container\"><div class=\"sk-label sk-toggleable\"><input class=\"sk-toggleable__control sk-hidden--visually\" id=\"3d985e4a-347b-4e37-b90e-94442ab87da0\" type=\"checkbox\" ><label for=\"3d985e4a-347b-4e37-b90e-94442ab87da0\" class=\"sk-toggleable__label sk-toggleable__label-arrow\">columntransformer: ColumnTransformer</label><div class=\"sk-toggleable__content\"><pre>ColumnTransformer(transformers=[(&#x27;pipeline-1&#x27;,\n",
              "                                 Pipeline(steps=[(&#x27;simpleimputer&#x27;,\n",
              "                                                  SimpleImputer()),\n",
              "                                                 (&#x27;standardscaler&#x27;,\n",
              "                                                  StandardScaler())]),\n",
              "                                 &lt;sklearn.compose._column_transformer.make_column_selector object at 0x7f990a2e7340&gt;),\n",
              "                                (&#x27;pipeline-2&#x27;,\n",
              "                                 Pipeline(steps=[(&#x27;simpleimputer&#x27;,\n",
              "                                                  SimpleImputer(strategy=&#x27;most_frequent&#x27;)),\n",
              "                                                 (&#x27;onehotencoder&#x27;,\n",
              "                                                  OneHotEncoder(handle_unknown=&#x27;ignore&#x27;,\n",
              "                                                                sparse=False))]),\n",
              "                                 &lt;sklearn.compose._column_transformer.make_column_selector object at 0x7f990bf42c10&gt;)])</pre></div></div></div><div class=\"sk-parallel\"><div class=\"sk-parallel-item\"><div class=\"sk-item\"><div class=\"sk-label-container\"><div class=\"sk-label sk-toggleable\"><input class=\"sk-toggleable__control sk-hidden--visually\" id=\"353f9afa-93af-41c0-9439-f7f5219198a2\" type=\"checkbox\" ><label for=\"353f9afa-93af-41c0-9439-f7f5219198a2\" class=\"sk-toggleable__label sk-toggleable__label-arrow\">pipeline-1</label><div class=\"sk-toggleable__content\"><pre>&lt;sklearn.compose._column_transformer.make_column_selector object at 0x7f990a2e7340&gt;</pre></div></div></div><div class=\"sk-serial\"><div class=\"sk-item\"><div class=\"sk-serial\"><div class=\"sk-item\"><div class=\"sk-estimator sk-toggleable\"><input class=\"sk-toggleable__control sk-hidden--visually\" id=\"705e5f34-6ca5-4e55-9a64-f3c44236fd1b\" type=\"checkbox\" ><label for=\"705e5f34-6ca5-4e55-9a64-f3c44236fd1b\" class=\"sk-toggleable__label sk-toggleable__label-arrow\">SimpleImputer</label><div class=\"sk-toggleable__content\"><pre>SimpleImputer()</pre></div></div></div><div class=\"sk-item\"><div class=\"sk-estimator sk-toggleable\"><input class=\"sk-toggleable__control sk-hidden--visually\" id=\"4b9c29fd-8a1a-49ad-acc0-b4c737c06b13\" type=\"checkbox\" ><label for=\"4b9c29fd-8a1a-49ad-acc0-b4c737c06b13\" class=\"sk-toggleable__label sk-toggleable__label-arrow\">StandardScaler</label><div class=\"sk-toggleable__content\"><pre>StandardScaler()</pre></div></div></div></div></div></div></div></div><div class=\"sk-parallel-item\"><div class=\"sk-item\"><div class=\"sk-label-container\"><div class=\"sk-label sk-toggleable\"><input class=\"sk-toggleable__control sk-hidden--visually\" id=\"ff23b98c-2bc6-4291-bd9b-d33c6a2296a1\" type=\"checkbox\" ><label for=\"ff23b98c-2bc6-4291-bd9b-d33c6a2296a1\" class=\"sk-toggleable__label sk-toggleable__label-arrow\">pipeline-2</label><div class=\"sk-toggleable__content\"><pre>&lt;sklearn.compose._column_transformer.make_column_selector object at 0x7f990bf42c10&gt;</pre></div></div></div><div class=\"sk-serial\"><div class=\"sk-item\"><div class=\"sk-serial\"><div class=\"sk-item\"><div class=\"sk-estimator sk-toggleable\"><input class=\"sk-toggleable__control sk-hidden--visually\" id=\"d55946ca-0b47-482c-bd50-c7e78d8902e3\" type=\"checkbox\" ><label for=\"d55946ca-0b47-482c-bd50-c7e78d8902e3\" class=\"sk-toggleable__label sk-toggleable__label-arrow\">SimpleImputer</label><div class=\"sk-toggleable__content\"><pre>SimpleImputer(strategy=&#x27;most_frequent&#x27;)</pre></div></div></div><div class=\"sk-item\"><div class=\"sk-estimator sk-toggleable\"><input class=\"sk-toggleable__control sk-hidden--visually\" id=\"8cc658f8-2124-4190-b350-3bd65cf042b3\" type=\"checkbox\" ><label for=\"8cc658f8-2124-4190-b350-3bd65cf042b3\" class=\"sk-toggleable__label sk-toggleable__label-arrow\">OneHotEncoder</label><div class=\"sk-toggleable__content\"><pre>OneHotEncoder(handle_unknown=&#x27;ignore&#x27;, sparse=False)</pre></div></div></div></div></div></div></div></div></div></div><div class=\"sk-item\"><div class=\"sk-estimator sk-toggleable\"><input class=\"sk-toggleable__control sk-hidden--visually\" id=\"032ab468-1740-40a2-a2b2-cd2662d98a99\" type=\"checkbox\" ><label for=\"032ab468-1740-40a2-a2b2-cd2662d98a99\" class=\"sk-toggleable__label sk-toggleable__label-arrow\">LinearRegression</label><div class=\"sk-toggleable__content\"><pre>LinearRegression()</pre></div></div></div></div></div></div></div>"
            ]
          },
          "metadata": {},
          "execution_count": 65
        }
      ]
    },
    {
      "cell_type": "code",
      "source": [
        "## PREDICT\n",
        "lreg_pred_train = lreg_pipe.predict(X_train)\n",
        "lreg_pred_test = lreg_pipe.predict(X_test)\n"
      ],
      "metadata": {
        "id": "Kr1HBbhejTm1"
      },
      "execution_count": null,
      "outputs": []
    },
    {
      "cell_type": "markdown",
      "source": [
        "Linear Regression Performance Metrics"
      ],
      "metadata": {
        "id": "K28BDTJAlEPI"
      }
    },
    {
      "cell_type": "code",
      "source": [
        "lreg_metrics = metrics(lreg_pred_train, lreg_pred_test)\n",
        "lreg_metrics"
      ],
      "metadata": {
        "colab": {
          "base_uri": "https://localhost:8080/",
          "height": 112
        },
        "id": "puG8M3gUlBOl",
        "outputId": "edf03ceb-f52d-411f-b732-24bfa8f72770"
      },
      "execution_count": null,
      "outputs": [
        {
          "output_type": "execute_result",
          "data": {
            "text/plain": [
              "            Train         Test\n",
              "RMSE  1140.324208  1094.756967\n",
              "R^2      0.560615     0.565603"
            ],
            "text/html": [
              "\n",
              "  <div id=\"df-816f87bc-37f3-4775-ac7c-8a32908961aa\">\n",
              "    <div class=\"colab-df-container\">\n",
              "      <div>\n",
              "<style scoped>\n",
              "    .dataframe tbody tr th:only-of-type {\n",
              "        vertical-align: middle;\n",
              "    }\n",
              "\n",
              "    .dataframe tbody tr th {\n",
              "        vertical-align: top;\n",
              "    }\n",
              "\n",
              "    .dataframe thead th {\n",
              "        text-align: right;\n",
              "    }\n",
              "</style>\n",
              "<table border=\"1\" class=\"dataframe\">\n",
              "  <thead>\n",
              "    <tr style=\"text-align: right;\">\n",
              "      <th></th>\n",
              "      <th>Train</th>\n",
              "      <th>Test</th>\n",
              "    </tr>\n",
              "  </thead>\n",
              "  <tbody>\n",
              "    <tr>\n",
              "      <th>RMSE</th>\n",
              "      <td>1140.324208</td>\n",
              "      <td>1094.756967</td>\n",
              "    </tr>\n",
              "    <tr>\n",
              "      <th>R^2</th>\n",
              "      <td>0.560615</td>\n",
              "      <td>0.565603</td>\n",
              "    </tr>\n",
              "  </tbody>\n",
              "</table>\n",
              "</div>\n",
              "      <button class=\"colab-df-convert\" onclick=\"convertToInteractive('df-816f87bc-37f3-4775-ac7c-8a32908961aa')\"\n",
              "              title=\"Convert this dataframe to an interactive table.\"\n",
              "              style=\"display:none;\">\n",
              "        \n",
              "  <svg xmlns=\"http://www.w3.org/2000/svg\" height=\"24px\"viewBox=\"0 0 24 24\"\n",
              "       width=\"24px\">\n",
              "    <path d=\"M0 0h24v24H0V0z\" fill=\"none\"/>\n",
              "    <path d=\"M18.56 5.44l.94 2.06.94-2.06 2.06-.94-2.06-.94-.94-2.06-.94 2.06-2.06.94zm-11 1L8.5 8.5l.94-2.06 2.06-.94-2.06-.94L8.5 2.5l-.94 2.06-2.06.94zm10 10l.94 2.06.94-2.06 2.06-.94-2.06-.94-.94-2.06-.94 2.06-2.06.94z\"/><path d=\"M17.41 7.96l-1.37-1.37c-.4-.4-.92-.59-1.43-.59-.52 0-1.04.2-1.43.59L10.3 9.45l-7.72 7.72c-.78.78-.78 2.05 0 2.83L4 21.41c.39.39.9.59 1.41.59.51 0 1.02-.2 1.41-.59l7.78-7.78 2.81-2.81c.8-.78.8-2.07 0-2.86zM5.41 20L4 18.59l7.72-7.72 1.47 1.35L5.41 20z\"/>\n",
              "  </svg>\n",
              "      </button>\n",
              "      \n",
              "  <style>\n",
              "    .colab-df-container {\n",
              "      display:flex;\n",
              "      flex-wrap:wrap;\n",
              "      gap: 12px;\n",
              "    }\n",
              "\n",
              "    .colab-df-convert {\n",
              "      background-color: #E8F0FE;\n",
              "      border: none;\n",
              "      border-radius: 50%;\n",
              "      cursor: pointer;\n",
              "      display: none;\n",
              "      fill: #1967D2;\n",
              "      height: 32px;\n",
              "      padding: 0 0 0 0;\n",
              "      width: 32px;\n",
              "    }\n",
              "\n",
              "    .colab-df-convert:hover {\n",
              "      background-color: #E2EBFA;\n",
              "      box-shadow: 0px 1px 2px rgba(60, 64, 67, 0.3), 0px 1px 3px 1px rgba(60, 64, 67, 0.15);\n",
              "      fill: #174EA6;\n",
              "    }\n",
              "\n",
              "    [theme=dark] .colab-df-convert {\n",
              "      background-color: #3B4455;\n",
              "      fill: #D2E3FC;\n",
              "    }\n",
              "\n",
              "    [theme=dark] .colab-df-convert:hover {\n",
              "      background-color: #434B5C;\n",
              "      box-shadow: 0px 1px 3px 1px rgba(0, 0, 0, 0.15);\n",
              "      filter: drop-shadow(0px 1px 2px rgba(0, 0, 0, 0.3));\n",
              "      fill: #FFFFFF;\n",
              "    }\n",
              "  </style>\n",
              "\n",
              "      <script>\n",
              "        const buttonEl =\n",
              "          document.querySelector('#df-816f87bc-37f3-4775-ac7c-8a32908961aa button.colab-df-convert');\n",
              "        buttonEl.style.display =\n",
              "          google.colab.kernel.accessAllowed ? 'block' : 'none';\n",
              "\n",
              "        async function convertToInteractive(key) {\n",
              "          const element = document.querySelector('#df-816f87bc-37f3-4775-ac7c-8a32908961aa');\n",
              "          const dataTable =\n",
              "            await google.colab.kernel.invokeFunction('convertToInteractive',\n",
              "                                                     [key], {});\n",
              "          if (!dataTable) return;\n",
              "\n",
              "          const docLinkHtml = 'Like what you see? Visit the ' +\n",
              "            '<a target=\"_blank\" href=https://colab.research.google.com/notebooks/data_table.ipynb>data table notebook</a>'\n",
              "            + ' to learn more about interactive tables.';\n",
              "          element.innerHTML = '';\n",
              "          dataTable['output_type'] = 'display_data';\n",
              "          await google.colab.output.renderOutput(dataTable, element);\n",
              "          const docLink = document.createElement('div');\n",
              "          docLink.innerHTML = docLinkHtml;\n",
              "          element.appendChild(docLink);\n",
              "        }\n",
              "      </script>\n",
              "    </div>\n",
              "  </div>\n",
              "  "
            ]
          },
          "metadata": {},
          "execution_count": 67
        }
      ]
    },
    {
      "cell_type": "markdown",
      "source": [
        "We are here with a model with high variance, I'll using a regularization method to see if this gets improved. "
      ],
      "metadata": {
        "id": "3w0sV0Hlp7wv"
      }
    },
    {
      "cell_type": "code",
      "source": [
        "print(min(lreg_pred_test))\n",
        "print(max(lreg_pred_test))"
      ],
      "metadata": {
        "colab": {
          "base_uri": "https://localhost:8080/"
        },
        "id": "uEZgFPzPzYb6",
        "outputId": "eaf49315-60ef-444e-c710-c4fa1f6805a3"
      },
      "execution_count": null,
      "outputs": [
        {
          "output_type": "stream",
          "name": "stdout",
          "text": [
            "-1461.4488009720658\n",
            "5649.868476823356\n"
          ]
        }
      ]
    },
    {
      "cell_type": "markdown",
      "source": [
        "There are no good numbers for the Linear Regression:\n",
        "\n",
        "* High RMSE high error, means high variability, so the regresion is not fitting properly.\n",
        "* Lower R^2 Score confirms the statement above, the model is not fitting properly, because it is still at least 43% of the data that the model couldn't predict. "
      ],
      "metadata": {
        "id": "TeGtk1A_vmzJ"
      }
    },
    {
      "cell_type": "markdown",
      "source": [
        "### Desicion Tree\n"
      ],
      "metadata": {
        "id": "0Jcr2IG2188d"
      }
    },
    {
      "cell_type": "code",
      "source": [
        "## INSTANTIATING THE MODEL\n",
        "dtree = DecisionTreeRegressor(random_state=42)"
      ],
      "metadata": {
        "id": "nD2w-ULk3Qkw"
      },
      "execution_count": null,
      "outputs": []
    },
    {
      "cell_type": "code",
      "source": [
        "## COMBINING PIPELINE\n",
        "dtree_pipe = make_pipeline(preprocessor, dtree)"
      ],
      "metadata": {
        "id": "LZOCrCBe3d71"
      },
      "execution_count": null,
      "outputs": []
    },
    {
      "cell_type": "code",
      "source": [
        "## FIT MODEL\n",
        "dtree_pipe.fit(X_train, y_train)"
      ],
      "metadata": {
        "colab": {
          "base_uri": "https://localhost:8080/",
          "height": 227
        },
        "id": "g_1Etu9t3syy",
        "outputId": "b46cbcd9-f5b5-4b70-9469-3d4624be27f7"
      },
      "execution_count": null,
      "outputs": [
        {
          "output_type": "execute_result",
          "data": {
            "text/plain": [
              "Pipeline(steps=[('columntransformer',\n",
              "                 ColumnTransformer(transformers=[('pipeline-1',\n",
              "                                                  Pipeline(steps=[('simpleimputer',\n",
              "                                                                   SimpleImputer()),\n",
              "                                                                  ('standardscaler',\n",
              "                                                                   StandardScaler())]),\n",
              "                                                  <sklearn.compose._column_transformer.make_column_selector object at 0x7f990a2e7340>),\n",
              "                                                 ('pipeline-2',\n",
              "                                                  Pipeline(steps=[('simpleimputer',\n",
              "                                                                   SimpleImputer(strategy='most_frequent')),\n",
              "                                                                  ('onehotencoder',\n",
              "                                                                   OneHotEncoder(handle_unknown='ignore',\n",
              "                                                                                 sparse=False))]),\n",
              "                                                  <sklearn.compose._column_transformer.make_column_selector object at 0x7f990bf42c10>)])),\n",
              "                ('decisiontreeregressor',\n",
              "                 DecisionTreeRegressor(random_state=42))])"
            ],
            "text/html": [
              "<style>#sk-72fe1333-20af-4ef8-a269-4aac7d859844 {color: black;background-color: white;}#sk-72fe1333-20af-4ef8-a269-4aac7d859844 pre{padding: 0;}#sk-72fe1333-20af-4ef8-a269-4aac7d859844 div.sk-toggleable {background-color: white;}#sk-72fe1333-20af-4ef8-a269-4aac7d859844 label.sk-toggleable__label {cursor: pointer;display: block;width: 100%;margin-bottom: 0;padding: 0.3em;box-sizing: border-box;text-align: center;}#sk-72fe1333-20af-4ef8-a269-4aac7d859844 label.sk-toggleable__label-arrow:before {content: \"▸\";float: left;margin-right: 0.25em;color: #696969;}#sk-72fe1333-20af-4ef8-a269-4aac7d859844 label.sk-toggleable__label-arrow:hover:before {color: black;}#sk-72fe1333-20af-4ef8-a269-4aac7d859844 div.sk-estimator:hover label.sk-toggleable__label-arrow:before {color: black;}#sk-72fe1333-20af-4ef8-a269-4aac7d859844 div.sk-toggleable__content {max-height: 0;max-width: 0;overflow: hidden;text-align: left;background-color: #f0f8ff;}#sk-72fe1333-20af-4ef8-a269-4aac7d859844 div.sk-toggleable__content pre {margin: 0.2em;color: black;border-radius: 0.25em;background-color: #f0f8ff;}#sk-72fe1333-20af-4ef8-a269-4aac7d859844 input.sk-toggleable__control:checked~div.sk-toggleable__content {max-height: 200px;max-width: 100%;overflow: auto;}#sk-72fe1333-20af-4ef8-a269-4aac7d859844 input.sk-toggleable__control:checked~label.sk-toggleable__label-arrow:before {content: \"▾\";}#sk-72fe1333-20af-4ef8-a269-4aac7d859844 div.sk-estimator input.sk-toggleable__control:checked~label.sk-toggleable__label {background-color: #d4ebff;}#sk-72fe1333-20af-4ef8-a269-4aac7d859844 div.sk-label input.sk-toggleable__control:checked~label.sk-toggleable__label {background-color: #d4ebff;}#sk-72fe1333-20af-4ef8-a269-4aac7d859844 input.sk-hidden--visually {border: 0;clip: rect(1px 1px 1px 1px);clip: rect(1px, 1px, 1px, 1px);height: 1px;margin: -1px;overflow: hidden;padding: 0;position: absolute;width: 1px;}#sk-72fe1333-20af-4ef8-a269-4aac7d859844 div.sk-estimator {font-family: monospace;background-color: #f0f8ff;border: 1px dotted black;border-radius: 0.25em;box-sizing: border-box;margin-bottom: 0.5em;}#sk-72fe1333-20af-4ef8-a269-4aac7d859844 div.sk-estimator:hover {background-color: #d4ebff;}#sk-72fe1333-20af-4ef8-a269-4aac7d859844 div.sk-parallel-item::after {content: \"\";width: 100%;border-bottom: 1px solid gray;flex-grow: 1;}#sk-72fe1333-20af-4ef8-a269-4aac7d859844 div.sk-label:hover label.sk-toggleable__label {background-color: #d4ebff;}#sk-72fe1333-20af-4ef8-a269-4aac7d859844 div.sk-serial::before {content: \"\";position: absolute;border-left: 1px solid gray;box-sizing: border-box;top: 2em;bottom: 0;left: 50%;}#sk-72fe1333-20af-4ef8-a269-4aac7d859844 div.sk-serial {display: flex;flex-direction: column;align-items: center;background-color: white;padding-right: 0.2em;padding-left: 0.2em;}#sk-72fe1333-20af-4ef8-a269-4aac7d859844 div.sk-item {z-index: 1;}#sk-72fe1333-20af-4ef8-a269-4aac7d859844 div.sk-parallel {display: flex;align-items: stretch;justify-content: center;background-color: white;}#sk-72fe1333-20af-4ef8-a269-4aac7d859844 div.sk-parallel::before {content: \"\";position: absolute;border-left: 1px solid gray;box-sizing: border-box;top: 2em;bottom: 0;left: 50%;}#sk-72fe1333-20af-4ef8-a269-4aac7d859844 div.sk-parallel-item {display: flex;flex-direction: column;position: relative;background-color: white;}#sk-72fe1333-20af-4ef8-a269-4aac7d859844 div.sk-parallel-item:first-child::after {align-self: flex-end;width: 50%;}#sk-72fe1333-20af-4ef8-a269-4aac7d859844 div.sk-parallel-item:last-child::after {align-self: flex-start;width: 50%;}#sk-72fe1333-20af-4ef8-a269-4aac7d859844 div.sk-parallel-item:only-child::after {width: 0;}#sk-72fe1333-20af-4ef8-a269-4aac7d859844 div.sk-dashed-wrapped {border: 1px dashed gray;margin: 0 0.4em 0.5em 0.4em;box-sizing: border-box;padding-bottom: 0.4em;background-color: white;position: relative;}#sk-72fe1333-20af-4ef8-a269-4aac7d859844 div.sk-label label {font-family: monospace;font-weight: bold;background-color: white;display: inline-block;line-height: 1.2em;}#sk-72fe1333-20af-4ef8-a269-4aac7d859844 div.sk-label-container {position: relative;z-index: 2;text-align: center;}#sk-72fe1333-20af-4ef8-a269-4aac7d859844 div.sk-container {/* jupyter's `normalize.less` sets `[hidden] { display: none; }` but bootstrap.min.css set `[hidden] { display: none !important; }` so we also need the `!important` here to be able to override the default hidden behavior on the sphinx rendered scikit-learn.org. See: https://github.com/scikit-learn/scikit-learn/issues/21755 */display: inline-block !important;position: relative;}#sk-72fe1333-20af-4ef8-a269-4aac7d859844 div.sk-text-repr-fallback {display: none;}</style><div id=\"sk-72fe1333-20af-4ef8-a269-4aac7d859844\" class=\"sk-top-container\"><div class=\"sk-text-repr-fallback\"><pre>Pipeline(steps=[(&#x27;columntransformer&#x27;,\n",
              "                 ColumnTransformer(transformers=[(&#x27;pipeline-1&#x27;,\n",
              "                                                  Pipeline(steps=[(&#x27;simpleimputer&#x27;,\n",
              "                                                                   SimpleImputer()),\n",
              "                                                                  (&#x27;standardscaler&#x27;,\n",
              "                                                                   StandardScaler())]),\n",
              "                                                  &lt;sklearn.compose._column_transformer.make_column_selector object at 0x7f990a2e7340&gt;),\n",
              "                                                 (&#x27;pipeline-2&#x27;,\n",
              "                                                  Pipeline(steps=[(&#x27;simpleimputer&#x27;,\n",
              "                                                                   SimpleImputer(strategy=&#x27;most_frequent&#x27;)),\n",
              "                                                                  (&#x27;onehotencoder&#x27;,\n",
              "                                                                   OneHotEncoder(handle_unknown=&#x27;ignore&#x27;,\n",
              "                                                                                 sparse=False))]),\n",
              "                                                  &lt;sklearn.compose._column_transformer.make_column_selector object at 0x7f990bf42c10&gt;)])),\n",
              "                (&#x27;decisiontreeregressor&#x27;,\n",
              "                 DecisionTreeRegressor(random_state=42))])</pre><b>Please rerun this cell to show the HTML repr or trust the notebook.</b></div><div class=\"sk-container\" hidden><div class=\"sk-item sk-dashed-wrapped\"><div class=\"sk-label-container\"><div class=\"sk-label sk-toggleable\"><input class=\"sk-toggleable__control sk-hidden--visually\" id=\"d9e7ff2e-0a3b-4f94-abfd-7f9b366b129b\" type=\"checkbox\" ><label for=\"d9e7ff2e-0a3b-4f94-abfd-7f9b366b129b\" class=\"sk-toggleable__label sk-toggleable__label-arrow\">Pipeline</label><div class=\"sk-toggleable__content\"><pre>Pipeline(steps=[(&#x27;columntransformer&#x27;,\n",
              "                 ColumnTransformer(transformers=[(&#x27;pipeline-1&#x27;,\n",
              "                                                  Pipeline(steps=[(&#x27;simpleimputer&#x27;,\n",
              "                                                                   SimpleImputer()),\n",
              "                                                                  (&#x27;standardscaler&#x27;,\n",
              "                                                                   StandardScaler())]),\n",
              "                                                  &lt;sklearn.compose._column_transformer.make_column_selector object at 0x7f990a2e7340&gt;),\n",
              "                                                 (&#x27;pipeline-2&#x27;,\n",
              "                                                  Pipeline(steps=[(&#x27;simpleimputer&#x27;,\n",
              "                                                                   SimpleImputer(strategy=&#x27;most_frequent&#x27;)),\n",
              "                                                                  (&#x27;onehotencoder&#x27;,\n",
              "                                                                   OneHotEncoder(handle_unknown=&#x27;ignore&#x27;,\n",
              "                                                                                 sparse=False))]),\n",
              "                                                  &lt;sklearn.compose._column_transformer.make_column_selector object at 0x7f990bf42c10&gt;)])),\n",
              "                (&#x27;decisiontreeregressor&#x27;,\n",
              "                 DecisionTreeRegressor(random_state=42))])</pre></div></div></div><div class=\"sk-serial\"><div class=\"sk-item sk-dashed-wrapped\"><div class=\"sk-label-container\"><div class=\"sk-label sk-toggleable\"><input class=\"sk-toggleable__control sk-hidden--visually\" id=\"f6ed6fe9-cf95-457e-8524-8e5ed042ddc8\" type=\"checkbox\" ><label for=\"f6ed6fe9-cf95-457e-8524-8e5ed042ddc8\" class=\"sk-toggleable__label sk-toggleable__label-arrow\">columntransformer: ColumnTransformer</label><div class=\"sk-toggleable__content\"><pre>ColumnTransformer(transformers=[(&#x27;pipeline-1&#x27;,\n",
              "                                 Pipeline(steps=[(&#x27;simpleimputer&#x27;,\n",
              "                                                  SimpleImputer()),\n",
              "                                                 (&#x27;standardscaler&#x27;,\n",
              "                                                  StandardScaler())]),\n",
              "                                 &lt;sklearn.compose._column_transformer.make_column_selector object at 0x7f990a2e7340&gt;),\n",
              "                                (&#x27;pipeline-2&#x27;,\n",
              "                                 Pipeline(steps=[(&#x27;simpleimputer&#x27;,\n",
              "                                                  SimpleImputer(strategy=&#x27;most_frequent&#x27;)),\n",
              "                                                 (&#x27;onehotencoder&#x27;,\n",
              "                                                  OneHotEncoder(handle_unknown=&#x27;ignore&#x27;,\n",
              "                                                                sparse=False))]),\n",
              "                                 &lt;sklearn.compose._column_transformer.make_column_selector object at 0x7f990bf42c10&gt;)])</pre></div></div></div><div class=\"sk-parallel\"><div class=\"sk-parallel-item\"><div class=\"sk-item\"><div class=\"sk-label-container\"><div class=\"sk-label sk-toggleable\"><input class=\"sk-toggleable__control sk-hidden--visually\" id=\"c299c33d-8237-4885-9c05-b220980b6544\" type=\"checkbox\" ><label for=\"c299c33d-8237-4885-9c05-b220980b6544\" class=\"sk-toggleable__label sk-toggleable__label-arrow\">pipeline-1</label><div class=\"sk-toggleable__content\"><pre>&lt;sklearn.compose._column_transformer.make_column_selector object at 0x7f990a2e7340&gt;</pre></div></div></div><div class=\"sk-serial\"><div class=\"sk-item\"><div class=\"sk-serial\"><div class=\"sk-item\"><div class=\"sk-estimator sk-toggleable\"><input class=\"sk-toggleable__control sk-hidden--visually\" id=\"81d921b6-d3a0-4de1-a64e-1c304e384d5b\" type=\"checkbox\" ><label for=\"81d921b6-d3a0-4de1-a64e-1c304e384d5b\" class=\"sk-toggleable__label sk-toggleable__label-arrow\">SimpleImputer</label><div class=\"sk-toggleable__content\"><pre>SimpleImputer()</pre></div></div></div><div class=\"sk-item\"><div class=\"sk-estimator sk-toggleable\"><input class=\"sk-toggleable__control sk-hidden--visually\" id=\"12eb9f8e-e5de-4056-916d-6c6eb757abe9\" type=\"checkbox\" ><label for=\"12eb9f8e-e5de-4056-916d-6c6eb757abe9\" class=\"sk-toggleable__label sk-toggleable__label-arrow\">StandardScaler</label><div class=\"sk-toggleable__content\"><pre>StandardScaler()</pre></div></div></div></div></div></div></div></div><div class=\"sk-parallel-item\"><div class=\"sk-item\"><div class=\"sk-label-container\"><div class=\"sk-label sk-toggleable\"><input class=\"sk-toggleable__control sk-hidden--visually\" id=\"42989730-ee76-42b3-a742-539a82c6354b\" type=\"checkbox\" ><label for=\"42989730-ee76-42b3-a742-539a82c6354b\" class=\"sk-toggleable__label sk-toggleable__label-arrow\">pipeline-2</label><div class=\"sk-toggleable__content\"><pre>&lt;sklearn.compose._column_transformer.make_column_selector object at 0x7f990bf42c10&gt;</pre></div></div></div><div class=\"sk-serial\"><div class=\"sk-item\"><div class=\"sk-serial\"><div class=\"sk-item\"><div class=\"sk-estimator sk-toggleable\"><input class=\"sk-toggleable__control sk-hidden--visually\" id=\"6db6b192-941c-4fe9-bca7-011f5060098c\" type=\"checkbox\" ><label for=\"6db6b192-941c-4fe9-bca7-011f5060098c\" class=\"sk-toggleable__label sk-toggleable__label-arrow\">SimpleImputer</label><div class=\"sk-toggleable__content\"><pre>SimpleImputer(strategy=&#x27;most_frequent&#x27;)</pre></div></div></div><div class=\"sk-item\"><div class=\"sk-estimator sk-toggleable\"><input class=\"sk-toggleable__control sk-hidden--visually\" id=\"9d547f0c-3e5e-4582-a049-633b3a9ce08b\" type=\"checkbox\" ><label for=\"9d547f0c-3e5e-4582-a049-633b3a9ce08b\" class=\"sk-toggleable__label sk-toggleable__label-arrow\">OneHotEncoder</label><div class=\"sk-toggleable__content\"><pre>OneHotEncoder(handle_unknown=&#x27;ignore&#x27;, sparse=False)</pre></div></div></div></div></div></div></div></div></div></div><div class=\"sk-item\"><div class=\"sk-estimator sk-toggleable\"><input class=\"sk-toggleable__control sk-hidden--visually\" id=\"289f1877-f2b0-4487-9458-e08986786a6a\" type=\"checkbox\" ><label for=\"289f1877-f2b0-4487-9458-e08986786a6a\" class=\"sk-toggleable__label sk-toggleable__label-arrow\">DecisionTreeRegressor</label><div class=\"sk-toggleable__content\"><pre>DecisionTreeRegressor(random_state=42)</pre></div></div></div></div></div></div></div>"
            ]
          },
          "metadata": {},
          "execution_count": 71
        }
      ]
    },
    {
      "cell_type": "code",
      "source": [
        "## PREDICT\n",
        "dtree_pred_train = dtree_pipe.predict(X_train)\n",
        "dtree_pred_test = dtree_pipe.predict(X_test)"
      ],
      "metadata": {
        "id": "ZKyk_aKK3zzY"
      },
      "execution_count": null,
      "outputs": []
    },
    {
      "cell_type": "code",
      "source": [
        "## METRICS\n",
        "dtree_metrics = metrics(dtree_pred_train, dtree_pred_test)\n",
        "dtree_metrics"
      ],
      "metadata": {
        "colab": {
          "base_uri": "https://localhost:8080/",
          "height": 112
        },
        "id": "82OqF6Ty4KUL",
        "outputId": "a526b09c-6e92-4e2b-afd3-0178154cdb66"
      },
      "execution_count": null,
      "outputs": [
        {
          "output_type": "execute_result",
          "data": {
            "text/plain": [
              "     Train         Test\n",
              "RMSE   0.0  1563.244688\n",
              "R^2    1.0     0.114261"
            ],
            "text/html": [
              "\n",
              "  <div id=\"df-1c871cca-d701-4795-a86a-8dff08d0f481\">\n",
              "    <div class=\"colab-df-container\">\n",
              "      <div>\n",
              "<style scoped>\n",
              "    .dataframe tbody tr th:only-of-type {\n",
              "        vertical-align: middle;\n",
              "    }\n",
              "\n",
              "    .dataframe tbody tr th {\n",
              "        vertical-align: top;\n",
              "    }\n",
              "\n",
              "    .dataframe thead th {\n",
              "        text-align: right;\n",
              "    }\n",
              "</style>\n",
              "<table border=\"1\" class=\"dataframe\">\n",
              "  <thead>\n",
              "    <tr style=\"text-align: right;\">\n",
              "      <th></th>\n",
              "      <th>Train</th>\n",
              "      <th>Test</th>\n",
              "    </tr>\n",
              "  </thead>\n",
              "  <tbody>\n",
              "    <tr>\n",
              "      <th>RMSE</th>\n",
              "      <td>0.0</td>\n",
              "      <td>1563.244688</td>\n",
              "    </tr>\n",
              "    <tr>\n",
              "      <th>R^2</th>\n",
              "      <td>1.0</td>\n",
              "      <td>0.114261</td>\n",
              "    </tr>\n",
              "  </tbody>\n",
              "</table>\n",
              "</div>\n",
              "      <button class=\"colab-df-convert\" onclick=\"convertToInteractive('df-1c871cca-d701-4795-a86a-8dff08d0f481')\"\n",
              "              title=\"Convert this dataframe to an interactive table.\"\n",
              "              style=\"display:none;\">\n",
              "        \n",
              "  <svg xmlns=\"http://www.w3.org/2000/svg\" height=\"24px\"viewBox=\"0 0 24 24\"\n",
              "       width=\"24px\">\n",
              "    <path d=\"M0 0h24v24H0V0z\" fill=\"none\"/>\n",
              "    <path d=\"M18.56 5.44l.94 2.06.94-2.06 2.06-.94-2.06-.94-.94-2.06-.94 2.06-2.06.94zm-11 1L8.5 8.5l.94-2.06 2.06-.94-2.06-.94L8.5 2.5l-.94 2.06-2.06.94zm10 10l.94 2.06.94-2.06 2.06-.94-2.06-.94-.94-2.06-.94 2.06-2.06.94z\"/><path d=\"M17.41 7.96l-1.37-1.37c-.4-.4-.92-.59-1.43-.59-.52 0-1.04.2-1.43.59L10.3 9.45l-7.72 7.72c-.78.78-.78 2.05 0 2.83L4 21.41c.39.39.9.59 1.41.59.51 0 1.02-.2 1.41-.59l7.78-7.78 2.81-2.81c.8-.78.8-2.07 0-2.86zM5.41 20L4 18.59l7.72-7.72 1.47 1.35L5.41 20z\"/>\n",
              "  </svg>\n",
              "      </button>\n",
              "      \n",
              "  <style>\n",
              "    .colab-df-container {\n",
              "      display:flex;\n",
              "      flex-wrap:wrap;\n",
              "      gap: 12px;\n",
              "    }\n",
              "\n",
              "    .colab-df-convert {\n",
              "      background-color: #E8F0FE;\n",
              "      border: none;\n",
              "      border-radius: 50%;\n",
              "      cursor: pointer;\n",
              "      display: none;\n",
              "      fill: #1967D2;\n",
              "      height: 32px;\n",
              "      padding: 0 0 0 0;\n",
              "      width: 32px;\n",
              "    }\n",
              "\n",
              "    .colab-df-convert:hover {\n",
              "      background-color: #E2EBFA;\n",
              "      box-shadow: 0px 1px 2px rgba(60, 64, 67, 0.3), 0px 1px 3px 1px rgba(60, 64, 67, 0.15);\n",
              "      fill: #174EA6;\n",
              "    }\n",
              "\n",
              "    [theme=dark] .colab-df-convert {\n",
              "      background-color: #3B4455;\n",
              "      fill: #D2E3FC;\n",
              "    }\n",
              "\n",
              "    [theme=dark] .colab-df-convert:hover {\n",
              "      background-color: #434B5C;\n",
              "      box-shadow: 0px 1px 3px 1px rgba(0, 0, 0, 0.15);\n",
              "      filter: drop-shadow(0px 1px 2px rgba(0, 0, 0, 0.3));\n",
              "      fill: #FFFFFF;\n",
              "    }\n",
              "  </style>\n",
              "\n",
              "      <script>\n",
              "        const buttonEl =\n",
              "          document.querySelector('#df-1c871cca-d701-4795-a86a-8dff08d0f481 button.colab-df-convert');\n",
              "        buttonEl.style.display =\n",
              "          google.colab.kernel.accessAllowed ? 'block' : 'none';\n",
              "\n",
              "        async function convertToInteractive(key) {\n",
              "          const element = document.querySelector('#df-1c871cca-d701-4795-a86a-8dff08d0f481');\n",
              "          const dataTable =\n",
              "            await google.colab.kernel.invokeFunction('convertToInteractive',\n",
              "                                                     [key], {});\n",
              "          if (!dataTable) return;\n",
              "\n",
              "          const docLinkHtml = 'Like what you see? Visit the ' +\n",
              "            '<a target=\"_blank\" href=https://colab.research.google.com/notebooks/data_table.ipynb>data table notebook</a>'\n",
              "            + ' to learn more about interactive tables.';\n",
              "          element.innerHTML = '';\n",
              "          dataTable['output_type'] = 'display_data';\n",
              "          await google.colab.output.renderOutput(dataTable, element);\n",
              "          const docLink = document.createElement('div');\n",
              "          docLink.innerHTML = docLinkHtml;\n",
              "          element.appendChild(docLink);\n",
              "        }\n",
              "      </script>\n",
              "    </div>\n",
              "  </div>\n",
              "  "
            ]
          },
          "metadata": {},
          "execution_count": 73
        }
      ]
    },
    {
      "cell_type": "markdown",
      "source": [
        "#### Tuning Parameters"
      ],
      "metadata": {
        "id": "mDsa-m765B7r"
      }
    },
    {
      "cell_type": "markdown",
      "source": [
        "**max_depth**"
      ],
      "metadata": {
        "id": "cY6MQheA7ziI"
      }
    },
    {
      "cell_type": "code",
      "source": [
        "dtree.get_params()"
      ],
      "metadata": {
        "colab": {
          "base_uri": "https://localhost:8080/"
        },
        "id": "WGKBqysl4b5a",
        "outputId": "466df153-61a5-43fc-8a15-82aa8c18b7c5"
      },
      "execution_count": null,
      "outputs": [
        {
          "output_type": "execute_result",
          "data": {
            "text/plain": [
              "{'ccp_alpha': 0.0,\n",
              " 'criterion': 'squared_error',\n",
              " 'max_depth': None,\n",
              " 'max_features': None,\n",
              " 'max_leaf_nodes': None,\n",
              " 'min_impurity_decrease': 0.0,\n",
              " 'min_samples_leaf': 1,\n",
              " 'min_samples_split': 2,\n",
              " 'min_weight_fraction_leaf': 0.0,\n",
              " 'random_state': 42,\n",
              " 'splitter': 'best'}"
            ]
          },
          "metadata": {},
          "execution_count": 74
        }
      ]
    },
    {
      "cell_type": "code",
      "source": [
        "dtree.get_depth()"
      ],
      "metadata": {
        "colab": {
          "base_uri": "https://localhost:8080/"
        },
        "id": "uKq5Vipz5Og9",
        "outputId": "766acb37-fd8a-4d65-b10c-1d048a58fada"
      },
      "execution_count": null,
      "outputs": [
        {
          "output_type": "execute_result",
          "data": {
            "text/plain": [
              "42"
            ]
          },
          "metadata": {},
          "execution_count": 75
        }
      ]
    },
    {
      "cell_type": "code",
      "source": [
        "## ITERATION OVER THE DEPTH\n",
        "\n",
        "depths = range(1, dtree.get_depth()+1)\n",
        "scores = pd.DataFrame(columns=['Train Score', 'Test Score'], index=depths)\n",
        "for depth in depths:\n",
        "  dec_tree = DecisionTreeRegressor(max_depth=depth, random_state = 42)\n",
        "  dec_tree_pipe = make_pipeline(preprocessor, dec_tree)\n",
        "  dec_tree_pipe.fit(X_train, y_train)\n",
        "\n",
        "  train_pred = dec_tree_pipe.predict(X_train)\n",
        "  test_pred = dec_tree_pipe.predict(X_test)\n",
        "\n",
        "  train_r2score = r2_score(y_train, train_pred)\n",
        "  test_r2score = r2_score(y_test, test_pred)\n",
        "\n",
        "  scores.loc[depth, 'Train Score'] = train_r2score\n",
        "  scores.loc[depth, 'Test Score'] = test_r2score\n",
        "\n",
        "## PLOT\n",
        "\n",
        "plt.plot(depths, scores['Train Score'], label='Train Score')\n",
        "plt.plot(depths, scores['Test Score'], label='Test Score')\n",
        "plt.ylabel('R2 Score')\n",
        "plt.xlabel('Max Depth')\n",
        "plt.legend()\n",
        "plt.plot()\n",
        "\n",
        "## HIGHEST VALUE\n",
        "scores.sort_values(by='Test Score', ascending=False).head(1)"
      ],
      "metadata": {
        "colab": {
          "base_uri": "https://localhost:8080/",
          "height": 346
        },
        "id": "Hzl90l_C5gw2",
        "outputId": "dbc994b5-231c-4361-941e-b294a6066ed5"
      },
      "execution_count": null,
      "outputs": [
        {
          "output_type": "execute_result",
          "data": {
            "text/plain": [
              "  Train Score Test Score\n",
              "5     0.60394    0.59471"
            ],
            "text/html": [
              "\n",
              "  <div id=\"df-ff6ac533-4c17-4c01-9134-7101b5aaec53\">\n",
              "    <div class=\"colab-df-container\">\n",
              "      <div>\n",
              "<style scoped>\n",
              "    .dataframe tbody tr th:only-of-type {\n",
              "        vertical-align: middle;\n",
              "    }\n",
              "\n",
              "    .dataframe tbody tr th {\n",
              "        vertical-align: top;\n",
              "    }\n",
              "\n",
              "    .dataframe thead th {\n",
              "        text-align: right;\n",
              "    }\n",
              "</style>\n",
              "<table border=\"1\" class=\"dataframe\">\n",
              "  <thead>\n",
              "    <tr style=\"text-align: right;\">\n",
              "      <th></th>\n",
              "      <th>Train Score</th>\n",
              "      <th>Test Score</th>\n",
              "    </tr>\n",
              "  </thead>\n",
              "  <tbody>\n",
              "    <tr>\n",
              "      <th>5</th>\n",
              "      <td>0.60394</td>\n",
              "      <td>0.59471</td>\n",
              "    </tr>\n",
              "  </tbody>\n",
              "</table>\n",
              "</div>\n",
              "      <button class=\"colab-df-convert\" onclick=\"convertToInteractive('df-ff6ac533-4c17-4c01-9134-7101b5aaec53')\"\n",
              "              title=\"Convert this dataframe to an interactive table.\"\n",
              "              style=\"display:none;\">\n",
              "        \n",
              "  <svg xmlns=\"http://www.w3.org/2000/svg\" height=\"24px\"viewBox=\"0 0 24 24\"\n",
              "       width=\"24px\">\n",
              "    <path d=\"M0 0h24v24H0V0z\" fill=\"none\"/>\n",
              "    <path d=\"M18.56 5.44l.94 2.06.94-2.06 2.06-.94-2.06-.94-.94-2.06-.94 2.06-2.06.94zm-11 1L8.5 8.5l.94-2.06 2.06-.94-2.06-.94L8.5 2.5l-.94 2.06-2.06.94zm10 10l.94 2.06.94-2.06 2.06-.94-2.06-.94-.94-2.06-.94 2.06-2.06.94z\"/><path d=\"M17.41 7.96l-1.37-1.37c-.4-.4-.92-.59-1.43-.59-.52 0-1.04.2-1.43.59L10.3 9.45l-7.72 7.72c-.78.78-.78 2.05 0 2.83L4 21.41c.39.39.9.59 1.41.59.51 0 1.02-.2 1.41-.59l7.78-7.78 2.81-2.81c.8-.78.8-2.07 0-2.86zM5.41 20L4 18.59l7.72-7.72 1.47 1.35L5.41 20z\"/>\n",
              "  </svg>\n",
              "      </button>\n",
              "      \n",
              "  <style>\n",
              "    .colab-df-container {\n",
              "      display:flex;\n",
              "      flex-wrap:wrap;\n",
              "      gap: 12px;\n",
              "    }\n",
              "\n",
              "    .colab-df-convert {\n",
              "      background-color: #E8F0FE;\n",
              "      border: none;\n",
              "      border-radius: 50%;\n",
              "      cursor: pointer;\n",
              "      display: none;\n",
              "      fill: #1967D2;\n",
              "      height: 32px;\n",
              "      padding: 0 0 0 0;\n",
              "      width: 32px;\n",
              "    }\n",
              "\n",
              "    .colab-df-convert:hover {\n",
              "      background-color: #E2EBFA;\n",
              "      box-shadow: 0px 1px 2px rgba(60, 64, 67, 0.3), 0px 1px 3px 1px rgba(60, 64, 67, 0.15);\n",
              "      fill: #174EA6;\n",
              "    }\n",
              "\n",
              "    [theme=dark] .colab-df-convert {\n",
              "      background-color: #3B4455;\n",
              "      fill: #D2E3FC;\n",
              "    }\n",
              "\n",
              "    [theme=dark] .colab-df-convert:hover {\n",
              "      background-color: #434B5C;\n",
              "      box-shadow: 0px 1px 3px 1px rgba(0, 0, 0, 0.15);\n",
              "      filter: drop-shadow(0px 1px 2px rgba(0, 0, 0, 0.3));\n",
              "      fill: #FFFFFF;\n",
              "    }\n",
              "  </style>\n",
              "\n",
              "      <script>\n",
              "        const buttonEl =\n",
              "          document.querySelector('#df-ff6ac533-4c17-4c01-9134-7101b5aaec53 button.colab-df-convert');\n",
              "        buttonEl.style.display =\n",
              "          google.colab.kernel.accessAllowed ? 'block' : 'none';\n",
              "\n",
              "        async function convertToInteractive(key) {\n",
              "          const element = document.querySelector('#df-ff6ac533-4c17-4c01-9134-7101b5aaec53');\n",
              "          const dataTable =\n",
              "            await google.colab.kernel.invokeFunction('convertToInteractive',\n",
              "                                                     [key], {});\n",
              "          if (!dataTable) return;\n",
              "\n",
              "          const docLinkHtml = 'Like what you see? Visit the ' +\n",
              "            '<a target=\"_blank\" href=https://colab.research.google.com/notebooks/data_table.ipynb>data table notebook</a>'\n",
              "            + ' to learn more about interactive tables.';\n",
              "          element.innerHTML = '';\n",
              "          dataTable['output_type'] = 'display_data';\n",
              "          await google.colab.output.renderOutput(dataTable, element);\n",
              "          const docLink = document.createElement('div');\n",
              "          docLink.innerHTML = docLinkHtml;\n",
              "          element.appendChild(docLink);\n",
              "        }\n",
              "      </script>\n",
              "    </div>\n",
              "  </div>\n",
              "  "
            ]
          },
          "metadata": {},
          "execution_count": 76
        },
        {
          "output_type": "display_data",
          "data": {
            "text/plain": [
              "<Figure size 432x288 with 1 Axes>"
            ],
            "image/png": "[encoded data removed]"
          },
          "metadata": {}
        }
      ]
    },
    {
      "cell_type": "markdown",
      "source": [
        "The max depth wil be 5"
      ],
      "metadata": {
        "id": "McKcVi4w7-B4"
      }
    },
    {
      "cell_type": "code",
      "source": [
        "## INSTANTIATING THE MODEL\n",
        "dtree = DecisionTreeRegressor(random_state=42, max_depth=5)\n",
        "\n",
        "## COMBINING PIPELINE\n",
        "dtree_pipe = make_pipeline(preprocessor, dtree)\n",
        "\n",
        "## FIT MODEL\n",
        "dtree_pipe.fit(X_train, y_train)\n",
        "\n",
        "## PREDICT\n",
        "dtree_pred_train = dtree_pipe.predict(X_train)\n",
        "dtree_pred_test = dtree_pipe.predict(X_test)\n",
        "\n",
        "## METRICS\n",
        "dtree_metrics = metrics(dtree_pred_train, dtree_pred_test)\n",
        "dtree_metrics"
      ],
      "metadata": {
        "colab": {
          "base_uri": "https://localhost:8080/",
          "height": 112
        },
        "id": "8gLIqDZa8GMh",
        "outputId": "e03ca7f1-fc98-4a10-e494-d68a19bced37"
      },
      "execution_count": null,
      "outputs": [
        {
          "output_type": "execute_result",
          "data": {
            "text/plain": [
              "           Train        Test\n",
              "RMSE  1082.64619  1057.44313\n",
              "R^2      0.60394     0.59471"
            ],
            "text/html": [
              "\n",
              "  <div id=\"df-53f0525b-04de-4046-8e36-09ec905cb38e\">\n",
              "    <div class=\"colab-df-container\">\n",
              "      <div>\n",
              "<style scoped>\n",
              "    .dataframe tbody tr th:only-of-type {\n",
              "        vertical-align: middle;\n",
              "    }\n",
              "\n",
              "    .dataframe tbody tr th {\n",
              "        vertical-align: top;\n",
              "    }\n",
              "\n",
              "    .dataframe thead th {\n",
              "        text-align: right;\n",
              "    }\n",
              "</style>\n",
              "<table border=\"1\" class=\"dataframe\">\n",
              "  <thead>\n",
              "    <tr style=\"text-align: right;\">\n",
              "      <th></th>\n",
              "      <th>Train</th>\n",
              "      <th>Test</th>\n",
              "    </tr>\n",
              "  </thead>\n",
              "  <tbody>\n",
              "    <tr>\n",
              "      <th>RMSE</th>\n",
              "      <td>1082.64619</td>\n",
              "      <td>1057.44313</td>\n",
              "    </tr>\n",
              "    <tr>\n",
              "      <th>R^2</th>\n",
              "      <td>0.60394</td>\n",
              "      <td>0.59471</td>\n",
              "    </tr>\n",
              "  </tbody>\n",
              "</table>\n",
              "</div>\n",
              "      <button class=\"colab-df-convert\" onclick=\"convertToInteractive('df-53f0525b-04de-4046-8e36-09ec905cb38e')\"\n",
              "              title=\"Convert this dataframe to an interactive table.\"\n",
              "              style=\"display:none;\">\n",
              "        \n",
              "  <svg xmlns=\"http://www.w3.org/2000/svg\" height=\"24px\"viewBox=\"0 0 24 24\"\n",
              "       width=\"24px\">\n",
              "    <path d=\"M0 0h24v24H0V0z\" fill=\"none\"/>\n",
              "    <path d=\"M18.56 5.44l.94 2.06.94-2.06 2.06-.94-2.06-.94-.94-2.06-.94 2.06-2.06.94zm-11 1L8.5 8.5l.94-2.06 2.06-.94-2.06-.94L8.5 2.5l-.94 2.06-2.06.94zm10 10l.94 2.06.94-2.06 2.06-.94-2.06-.94-.94-2.06-.94 2.06-2.06.94z\"/><path d=\"M17.41 7.96l-1.37-1.37c-.4-.4-.92-.59-1.43-.59-.52 0-1.04.2-1.43.59L10.3 9.45l-7.72 7.72c-.78.78-.78 2.05 0 2.83L4 21.41c.39.39.9.59 1.41.59.51 0 1.02-.2 1.41-.59l7.78-7.78 2.81-2.81c.8-.78.8-2.07 0-2.86zM5.41 20L4 18.59l7.72-7.72 1.47 1.35L5.41 20z\"/>\n",
              "  </svg>\n",
              "      </button>\n",
              "      \n",
              "  <style>\n",
              "    .colab-df-container {\n",
              "      display:flex;\n",
              "      flex-wrap:wrap;\n",
              "      gap: 12px;\n",
              "    }\n",
              "\n",
              "    .colab-df-convert {\n",
              "      background-color: #E8F0FE;\n",
              "      border: none;\n",
              "      border-radius: 50%;\n",
              "      cursor: pointer;\n",
              "      display: none;\n",
              "      fill: #1967D2;\n",
              "      height: 32px;\n",
              "      padding: 0 0 0 0;\n",
              "      width: 32px;\n",
              "    }\n",
              "\n",
              "    .colab-df-convert:hover {\n",
              "      background-color: #E2EBFA;\n",
              "      box-shadow: 0px 1px 2px rgba(60, 64, 67, 0.3), 0px 1px 3px 1px rgba(60, 64, 67, 0.15);\n",
              "      fill: #174EA6;\n",
              "    }\n",
              "\n",
              "    [theme=dark] .colab-df-convert {\n",
              "      background-color: #3B4455;\n",
              "      fill: #D2E3FC;\n",
              "    }\n",
              "\n",
              "    [theme=dark] .colab-df-convert:hover {\n",
              "      background-color: #434B5C;\n",
              "      box-shadow: 0px 1px 3px 1px rgba(0, 0, 0, 0.15);\n",
              "      filter: drop-shadow(0px 1px 2px rgba(0, 0, 0, 0.3));\n",
              "      fill: #FFFFFF;\n",
              "    }\n",
              "  </style>\n",
              "\n",
              "      <script>\n",
              "        const buttonEl =\n",
              "          document.querySelector('#df-53f0525b-04de-4046-8e36-09ec905cb38e button.colab-df-convert');\n",
              "        buttonEl.style.display =\n",
              "          google.colab.kernel.accessAllowed ? 'block' : 'none';\n",
              "\n",
              "        async function convertToInteractive(key) {\n",
              "          const element = document.querySelector('#df-53f0525b-04de-4046-8e36-09ec905cb38e');\n",
              "          const dataTable =\n",
              "            await google.colab.kernel.invokeFunction('convertToInteractive',\n",
              "                                                     [key], {});\n",
              "          if (!dataTable) return;\n",
              "\n",
              "          const docLinkHtml = 'Like what you see? Visit the ' +\n",
              "            '<a target=\"_blank\" href=https://colab.research.google.com/notebooks/data_table.ipynb>data table notebook</a>'\n",
              "            + ' to learn more about interactive tables.';\n",
              "          element.innerHTML = '';\n",
              "          dataTable['output_type'] = 'display_data';\n",
              "          await google.colab.output.renderOutput(dataTable, element);\n",
              "          const docLink = document.createElement('div');\n",
              "          docLink.innerHTML = docLinkHtml;\n",
              "          element.appendChild(docLink);\n",
              "        }\n",
              "      </script>\n",
              "    </div>\n",
              "  </div>\n",
              "  "
            ]
          },
          "metadata": {},
          "execution_count": 77
        }
      ]
    },
    {
      "cell_type": "markdown",
      "source": [
        "We have a similar outcome than the Linear Regression. \n",
        "\n",
        " *   High RMSE high error.\n",
        " *   Despite that the R^2 Score is higher that in linear regression, it is still lower to say that we have a good fit.\n"
      ],
      "metadata": {
        "id": "crFksZHF8WEw"
      }
    },
    {
      "cell_type": "markdown",
      "source": [
        "### Conclusions. "
      ],
      "metadata": {
        "id": "tPqVtT6iID6v"
      }
    },
    {
      "cell_type": "markdown",
      "source": [
        "* Both linear regression and decision trees obtained similar results with regard to RMSE and R^2 Score values.\n",
        "* It would be necessary to try another model, such as Random Forest or Neural Networks, to see if the model fits better."
      ],
      "metadata": {
        "id": "da91JmzyINIw"
      }
    },
    {
      "cell_type": "code",
      "source": [],
      "metadata": {
        "id": "A0APjif-IsCP"
      },
      "execution_count": null,
      "outputs": []
    }
  ]
}