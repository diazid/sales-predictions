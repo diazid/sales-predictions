{
  "nbformat": 4,
  "nbformat_minor": 0,
  "metadata": {
    "colab": {
      "provenance": [],
      "collapsed_sections": [
        "hxnr-bCTsOy0",
        "p5jk25kdsRp5",
        "Ixy2kKQR3au_",
        "If0sSuVs4Yky",
        "RV7McsLL5edM",
        "bdlZjpwgy8qG"
      ],
      "toc_visible": true,
      "authorship_tag": "ABX9TyPqWto943/kRmFU6pVL/wyA",
      "include_colab_link": true
    },
    "kernelspec": {
      "name": "python3",
      "display_name": "Python 3"
    },
    "language_info": {
      "name": "python"
    }
  },
  "cells": [
    {
      "cell_type": "markdown",
      "metadata": {
        "id": "view-in-github",
        "colab_type": "text"
      },
      "source": [
        "<a href=\"https://colab.research.google.com/github/diazid/sales-predictions/blob/main/sales_prediction.ipynb\" target=\"_parent\"><img src=\"https://colab.research.google.com/assets/colab-badge.svg\" alt=\"Open In Colab\"/></a>"
      ]
    },
    {
      "cell_type": "markdown",
      "source": [
        "# Project 1 - Part 3: Food Sales Prediction\n",
        "\n",
        "Name: Israel Diaz\n",
        "\n"
      ],
      "metadata": {
        "id": "mYISzyPjvICw"
      }
    },
    {
      "cell_type": "markdown",
      "source": [
        "**Description:**\n",
        "\n",
        "This project will be a sales prediction for food items sold at various stores. The goal of this is to help the retailer understand the properties of products and outlets that play crucial roles in increasing sales."
      ],
      "metadata": {
        "id": "7YljQ6D-ocra"
      }
    },
    {
      "cell_type": "markdown",
      "source": [
        "**Data**\n",
        "\n",
        "The data frame register 8523 entries and 12 variable. Each variable represent the following. \n",
        "\n",
        "\n",
        "\n",
        "|Variable Name            \t| Description |\n",
        "|---------------------------|-------------|\n",
        "|Item_Identifier            |\tUnique product ID|\n",
        "|Item_Weight\t              | Weight of product|\n",
        "|Item_Fat_Content           |\tWhether the product is low fat or regular|\n",
        "|Item_Visibility          \t|The percentage of total display area of all products in a store allocated to the particular product|\n",
        "|Item_Type\t                |The category to which the product belongs|\n",
        "|Item_MRP\t                  |Maximum Retail Price (list price) of the product|\n",
        "|Outlet_Identifier          |Unique store ID|\n",
        "|Outlet_Establishment_Year\t|The year in which store was established|\n",
        "|Outlet_Size\t              |The size of the store in terms of ground area covered|\n",
        "|Outlet_Location_Type\t      |The type of area in which the store is located|\n",
        "|Outlet_Type\t              |Whether the outlet is a grocery store or some sort of supermarket|\n",
        "|Item_Outlet_Sales         \t|Sales of the product in the particular store. This is the target variable to be predicted. |\n"
      ],
      "metadata": {
        "id": "t1dVYMNflQiK"
      }
    },
    {
      "cell_type": "markdown",
      "source": [
        "## Loading Data"
      ],
      "metadata": {
        "id": "6__zyAHuvV4o"
      }
    },
    {
      "cell_type": "markdown",
      "source": [
        "Loading data from container"
      ],
      "metadata": {
        "id": "cuSWe_qHLlEU"
      }
    },
    {
      "cell_type": "code",
      "source": [
        "filepath = 'https://drive.google.com/uc?export=download&id=1apwZQiYRcktux62Ki6qaJa_JI-hDGb75'"
      ],
      "metadata": {
        "id": "t9jF7cvgMCP1"
      },
      "execution_count": 1,
      "outputs": []
    },
    {
      "cell_type": "code",
      "source": [
        "#IMPORTING PANDAS LIBRARY\n",
        "import pandas as pd\n",
        "import numpy as np\n",
        "import matplotlib.pyplot as plt\n",
        "import seaborn as sns\n",
        "import random\n"
      ],
      "metadata": {
        "id": "6ahp_E0BNawL"
      },
      "execution_count": 2,
      "outputs": []
    },
    {
      "cell_type": "code",
      "source": [
        "#LOADING DATA INTO PANDAS DATAFRAME\n",
        "df = pd.read_csv(filepath)"
      ],
      "metadata": {
        "id": "AknmUylRNj0A"
      },
      "execution_count": 3,
      "outputs": []
    },
    {
      "cell_type": "markdown",
      "source": [
        "Previewing the content and info."
      ],
      "metadata": {
        "id": "EDoTSC9QPLEJ"
      }
    },
    {
      "cell_type": "code",
      "source": [
        "df.info()"
      ],
      "metadata": {
        "colab": {
          "base_uri": "https://localhost:8080/"
        },
        "id": "tLhPyzRcODuI",
        "outputId": "a63f8a9b-3570-4977-aa2d-d77179a1afd2"
      },
      "execution_count": 4,
      "outputs": [
        {
          "output_type": "stream",
          "name": "stdout",
          "text": [
            "<class 'pandas.core.frame.DataFrame'>\n",
            "RangeIndex: 8523 entries, 0 to 8522\n",
            "Data columns (total 12 columns):\n",
            " #   Column                     Non-Null Count  Dtype  \n",
            "---  ------                     --------------  -----  \n",
            " 0   Item_Identifier            8523 non-null   object \n",
            " 1   Item_Weight                7060 non-null   float64\n",
            " 2   Item_Fat_Content           8523 non-null   object \n",
            " 3   Item_Visibility            8523 non-null   float64\n",
            " 4   Item_Type                  8523 non-null   object \n",
            " 5   Item_MRP                   8523 non-null   float64\n",
            " 6   Outlet_Identifier          8523 non-null   object \n",
            " 7   Outlet_Establishment_Year  8523 non-null   int64  \n",
            " 8   Outlet_Size                6113 non-null   object \n",
            " 9   Outlet_Location_Type       8523 non-null   object \n",
            " 10  Outlet_Type                8523 non-null   object \n",
            " 11  Item_Outlet_Sales          8523 non-null   float64\n",
            "dtypes: float64(4), int64(1), object(7)\n",
            "memory usage: 799.2+ KB\n"
          ]
        }
      ]
    },
    {
      "cell_type": "markdown",
      "source": [
        "I see that there is a couple of the variables that has missing values:\n",
        "\n",
        "* No. Entries : 8523\n",
        "* `Item Weight` : 7060 non null values\n",
        "* `Outlet_Size` : 6113 non null values\n",
        "\n",
        "Other variables are complete. "
      ],
      "metadata": {
        "id": "v2SXhv2jOehP"
      }
    },
    {
      "cell_type": "code",
      "source": [
        "df.head()"
      ],
      "metadata": {
        "colab": {
          "base_uri": "https://localhost:8080/",
          "height": 357
        },
        "id": "xWzO8E0iOR5U",
        "outputId": "7efc197b-091c-4a6f-e354-c574ac356c9c"
      },
      "execution_count": 5,
      "outputs": [
        {
          "output_type": "execute_result",
          "data": {
            "text/plain": [
              "  Item_Identifier  Item_Weight Item_Fat_Content  Item_Visibility  \\\n",
              "0           FDA15         9.30          Low Fat         0.016047   \n",
              "1           DRC01         5.92          Regular         0.019278   \n",
              "2           FDN15        17.50          Low Fat         0.016760   \n",
              "3           FDX07        19.20          Regular         0.000000   \n",
              "4           NCD19         8.93          Low Fat         0.000000   \n",
              "\n",
              "               Item_Type  Item_MRP Outlet_Identifier  \\\n",
              "0                  Dairy  249.8092            OUT049   \n",
              "1            Soft Drinks   48.2692            OUT018   \n",
              "2                   Meat  141.6180            OUT049   \n",
              "3  Fruits and Vegetables  182.0950            OUT010   \n",
              "4              Household   53.8614            OUT013   \n",
              "\n",
              "   Outlet_Establishment_Year Outlet_Size Outlet_Location_Type  \\\n",
              "0                       1999      Medium               Tier 1   \n",
              "1                       2009      Medium               Tier 3   \n",
              "2                       1999      Medium               Tier 1   \n",
              "3                       1998         NaN               Tier 3   \n",
              "4                       1987        High               Tier 3   \n",
              "\n",
              "         Outlet_Type  Item_Outlet_Sales  \n",
              "0  Supermarket Type1          3735.1380  \n",
              "1  Supermarket Type2           443.4228  \n",
              "2  Supermarket Type1          2097.2700  \n",
              "3      Grocery Store           732.3800  \n",
              "4  Supermarket Type1           994.7052  "
            ],
            "text/html": [
              "\n",
              "  <div id=\"df-82438bf6-fa14-4ee1-b1d5-7c9c8ff09c90\">\n",
              "    <div class=\"colab-df-container\">\n",
              "      <div>\n",
              "<style scoped>\n",
              "    .dataframe tbody tr th:only-of-type {\n",
              "        vertical-align: middle;\n",
              "    }\n",
              "\n",
              "    .dataframe tbody tr th {\n",
              "        vertical-align: top;\n",
              "    }\n",
              "\n",
              "    .dataframe thead th {\n",
              "        text-align: right;\n",
              "    }\n",
              "</style>\n",
              "<table border=\"1\" class=\"dataframe\">\n",
              "  <thead>\n",
              "    <tr style=\"text-align: right;\">\n",
              "      <th></th>\n",
              "      <th>Item_Identifier</th>\n",
              "      <th>Item_Weight</th>\n",
              "      <th>Item_Fat_Content</th>\n",
              "      <th>Item_Visibility</th>\n",
              "      <th>Item_Type</th>\n",
              "      <th>Item_MRP</th>\n",
              "      <th>Outlet_Identifier</th>\n",
              "      <th>Outlet_Establishment_Year</th>\n",
              "      <th>Outlet_Size</th>\n",
              "      <th>Outlet_Location_Type</th>\n",
              "      <th>Outlet_Type</th>\n",
              "      <th>Item_Outlet_Sales</th>\n",
              "    </tr>\n",
              "  </thead>\n",
              "  <tbody>\n",
              "    <tr>\n",
              "      <th>0</th>\n",
              "      <td>FDA15</td>\n",
              "      <td>9.30</td>\n",
              "      <td>Low Fat</td>\n",
              "      <td>0.016047</td>\n",
              "      <td>Dairy</td>\n",
              "      <td>249.8092</td>\n",
              "      <td>OUT049</td>\n",
              "      <td>1999</td>\n",
              "      <td>Medium</td>\n",
              "      <td>Tier 1</td>\n",
              "      <td>Supermarket Type1</td>\n",
              "      <td>3735.1380</td>\n",
              "    </tr>\n",
              "    <tr>\n",
              "      <th>1</th>\n",
              "      <td>DRC01</td>\n",
              "      <td>5.92</td>\n",
              "      <td>Regular</td>\n",
              "      <td>0.019278</td>\n",
              "      <td>Soft Drinks</td>\n",
              "      <td>48.2692</td>\n",
              "      <td>OUT018</td>\n",
              "      <td>2009</td>\n",
              "      <td>Medium</td>\n",
              "      <td>Tier 3</td>\n",
              "      <td>Supermarket Type2</td>\n",
              "      <td>443.4228</td>\n",
              "    </tr>\n",
              "    <tr>\n",
              "      <th>2</th>\n",
              "      <td>FDN15</td>\n",
              "      <td>17.50</td>\n",
              "      <td>Low Fat</td>\n",
              "      <td>0.016760</td>\n",
              "      <td>Meat</td>\n",
              "      <td>141.6180</td>\n",
              "      <td>OUT049</td>\n",
              "      <td>1999</td>\n",
              "      <td>Medium</td>\n",
              "      <td>Tier 1</td>\n",
              "      <td>Supermarket Type1</td>\n",
              "      <td>2097.2700</td>\n",
              "    </tr>\n",
              "    <tr>\n",
              "      <th>3</th>\n",
              "      <td>FDX07</td>\n",
              "      <td>19.20</td>\n",
              "      <td>Regular</td>\n",
              "      <td>0.000000</td>\n",
              "      <td>Fruits and Vegetables</td>\n",
              "      <td>182.0950</td>\n",
              "      <td>OUT010</td>\n",
              "      <td>1998</td>\n",
              "      <td>NaN</td>\n",
              "      <td>Tier 3</td>\n",
              "      <td>Grocery Store</td>\n",
              "      <td>732.3800</td>\n",
              "    </tr>\n",
              "    <tr>\n",
              "      <th>4</th>\n",
              "      <td>NCD19</td>\n",
              "      <td>8.93</td>\n",
              "      <td>Low Fat</td>\n",
              "      <td>0.000000</td>\n",
              "      <td>Household</td>\n",
              "      <td>53.8614</td>\n",
              "      <td>OUT013</td>\n",
              "      <td>1987</td>\n",
              "      <td>High</td>\n",
              "      <td>Tier 3</td>\n",
              "      <td>Supermarket Type1</td>\n",
              "      <td>994.7052</td>\n",
              "    </tr>\n",
              "  </tbody>\n",
              "</table>\n",
              "</div>\n",
              "      <button class=\"colab-df-convert\" onclick=\"convertToInteractive('df-82438bf6-fa14-4ee1-b1d5-7c9c8ff09c90')\"\n",
              "              title=\"Convert this dataframe to an interactive table.\"\n",
              "              style=\"display:none;\">\n",
              "        \n",
              "  <svg xmlns=\"http://www.w3.org/2000/svg\" height=\"24px\"viewBox=\"0 0 24 24\"\n",
              "       width=\"24px\">\n",
              "    <path d=\"M0 0h24v24H0V0z\" fill=\"none\"/>\n",
              "    <path d=\"M18.56 5.44l.94 2.06.94-2.06 2.06-.94-2.06-.94-.94-2.06-.94 2.06-2.06.94zm-11 1L8.5 8.5l.94-2.06 2.06-.94-2.06-.94L8.5 2.5l-.94 2.06-2.06.94zm10 10l.94 2.06.94-2.06 2.06-.94-2.06-.94-.94-2.06-.94 2.06-2.06.94z\"/><path d=\"M17.41 7.96l-1.37-1.37c-.4-.4-.92-.59-1.43-.59-.52 0-1.04.2-1.43.59L10.3 9.45l-7.72 7.72c-.78.78-.78 2.05 0 2.83L4 21.41c.39.39.9.59 1.41.59.51 0 1.02-.2 1.41-.59l7.78-7.78 2.81-2.81c.8-.78.8-2.07 0-2.86zM5.41 20L4 18.59l7.72-7.72 1.47 1.35L5.41 20z\"/>\n",
              "  </svg>\n",
              "      </button>\n",
              "      \n",
              "  <style>\n",
              "    .colab-df-container {\n",
              "      display:flex;\n",
              "      flex-wrap:wrap;\n",
              "      gap: 12px;\n",
              "    }\n",
              "\n",
              "    .colab-df-convert {\n",
              "      background-color: #E8F0FE;\n",
              "      border: none;\n",
              "      border-radius: 50%;\n",
              "      cursor: pointer;\n",
              "      display: none;\n",
              "      fill: #1967D2;\n",
              "      height: 32px;\n",
              "      padding: 0 0 0 0;\n",
              "      width: 32px;\n",
              "    }\n",
              "\n",
              "    .colab-df-convert:hover {\n",
              "      background-color: #E2EBFA;\n",
              "      box-shadow: 0px 1px 2px rgba(60, 64, 67, 0.3), 0px 1px 3px 1px rgba(60, 64, 67, 0.15);\n",
              "      fill: #174EA6;\n",
              "    }\n",
              "\n",
              "    [theme=dark] .colab-df-convert {\n",
              "      background-color: #3B4455;\n",
              "      fill: #D2E3FC;\n",
              "    }\n",
              "\n",
              "    [theme=dark] .colab-df-convert:hover {\n",
              "      background-color: #434B5C;\n",
              "      box-shadow: 0px 1px 3px 1px rgba(0, 0, 0, 0.15);\n",
              "      filter: drop-shadow(0px 1px 2px rgba(0, 0, 0, 0.3));\n",
              "      fill: #FFFFFF;\n",
              "    }\n",
              "  </style>\n",
              "\n",
              "      <script>\n",
              "        const buttonEl =\n",
              "          document.querySelector('#df-82438bf6-fa14-4ee1-b1d5-7c9c8ff09c90 button.colab-df-convert');\n",
              "        buttonEl.style.display =\n",
              "          google.colab.kernel.accessAllowed ? 'block' : 'none';\n",
              "\n",
              "        async function convertToInteractive(key) {\n",
              "          const element = document.querySelector('#df-82438bf6-fa14-4ee1-b1d5-7c9c8ff09c90');\n",
              "          const dataTable =\n",
              "            await google.colab.kernel.invokeFunction('convertToInteractive',\n",
              "                                                     [key], {});\n",
              "          if (!dataTable) return;\n",
              "\n",
              "          const docLinkHtml = 'Like what you see? Visit the ' +\n",
              "            '<a target=\"_blank\" href=https://colab.research.google.com/notebooks/data_table.ipynb>data table notebook</a>'\n",
              "            + ' to learn more about interactive tables.';\n",
              "          element.innerHTML = '';\n",
              "          dataTable['output_type'] = 'display_data';\n",
              "          await google.colab.output.renderOutput(dataTable, element);\n",
              "          const docLink = document.createElement('div');\n",
              "          docLink.innerHTML = docLinkHtml;\n",
              "          element.appendChild(docLink);\n",
              "        }\n",
              "      </script>\n",
              "    </div>\n",
              "  </div>\n",
              "  "
            ]
          },
          "metadata": {},
          "execution_count": 5
        }
      ]
    },
    {
      "cell_type": "code",
      "source": [
        "df.shape"
      ],
      "metadata": {
        "colab": {
          "base_uri": "https://localhost:8080/"
        },
        "id": "TN1gMQbrVzRy",
        "outputId": "d36bf442-6c1c-473e-aef8-6a5d509e8c35"
      },
      "execution_count": 6,
      "outputs": [
        {
          "output_type": "execute_result",
          "data": {
            "text/plain": [
              "(8523, 12)"
            ]
          },
          "metadata": {},
          "execution_count": 6
        }
      ]
    },
    {
      "cell_type": "markdown",
      "source": [
        "## Data Cleaning"
      ],
      "metadata": {
        "id": "teqfxMLZvbqP"
      }
    },
    {
      "cell_type": "markdown",
      "source": [
        "### Data types"
      ],
      "metadata": {
        "id": "_oazdDwssKli"
      }
    },
    {
      "cell_type": "code",
      "source": [
        "df.dtypes"
      ],
      "metadata": {
        "id": "nfyFY4ugvd7Y",
        "colab": {
          "base_uri": "https://localhost:8080/"
        },
        "outputId": "372b3f9c-e664-48bb-80f9-a63845adb163"
      },
      "execution_count": 7,
      "outputs": [
        {
          "output_type": "execute_result",
          "data": {
            "text/plain": [
              "Item_Identifier               object\n",
              "Item_Weight                  float64\n",
              "Item_Fat_Content              object\n",
              "Item_Visibility              float64\n",
              "Item_Type                     object\n",
              "Item_MRP                     float64\n",
              "Outlet_Identifier             object\n",
              "Outlet_Establishment_Year      int64\n",
              "Outlet_Size                   object\n",
              "Outlet_Location_Type          object\n",
              "Outlet_Type                   object\n",
              "Item_Outlet_Sales            float64\n",
              "dtype: object"
            ]
          },
          "metadata": {},
          "execution_count": 7
        }
      ]
    },
    {
      "cell_type": "markdown",
      "source": [
        "All data types seems to be correct, at least in the first watch. If in the next steps I find I have to change in the data types it will be done. "
      ],
      "metadata": {
        "id": "Ya-gUcTNWJ0T"
      }
    },
    {
      "cell_type": "markdown",
      "source": [
        "### Finding Duplicates"
      ],
      "metadata": {
        "id": "hxnr-bCTsOy0"
      }
    },
    {
      "cell_type": "code",
      "source": [
        "df.duplicated().sum()"
      ],
      "metadata": {
        "colab": {
          "base_uri": "https://localhost:8080/"
        },
        "id": "WcmTk5oPVi3b",
        "outputId": "3f553c3f-77c7-43eb-c462-9f830f789cfc"
      },
      "execution_count": 8,
      "outputs": [
        {
          "output_type": "execute_result",
          "data": {
            "text/plain": [
              "0"
            ]
          },
          "metadata": {},
          "execution_count": 8
        }
      ]
    },
    {
      "cell_type": "markdown",
      "source": [
        "There are no duplicated entries in the data set."
      ],
      "metadata": {
        "id": "32iMMDQqWqZt"
      }
    },
    {
      "cell_type": "markdown",
      "source": [
        "### Solving Missing Values"
      ],
      "metadata": {
        "id": "p5jk25kdsRp5"
      }
    },
    {
      "cell_type": "code",
      "source": [
        "df.isna().sum()"
      ],
      "metadata": {
        "colab": {
          "base_uri": "https://localhost:8080/"
        },
        "id": "h3Ui-Ix7WpDm",
        "outputId": "a8b8e11a-a268-4f8c-e179-7263e60d26d5"
      },
      "execution_count": 9,
      "outputs": [
        {
          "output_type": "execute_result",
          "data": {
            "text/plain": [
              "Item_Identifier                 0\n",
              "Item_Weight                  1463\n",
              "Item_Fat_Content                0\n",
              "Item_Visibility                 0\n",
              "Item_Type                       0\n",
              "Item_MRP                        0\n",
              "Outlet_Identifier               0\n",
              "Outlet_Establishment_Year       0\n",
              "Outlet_Size                  2410\n",
              "Outlet_Location_Type            0\n",
              "Outlet_Type                     0\n",
              "Item_Outlet_Sales               0\n",
              "dtype: int64"
            ]
          },
          "metadata": {},
          "execution_count": 9
        }
      ]
    },
    {
      "cell_type": "markdown",
      "source": [
        "There are have missing values in `Item_Weight` and `Outlet_type` columns. \n",
        "\n",
        "I'll impute the mean value according the `Item_Type`, let's say, not just only 1 mean for all the missing values but the ones grouped by `Item_Type`.\n"
      ],
      "metadata": {
        "id": "g1UIh1d6XCqO"
      }
    },
    {
      "cell_type": "code",
      "source": [
        "df['Item_Weight'] = df.groupby(\"Item_Type\")[\"Item_Weight\"].transform(lambda x: x.fillna(x.mean()))\n",
        "\n",
        "\n",
        "## taken from \n",
        "## 'https://datascience.stackexchange.com/questions/37717/imputation-missing-values-other-than-using-mean-median-in-python'"
      ],
      "metadata": {
        "id": "PzFjsEZGV0AX"
      },
      "execution_count": 10,
      "outputs": []
    },
    {
      "cell_type": "code",
      "source": [
        "df.isna().sum()"
      ],
      "metadata": {
        "colab": {
          "base_uri": "https://localhost:8080/"
        },
        "id": "34VZfW2vUekJ",
        "outputId": "a706aa87-9014-493e-bead-de63d2bbf702"
      },
      "execution_count": 11,
      "outputs": [
        {
          "output_type": "execute_result",
          "data": {
            "text/plain": [
              "Item_Identifier                 0\n",
              "Item_Weight                     0\n",
              "Item_Fat_Content                0\n",
              "Item_Visibility                 0\n",
              "Item_Type                       0\n",
              "Item_MRP                        0\n",
              "Outlet_Identifier               0\n",
              "Outlet_Establishment_Year       0\n",
              "Outlet_Size                  2410\n",
              "Outlet_Location_Type            0\n",
              "Outlet_Type                     0\n",
              "Item_Outlet_Sales               0\n",
              "dtype: int64"
            ]
          },
          "metadata": {},
          "execution_count": 11
        }
      ]
    },
    {
      "cell_type": "markdown",
      "source": [
        "Done!"
      ],
      "metadata": {
        "id": "UfmDRKdOZGnX"
      }
    },
    {
      "cell_type": "markdown",
      "source": [
        "Other columns that presented missing values is `Outlet_Size` variable:"
      ],
      "metadata": {
        "id": "0wwmbf7drMQ7"
      }
    },
    {
      "cell_type": "code",
      "source": [
        "df['Outlet_Size'].value_counts()"
      ],
      "metadata": {
        "colab": {
          "base_uri": "https://localhost:8080/"
        },
        "id": "hYcSCk9VZK8w",
        "outputId": "baaea010-308e-4e62-bd8b-dc46ac5c7cd5"
      },
      "execution_count": 12,
      "outputs": [
        {
          "output_type": "execute_result",
          "data": {
            "text/plain": [
              "Medium    2793\n",
              "Small     2388\n",
              "High       932\n",
              "Name: Outlet_Size, dtype: int64"
            ]
          },
          "metadata": {},
          "execution_count": 12
        }
      ]
    },
    {
      "cell_type": "markdown",
      "source": [
        "There are three categories in the `Outlet_Size` variable:\n",
        "* Small\n",
        "* Medium\n",
        "* High\n",
        "\n",
        "Due to the this variable is categorical, and due to we don't know more information about the reason of the missing values, I will impute the missing values to `unknown` category. "
      ],
      "metadata": {
        "id": "5Pg0Vs5zrYKi"
      }
    },
    {
      "cell_type": "markdown",
      "source": [
        "Once this is corrected, I can continue with the previus analysis between `Outlet_Size` and `Item_Fat_Content`"
      ],
      "metadata": {
        "id": "frcEgOoozQm_"
      }
    },
    {
      "cell_type": "markdown",
      "source": [
        "#### Imputing missing values to `unknown` category."
      ],
      "metadata": {
        "id": "Ixy2kKQR3au_"
      }
    },
    {
      "cell_type": "code",
      "source": [
        "# IMPUTING MISSING VALUES TO UNKNOWN CATEGORY\n",
        "\n",
        "#imputing the missing values to Unknown\n",
        "df['Outlet_Size'].fillna('Unknown', inplace=True)"
      ],
      "metadata": {
        "id": "eCnnJzt-dqDB"
      },
      "execution_count": 13,
      "outputs": []
    },
    {
      "cell_type": "markdown",
      "source": [
        "#### Checking the data with imputed values"
      ],
      "metadata": {
        "id": "If0sSuVs4Yky"
      }
    },
    {
      "cell_type": "code",
      "source": [
        "df.isna().sum()"
      ],
      "metadata": {
        "colab": {
          "base_uri": "https://localhost:8080/"
        },
        "id": "QwNHYadp4edy",
        "outputId": "9cd1536d-25af-4c1f-8637-51f3f0e332eb"
      },
      "execution_count": 14,
      "outputs": [
        {
          "output_type": "execute_result",
          "data": {
            "text/plain": [
              "Item_Identifier              0\n",
              "Item_Weight                  0\n",
              "Item_Fat_Content             0\n",
              "Item_Visibility              0\n",
              "Item_Type                    0\n",
              "Item_MRP                     0\n",
              "Outlet_Identifier            0\n",
              "Outlet_Establishment_Year    0\n",
              "Outlet_Size                  0\n",
              "Outlet_Location_Type         0\n",
              "Outlet_Type                  0\n",
              "Item_Outlet_Sales            0\n",
              "dtype: int64"
            ]
          },
          "metadata": {},
          "execution_count": 14
        }
      ]
    },
    {
      "cell_type": "code",
      "source": [
        "df['Outlet_Size'].unique()"
      ],
      "metadata": {
        "colab": {
          "base_uri": "https://localhost:8080/"
        },
        "id": "fYX9l87P4g_U",
        "outputId": "bc779583-7a8e-4e04-926a-83ba0f73a396"
      },
      "execution_count": 15,
      "outputs": [
        {
          "output_type": "execute_result",
          "data": {
            "text/plain": [
              "array(['Medium', 'Unknown', 'High', 'Small'], dtype=object)"
            ]
          },
          "metadata": {},
          "execution_count": 15
        }
      ]
    },
    {
      "cell_type": "markdown",
      "source": [
        "Done!, \n",
        "\n",
        "No more missing values. "
      ],
      "metadata": {
        "id": "JYSJZOG_45Kb"
      }
    },
    {
      "cell_type": "markdown",
      "source": [
        "### Looking for Inconsistencies"
      ],
      "metadata": {
        "id": "RV7McsLL5edM"
      }
    },
    {
      "cell_type": "code",
      "source": [
        "df['Item_Fat_Content'].unique()"
      ],
      "metadata": {
        "colab": {
          "base_uri": "https://localhost:8080/"
        },
        "id": "Yl0A2MYkyPIZ",
        "outputId": "683a0e79-c258-48d9-8713-05130b8e1868"
      },
      "execution_count": 16,
      "outputs": [
        {
          "output_type": "execute_result",
          "data": {
            "text/plain": [
              "array(['Low Fat', 'Regular', 'low fat', 'LF', 'reg'], dtype=object)"
            ]
          },
          "metadata": {},
          "execution_count": 16
        }
      ]
    },
    {
      "cell_type": "markdown",
      "source": [
        "I will assume that the category `LF` is the same as `Low Fat`, as well as `reg` to `Regular`. And the will be added capt to `low fat`. "
      ],
      "metadata": {
        "id": "WO1Tz6J7yqoM"
      }
    },
    {
      "cell_type": "code",
      "source": [
        "df['Item_Fat_Content'].replace({'LF': 'Low Fat', \n",
        "                                'low fat': 'Low Fat', \n",
        "                                'reg': 'Regular'}, \n",
        "                                inplace=True)\n",
        "\n",
        "df['Item_Fat_Content'].unique()"
      ],
      "metadata": {
        "colab": {
          "base_uri": "https://localhost:8080/"
        },
        "id": "rJiXCZQRyYY-",
        "outputId": "690e4600-8f77-449c-c9dc-5a0a7e77d94c"
      },
      "execution_count": 17,
      "outputs": [
        {
          "output_type": "execute_result",
          "data": {
            "text/plain": [
              "array(['Low Fat', 'Regular'], dtype=object)"
            ]
          },
          "metadata": {},
          "execution_count": 17
        }
      ]
    },
    {
      "cell_type": "code",
      "source": [
        "df['Item_Identifier'].unique()"
      ],
      "metadata": {
        "colab": {
          "base_uri": "https://localhost:8080/"
        },
        "id": "8b5BG5Ncvfj7",
        "outputId": "a8acd05f-b597-40be-8d7b-6dc28d6626d9"
      },
      "execution_count": 18,
      "outputs": [
        {
          "output_type": "execute_result",
          "data": {
            "text/plain": [
              "array(['FDA15', 'DRC01', 'FDN15', ..., 'NCF55', 'NCW30', 'NCW05'],\n",
              "      dtype=object)"
            ]
          },
          "metadata": {},
          "execution_count": 18
        }
      ]
    },
    {
      "cell_type": "code",
      "source": [
        "df['Outlet_Establishment_Year'].unique()"
      ],
      "metadata": {
        "colab": {
          "base_uri": "https://localhost:8080/"
        },
        "id": "bH4rzCVTv1ee",
        "outputId": "972ff24d-aa6c-4386-b165-5a48ac9ee026"
      },
      "execution_count": 19,
      "outputs": [
        {
          "output_type": "execute_result",
          "data": {
            "text/plain": [
              "array([1999, 2009, 1998, 1987, 1985, 2002, 2007, 1997, 2004])"
            ]
          },
          "metadata": {},
          "execution_count": 19
        }
      ]
    },
    {
      "cell_type": "code",
      "source": [
        "df['Outlet_Identifier'].unique()"
      ],
      "metadata": {
        "colab": {
          "base_uri": "https://localhost:8080/"
        },
        "id": "I8m3ts9gv7jv",
        "outputId": "6600d354-859f-480c-f075-a9cff8312042"
      },
      "execution_count": 20,
      "outputs": [
        {
          "output_type": "execute_result",
          "data": {
            "text/plain": [
              "array(['OUT049', 'OUT018', 'OUT010', 'OUT013', 'OUT027', 'OUT045',\n",
              "       'OUT017', 'OUT046', 'OUT035', 'OUT019'], dtype=object)"
            ]
          },
          "metadata": {},
          "execution_count": 20
        }
      ]
    },
    {
      "cell_type": "code",
      "source": [
        "df['Outlet_Location_Type'].unique()"
      ],
      "metadata": {
        "colab": {
          "base_uri": "https://localhost:8080/"
        },
        "id": "q5Vs-U7_wDCa",
        "outputId": "79a34e85-4d22-4d72-dc23-e5d7239b9447"
      },
      "execution_count": 21,
      "outputs": [
        {
          "output_type": "execute_result",
          "data": {
            "text/plain": [
              "array(['Tier 1', 'Tier 3', 'Tier 2'], dtype=object)"
            ]
          },
          "metadata": {},
          "execution_count": 21
        }
      ]
    },
    {
      "cell_type": "code",
      "source": [
        "df['Outlet_Type'].unique()"
      ],
      "metadata": {
        "colab": {
          "base_uri": "https://localhost:8080/"
        },
        "id": "aA8i7hlCwJHz",
        "outputId": "a9643d0d-218a-4f3f-8150-a5868893d757"
      },
      "execution_count": 22,
      "outputs": [
        {
          "output_type": "execute_result",
          "data": {
            "text/plain": [
              "array(['Supermarket Type1', 'Supermarket Type2', 'Grocery Store',\n",
              "       'Supermarket Type3'], dtype=object)"
            ]
          },
          "metadata": {},
          "execution_count": 22
        }
      ]
    },
    {
      "cell_type": "markdown",
      "source": [
        "I see no more inconsistencies"
      ],
      "metadata": {
        "id": "XoItI5Jr5_Mq"
      }
    },
    {
      "cell_type": "markdown",
      "source": [
        "### Summary statistics"
      ],
      "metadata": {
        "id": "bdlZjpwgy8qG"
      }
    },
    {
      "cell_type": "code",
      "source": [
        "df.describe()"
      ],
      "metadata": {
        "colab": {
          "base_uri": "https://localhost:8080/",
          "height": 364
        },
        "id": "BAb1c9PbysrF",
        "outputId": "d0514c9a-e228-4634-bfbb-7c63e593480a"
      },
      "execution_count": 23,
      "outputs": [
        {
          "output_type": "execute_result",
          "data": {
            "text/plain": [
              "       Item_Weight  Item_Visibility     Item_MRP  Outlet_Establishment_Year  \\\n",
              "count  8523.000000      8523.000000  8523.000000                8523.000000   \n",
              "mean     12.857890         0.066132   140.992782                1997.831867   \n",
              "std       4.232804         0.051598    62.275067                   8.371760   \n",
              "min       4.555000         0.000000    31.290000                1985.000000   \n",
              "25%       9.310000         0.026989    93.826500                1987.000000   \n",
              "50%      12.867061         0.053931   143.012800                1999.000000   \n",
              "75%      16.000000         0.094585   185.643700                2004.000000   \n",
              "max      21.350000         0.328391   266.888400                2009.000000   \n",
              "\n",
              "       Item_Outlet_Sales  \n",
              "count        8523.000000  \n",
              "mean         2181.288914  \n",
              "std          1706.499616  \n",
              "min            33.290000  \n",
              "25%           834.247400  \n",
              "50%          1794.331000  \n",
              "75%          3101.296400  \n",
              "max         13086.964800  "
            ],
            "text/html": [
              "\n",
              "  <div id=\"df-c91329ca-ad86-4ade-9c52-1c9fc00cebfb\">\n",
              "    <div class=\"colab-df-container\">\n",
              "      <div>\n",
              "<style scoped>\n",
              "    .dataframe tbody tr th:only-of-type {\n",
              "        vertical-align: middle;\n",
              "    }\n",
              "\n",
              "    .dataframe tbody tr th {\n",
              "        vertical-align: top;\n",
              "    }\n",
              "\n",
              "    .dataframe thead th {\n",
              "        text-align: right;\n",
              "    }\n",
              "</style>\n",
              "<table border=\"1\" class=\"dataframe\">\n",
              "  <thead>\n",
              "    <tr style=\"text-align: right;\">\n",
              "      <th></th>\n",
              "      <th>Item_Weight</th>\n",
              "      <th>Item_Visibility</th>\n",
              "      <th>Item_MRP</th>\n",
              "      <th>Outlet_Establishment_Year</th>\n",
              "      <th>Item_Outlet_Sales</th>\n",
              "    </tr>\n",
              "  </thead>\n",
              "  <tbody>\n",
              "    <tr>\n",
              "      <th>count</th>\n",
              "      <td>8523.000000</td>\n",
              "      <td>8523.000000</td>\n",
              "      <td>8523.000000</td>\n",
              "      <td>8523.000000</td>\n",
              "      <td>8523.000000</td>\n",
              "    </tr>\n",
              "    <tr>\n",
              "      <th>mean</th>\n",
              "      <td>12.857890</td>\n",
              "      <td>0.066132</td>\n",
              "      <td>140.992782</td>\n",
              "      <td>1997.831867</td>\n",
              "      <td>2181.288914</td>\n",
              "    </tr>\n",
              "    <tr>\n",
              "      <th>std</th>\n",
              "      <td>4.232804</td>\n",
              "      <td>0.051598</td>\n",
              "      <td>62.275067</td>\n",
              "      <td>8.371760</td>\n",
              "      <td>1706.499616</td>\n",
              "    </tr>\n",
              "    <tr>\n",
              "      <th>min</th>\n",
              "      <td>4.555000</td>\n",
              "      <td>0.000000</td>\n",
              "      <td>31.290000</td>\n",
              "      <td>1985.000000</td>\n",
              "      <td>33.290000</td>\n",
              "    </tr>\n",
              "    <tr>\n",
              "      <th>25%</th>\n",
              "      <td>9.310000</td>\n",
              "      <td>0.026989</td>\n",
              "      <td>93.826500</td>\n",
              "      <td>1987.000000</td>\n",
              "      <td>834.247400</td>\n",
              "    </tr>\n",
              "    <tr>\n",
              "      <th>50%</th>\n",
              "      <td>12.867061</td>\n",
              "      <td>0.053931</td>\n",
              "      <td>143.012800</td>\n",
              "      <td>1999.000000</td>\n",
              "      <td>1794.331000</td>\n",
              "    </tr>\n",
              "    <tr>\n",
              "      <th>75%</th>\n",
              "      <td>16.000000</td>\n",
              "      <td>0.094585</td>\n",
              "      <td>185.643700</td>\n",
              "      <td>2004.000000</td>\n",
              "      <td>3101.296400</td>\n",
              "    </tr>\n",
              "    <tr>\n",
              "      <th>max</th>\n",
              "      <td>21.350000</td>\n",
              "      <td>0.328391</td>\n",
              "      <td>266.888400</td>\n",
              "      <td>2009.000000</td>\n",
              "      <td>13086.964800</td>\n",
              "    </tr>\n",
              "  </tbody>\n",
              "</table>\n",
              "</div>\n",
              "      <button class=\"colab-df-convert\" onclick=\"convertToInteractive('df-c91329ca-ad86-4ade-9c52-1c9fc00cebfb')\"\n",
              "              title=\"Convert this dataframe to an interactive table.\"\n",
              "              style=\"display:none;\">\n",
              "        \n",
              "  <svg xmlns=\"http://www.w3.org/2000/svg\" height=\"24px\"viewBox=\"0 0 24 24\"\n",
              "       width=\"24px\">\n",
              "    <path d=\"M0 0h24v24H0V0z\" fill=\"none\"/>\n",
              "    <path d=\"M18.56 5.44l.94 2.06.94-2.06 2.06-.94-2.06-.94-.94-2.06-.94 2.06-2.06.94zm-11 1L8.5 8.5l.94-2.06 2.06-.94-2.06-.94L8.5 2.5l-.94 2.06-2.06.94zm10 10l.94 2.06.94-2.06 2.06-.94-2.06-.94-.94-2.06-.94 2.06-2.06.94z\"/><path d=\"M17.41 7.96l-1.37-1.37c-.4-.4-.92-.59-1.43-.59-.52 0-1.04.2-1.43.59L10.3 9.45l-7.72 7.72c-.78.78-.78 2.05 0 2.83L4 21.41c.39.39.9.59 1.41.59.51 0 1.02-.2 1.41-.59l7.78-7.78 2.81-2.81c.8-.78.8-2.07 0-2.86zM5.41 20L4 18.59l7.72-7.72 1.47 1.35L5.41 20z\"/>\n",
              "  </svg>\n",
              "      </button>\n",
              "      \n",
              "  <style>\n",
              "    .colab-df-container {\n",
              "      display:flex;\n",
              "      flex-wrap:wrap;\n",
              "      gap: 12px;\n",
              "    }\n",
              "\n",
              "    .colab-df-convert {\n",
              "      background-color: #E8F0FE;\n",
              "      border: none;\n",
              "      border-radius: 50%;\n",
              "      cursor: pointer;\n",
              "      display: none;\n",
              "      fill: #1967D2;\n",
              "      height: 32px;\n",
              "      padding: 0 0 0 0;\n",
              "      width: 32px;\n",
              "    }\n",
              "\n",
              "    .colab-df-convert:hover {\n",
              "      background-color: #E2EBFA;\n",
              "      box-shadow: 0px 1px 2px rgba(60, 64, 67, 0.3), 0px 1px 3px 1px rgba(60, 64, 67, 0.15);\n",
              "      fill: #174EA6;\n",
              "    }\n",
              "\n",
              "    [theme=dark] .colab-df-convert {\n",
              "      background-color: #3B4455;\n",
              "      fill: #D2E3FC;\n",
              "    }\n",
              "\n",
              "    [theme=dark] .colab-df-convert:hover {\n",
              "      background-color: #434B5C;\n",
              "      box-shadow: 0px 1px 3px 1px rgba(0, 0, 0, 0.15);\n",
              "      filter: drop-shadow(0px 1px 2px rgba(0, 0, 0, 0.3));\n",
              "      fill: #FFFFFF;\n",
              "    }\n",
              "  </style>\n",
              "\n",
              "      <script>\n",
              "        const buttonEl =\n",
              "          document.querySelector('#df-c91329ca-ad86-4ade-9c52-1c9fc00cebfb button.colab-df-convert');\n",
              "        buttonEl.style.display =\n",
              "          google.colab.kernel.accessAllowed ? 'block' : 'none';\n",
              "\n",
              "        async function convertToInteractive(key) {\n",
              "          const element = document.querySelector('#df-c91329ca-ad86-4ade-9c52-1c9fc00cebfb');\n",
              "          const dataTable =\n",
              "            await google.colab.kernel.invokeFunction('convertToInteractive',\n",
              "                                                     [key], {});\n",
              "          if (!dataTable) return;\n",
              "\n",
              "          const docLinkHtml = 'Like what you see? Visit the ' +\n",
              "            '<a target=\"_blank\" href=https://colab.research.google.com/notebooks/data_table.ipynb>data table notebook</a>'\n",
              "            + ' to learn more about interactive tables.';\n",
              "          element.innerHTML = '';\n",
              "          dataTable['output_type'] = 'display_data';\n",
              "          await google.colab.output.renderOutput(dataTable, element);\n",
              "          const docLink = document.createElement('div');\n",
              "          docLink.innerHTML = docLinkHtml;\n",
              "          element.appendChild(docLink);\n",
              "        }\n",
              "      </script>\n",
              "    </div>\n",
              "  </div>\n",
              "  "
            ]
          },
          "metadata": {},
          "execution_count": 23
        }
      ]
    },
    {
      "cell_type": "markdown",
      "source": [
        "## Exploratory Visuals"
      ],
      "metadata": {
        "id": "E3AwQqQ5vei0"
      }
    },
    {
      "cell_type": "markdown",
      "source": [
        "Before perform any explortory analysis I will covert variables into categorical"
      ],
      "metadata": {
        "id": "Rs1suNRUuj03"
      }
    },
    {
      "cell_type": "code",
      "source": [
        "df.info()"
      ],
      "metadata": {
        "colab": {
          "base_uri": "https://localhost:8080/"
        },
        "id": "1-U8MDJUvGav",
        "outputId": "80fbcd70-09c3-4509-84e0-1f7ef1f9ffb1"
      },
      "execution_count": 24,
      "outputs": [
        {
          "output_type": "stream",
          "name": "stdout",
          "text": [
            "<class 'pandas.core.frame.DataFrame'>\n",
            "RangeIndex: 8523 entries, 0 to 8522\n",
            "Data columns (total 12 columns):\n",
            " #   Column                     Non-Null Count  Dtype  \n",
            "---  ------                     --------------  -----  \n",
            " 0   Item_Identifier            8523 non-null   object \n",
            " 1   Item_Weight                8523 non-null   float64\n",
            " 2   Item_Fat_Content           8523 non-null   object \n",
            " 3   Item_Visibility            8523 non-null   float64\n",
            " 4   Item_Type                  8523 non-null   object \n",
            " 5   Item_MRP                   8523 non-null   float64\n",
            " 6   Outlet_Identifier          8523 non-null   object \n",
            " 7   Outlet_Establishment_Year  8523 non-null   int64  \n",
            " 8   Outlet_Size                8523 non-null   object \n",
            " 9   Outlet_Location_Type       8523 non-null   object \n",
            " 10  Outlet_Type                8523 non-null   object \n",
            " 11  Item_Outlet_Sales          8523 non-null   float64\n",
            "dtypes: float64(4), int64(1), object(7)\n",
            "memory usage: 799.2+ KB\n"
          ]
        }
      ]
    },
    {
      "cell_type": "code",
      "source": [
        "# Converting variables into categorial when is the case. \n",
        "\n",
        "df['Item_Identifier'] = df['Item_Identifier'].astype('category')\n",
        "df['Item_Fat_Content'] = df['Item_Fat_Content'].astype('category')\n",
        "df['Item_Type'] = df['Item_Type'].astype('category')\n",
        "df['Outlet_Identifier'] = df['Outlet_Identifier'].astype('category')\n",
        "df['Outlet_Establishment_Year'] = df['Outlet_Establishment_Year'].astype('category')\n",
        "df['Outlet_Size'] = df['Outlet_Size'].astype('category')\n",
        "df['Outlet_Location_Type'] = df['Outlet_Location_Type'].astype('category')\n",
        "df['Outlet_Type'] = df['Outlet_Type'].astype('category')\n",
        "\n"
      ],
      "metadata": {
        "id": "TLXhqUWO1EJv"
      },
      "execution_count": 25,
      "outputs": []
    },
    {
      "cell_type": "markdown",
      "source": [
        "Checking the results"
      ],
      "metadata": {
        "id": "imqhLF_Q18xq"
      }
    },
    {
      "cell_type": "code",
      "source": [
        "df.dtypes"
      ],
      "metadata": {
        "colab": {
          "base_uri": "https://localhost:8080/"
        },
        "id": "etzfLAnF17T0",
        "outputId": "859ae209-41c1-4cc7-b3ba-c7dee0e64b44"
      },
      "execution_count": 26,
      "outputs": [
        {
          "output_type": "execute_result",
          "data": {
            "text/plain": [
              "Item_Identifier              category\n",
              "Item_Weight                   float64\n",
              "Item_Fat_Content             category\n",
              "Item_Visibility               float64\n",
              "Item_Type                    category\n",
              "Item_MRP                      float64\n",
              "Outlet_Identifier            category\n",
              "Outlet_Establishment_Year    category\n",
              "Outlet_Size                  category\n",
              "Outlet_Location_Type         category\n",
              "Outlet_Type                  category\n",
              "Item_Outlet_Sales             float64\n",
              "dtype: object"
            ]
          },
          "metadata": {},
          "execution_count": 26
        }
      ]
    },
    {
      "cell_type": "markdown",
      "source": [
        "#### Histograms"
      ],
      "metadata": {
        "id": "dgY_nDRxAB-X"
      }
    },
    {
      "cell_type": "markdown",
      "source": [
        "I want to see the distribution of data of some variables"
      ],
      "metadata": {
        "id": "y7Ot0kRpzJXX"
      }
    },
    {
      "cell_type": "markdown",
      "source": [
        "##### Item_fat_content"
      ],
      "metadata": {
        "id": "0kw8uEgVA4Ue"
      }
    },
    {
      "cell_type": "code",
      "source": [
        "ax = sns.FacetGrid(data = df,\n",
        "              col= 'Outlet_Establishment_Year',\n",
        "              sharex= True, sharey= True,\n",
        "              col_wrap=3,\n",
        "              size=4, aspect=1\n",
        "              )\n",
        "ax.map_dataframe(sns.histplot,  \n",
        "             x=\"Item_Fat_Content\", \n",
        "             color = '#29B6F6',\n",
        "             ax = ax)\n",
        "ax.fig.subplots_adjust(top=0.9)\n",
        "ax.fig.suptitle('Item Fat Content Histograms by Year')\n",
        "ax.set_xticklabels(rotation=0)  #rotate xlabels\n",
        "plt.show()\n",
        "\n",
        "# FacetGrid taken from Seaborn Documentation.\n",
        "# Title taken from https://stackoverflow.com/questions/29813694/how-to-add-a-title-to-seaborn-facet-plot"
      ],
      "metadata": {
        "colab": {
          "base_uri": "https://localhost:8080/",
          "height": 903
        },
        "id": "zuLYvIFmAPzO",
        "outputId": "7d2f3bad-a161-4190-fd10-1b6402508747"
      },
      "execution_count": 27,
      "outputs": [
        {
          "output_type": "stream",
          "name": "stderr",
          "text": [
            "/usr/local/lib/python3.8/dist-packages/seaborn/axisgrid.py:337: UserWarning: The `size` parameter has been renamed to `height`; please update your code.\n",
            "  warnings.warn(msg, UserWarning)\n"
          ]
        },
        {
          "output_type": "display_data",
          "data": {
            "text/plain": [
              "<Figure size 864x864 with 9 Axes>"
            ],
            "image/png": "[encoded data removed]"
          },
          "metadata": {
            "needs_background": "light"
          }
        }
      ]
    },
    {
      "cell_type": "markdown",
      "source": [
        "Insights:\n",
        "\n",
        "* The low fat items almost doubled the regular items in quantity every year."
      ],
      "metadata": {
        "id": "MBw7QQGpCKms"
      }
    },
    {
      "cell_type": "markdown",
      "source": [
        "##### Item_Type\n"
      ],
      "metadata": {
        "id": "HOxBFrD4CXR3"
      }
    },
    {
      "cell_type": "code",
      "source": [
        "ax = sns.FacetGrid(data = df,\n",
        "              col= 'Outlet_Establishment_Year',\n",
        "              sharex= True, sharey= True,\n",
        "              col_wrap=3,\n",
        "              size=4, aspect=1\n",
        "              )\n",
        "ax.map_dataframe(sns.countplot, \n",
        "                 x=\"Item_Type\", \n",
        "                 color = '#29B6F6',\n",
        "                 order=df.Item_Type.value_counts(ascending=True).index, \n",
        "                 ax=ax)\n",
        "ax.set_xticklabels(rotation=90)  #rotate xlabels\n",
        "ax.fig.subplots_adjust(top=0.9)\n",
        "ax.fig.suptitle('Item Type Histograms by Year') #Mail title\n",
        "plt.show()\n",
        "\n",
        "# FacetGrid taken from Seaborn Documentation.\n",
        "# Title taken from https://stackoverflow.com/questions/29813694/how-to-add-a-title-to-seaborn-facet-plot"
      ],
      "metadata": {
        "colab": {
          "base_uri": "https://localhost:8080/",
          "height": 1000
        },
        "id": "WDTc2eeaCWuW",
        "outputId": "218d181f-06cf-4fd9-e8af-ed621f5f813d"
      },
      "execution_count": 28,
      "outputs": [
        {
          "output_type": "stream",
          "name": "stderr",
          "text": [
            "/usr/local/lib/python3.8/dist-packages/seaborn/axisgrid.py:337: UserWarning: The `size` parameter has been renamed to `height`; please update your code.\n",
            "  warnings.warn(msg, UserWarning)\n"
          ]
        },
        {
          "output_type": "display_data",
          "data": {
            "text/plain": [
              "<Figure size 864x864 with 9 Axes>"
            ],
            "image/png": "[encoded data removed]"
          },
          "metadata": {
            "needs_background": "light"
          }
        }
      ]
    },
    {
      "cell_type": "markdown",
      "source": [
        "Insights:\n",
        "\n",
        "- Seafood was the item with less quantity every year. \n",
        "- Fruits and Vegetables was the item with more quantity almost every year except 2007, followed by Snack Foods that was the first one in 2007.."
      ],
      "metadata": {
        "id": "P73yc-JuDsHP"
      }
    },
    {
      "cell_type": "markdown",
      "source": [
        "##### Outlet_stablishment_Year"
      ],
      "metadata": {
        "id": "5GOmaNQhDPtg"
      }
    },
    {
      "cell_type": "code",
      "source": [
        "fig, ax = plt.subplots(figsize=(10, 5))\n",
        "sns.histplot(data=df, \n",
        "             x=\"Outlet_Establishment_Year\", \n",
        "             color = '#29B6F6',\n",
        "             ax = ax)\n",
        "\n",
        "plt.title('Outlet Establishment Year Histogram')\n",
        "plt.xlabel('Year')\n",
        "plt.xticks(rotation = 90)\n",
        "plt.show()"
      ],
      "metadata": {
        "colab": {
          "base_uri": "https://localhost:8080/",
          "height": 365
        },
        "id": "T7wMss-ECU-d",
        "outputId": "9f8fcec4-7906-4e58-f61a-ebba9360020f"
      },
      "execution_count": 29,
      "outputs": [
        {
          "output_type": "display_data",
          "data": {
            "text/plain": [
              "<Figure size 720x360 with 1 Axes>"
            ],
            "image/png": "[encoded data removed]"
          },
          "metadata": {
            "needs_background": "light"
          }
        }
      ]
    },
    {
      "cell_type": "markdown",
      "source": [
        "Insights:\n",
        "\n",
        "- Not every year were established Outlets.\n",
        "- 1985 was the year of the greater amounts of outlets. "
      ],
      "metadata": {
        "id": "0pQ3mfypD28s"
      }
    },
    {
      "cell_type": "markdown",
      "source": [
        "##### Outlet Size"
      ],
      "metadata": {
        "id": "2z142isDpX5C"
      }
    },
    {
      "cell_type": "code",
      "source": [
        "ax = sns.FacetGrid(data = df,\n",
        "              col= 'Outlet_Establishment_Year',\n",
        "              sharex= True, sharey= True,\n",
        "              col_wrap=3,\n",
        "              size=4, aspect=1\n",
        "              )\n",
        "ax.map_dataframe(sns.histplot,  \n",
        "             x=\"Outlet_Size\", \n",
        "             color = '#29B6F6',\n",
        "             ax = ax)\n",
        "ax.fig.subplots_adjust(top=0.9)\n",
        "ax.fig.suptitle('Outlet Size Histogra by Year')\n",
        "ax.set_xticklabels(rotation=0)  #rotate xlabels\n",
        "plt.show()"
      ],
      "metadata": {
        "colab": {
          "base_uri": "https://localhost:8080/",
          "height": 903
        },
        "id": "S3ZbAu96pXPX",
        "outputId": "3ef8622d-63aa-4955-f0b1-70cb84a2fa86"
      },
      "execution_count": 30,
      "outputs": [
        {
          "output_type": "stream",
          "name": "stderr",
          "text": [
            "/usr/local/lib/python3.8/dist-packages/seaborn/axisgrid.py:337: UserWarning: The `size` parameter has been renamed to `height`; please update your code.\n",
            "  warnings.warn(msg, UserWarning)\n"
          ]
        },
        {
          "output_type": "display_data",
          "data": {
            "text/plain": [
              "<Figure size 864x864 with 9 Axes>"
            ],
            "image/png": "[encoded data removed]"
          },
          "metadata": {
            "needs_background": "light"
          }
        }
      ]
    },
    {
      "cell_type": "markdown",
      "source": [
        "Insights:\n",
        "\n",
        "- 1985 were established small and medium sized outlets. And medium sized outlets doubled the small ones.\n",
        "- 1987 was the only year in which was established high sized outlets. \n",
        "- 1998, 2002 and 2007 we don't know the size of the outlet.\n",
        "- The other years were medium sized oulets. "
      ],
      "metadata": {
        "id": "x2hHOsWB-oe_"
      }
    },
    {
      "cell_type": "markdown",
      "source": [
        "#### Boxplots"
      ],
      "metadata": {
        "id": "4f4M33gbpH7I"
      }
    },
    {
      "cell_type": "markdown",
      "source": [
        "##### Fat Content vs Outlet Sales"
      ],
      "metadata": {
        "id": "XoDzJrg8cE_f"
      }
    },
    {
      "cell_type": "markdown",
      "source": [
        "I want to know how the sales performed by Item Fat Content."
      ],
      "metadata": {
        "id": "MnRsVnF3LL5y"
      }
    },
    {
      "cell_type": "code",
      "source": [
        "fig, ax = plt.subplots(figsize = (10,5))\n",
        "sns.boxplot(data = df,\n",
        "            x = 'Item_Fat_Content',\n",
        "            y = 'Item_Outlet_Sales',\n",
        "            notch = True,\n",
        "            width = 0.15,\n",
        "            palette = ['#29B6F6', '#26A69A'],\n",
        "            ax = ax\n",
        "            )\n",
        "\n",
        "plt.title('Fat Content vs Outlet Sales')\n",
        "plt.xlabel('Fat Content')\n",
        "plt.ylabel('Outlet Sales')\n",
        "plt.show()"
      ],
      "metadata": {
        "colab": {
          "base_uri": "https://localhost:8080/",
          "height": 350
        },
        "id": "HWbZgieUhD2L",
        "outputId": "92ecf0e9-f32b-4a17-a693-87edc6efd5c2"
      },
      "execution_count": 31,
      "outputs": [
        {
          "output_type": "display_data",
          "data": {
            "text/plain": [
              "<Figure size 720x360 with 1 Axes>"
            ],
            "image/png": "[encoded data removed]"
          },
          "metadata": {
            "needs_background": "light"
          }
        }
      ]
    },
    {
      "cell_type": "code",
      "source": [
        "print('Low Fat Median:', np.median(df[df.Item_Fat_Content == 'Low Fat']['Item_Outlet_Sales']))\n",
        "print('Regular Median:', np.median(df[df.Item_Fat_Content == 'Regular']['Item_Outlet_Sales']))\n",
        "print('Low Fat Q3:', np.percentile(df[df.Item_Fat_Content == 'Low Fat']['Item_Outlet_Sales'], 75))\n",
        "print('Regular Q3:', np.percentile(df[df.Item_Fat_Content == 'Regular']['Item_Outlet_Sales'], 75))\n",
        "print('Most Sold LF:', np.max(df[df.Item_Fat_Content == 'Low Fat']['Item_Outlet_Sales']))\n",
        "print('Most Sold Reg:', np.max(df[df.Item_Fat_Content == 'Regular']['Item_Outlet_Sales']))"
      ],
      "metadata": {
        "colab": {
          "base_uri": "https://localhost:8080/"
        },
        "id": "ElrKOM4rDOfN",
        "outputId": "7aa5ff26-7629-4203-c3c3-6d359f0a9674"
      },
      "execution_count": 32,
      "outputs": [
        {
          "output_type": "stream",
          "name": "stdout",
          "text": [
            "Low Fat Median: 1765.0358\n",
            "Regular Median: 1844.5989\n",
            "Low Fat Q3: 3050.6956\n",
            "Regular Q3: 3198.66965\n",
            "Most Sold LF: 13086.9648\n",
            "Most Sold Reg: 12117.56\n"
          ]
        }
      ]
    },
    {
      "cell_type": "markdown",
      "source": [
        "Insights:\n",
        "\n",
        "- In average, the outlets sold near 1800 both in Low Fat and Regulat Items. \n",
        "- 75% of the sales in Low Fat items are bellow the 3050, versus Regular Items are bellow 3198.\n",
        "- We see a long number of dots above both boxes but in this case ther are not to be considered outliers because they are all part of the observations. \n",
        "- The item that sold the most in Low Fat made 13086 vs the one in Regular made 12117\n",
        "\n",
        "\n"
      ],
      "metadata": {
        "id": "PNV0Z4UHkZV-"
      }
    },
    {
      "cell_type": "markdown",
      "source": [
        "##### Outlet Size vs Outlet Sales"
      ],
      "metadata": {
        "id": "SPhaFWghs6ka"
      }
    },
    {
      "cell_type": "markdown",
      "source": [
        "I will to do the same with the Outlet Size"
      ],
      "metadata": {
        "id": "Tj3OaXekQIXV"
      }
    },
    {
      "cell_type": "code",
      "source": [
        "fig, ax = plt.subplots(figsize = (10,5))\n",
        "sns.boxplot(data = df,\n",
        "            x = 'Outlet_Size',\n",
        "            y = 'Item_Outlet_Sales',\n",
        "            notch = True,\n",
        "            width = 0.15,\n",
        "            palette = ['#29B6F6', '#26A69A', '#66BB6A', '#D4E157'],\n",
        "            ax = ax\n",
        "            )\n",
        "\n",
        "plt.title('Outlet Size vs Outlet Sales')\n",
        "plt.xlabel('Outlet Size')\n",
        "plt.ylabel('Outlet Sales')\n",
        "plt.show()"
      ],
      "metadata": {
        "colab": {
          "base_uri": "https://localhost:8080/",
          "height": 350
        },
        "id": "CW8yU8mts6C9",
        "outputId": "fdfb5fcc-f25d-48a7-ebc6-f20b7af01bf6"
      },
      "execution_count": 33,
      "outputs": [
        {
          "output_type": "display_data",
          "data": {
            "text/plain": [
              "<Figure size 720x360 with 1 Axes>"
            ],
            "image/png": "[encoded data removed]"
          },
          "metadata": {
            "needs_background": "light"
          }
        }
      ]
    },
    {
      "cell_type": "code",
      "source": [
        "print('High Median:', np.median(df[df.Outlet_Size == 'High']['Item_Outlet_Sales']))\n",
        "print('Medium Median:', np.median(df[df.Outlet_Size == 'Medium']['Item_Outlet_Sales']))\n",
        "print('Small Median:', np.median(df[df.Outlet_Size == 'Small']['Item_Outlet_Sales']))\n",
        "print('Unknown Median:', np.median(df[df.Outlet_Size == 'Unknown']['Item_Outlet_Sales']))\n",
        "\n",
        "print('High Q3:', np.percentile(df[df.Outlet_Size == 'High']['Item_Outlet_Sales'], 75))\n",
        "print('Medium Q3:', np.percentile(df[df.Outlet_Size == 'Medium']['Item_Outlet_Sales'], 75))\n",
        "print('Small Q3:', np.percentile(df[df.Outlet_Size == 'Small']['Item_Outlet_Sales'], 75))\n",
        "print('Unknown Q3:', np.percentile(df[df.Outlet_Size == 'Unknown']['Item_Outlet_Sales'], 75))\n",
        "\n",
        "print('High Most sold:', np.max(df[df.Outlet_Size == 'High']['Item_Outlet_Sales']))\n",
        "print('Medium Most sold:', np.max(df[df.Outlet_Size == 'Medium']['Item_Outlet_Sales']))\n",
        "print('Small Most sold:', np.max(df[df.Outlet_Size == 'Small']['Item_Outlet_Sales']))\n",
        "print('Unknown Most sold:', np.max(df[df.Outlet_Size == 'Unknown']['Item_Outlet_Sales']))"
      ],
      "metadata": {
        "colab": {
          "base_uri": "https://localhost:8080/"
        },
        "id": "jEYogYPOQjcd",
        "outputId": "d76f7c77-961c-4d4d-bcdb-d9445b69761a"
      },
      "execution_count": 34,
      "outputs": [
        {
          "output_type": "stream",
          "name": "stdout",
          "text": [
            "High Median: 2050.664\n",
            "Medium Median: 2251.0698\n",
            "Small Median: 1544.656\n",
            "Unknown Median: 1443.4544\n",
            "High Q3: 3166.37835\n",
            "Medium Q3: 3691.1952\n",
            "Small Q3: 2824.3236\n",
            "Unknown Q3: 2681.5095\n",
            "High Most sold: 10256.649\n",
            "Medium Most sold: 13086.9648\n",
            "Small Most sold: 9779.9362\n",
            "Unknown Most sold: 9664.7528\n"
          ]
        }
      ]
    },
    {
      "cell_type": "markdown",
      "source": [
        "Insights:\n",
        "\n",
        "- Small sized Outlet made sales with an median of 1544. The 75% of the sales located bellow of 3166, and made the maximum of 10256. \n",
        "- Medium sized Outlet made the more amount of sales with an median of 2251. The 75% of the sales located bellow of 2824, and made the maximum of 9779. This is correct because Medium sized outlets sales is the greater part in the dataset. \n",
        "- High sized Outlet made sales with an median of 2050. The 75% of the sales located bellow of 3166, and made the maximum of 10256. \n",
        "- Unknown sized Outlet made sales with an median of 1443. The 75% of the sales located bellow of 2681, and made the maximum of 9664. "
      ],
      "metadata": {
        "id": "wS41_gVgR1Wl"
      }
    },
    {
      "cell_type": "markdown",
      "source": [
        "#### Correlations of the variables"
      ],
      "metadata": {
        "id": "BsUtnlkJ3Vqx"
      }
    },
    {
      "cell_type": "markdown",
      "source": [
        "For this task I will plot a heatmap for better undestanding the data"
      ],
      "metadata": {
        "id": "2mWzU2Py3mqC"
      }
    },
    {
      "cell_type": "code",
      "source": [
        "corr = df.corr()"
      ],
      "metadata": {
        "id": "bIh60LDwGhRb"
      },
      "execution_count": 35,
      "outputs": []
    },
    {
      "cell_type": "code",
      "source": [
        "corr"
      ],
      "metadata": {
        "colab": {
          "base_uri": "https://localhost:8080/",
          "height": 175
        },
        "id": "xSNNTgfWtr8X",
        "outputId": "ea53451a-1b8b-4048-bb67-f5afd7874c26"
      },
      "execution_count": 36,
      "outputs": [
        {
          "output_type": "execute_result",
          "data": {
            "text/plain": [
              "                   Item_Weight  Item_Visibility  Item_MRP  Item_Outlet_Sales\n",
              "Item_Weight           1.000000        -0.011620  0.025821           0.012088\n",
              "Item_Visibility      -0.011620         1.000000 -0.001315          -0.128625\n",
              "Item_MRP              0.025821        -0.001315  1.000000           0.567574\n",
              "Item_Outlet_Sales     0.012088        -0.128625  0.567574           1.000000"
            ],
            "text/html": [
              "\n",
              "  <div id=\"df-9f1d1323-ec3a-48ca-9f45-2aa1dfb5952e\">\n",
              "    <div class=\"colab-df-container\">\n",
              "      <div>\n",
              "<style scoped>\n",
              "    .dataframe tbody tr th:only-of-type {\n",
              "        vertical-align: middle;\n",
              "    }\n",
              "\n",
              "    .dataframe tbody tr th {\n",
              "        vertical-align: top;\n",
              "    }\n",
              "\n",
              "    .dataframe thead th {\n",
              "        text-align: right;\n",
              "    }\n",
              "</style>\n",
              "<table border=\"1\" class=\"dataframe\">\n",
              "  <thead>\n",
              "    <tr style=\"text-align: right;\">\n",
              "      <th></th>\n",
              "      <th>Item_Weight</th>\n",
              "      <th>Item_Visibility</th>\n",
              "      <th>Item_MRP</th>\n",
              "      <th>Item_Outlet_Sales</th>\n",
              "    </tr>\n",
              "  </thead>\n",
              "  <tbody>\n",
              "    <tr>\n",
              "      <th>Item_Weight</th>\n",
              "      <td>1.000000</td>\n",
              "      <td>-0.011620</td>\n",
              "      <td>0.025821</td>\n",
              "      <td>0.012088</td>\n",
              "    </tr>\n",
              "    <tr>\n",
              "      <th>Item_Visibility</th>\n",
              "      <td>-0.011620</td>\n",
              "      <td>1.000000</td>\n",
              "      <td>-0.001315</td>\n",
              "      <td>-0.128625</td>\n",
              "    </tr>\n",
              "    <tr>\n",
              "      <th>Item_MRP</th>\n",
              "      <td>0.025821</td>\n",
              "      <td>-0.001315</td>\n",
              "      <td>1.000000</td>\n",
              "      <td>0.567574</td>\n",
              "    </tr>\n",
              "    <tr>\n",
              "      <th>Item_Outlet_Sales</th>\n",
              "      <td>0.012088</td>\n",
              "      <td>-0.128625</td>\n",
              "      <td>0.567574</td>\n",
              "      <td>1.000000</td>\n",
              "    </tr>\n",
              "  </tbody>\n",
              "</table>\n",
              "</div>\n",
              "      <button class=\"colab-df-convert\" onclick=\"convertToInteractive('df-9f1d1323-ec3a-48ca-9f45-2aa1dfb5952e')\"\n",
              "              title=\"Convert this dataframe to an interactive table.\"\n",
              "              style=\"display:none;\">\n",
              "        \n",
              "  <svg xmlns=\"http://www.w3.org/2000/svg\" height=\"24px\"viewBox=\"0 0 24 24\"\n",
              "       width=\"24px\">\n",
              "    <path d=\"M0 0h24v24H0V0z\" fill=\"none\"/>\n",
              "    <path d=\"M18.56 5.44l.94 2.06.94-2.06 2.06-.94-2.06-.94-.94-2.06-.94 2.06-2.06.94zm-11 1L8.5 8.5l.94-2.06 2.06-.94-2.06-.94L8.5 2.5l-.94 2.06-2.06.94zm10 10l.94 2.06.94-2.06 2.06-.94-2.06-.94-.94-2.06-.94 2.06-2.06.94z\"/><path d=\"M17.41 7.96l-1.37-1.37c-.4-.4-.92-.59-1.43-.59-.52 0-1.04.2-1.43.59L10.3 9.45l-7.72 7.72c-.78.78-.78 2.05 0 2.83L4 21.41c.39.39.9.59 1.41.59.51 0 1.02-.2 1.41-.59l7.78-7.78 2.81-2.81c.8-.78.8-2.07 0-2.86zM5.41 20L4 18.59l7.72-7.72 1.47 1.35L5.41 20z\"/>\n",
              "  </svg>\n",
              "      </button>\n",
              "      \n",
              "  <style>\n",
              "    .colab-df-container {\n",
              "      display:flex;\n",
              "      flex-wrap:wrap;\n",
              "      gap: 12px;\n",
              "    }\n",
              "\n",
              "    .colab-df-convert {\n",
              "      background-color: #E8F0FE;\n",
              "      border: none;\n",
              "      border-radius: 50%;\n",
              "      cursor: pointer;\n",
              "      display: none;\n",
              "      fill: #1967D2;\n",
              "      height: 32px;\n",
              "      padding: 0 0 0 0;\n",
              "      width: 32px;\n",
              "    }\n",
              "\n",
              "    .colab-df-convert:hover {\n",
              "      background-color: #E2EBFA;\n",
              "      box-shadow: 0px 1px 2px rgba(60, 64, 67, 0.3), 0px 1px 3px 1px rgba(60, 64, 67, 0.15);\n",
              "      fill: #174EA6;\n",
              "    }\n",
              "\n",
              "    [theme=dark] .colab-df-convert {\n",
              "      background-color: #3B4455;\n",
              "      fill: #D2E3FC;\n",
              "    }\n",
              "\n",
              "    [theme=dark] .colab-df-convert:hover {\n",
              "      background-color: #434B5C;\n",
              "      box-shadow: 0px 1px 3px 1px rgba(0, 0, 0, 0.15);\n",
              "      filter: drop-shadow(0px 1px 2px rgba(0, 0, 0, 0.3));\n",
              "      fill: #FFFFFF;\n",
              "    }\n",
              "  </style>\n",
              "\n",
              "      <script>\n",
              "        const buttonEl =\n",
              "          document.querySelector('#df-9f1d1323-ec3a-48ca-9f45-2aa1dfb5952e button.colab-df-convert');\n",
              "        buttonEl.style.display =\n",
              "          google.colab.kernel.accessAllowed ? 'block' : 'none';\n",
              "\n",
              "        async function convertToInteractive(key) {\n",
              "          const element = document.querySelector('#df-9f1d1323-ec3a-48ca-9f45-2aa1dfb5952e');\n",
              "          const dataTable =\n",
              "            await google.colab.kernel.invokeFunction('convertToInteractive',\n",
              "                                                     [key], {});\n",
              "          if (!dataTable) return;\n",
              "\n",
              "          const docLinkHtml = 'Like what you see? Visit the ' +\n",
              "            '<a target=\"_blank\" href=https://colab.research.google.com/notebooks/data_table.ipynb>data table notebook</a>'\n",
              "            + ' to learn more about interactive tables.';\n",
              "          element.innerHTML = '';\n",
              "          dataTable['output_type'] = 'display_data';\n",
              "          await google.colab.output.renderOutput(dataTable, element);\n",
              "          const docLink = document.createElement('div');\n",
              "          docLink.innerHTML = docLinkHtml;\n",
              "          element.appendChild(docLink);\n",
              "        }\n",
              "      </script>\n",
              "    </div>\n",
              "  </div>\n",
              "  "
            ]
          },
          "metadata": {},
          "execution_count": 36
        }
      ]
    },
    {
      "cell_type": "code",
      "source": [
        "fig, ax = plt.subplots(figsize=(10, 10))\n",
        "sns.heatmap(corr, \n",
        "            cmap = 'magma', \n",
        "            annot = True, \n",
        "            linewidth=.5, \n",
        "            ax = ax)\n",
        "\n",
        "plt.title('Correlation Plot')\n",
        "plt.show()"
      ],
      "metadata": {
        "colab": {
          "base_uri": "https://localhost:8080/",
          "height": 608
        },
        "id": "Jsp60v6XGdbk",
        "outputId": "1a0051a5-a6d6-4045-c108-041d27ce4496"
      },
      "execution_count": 37,
      "outputs": [
        {
          "output_type": "display_data",
          "data": {
            "text/plain": [
              "<Figure size 720x720 with 2 Axes>"
            ],
            "image/png": "[encoded data removed]"
          },
          "metadata": {
            "needs_background": "light"
          }
        }
      ]
    },
    {
      "cell_type": "markdown",
      "source": [
        "Insights:\n",
        "\n",
        "- Item_Outlet_Sales and Item_MRP, with moderate correlation of 0.57.\n",
        "- Everyother posible pair of variables seems no to be correlated. \n",
        "\n"
      ],
      "metadata": {
        "id": "v_XHdXc8GmCx"
      }
    },
    {
      "cell_type": "markdown",
      "source": [
        "## Explanatory Visuals"
      ],
      "metadata": {
        "id": "3827ej84viEo"
      }
    },
    {
      "cell_type": "markdown",
      "source": [
        "### Sales per Item Type, Outlet Location and Year."
      ],
      "metadata": {
        "id": "bay6LagzCAyw"
      }
    },
    {
      "cell_type": "code",
      "source": [
        "#Building a Parallel Set\n",
        "import plotly.graph_objects as go\n",
        "\n",
        "## taken from https://plotly.com/python/parallel-categories-diagram/\n",
        "\n",
        "#getting values of location type, stablishment year, and item type\n",
        "storelist = df.Outlet_Location_Type.unique().tolist()\n",
        "yearlist = df.Outlet_Establishment_Year.unique().tolist()\n",
        "itemlist = df.Item_Type.unique().tolist()\n",
        "\n",
        "#designing a function to perform the task\n",
        "def categorical_dimensions(storeloc, year, item):\n",
        "  #defining variables\n",
        "  itemtype = {'label':'Item Type', 'values': []}\n",
        "  locationtype = {'label':'Location Type', 'values': []}\n",
        "  yearvalue = {'label':'Year', 'values': []}\n",
        "  global sales\n",
        "  global dimensions\n",
        "  sales=[]\n",
        "\n",
        "  # iteration\n",
        "  for year in yearlist:\n",
        "    for store in storelist:\n",
        "      for item in itemlist:\n",
        "        itemtype['values'].append(item)\n",
        "        locationtype['values'].append(store)\n",
        "        yearvalue['values'].append(year)\n",
        "        #operation\n",
        "        result = sum(df[(df['Outlet_Location_Type'] == store) & (df['Item_Type'] == item) & (df['Outlet_Establishment_Year'] == year)]['Item_Outlet_Sales'])\n",
        "        sales.append(result)\n",
        "  dimensions = [itemtype, locationtype, yearvalue]\n",
        "  return \n",
        "  \n",
        "categorical_dimensions(storelist, yearlist, itemlist)\n",
        "\n",
        "#creating 16 random colors (taken from stackoverflow https://stackoverflow.com/questions/28999287/generate-random-colors-rgb)\n",
        "random.seed('greenbelt')\n",
        "no_of_colors=16\n",
        "color=[\"#\"+''.join([random.choice('0123456789ABCDEF') for i in range(6)]) for j in range(no_of_colors)]\n",
        "\n",
        "#linking colors to a item type\n",
        "item_colors = dict(zip(np.unique(dimensions[0]['values']), color))\n",
        "\n",
        "#mapping color to the list of items\n",
        "color_list = [*map(item_colors.get, dimensions[0]['values'])]\n",
        "colorscale = [[0, 'lightsteelblue'], [1, 'mediumseagreen']]\n",
        "#building the parallel set graph\n",
        "####STILL WORKING ON THIS GRAPH I'M HAVING ISSUES WITH THE COLORS\n",
        "\n",
        "fig = go.Figure(go.Parcats(\n",
        "    dimensions= dimensions,\n",
        "    counts=sales, line={'shape': 'hspline', 'cmin':0, 'cmax':1,\n",
        "                        'color': color_list, 'colorscale':colorscale},\n",
        "    hoveron='color', hoverinfo='count',\n",
        "    labelfont={'size': 16, 'family': 'Verdana'},\n",
        "    tickfont={'size': 12, 'family': 'Verdana'},\n",
        "    arrangement='freeform')\n",
        ")\n",
        "\n",
        "fig.update_layout(\n",
        "        height=800, width=700,\n",
        "        dragmode='lasso', hovermode='closest')\n",
        "\n",
        "fig.show()"
      ],
      "metadata": {
        "id": "VETBlAfe-EjZ",
        "colab": {
          "base_uri": "https://localhost:8080/",
          "height": 817
        },
        "outputId": "d45898b5-eee0-496e-80f5-8bf482e6aedd"
      },
      "execution_count": 38,
      "outputs": [
        {
          "output_type": "display_data",
          "data": {
            "text/html": [
              "<html>\n",
              "<head><meta charset=\"utf-8\" /></head>\n",
              "<body>\n",
              "    <div>            <script src=\"https://cdnjs.cloudflare.com/ajax/libs/mathjax/2.7.5/MathJax.js?config=TeX-AMS-MML_SVG\"></script><script type=\"text/javascript\">if (window.MathJax) {MathJax.Hub.Config({SVG: {font: \"STIX-Web\"}});}</script>                <script type=\"text/javascript\">window.PlotlyConfig = {MathJaxConfig: 'local'};</script>\n",
              "        <script src=\"https://cdn.plot.ly/plotly-2.8.3.min.js\"></script>                <div id=\"96959d8c-4917-45b4-826a-3de88aae8f73\" class=\"plotly-graph-div\" style=\"height:800px; width:700px;\"></div>            <script type=\"text/javascript\">                                    window.PLOTLYENV=window.PLOTLYENV || {};                                    if (document.getElementById(\"96959d8c-4917-45b4-826a-3de88aae8f73\")) {                    Plotly.newPlot(                        \"96959d8c-4917-45b4-826a-3de88aae8f73\",                        [{\"arrangement\":\"freeform\",\"counts\":[179680.7776,97585.64019999998,105149.79400000001,335113.7849999999,254817.6392,139263.3886,350244.09,215879.65780000002,30214.6698,112844.4446,62927.421200000004,138138.18660000002,60490.593199999996,42019.969600000004,47772.4816,11827.2712,0,0,0,0,0,0,0,0,0,0,0,0,0,0,0,0,0,0,0,0,0,0,0,0,0,0,0,0,0,0,0,0,0,0,0,0,0,0,0,0,0,0,0,0,0,0,0,0,152130.63940000004,88495.47280000003,94655.45439999999,263471.70759999997,196267.18719999996,121065.07719999997,278714.53280000004,183599.01059999998,22496.0504,108845.64980000003,49445.636999999995,145681.70059999995,54604.9212,33110.8998,37072.409799999994,22166.4794,0,0,0,0,0,0,0,0,0,0,0,0,0,0,0,0,0,0,0,0,0,0,0,0,0,0,0,0,0,0,0,0,15307.407800000003,9441.044,13580.988400000002,24548.046000000002,25550.075000000004,10693.4138,25942.897,17942.644200000002,4081.3540000000003,13570.335600000002,4067.3721999999993,9019.5926,7657.3658000000005,2733.7748,3256.4278,947.4333999999999,0,0,0,0,0,0,0,0,0,0,0,0,0,0,0,0,0,0,0,0,0,0,0,0,0,0,0,0,0,0,0,0,196254.537,115234.66660000004,95200.0788,341526.7705999999,248046.45320000008,149715.78279999996,309246.12340000004,203696.8494,27355.7246,119135.58879999997,54362.56999999999,143732.2382,52018.288199999995,43753.047,35238.13079999999,8146.728799999999,0,0,0,0,0,0,0,0,0,0,0,0,0,0,0,0,16144.318399999995,9113.470399999998,11995.7186,24054.022399999998,18157.031800000004,14133.602399999996,25653.274,15252.8122,3762.4358,10945.0862,1768.3648000000003,16739.543599999997,4947.5598,1167.8132,4522.113599999999,1336.9263999999998,262317.2104,147822.2476,216288.45900000003,576028.1886000003,378299.5704000001,224172.19680000003,513088.1171999999,316272.31080000004,50432.3526,199084.18699999998,78957.8878,272150.41059999994,110518.80519999997,49170.66160000001,40513.92999999999,18809.515799999997,0,0,0,0,0,0,0,0,0,0,0,0,0,0,0,0,0,0,0,0,0,0,0,0,0,0,0,0,0,0,0,0,0,0,0,0,0,0,0,0,0,0,0,0,0,0,0,0,154650.02659999992,108679.19980000003,81606.4402,326414.44219999993,222456.43019999992,150368.9326,288438.54179999995,177020.24080000006,21802.9526,104603.1722,56274.08179999999,174307.7716,65663.85919999999,38346.751,40165.050800000005,25927.5836,0,0,0,0,0,0,0,0,0,0,0,0,0,0,0,0,0,0,0,0,0,0,0,0,0,0,0,0,0,0,0,0,185955.2768,123710.30059999999,96822.63339999998,319504.10399999993,222526.33920000007,147731.03299999994,311071.0812,239347.11039999995,24436.191600000002,124751.6118,55432.5106,175853.0934,49008.8722,43893.53080000001,37388.66479999999,10032.940200000001,175086.09179999994,86064.63699999999,95072.24519999998,304751.3075999998,219520.25220000002,173376.31740000003,274813.6106000001,243236.71399999992,16599.725599999998,133189.2952,44615.9238,173084.69699999996,71870.4468,39258.89699999999,41540.59360000001,26314.413399999998,0,0,0,0,0,0,0,0,0,0,0,0,0,0,0,0,0,0,0,0,0,0,0,0,0,0,0,0,0,0,0,0,0,0,0,0,0,0,0,0,0,0,0,0,0,0,0,0,0,0,0,0,0,0,0,0,0,0,0,0,0,0,0,0,185067.7654,106751.04299999999,107193.8,304647.4427999997,269852.7347999999,135005.5976,355573.8189999999,213487.4384,31117.494599999998,118230.76660000003,49941.658,195444.2584,76456.4772,57945.90560000001,38047.806800000006,23358.927200000002],\"dimensions\":[{\"label\":\"Item Type\",\"values\":[\"Dairy\",\"Soft Drinks\",\"Meat\",\"Fruits and Vegetables\",\"Household\",\"Baking Goods\",\"Snack Foods\",\"Frozen Foods\",\"Breakfast\",\"Health and Hygiene\",\"Hard Drinks\",\"Canned\",\"Breads\",\"Starchy Foods\",\"Others\",\"Seafood\",\"Dairy\",\"Soft Drinks\",\"Meat\",\"Fruits and Vegetables\",\"Household\",\"Baking Goods\",\"Snack Foods\",\"Frozen Foods\",\"Breakfast\",\"Health and Hygiene\",\"Hard Drinks\",\"Canned\",\"Breads\",\"Starchy Foods\",\"Others\",\"Seafood\",\"Dairy\",\"Soft Drinks\",\"Meat\",\"Fruits and Vegetables\",\"Household\",\"Baking Goods\",\"Snack Foods\",\"Frozen Foods\",\"Breakfast\",\"Health and Hygiene\",\"Hard Drinks\",\"Canned\",\"Breads\",\"Starchy Foods\",\"Others\",\"Seafood\",\"Dairy\",\"Soft Drinks\",\"Meat\",\"Fruits and Vegetables\",\"Household\",\"Baking Goods\",\"Snack Foods\",\"Frozen Foods\",\"Breakfast\",\"Health and Hygiene\",\"Hard Drinks\",\"Canned\",\"Breads\",\"Starchy Foods\",\"Others\",\"Seafood\",\"Dairy\",\"Soft Drinks\",\"Meat\",\"Fruits and Vegetables\",\"Household\",\"Baking Goods\",\"Snack Foods\",\"Frozen Foods\",\"Breakfast\",\"Health and Hygiene\",\"Hard Drinks\",\"Canned\",\"Breads\",\"Starchy Foods\",\"Others\",\"Seafood\",\"Dairy\",\"Soft Drinks\",\"Meat\",\"Fruits and Vegetables\",\"Household\",\"Baking Goods\",\"Snack Foods\",\"Frozen Foods\",\"Breakfast\",\"Health and Hygiene\",\"Hard Drinks\",\"Canned\",\"Breads\",\"Starchy Foods\",\"Others\",\"Seafood\",\"Dairy\",\"Soft Drinks\",\"Meat\",\"Fruits and Vegetables\",\"Household\",\"Baking Goods\",\"Snack Foods\",\"Frozen Foods\",\"Breakfast\",\"Health and Hygiene\",\"Hard Drinks\",\"Canned\",\"Breads\",\"Starchy Foods\",\"Others\",\"Seafood\",\"Dairy\",\"Soft Drinks\",\"Meat\",\"Fruits and Vegetables\",\"Household\",\"Baking Goods\",\"Snack Foods\",\"Frozen Foods\",\"Breakfast\",\"Health and Hygiene\",\"Hard Drinks\",\"Canned\",\"Breads\",\"Starchy Foods\",\"Others\",\"Seafood\",\"Dairy\",\"Soft Drinks\",\"Meat\",\"Fruits and Vegetables\",\"Household\",\"Baking Goods\",\"Snack Foods\",\"Frozen Foods\",\"Breakfast\",\"Health and Hygiene\",\"Hard Drinks\",\"Canned\",\"Breads\",\"Starchy Foods\",\"Others\",\"Seafood\",\"Dairy\",\"Soft Drinks\",\"Meat\",\"Fruits and Vegetables\",\"Household\",\"Baking Goods\",\"Snack Foods\",\"Frozen Foods\",\"Breakfast\",\"Health and Hygiene\",\"Hard Drinks\",\"Canned\",\"Breads\",\"Starchy Foods\",\"Others\",\"Seafood\",\"Dairy\",\"Soft Drinks\",\"Meat\",\"Fruits and Vegetables\",\"Household\",\"Baking Goods\",\"Snack Foods\",\"Frozen Foods\",\"Breakfast\",\"Health and Hygiene\",\"Hard Drinks\",\"Canned\",\"Breads\",\"Starchy Foods\",\"Others\",\"Seafood\",\"Dairy\",\"Soft Drinks\",\"Meat\",\"Fruits and Vegetables\",\"Household\",\"Baking Goods\",\"Snack Foods\",\"Frozen Foods\",\"Breakfast\",\"Health and Hygiene\",\"Hard Drinks\",\"Canned\",\"Breads\",\"Starchy Foods\",\"Others\",\"Seafood\",\"Dairy\",\"Soft Drinks\",\"Meat\",\"Fruits and Vegetables\",\"Household\",\"Baking Goods\",\"Snack Foods\",\"Frozen Foods\",\"Breakfast\",\"Health and Hygiene\",\"Hard Drinks\",\"Canned\",\"Breads\",\"Starchy Foods\",\"Others\",\"Seafood\",\"Dairy\",\"Soft Drinks\",\"Meat\",\"Fruits and Vegetables\",\"Household\",\"Baking Goods\",\"Snack Foods\",\"Frozen Foods\",\"Breakfast\",\"Health and Hygiene\",\"Hard Drinks\",\"Canned\",\"Breads\",\"Starchy Foods\",\"Others\",\"Seafood\",\"Dairy\",\"Soft Drinks\",\"Meat\",\"Fruits and Vegetables\",\"Household\",\"Baking Goods\",\"Snack Foods\",\"Frozen Foods\",\"Breakfast\",\"Health and Hygiene\",\"Hard Drinks\",\"Canned\",\"Breads\",\"Starchy Foods\",\"Others\",\"Seafood\",\"Dairy\",\"Soft Drinks\",\"Meat\",\"Fruits and Vegetables\",\"Household\",\"Baking Goods\",\"Snack Foods\",\"Frozen Foods\",\"Breakfast\",\"Health and Hygiene\",\"Hard Drinks\",\"Canned\",\"Breads\",\"Starchy Foods\",\"Others\",\"Seafood\",\"Dairy\",\"Soft Drinks\",\"Meat\",\"Fruits and Vegetables\",\"Household\",\"Baking Goods\",\"Snack Foods\",\"Frozen Foods\",\"Breakfast\",\"Health and Hygiene\",\"Hard Drinks\",\"Canned\",\"Breads\",\"Starchy Foods\",\"Others\",\"Seafood\",\"Dairy\",\"Soft Drinks\",\"Meat\",\"Fruits and Vegetables\",\"Household\",\"Baking Goods\",\"Snack Foods\",\"Frozen Foods\",\"Breakfast\",\"Health and Hygiene\",\"Hard Drinks\",\"Canned\",\"Breads\",\"Starchy Foods\",\"Others\",\"Seafood\",\"Dairy\",\"Soft Drinks\",\"Meat\",\"Fruits and Vegetables\",\"Household\",\"Baking Goods\",\"Snack Foods\",\"Frozen Foods\",\"Breakfast\",\"Health and Hygiene\",\"Hard Drinks\",\"Canned\",\"Breads\",\"Starchy Foods\",\"Others\",\"Seafood\",\"Dairy\",\"Soft Drinks\",\"Meat\",\"Fruits and Vegetables\",\"Household\",\"Baking Goods\",\"Snack Foods\",\"Frozen Foods\",\"Breakfast\",\"Health and Hygiene\",\"Hard Drinks\",\"Canned\",\"Breads\",\"Starchy Foods\",\"Others\",\"Seafood\",\"Dairy\",\"Soft Drinks\",\"Meat\",\"Fruits and Vegetables\",\"Household\",\"Baking Goods\",\"Snack Foods\",\"Frozen Foods\",\"Breakfast\",\"Health and Hygiene\",\"Hard Drinks\",\"Canned\",\"Breads\",\"Starchy Foods\",\"Others\",\"Seafood\",\"Dairy\",\"Soft Drinks\",\"Meat\",\"Fruits and Vegetables\",\"Household\",\"Baking Goods\",\"Snack Foods\",\"Frozen Foods\",\"Breakfast\",\"Health and Hygiene\",\"Hard Drinks\",\"Canned\",\"Breads\",\"Starchy Foods\",\"Others\",\"Seafood\",\"Dairy\",\"Soft Drinks\",\"Meat\",\"Fruits and Vegetables\",\"Household\",\"Baking Goods\",\"Snack Foods\",\"Frozen Foods\",\"Breakfast\",\"Health and Hygiene\",\"Hard Drinks\",\"Canned\",\"Breads\",\"Starchy Foods\",\"Others\",\"Seafood\",\"Dairy\",\"Soft Drinks\",\"Meat\",\"Fruits and Vegetables\",\"Household\",\"Baking Goods\",\"Snack Foods\",\"Frozen Foods\",\"Breakfast\",\"Health and Hygiene\",\"Hard Drinks\",\"Canned\",\"Breads\",\"Starchy Foods\",\"Others\",\"Seafood\",\"Dairy\",\"Soft Drinks\",\"Meat\",\"Fruits and Vegetables\",\"Household\",\"Baking Goods\",\"Snack Foods\",\"Frozen Foods\",\"Breakfast\",\"Health and Hygiene\",\"Hard Drinks\",\"Canned\",\"Breads\",\"Starchy Foods\",\"Others\",\"Seafood\",\"Dairy\",\"Soft Drinks\",\"Meat\",\"Fruits and Vegetables\",\"Household\",\"Baking Goods\",\"Snack Foods\",\"Frozen Foods\",\"Breakfast\",\"Health and Hygiene\",\"Hard Drinks\",\"Canned\",\"Breads\",\"Starchy Foods\",\"Others\",\"Seafood\",\"Dairy\",\"Soft Drinks\",\"Meat\",\"Fruits and Vegetables\",\"Household\",\"Baking Goods\",\"Snack Foods\",\"Frozen Foods\",\"Breakfast\",\"Health and Hygiene\",\"Hard Drinks\",\"Canned\",\"Breads\",\"Starchy Foods\",\"Others\",\"Seafood\"]},{\"label\":\"Location Type\",\"values\":[\"Tier 1\",\"Tier 1\",\"Tier 1\",\"Tier 1\",\"Tier 1\",\"Tier 1\",\"Tier 1\",\"Tier 1\",\"Tier 1\",\"Tier 1\",\"Tier 1\",\"Tier 1\",\"Tier 1\",\"Tier 1\",\"Tier 1\",\"Tier 1\",\"Tier 3\",\"Tier 3\",\"Tier 3\",\"Tier 3\",\"Tier 3\",\"Tier 3\",\"Tier 3\",\"Tier 3\",\"Tier 3\",\"Tier 3\",\"Tier 3\",\"Tier 3\",\"Tier 3\",\"Tier 3\",\"Tier 3\",\"Tier 3\",\"Tier 2\",\"Tier 2\",\"Tier 2\",\"Tier 2\",\"Tier 2\",\"Tier 2\",\"Tier 2\",\"Tier 2\",\"Tier 2\",\"Tier 2\",\"Tier 2\",\"Tier 2\",\"Tier 2\",\"Tier 2\",\"Tier 2\",\"Tier 2\",\"Tier 1\",\"Tier 1\",\"Tier 1\",\"Tier 1\",\"Tier 1\",\"Tier 1\",\"Tier 1\",\"Tier 1\",\"Tier 1\",\"Tier 1\",\"Tier 1\",\"Tier 1\",\"Tier 1\",\"Tier 1\",\"Tier 1\",\"Tier 1\",\"Tier 3\",\"Tier 3\",\"Tier 3\",\"Tier 3\",\"Tier 3\",\"Tier 3\",\"Tier 3\",\"Tier 3\",\"Tier 3\",\"Tier 3\",\"Tier 3\",\"Tier 3\",\"Tier 3\",\"Tier 3\",\"Tier 3\",\"Tier 3\",\"Tier 2\",\"Tier 2\",\"Tier 2\",\"Tier 2\",\"Tier 2\",\"Tier 2\",\"Tier 2\",\"Tier 2\",\"Tier 2\",\"Tier 2\",\"Tier 2\",\"Tier 2\",\"Tier 2\",\"Tier 2\",\"Tier 2\",\"Tier 2\",\"Tier 1\",\"Tier 1\",\"Tier 1\",\"Tier 1\",\"Tier 1\",\"Tier 1\",\"Tier 1\",\"Tier 1\",\"Tier 1\",\"Tier 1\",\"Tier 1\",\"Tier 1\",\"Tier 1\",\"Tier 1\",\"Tier 1\",\"Tier 1\",\"Tier 3\",\"Tier 3\",\"Tier 3\",\"Tier 3\",\"Tier 3\",\"Tier 3\",\"Tier 3\",\"Tier 3\",\"Tier 3\",\"Tier 3\",\"Tier 3\",\"Tier 3\",\"Tier 3\",\"Tier 3\",\"Tier 3\",\"Tier 3\",\"Tier 2\",\"Tier 2\",\"Tier 2\",\"Tier 2\",\"Tier 2\",\"Tier 2\",\"Tier 2\",\"Tier 2\",\"Tier 2\",\"Tier 2\",\"Tier 2\",\"Tier 2\",\"Tier 2\",\"Tier 2\",\"Tier 2\",\"Tier 2\",\"Tier 1\",\"Tier 1\",\"Tier 1\",\"Tier 1\",\"Tier 1\",\"Tier 1\",\"Tier 1\",\"Tier 1\",\"Tier 1\",\"Tier 1\",\"Tier 1\",\"Tier 1\",\"Tier 1\",\"Tier 1\",\"Tier 1\",\"Tier 1\",\"Tier 3\",\"Tier 3\",\"Tier 3\",\"Tier 3\",\"Tier 3\",\"Tier 3\",\"Tier 3\",\"Tier 3\",\"Tier 3\",\"Tier 3\",\"Tier 3\",\"Tier 3\",\"Tier 3\",\"Tier 3\",\"Tier 3\",\"Tier 3\",\"Tier 2\",\"Tier 2\",\"Tier 2\",\"Tier 2\",\"Tier 2\",\"Tier 2\",\"Tier 2\",\"Tier 2\",\"Tier 2\",\"Tier 2\",\"Tier 2\",\"Tier 2\",\"Tier 2\",\"Tier 2\",\"Tier 2\",\"Tier 2\",\"Tier 1\",\"Tier 1\",\"Tier 1\",\"Tier 1\",\"Tier 1\",\"Tier 1\",\"Tier 1\",\"Tier 1\",\"Tier 1\",\"Tier 1\",\"Tier 1\",\"Tier 1\",\"Tier 1\",\"Tier 1\",\"Tier 1\",\"Tier 1\",\"Tier 3\",\"Tier 3\",\"Tier 3\",\"Tier 3\",\"Tier 3\",\"Tier 3\",\"Tier 3\",\"Tier 3\",\"Tier 3\",\"Tier 3\",\"Tier 3\",\"Tier 3\",\"Tier 3\",\"Tier 3\",\"Tier 3\",\"Tier 3\",\"Tier 2\",\"Tier 2\",\"Tier 2\",\"Tier 2\",\"Tier 2\",\"Tier 2\",\"Tier 2\",\"Tier 2\",\"Tier 2\",\"Tier 2\",\"Tier 2\",\"Tier 2\",\"Tier 2\",\"Tier 2\",\"Tier 2\",\"Tier 2\",\"Tier 1\",\"Tier 1\",\"Tier 1\",\"Tier 1\",\"Tier 1\",\"Tier 1\",\"Tier 1\",\"Tier 1\",\"Tier 1\",\"Tier 1\",\"Tier 1\",\"Tier 1\",\"Tier 1\",\"Tier 1\",\"Tier 1\",\"Tier 1\",\"Tier 3\",\"Tier 3\",\"Tier 3\",\"Tier 3\",\"Tier 3\",\"Tier 3\",\"Tier 3\",\"Tier 3\",\"Tier 3\",\"Tier 3\",\"Tier 3\",\"Tier 3\",\"Tier 3\",\"Tier 3\",\"Tier 3\",\"Tier 3\",\"Tier 2\",\"Tier 2\",\"Tier 2\",\"Tier 2\",\"Tier 2\",\"Tier 2\",\"Tier 2\",\"Tier 2\",\"Tier 2\",\"Tier 2\",\"Tier 2\",\"Tier 2\",\"Tier 2\",\"Tier 2\",\"Tier 2\",\"Tier 2\",\"Tier 1\",\"Tier 1\",\"Tier 1\",\"Tier 1\",\"Tier 1\",\"Tier 1\",\"Tier 1\",\"Tier 1\",\"Tier 1\",\"Tier 1\",\"Tier 1\",\"Tier 1\",\"Tier 1\",\"Tier 1\",\"Tier 1\",\"Tier 1\",\"Tier 3\",\"Tier 3\",\"Tier 3\",\"Tier 3\",\"Tier 3\",\"Tier 3\",\"Tier 3\",\"Tier 3\",\"Tier 3\",\"Tier 3\",\"Tier 3\",\"Tier 3\",\"Tier 3\",\"Tier 3\",\"Tier 3\",\"Tier 3\",\"Tier 2\",\"Tier 2\",\"Tier 2\",\"Tier 2\",\"Tier 2\",\"Tier 2\",\"Tier 2\",\"Tier 2\",\"Tier 2\",\"Tier 2\",\"Tier 2\",\"Tier 2\",\"Tier 2\",\"Tier 2\",\"Tier 2\",\"Tier 2\",\"Tier 1\",\"Tier 1\",\"Tier 1\",\"Tier 1\",\"Tier 1\",\"Tier 1\",\"Tier 1\",\"Tier 1\",\"Tier 1\",\"Tier 1\",\"Tier 1\",\"Tier 1\",\"Tier 1\",\"Tier 1\",\"Tier 1\",\"Tier 1\",\"Tier 3\",\"Tier 3\",\"Tier 3\",\"Tier 3\",\"Tier 3\",\"Tier 3\",\"Tier 3\",\"Tier 3\",\"Tier 3\",\"Tier 3\",\"Tier 3\",\"Tier 3\",\"Tier 3\",\"Tier 3\",\"Tier 3\",\"Tier 3\",\"Tier 2\",\"Tier 2\",\"Tier 2\",\"Tier 2\",\"Tier 2\",\"Tier 2\",\"Tier 2\",\"Tier 2\",\"Tier 2\",\"Tier 2\",\"Tier 2\",\"Tier 2\",\"Tier 2\",\"Tier 2\",\"Tier 2\",\"Tier 2\",\"Tier 1\",\"Tier 1\",\"Tier 1\",\"Tier 1\",\"Tier 1\",\"Tier 1\",\"Tier 1\",\"Tier 1\",\"Tier 1\",\"Tier 1\",\"Tier 1\",\"Tier 1\",\"Tier 1\",\"Tier 1\",\"Tier 1\",\"Tier 1\",\"Tier 3\",\"Tier 3\",\"Tier 3\",\"Tier 3\",\"Tier 3\",\"Tier 3\",\"Tier 3\",\"Tier 3\",\"Tier 3\",\"Tier 3\",\"Tier 3\",\"Tier 3\",\"Tier 3\",\"Tier 3\",\"Tier 3\",\"Tier 3\",\"Tier 2\",\"Tier 2\",\"Tier 2\",\"Tier 2\",\"Tier 2\",\"Tier 2\",\"Tier 2\",\"Tier 2\",\"Tier 2\",\"Tier 2\",\"Tier 2\",\"Tier 2\",\"Tier 2\",\"Tier 2\",\"Tier 2\",\"Tier 2\"]},{\"label\":\"Year\",\"values\":[1999,1999,1999,1999,1999,1999,1999,1999,1999,1999,1999,1999,1999,1999,1999,1999,1999,1999,1999,1999,1999,1999,1999,1999,1999,1999,1999,1999,1999,1999,1999,1999,1999,1999,1999,1999,1999,1999,1999,1999,1999,1999,1999,1999,1999,1999,1999,1999,2009,2009,2009,2009,2009,2009,2009,2009,2009,2009,2009,2009,2009,2009,2009,2009,2009,2009,2009,2009,2009,2009,2009,2009,2009,2009,2009,2009,2009,2009,2009,2009,2009,2009,2009,2009,2009,2009,2009,2009,2009,2009,2009,2009,2009,2009,2009,2009,1998,1998,1998,1998,1998,1998,1998,1998,1998,1998,1998,1998,1998,1998,1998,1998,1998,1998,1998,1998,1998,1998,1998,1998,1998,1998,1998,1998,1998,1998,1998,1998,1998,1998,1998,1998,1998,1998,1998,1998,1998,1998,1998,1998,1998,1998,1998,1998,1987,1987,1987,1987,1987,1987,1987,1987,1987,1987,1987,1987,1987,1987,1987,1987,1987,1987,1987,1987,1987,1987,1987,1987,1987,1987,1987,1987,1987,1987,1987,1987,1987,1987,1987,1987,1987,1987,1987,1987,1987,1987,1987,1987,1987,1987,1987,1987,1985,1985,1985,1985,1985,1985,1985,1985,1985,1985,1985,1985,1985,1985,1985,1985,1985,1985,1985,1985,1985,1985,1985,1985,1985,1985,1985,1985,1985,1985,1985,1985,1985,1985,1985,1985,1985,1985,1985,1985,1985,1985,1985,1985,1985,1985,1985,1985,2002,2002,2002,2002,2002,2002,2002,2002,2002,2002,2002,2002,2002,2002,2002,2002,2002,2002,2002,2002,2002,2002,2002,2002,2002,2002,2002,2002,2002,2002,2002,2002,2002,2002,2002,2002,2002,2002,2002,2002,2002,2002,2002,2002,2002,2002,2002,2002,2007,2007,2007,2007,2007,2007,2007,2007,2007,2007,2007,2007,2007,2007,2007,2007,2007,2007,2007,2007,2007,2007,2007,2007,2007,2007,2007,2007,2007,2007,2007,2007,2007,2007,2007,2007,2007,2007,2007,2007,2007,2007,2007,2007,2007,2007,2007,2007,1997,1997,1997,1997,1997,1997,1997,1997,1997,1997,1997,1997,1997,1997,1997,1997,1997,1997,1997,1997,1997,1997,1997,1997,1997,1997,1997,1997,1997,1997,1997,1997,1997,1997,1997,1997,1997,1997,1997,1997,1997,1997,1997,1997,1997,1997,1997,1997,2004,2004,2004,2004,2004,2004,2004,2004,2004,2004,2004,2004,2004,2004,2004,2004,2004,2004,2004,2004,2004,2004,2004,2004,2004,2004,2004,2004,2004,2004,2004,2004,2004,2004,2004,2004,2004,2004,2004,2004,2004,2004,2004,2004,2004,2004,2004,2004]}],\"hoverinfo\":\"count\",\"hoveron\":\"color\",\"labelfont\":{\"family\":\"Verdana\",\"size\":16},\"line\":{\"cmax\":1,\"cmin\":0,\"color\":[\"#30414D\",\"#2387A2\",\"#AC5D69\",\"#EAB041\",\"#840CB7\",\"#78D9C2\",\"#FF79DE\",\"#8C0203\",\"#FEF2E8\",\"#25D88B\",\"#B79C5E\",\"#5CFEB6\",\"#21A335\",\"#D395B5\",\"#206D02\",\"#664753\",\"#30414D\",\"#2387A2\",\"#AC5D69\",\"#EAB041\",\"#840CB7\",\"#78D9C2\",\"#FF79DE\",\"#8C0203\",\"#FEF2E8\",\"#25D88B\",\"#B79C5E\",\"#5CFEB6\",\"#21A335\",\"#D395B5\",\"#206D02\",\"#664753\",\"#30414D\",\"#2387A2\",\"#AC5D69\",\"#EAB041\",\"#840CB7\",\"#78D9C2\",\"#FF79DE\",\"#8C0203\",\"#FEF2E8\",\"#25D88B\",\"#B79C5E\",\"#5CFEB6\",\"#21A335\",\"#D395B5\",\"#206D02\",\"#664753\",\"#30414D\",\"#2387A2\",\"#AC5D69\",\"#EAB041\",\"#840CB7\",\"#78D9C2\",\"#FF79DE\",\"#8C0203\",\"#FEF2E8\",\"#25D88B\",\"#B79C5E\",\"#5CFEB6\",\"#21A335\",\"#D395B5\",\"#206D02\",\"#664753\",\"#30414D\",\"#2387A2\",\"#AC5D69\",\"#EAB041\",\"#840CB7\",\"#78D9C2\",\"#FF79DE\",\"#8C0203\",\"#FEF2E8\",\"#25D88B\",\"#B79C5E\",\"#5CFEB6\",\"#21A335\",\"#D395B5\",\"#206D02\",\"#664753\",\"#30414D\",\"#2387A2\",\"#AC5D69\",\"#EAB041\",\"#840CB7\",\"#78D9C2\",\"#FF79DE\",\"#8C0203\",\"#FEF2E8\",\"#25D88B\",\"#B79C5E\",\"#5CFEB6\",\"#21A335\",\"#D395B5\",\"#206D02\",\"#664753\",\"#30414D\",\"#2387A2\",\"#AC5D69\",\"#EAB041\",\"#840CB7\",\"#78D9C2\",\"#FF79DE\",\"#8C0203\",\"#FEF2E8\",\"#25D88B\",\"#B79C5E\",\"#5CFEB6\",\"#21A335\",\"#D395B5\",\"#206D02\",\"#664753\",\"#30414D\",\"#2387A2\",\"#AC5D69\",\"#EAB041\",\"#840CB7\",\"#78D9C2\",\"#FF79DE\",\"#8C0203\",\"#FEF2E8\",\"#25D88B\",\"#B79C5E\",\"#5CFEB6\",\"#21A335\",\"#D395B5\",\"#206D02\",\"#664753\",\"#30414D\",\"#2387A2\",\"#AC5D69\",\"#EAB041\",\"#840CB7\",\"#78D9C2\",\"#FF79DE\",\"#8C0203\",\"#FEF2E8\",\"#25D88B\",\"#B79C5E\",\"#5CFEB6\",\"#21A335\",\"#D395B5\",\"#206D02\",\"#664753\",\"#30414D\",\"#2387A2\",\"#AC5D69\",\"#EAB041\",\"#840CB7\",\"#78D9C2\",\"#FF79DE\",\"#8C0203\",\"#FEF2E8\",\"#25D88B\",\"#B79C5E\",\"#5CFEB6\",\"#21A335\",\"#D395B5\",\"#206D02\",\"#664753\",\"#30414D\",\"#2387A2\",\"#AC5D69\",\"#EAB041\",\"#840CB7\",\"#78D9C2\",\"#FF79DE\",\"#8C0203\",\"#FEF2E8\",\"#25D88B\",\"#B79C5E\",\"#5CFEB6\",\"#21A335\",\"#D395B5\",\"#206D02\",\"#664753\",\"#30414D\",\"#2387A2\",\"#AC5D69\",\"#EAB041\",\"#840CB7\",\"#78D9C2\",\"#FF79DE\",\"#8C0203\",\"#FEF2E8\",\"#25D88B\",\"#B79C5E\",\"#5CFEB6\",\"#21A335\",\"#D395B5\",\"#206D02\",\"#664753\",\"#30414D\",\"#2387A2\",\"#AC5D69\",\"#EAB041\",\"#840CB7\",\"#78D9C2\",\"#FF79DE\",\"#8C0203\",\"#FEF2E8\",\"#25D88B\",\"#B79C5E\",\"#5CFEB6\",\"#21A335\",\"#D395B5\",\"#206D02\",\"#664753\",\"#30414D\",\"#2387A2\",\"#AC5D69\",\"#EAB041\",\"#840CB7\",\"#78D9C2\",\"#FF79DE\",\"#8C0203\",\"#FEF2E8\",\"#25D88B\",\"#B79C5E\",\"#5CFEB6\",\"#21A335\",\"#D395B5\",\"#206D02\",\"#664753\",\"#30414D\",\"#2387A2\",\"#AC5D69\",\"#EAB041\",\"#840CB7\",\"#78D9C2\",\"#FF79DE\",\"#8C0203\",\"#FEF2E8\",\"#25D88B\",\"#B79C5E\",\"#5CFEB6\",\"#21A335\",\"#D395B5\",\"#206D02\",\"#664753\",\"#30414D\",\"#2387A2\",\"#AC5D69\",\"#EAB041\",\"#840CB7\",\"#78D9C2\",\"#FF79DE\",\"#8C0203\",\"#FEF2E8\",\"#25D88B\",\"#B79C5E\",\"#5CFEB6\",\"#21A335\",\"#D395B5\",\"#206D02\",\"#664753\",\"#30414D\",\"#2387A2\",\"#AC5D69\",\"#EAB041\",\"#840CB7\",\"#78D9C2\",\"#FF79DE\",\"#8C0203\",\"#FEF2E8\",\"#25D88B\",\"#B79C5E\",\"#5CFEB6\",\"#21A335\",\"#D395B5\",\"#206D02\",\"#664753\",\"#30414D\",\"#2387A2\",\"#AC5D69\",\"#EAB041\",\"#840CB7\",\"#78D9C2\",\"#FF79DE\",\"#8C0203\",\"#FEF2E8\",\"#25D88B\",\"#B79C5E\",\"#5CFEB6\",\"#21A335\",\"#D395B5\",\"#206D02\",\"#664753\",\"#30414D\",\"#2387A2\",\"#AC5D69\",\"#EAB041\",\"#840CB7\",\"#78D9C2\",\"#FF79DE\",\"#8C0203\",\"#FEF2E8\",\"#25D88B\",\"#B79C5E\",\"#5CFEB6\",\"#21A335\",\"#D395B5\",\"#206D02\",\"#664753\",\"#30414D\",\"#2387A2\",\"#AC5D69\",\"#EAB041\",\"#840CB7\",\"#78D9C2\",\"#FF79DE\",\"#8C0203\",\"#FEF2E8\",\"#25D88B\",\"#B79C5E\",\"#5CFEB6\",\"#21A335\",\"#D395B5\",\"#206D02\",\"#664753\",\"#30414D\",\"#2387A2\",\"#AC5D69\",\"#EAB041\",\"#840CB7\",\"#78D9C2\",\"#FF79DE\",\"#8C0203\",\"#FEF2E8\",\"#25D88B\",\"#B79C5E\",\"#5CFEB6\",\"#21A335\",\"#D395B5\",\"#206D02\",\"#664753\",\"#30414D\",\"#2387A2\",\"#AC5D69\",\"#EAB041\",\"#840CB7\",\"#78D9C2\",\"#FF79DE\",\"#8C0203\",\"#FEF2E8\",\"#25D88B\",\"#B79C5E\",\"#5CFEB6\",\"#21A335\",\"#D395B5\",\"#206D02\",\"#664753\",\"#30414D\",\"#2387A2\",\"#AC5D69\",\"#EAB041\",\"#840CB7\",\"#78D9C2\",\"#FF79DE\",\"#8C0203\",\"#FEF2E8\",\"#25D88B\",\"#B79C5E\",\"#5CFEB6\",\"#21A335\",\"#D395B5\",\"#206D02\",\"#664753\",\"#30414D\",\"#2387A2\",\"#AC5D69\",\"#EAB041\",\"#840CB7\",\"#78D9C2\",\"#FF79DE\",\"#8C0203\",\"#FEF2E8\",\"#25D88B\",\"#B79C5E\",\"#5CFEB6\",\"#21A335\",\"#D395B5\",\"#206D02\",\"#664753\",\"#30414D\",\"#2387A2\",\"#AC5D69\",\"#EAB041\",\"#840CB7\",\"#78D9C2\",\"#FF79DE\",\"#8C0203\",\"#FEF2E8\",\"#25D88B\",\"#B79C5E\",\"#5CFEB6\",\"#21A335\",\"#D395B5\",\"#206D02\",\"#664753\",\"#30414D\",\"#2387A2\",\"#AC5D69\",\"#EAB041\",\"#840CB7\",\"#78D9C2\",\"#FF79DE\",\"#8C0203\",\"#FEF2E8\",\"#25D88B\",\"#B79C5E\",\"#5CFEB6\",\"#21A335\",\"#D395B5\",\"#206D02\",\"#664753\",\"#30414D\",\"#2387A2\",\"#AC5D69\",\"#EAB041\",\"#840CB7\",\"#78D9C2\",\"#FF79DE\",\"#8C0203\",\"#FEF2E8\",\"#25D88B\",\"#B79C5E\",\"#5CFEB6\",\"#21A335\",\"#D395B5\",\"#206D02\",\"#664753\"],\"colorscale\":[[0,\"lightsteelblue\"],[1,\"mediumseagreen\"]],\"shape\":\"hspline\"},\"tickfont\":{\"family\":\"Verdana\",\"size\":12},\"type\":\"parcats\"}],                        {\"template\":{\"data\":{\"bar\":[{\"error_x\":{\"color\":\"#2a3f5f\"},\"error_y\":{\"color\":\"#2a3f5f\"},\"marker\":{\"line\":{\"color\":\"#E5ECF6\",\"width\":0.5},\"pattern\":{\"fillmode\":\"overlay\",\"size\":10,\"solidity\":0.2}},\"type\":\"bar\"}],\"barpolar\":[{\"marker\":{\"line\":{\"color\":\"#E5ECF6\",\"width\":0.5},\"pattern\":{\"fillmode\":\"overlay\",\"size\":10,\"solidity\":0.2}},\"type\":\"barpolar\"}],\"carpet\":[{\"aaxis\":{\"endlinecolor\":\"#2a3f5f\",\"gridcolor\":\"white\",\"linecolor\":\"white\",\"minorgridcolor\":\"white\",\"startlinecolor\":\"#2a3f5f\"},\"baxis\":{\"endlinecolor\":\"#2a3f5f\",\"gridcolor\":\"white\",\"linecolor\":\"white\",\"minorgridcolor\":\"white\",\"startlinecolor\":\"#2a3f5f\"},\"type\":\"carpet\"}],\"choropleth\":[{\"colorbar\":{\"outlinewidth\":0,\"ticks\":\"\"},\"type\":\"choropleth\"}],\"contour\":[{\"colorbar\":{\"outlinewidth\":0,\"ticks\":\"\"},\"colorscale\":[[0.0,\"#0d0887\"],[0.1111111111111111,\"#46039f\"],[0.2222222222222222,\"#7201a8\"],[0.3333333333333333,\"#9c179e\"],[0.4444444444444444,\"#bd3786\"],[0.5555555555555556,\"#d8576b\"],[0.6666666666666666,\"#ed7953\"],[0.7777777777777778,\"#fb9f3a\"],[0.8888888888888888,\"#fdca26\"],[1.0,\"#f0f921\"]],\"type\":\"contour\"}],\"contourcarpet\":[{\"colorbar\":{\"outlinewidth\":0,\"ticks\":\"\"},\"type\":\"contourcarpet\"}],\"heatmap\":[{\"colorbar\":{\"outlinewidth\":0,\"ticks\":\"\"},\"colorscale\":[[0.0,\"#0d0887\"],[0.1111111111111111,\"#46039f\"],[0.2222222222222222,\"#7201a8\"],[0.3333333333333333,\"#9c179e\"],[0.4444444444444444,\"#bd3786\"],[0.5555555555555556,\"#d8576b\"],[0.6666666666666666,\"#ed7953\"],[0.7777777777777778,\"#fb9f3a\"],[0.8888888888888888,\"#fdca26\"],[1.0,\"#f0f921\"]],\"type\":\"heatmap\"}],\"heatmapgl\":[{\"colorbar\":{\"outlinewidth\":0,\"ticks\":\"\"},\"colorscale\":[[0.0,\"#0d0887\"],[0.1111111111111111,\"#46039f\"],[0.2222222222222222,\"#7201a8\"],[0.3333333333333333,\"#9c179e\"],[0.4444444444444444,\"#bd3786\"],[0.5555555555555556,\"#d8576b\"],[0.6666666666666666,\"#ed7953\"],[0.7777777777777778,\"#fb9f3a\"],[0.8888888888888888,\"#fdca26\"],[1.0,\"#f0f921\"]],\"type\":\"heatmapgl\"}],\"histogram\":[{\"marker\":{\"pattern\":{\"fillmode\":\"overlay\",\"size\":10,\"solidity\":0.2}},\"type\":\"histogram\"}],\"histogram2d\":[{\"colorbar\":{\"outlinewidth\":0,\"ticks\":\"\"},\"colorscale\":[[0.0,\"#0d0887\"],[0.1111111111111111,\"#46039f\"],[0.2222222222222222,\"#7201a8\"],[0.3333333333333333,\"#9c179e\"],[0.4444444444444444,\"#bd3786\"],[0.5555555555555556,\"#d8576b\"],[0.6666666666666666,\"#ed7953\"],[0.7777777777777778,\"#fb9f3a\"],[0.8888888888888888,\"#fdca26\"],[1.0,\"#f0f921\"]],\"type\":\"histogram2d\"}],\"histogram2dcontour\":[{\"colorbar\":{\"outlinewidth\":0,\"ticks\":\"\"},\"colorscale\":[[0.0,\"#0d0887\"],[0.1111111111111111,\"#46039f\"],[0.2222222222222222,\"#7201a8\"],[0.3333333333333333,\"#9c179e\"],[0.4444444444444444,\"#bd3786\"],[0.5555555555555556,\"#d8576b\"],[0.6666666666666666,\"#ed7953\"],[0.7777777777777778,\"#fb9f3a\"],[0.8888888888888888,\"#fdca26\"],[1.0,\"#f0f921\"]],\"type\":\"histogram2dcontour\"}],\"mesh3d\":[{\"colorbar\":{\"outlinewidth\":0,\"ticks\":\"\"},\"type\":\"mesh3d\"}],\"parcoords\":[{\"line\":{\"colorbar\":{\"outlinewidth\":0,\"ticks\":\"\"}},\"type\":\"parcoords\"}],\"pie\":[{\"automargin\":true,\"type\":\"pie\"}],\"scatter\":[{\"marker\":{\"colorbar\":{\"outlinewidth\":0,\"ticks\":\"\"}},\"type\":\"scatter\"}],\"scatter3d\":[{\"line\":{\"colorbar\":{\"outlinewidth\":0,\"ticks\":\"\"}},\"marker\":{\"colorbar\":{\"outlinewidth\":0,\"ticks\":\"\"}},\"type\":\"scatter3d\"}],\"scattercarpet\":[{\"marker\":{\"colorbar\":{\"outlinewidth\":0,\"ticks\":\"\"}},\"type\":\"scattercarpet\"}],\"scattergeo\":[{\"marker\":{\"colorbar\":{\"outlinewidth\":0,\"ticks\":\"\"}},\"type\":\"scattergeo\"}],\"scattergl\":[{\"marker\":{\"colorbar\":{\"outlinewidth\":0,\"ticks\":\"\"}},\"type\":\"scattergl\"}],\"scattermapbox\":[{\"marker\":{\"colorbar\":{\"outlinewidth\":0,\"ticks\":\"\"}},\"type\":\"scattermapbox\"}],\"scatterpolar\":[{\"marker\":{\"colorbar\":{\"outlinewidth\":0,\"ticks\":\"\"}},\"type\":\"scatterpolar\"}],\"scatterpolargl\":[{\"marker\":{\"colorbar\":{\"outlinewidth\":0,\"ticks\":\"\"}},\"type\":\"scatterpolargl\"}],\"scatterternary\":[{\"marker\":{\"colorbar\":{\"outlinewidth\":0,\"ticks\":\"\"}},\"type\":\"scatterternary\"}],\"surface\":[{\"colorbar\":{\"outlinewidth\":0,\"ticks\":\"\"},\"colorscale\":[[0.0,\"#0d0887\"],[0.1111111111111111,\"#46039f\"],[0.2222222222222222,\"#7201a8\"],[0.3333333333333333,\"#9c179e\"],[0.4444444444444444,\"#bd3786\"],[0.5555555555555556,\"#d8576b\"],[0.6666666666666666,\"#ed7953\"],[0.7777777777777778,\"#fb9f3a\"],[0.8888888888888888,\"#fdca26\"],[1.0,\"#f0f921\"]],\"type\":\"surface\"}],\"table\":[{\"cells\":{\"fill\":{\"color\":\"#EBF0F8\"},\"line\":{\"color\":\"white\"}},\"header\":{\"fill\":{\"color\":\"#C8D4E3\"},\"line\":{\"color\":\"white\"}},\"type\":\"table\"}]},\"layout\":{\"annotationdefaults\":{\"arrowcolor\":\"#2a3f5f\",\"arrowhead\":0,\"arrowwidth\":1},\"autotypenumbers\":\"strict\",\"coloraxis\":{\"colorbar\":{\"outlinewidth\":0,\"ticks\":\"\"}},\"colorscale\":{\"diverging\":[[0,\"#8e0152\"],[0.1,\"#c51b7d\"],[0.2,\"#de77ae\"],[0.3,\"#f1b6da\"],[0.4,\"#fde0ef\"],[0.5,\"#f7f7f7\"],[0.6,\"#e6f5d0\"],[0.7,\"#b8e186\"],[0.8,\"#7fbc41\"],[0.9,\"#4d9221\"],[1,\"#276419\"]],\"sequential\":[[0.0,\"#0d0887\"],[0.1111111111111111,\"#46039f\"],[0.2222222222222222,\"#7201a8\"],[0.3333333333333333,\"#9c179e\"],[0.4444444444444444,\"#bd3786\"],[0.5555555555555556,\"#d8576b\"],[0.6666666666666666,\"#ed7953\"],[0.7777777777777778,\"#fb9f3a\"],[0.8888888888888888,\"#fdca26\"],[1.0,\"#f0f921\"]],\"sequentialminus\":[[0.0,\"#0d0887\"],[0.1111111111111111,\"#46039f\"],[0.2222222222222222,\"#7201a8\"],[0.3333333333333333,\"#9c179e\"],[0.4444444444444444,\"#bd3786\"],[0.5555555555555556,\"#d8576b\"],[0.6666666666666666,\"#ed7953\"],[0.7777777777777778,\"#fb9f3a\"],[0.8888888888888888,\"#fdca26\"],[1.0,\"#f0f921\"]]},\"colorway\":[\"#636efa\",\"#EF553B\",\"#00cc96\",\"#ab63fa\",\"#FFA15A\",\"#19d3f3\",\"#FF6692\",\"#B6E880\",\"#FF97FF\",\"#FECB52\"],\"font\":{\"color\":\"#2a3f5f\"},\"geo\":{\"bgcolor\":\"white\",\"lakecolor\":\"white\",\"landcolor\":\"#E5ECF6\",\"showlakes\":true,\"showland\":true,\"subunitcolor\":\"white\"},\"hoverlabel\":{\"align\":\"left\"},\"hovermode\":\"closest\",\"mapbox\":{\"style\":\"light\"},\"paper_bgcolor\":\"white\",\"plot_bgcolor\":\"#E5ECF6\",\"polar\":{\"angularaxis\":{\"gridcolor\":\"white\",\"linecolor\":\"white\",\"ticks\":\"\"},\"bgcolor\":\"#E5ECF6\",\"radialaxis\":{\"gridcolor\":\"white\",\"linecolor\":\"white\",\"ticks\":\"\"}},\"scene\":{\"xaxis\":{\"backgroundcolor\":\"#E5ECF6\",\"gridcolor\":\"white\",\"gridwidth\":2,\"linecolor\":\"white\",\"showbackground\":true,\"ticks\":\"\",\"zerolinecolor\":\"white\"},\"yaxis\":{\"backgroundcolor\":\"#E5ECF6\",\"gridcolor\":\"white\",\"gridwidth\":2,\"linecolor\":\"white\",\"showbackground\":true,\"ticks\":\"\",\"zerolinecolor\":\"white\"},\"zaxis\":{\"backgroundcolor\":\"#E5ECF6\",\"gridcolor\":\"white\",\"gridwidth\":2,\"linecolor\":\"white\",\"showbackground\":true,\"ticks\":\"\",\"zerolinecolor\":\"white\"}},\"shapedefaults\":{\"line\":{\"color\":\"#2a3f5f\"}},\"ternary\":{\"aaxis\":{\"gridcolor\":\"white\",\"linecolor\":\"white\",\"ticks\":\"\"},\"baxis\":{\"gridcolor\":\"white\",\"linecolor\":\"white\",\"ticks\":\"\"},\"bgcolor\":\"#E5ECF6\",\"caxis\":{\"gridcolor\":\"white\",\"linecolor\":\"white\",\"ticks\":\"\"}},\"title\":{\"x\":0.05},\"xaxis\":{\"automargin\":true,\"gridcolor\":\"white\",\"linecolor\":\"white\",\"ticks\":\"\",\"title\":{\"standoff\":15},\"zerolinecolor\":\"white\",\"zerolinewidth\":2},\"yaxis\":{\"automargin\":true,\"gridcolor\":\"white\",\"linecolor\":\"white\",\"ticks\":\"\",\"title\":{\"standoff\":15},\"zerolinecolor\":\"white\",\"zerolinewidth\":2}}},\"height\":800,\"width\":700,\"dragmode\":\"lasso\",\"hovermode\":\"closest\"},                        {\"responsive\": true}                    ).then(function(){\n",
              "                            \n",
              "var gd = document.getElementById('96959d8c-4917-45b4-826a-3de88aae8f73');\n",
              "var x = new MutationObserver(function (mutations, observer) {{\n",
              "        var display = window.getComputedStyle(gd).display;\n",
              "        if (!display || display === 'none') {{\n",
              "            console.log([gd, 'removed!']);\n",
              "            Plotly.purge(gd);\n",
              "            observer.disconnect();\n",
              "        }}\n",
              "}});\n",
              "\n",
              "// Listen for the removal of the full notebook cells\n",
              "var notebookContainer = gd.closest('#notebook-container');\n",
              "if (notebookContainer) {{\n",
              "    x.observe(notebookContainer, {childList: true});\n",
              "}}\n",
              "\n",
              "// Listen for the clearing of the current output cell\n",
              "var outputEl = gd.closest('.output');\n",
              "if (outputEl) {{\n",
              "    x.observe(outputEl, {childList: true});\n",
              "}}\n",
              "\n",
              "                        })                };                            </script>        </div>\n",
              "</body>\n",
              "</html>"
            ]
          },
          "metadata": {}
        }
      ]
    },
    {
      "cell_type": "markdown",
      "source": [
        "**Insights**\n",
        "\n",
        "This graph is very insightfull because is possible to compare 2 or more  variables. \n",
        "\n",
        "In this case I am studying `Item_Type`, `Outlet_Location_Type`, and `Outlet_Establishment_Year`, and the width of every stream correspond to the sales of that particular portion of the stream, so it is possible to compare the total sales per item, location, and year. \n",
        "\n",
        "* By hovering over the graph is easy to see that the item most sold was `Fruits and Vegetables` of every year.\n",
        "* Tier_1 location sold the most in years 1997 and 1999.\n",
        "* Tier 2 location sold the most in years 2002, 2004, and 2007\n",
        "* Tier 3 location sold the most in years 1985, 1987, 1998, and 2009\n",
        "* The proportions of Items in every Tier location seem to be the same."
      ],
      "metadata": {
        "id": "B-gFU5asgstU"
      }
    },
    {
      "cell_type": "markdown",
      "source": [
        "### Item Visibility vs Outlet Sales"
      ],
      "metadata": {
        "id": "NDHF1bJsSwFF"
      }
    },
    {
      "cell_type": "code",
      "source": [
        "## Facetgrid (taken from seaborn documentation)\n",
        "\n",
        "#define facetgrid\n",
        "g = sns.FacetGrid(data=df, \n",
        "                  col=\"Outlet_Establishment_Year\", \n",
        "                  palette='Blues', \n",
        "                  col_wrap=4, \n",
        "                  margin_titles=True, \n",
        "                  despine=False, \n",
        "                  sharex=True, \n",
        "                  sharey=True)\n",
        "\n",
        "#mapping the graph\n",
        "g.map_dataframe(sns.histplot, \n",
        "                x=\"Item_Visibility\", \n",
        "                y=\"Item_Outlet_Sales\", \n",
        "                bins=(20,20))\n",
        "\n",
        "#aesthetics\n",
        "g.fig.suptitle('Visibility vs Ouletsales per Item Type', fontsize=15)\n",
        "g.set_axis_labels(\"Item Visibility\", \"Outlet Sales ($)\")\n",
        "g.set_titles(col_template=\"{col_name}\")\n",
        "g.tight_layout(rect=[0, 0.03, 1, 0.93])\n",
        "plt.show()"
      ],
      "metadata": {
        "colab": {
          "base_uri": "https://localhost:8080/",
          "height": 636
        },
        "id": "VtXwqARGLB4p",
        "outputId": "e04f8304-dbc2-4241-96b3-81b50207fb4d"
      },
      "execution_count": 39,
      "outputs": [
        {
          "output_type": "display_data",
          "data": {
            "text/plain": [
              "<Figure size 864x648 with 9 Axes>"
            ],
            "image/png": "[encoded data removed]"
          },
          "metadata": {
            "needs_background": "light"
          }
        }
      ]
    },
    {
      "cell_type": "code",
      "source": [],
      "metadata": {
        "id": "1_1_zFKbUEE9"
      },
      "execution_count": 39,
      "outputs": []
    }
  ]
}