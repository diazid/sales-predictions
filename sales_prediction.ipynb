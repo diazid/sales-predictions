{
  "nbformat": 4,
  "nbformat_minor": 0,
  "metadata": {
    "colab": {
      "provenance": [],
      "toc_visible": true,
      "collapsed_sections": [
        "UNKIYv4cGpFr",
        "BsUtnlkJ3Vqx"
      ],
      "authorship_tag": "ABX9TyOLNzX9MlGc3BVCndi0N1Ks",
      "include_colab_link": true
    },
    "kernelspec": {
      "name": "python3",
      "display_name": "Python 3"
    },
    "language_info": {
      "name": "python"
    }
  },
  "cells": [
    {
      "cell_type": "markdown",
      "metadata": {
        "id": "view-in-github",
        "colab_type": "text"
      },
      "source": [
        "<a href=\"https://colab.research.google.com/github/diazid/sales-predictions/blob/main/sales_prediction.ipynb\" target=\"_parent\"><img src=\"https://colab.research.google.com/assets/colab-badge.svg\" alt=\"Open In Colab\"/></a>"
      ]
    },
    {
      "cell_type": "markdown",
      "source": [
        "# Project 1 - Part 3: Food Sales Prediction\n",
        "\n",
        "Name: Israel Diaz\n",
        "\n"
      ],
      "metadata": {
        "id": "mYISzyPjvICw"
      }
    },
    {
      "cell_type": "markdown",
      "source": [
        "**Description:**\n",
        "\n",
        "This project will be a sales prediction for food items sold at various stores. The goal of this is to help the retailer understand the properties of products and outlets that play crucial roles in increasing sales."
      ],
      "metadata": {
        "id": "7YljQ6D-ocra"
      }
    },
    {
      "cell_type": "markdown",
      "source": [
        "**Data**\n",
        "\n",
        "The data frame register 8523 entries and 12 variable. Each variable represent the following. \n",
        "\n",
        "\n",
        "\n",
        "|Variable Name            \t| Description |\n",
        "|---------------------------|-------------|\n",
        "|Item_Identifier            |\tUnique product ID|\n",
        "|Item_Weight\t              | Weight of product|\n",
        "|Item_Fat_Content           |\tWhether the product is low fat or regular|\n",
        "|Item_Visibility          \t|The percentage of total display area of all products in a store allocated to the particular product|\n",
        "|Item_Type\t                |The category to which the product belongs|\n",
        "|Item_MRP\t                  |Maximum Retail Price (list price) of the product|\n",
        "|Outlet_Identifier          |Unique store ID|\n",
        "|Outlet_Establishment_Year\t|The year in which store was established|\n",
        "|Outlet_Size\t              |The size of the store in terms of ground area covered|\n",
        "|Outlet_Location_Type\t      |The type of area in which the store is located|\n",
        "|Outlet_Type\t              |Whether the outlet is a grocery store or some sort of supermarket|\n",
        "|Item_Outlet_Sales         \t|Sales of the product in the particular store. This is the target variable to be predicted. |\n"
      ],
      "metadata": {
        "id": "t1dVYMNflQiK"
      }
    },
    {
      "cell_type": "markdown",
      "source": [
        "## Loading Data"
      ],
      "metadata": {
        "id": "6__zyAHuvV4o"
      }
    },
    {
      "cell_type": "markdown",
      "source": [
        "Loading data from container"
      ],
      "metadata": {
        "id": "cuSWe_qHLlEU"
      }
    },
    {
      "cell_type": "code",
      "source": [
        "filepath = 'https://drive.google.com/uc?export=download&id=1apwZQiYRcktux62Ki6qaJa_JI-hDGb75'"
      ],
      "metadata": {
        "id": "t9jF7cvgMCP1"
      },
      "execution_count": 1,
      "outputs": []
    },
    {
      "cell_type": "code",
      "source": [
        "#IMPORTING PANDAS LIBRARY\n",
        "import pandas as pd\n",
        "import numpy as np\n",
        "import matplotlib.pyplot as plt\n",
        "import seaborn as sns"
      ],
      "metadata": {
        "id": "6ahp_E0BNawL"
      },
      "execution_count": 2,
      "outputs": []
    },
    {
      "cell_type": "code",
      "source": [
        "#LOADING DATA INTO PANDAS DATAFRAME\n",
        "df = pd.read_csv(filepath)"
      ],
      "metadata": {
        "id": "AknmUylRNj0A"
      },
      "execution_count": 3,
      "outputs": []
    },
    {
      "cell_type": "markdown",
      "source": [
        "Previewing the content and info."
      ],
      "metadata": {
        "id": "EDoTSC9QPLEJ"
      }
    },
    {
      "cell_type": "code",
      "source": [
        "df.info()"
      ],
      "metadata": {
        "colab": {
          "base_uri": "https://localhost:8080/"
        },
        "id": "tLhPyzRcODuI",
        "outputId": "149175b6-3b4f-4f50-a4b7-c190e5d65dd3"
      },
      "execution_count": 4,
      "outputs": [
        {
          "output_type": "stream",
          "name": "stdout",
          "text": [
            "<class 'pandas.core.frame.DataFrame'>\n",
            "RangeIndex: 8523 entries, 0 to 8522\n",
            "Data columns (total 12 columns):\n",
            " #   Column                     Non-Null Count  Dtype  \n",
            "---  ------                     --------------  -----  \n",
            " 0   Item_Identifier            8523 non-null   object \n",
            " 1   Item_Weight                7060 non-null   float64\n",
            " 2   Item_Fat_Content           8523 non-null   object \n",
            " 3   Item_Visibility            8523 non-null   float64\n",
            " 4   Item_Type                  8523 non-null   object \n",
            " 5   Item_MRP                   8523 non-null   float64\n",
            " 6   Outlet_Identifier          8523 non-null   object \n",
            " 7   Outlet_Establishment_Year  8523 non-null   int64  \n",
            " 8   Outlet_Size                6113 non-null   object \n",
            " 9   Outlet_Location_Type       8523 non-null   object \n",
            " 10  Outlet_Type                8523 non-null   object \n",
            " 11  Item_Outlet_Sales          8523 non-null   float64\n",
            "dtypes: float64(4), int64(1), object(7)\n",
            "memory usage: 799.2+ KB\n"
          ]
        }
      ]
    },
    {
      "cell_type": "markdown",
      "source": [
        "I see that there is a couple of the variables that has missing values:\n",
        "\n",
        "* No. Entries : 8523\n",
        "* `Item Weight` : 7060 non null values\n",
        "* `Outlet_Size` : 6113 non null values\n",
        "\n",
        "Other variables are complete. "
      ],
      "metadata": {
        "id": "v2SXhv2jOehP"
      }
    },
    {
      "cell_type": "code",
      "source": [
        "df.head()"
      ],
      "metadata": {
        "colab": {
          "base_uri": "https://localhost:8080/",
          "height": 357
        },
        "id": "xWzO8E0iOR5U",
        "outputId": "a6a91772-4b39-454d-cd27-a40a64c0aa23"
      },
      "execution_count": 5,
      "outputs": [
        {
          "output_type": "execute_result",
          "data": {
            "text/plain": [
              "  Item_Identifier  Item_Weight Item_Fat_Content  Item_Visibility  \\\n",
              "0           FDA15         9.30          Low Fat         0.016047   \n",
              "1           DRC01         5.92          Regular         0.019278   \n",
              "2           FDN15        17.50          Low Fat         0.016760   \n",
              "3           FDX07        19.20          Regular         0.000000   \n",
              "4           NCD19         8.93          Low Fat         0.000000   \n",
              "\n",
              "               Item_Type  Item_MRP Outlet_Identifier  \\\n",
              "0                  Dairy  249.8092            OUT049   \n",
              "1            Soft Drinks   48.2692            OUT018   \n",
              "2                   Meat  141.6180            OUT049   \n",
              "3  Fruits and Vegetables  182.0950            OUT010   \n",
              "4              Household   53.8614            OUT013   \n",
              "\n",
              "   Outlet_Establishment_Year Outlet_Size Outlet_Location_Type  \\\n",
              "0                       1999      Medium               Tier 1   \n",
              "1                       2009      Medium               Tier 3   \n",
              "2                       1999      Medium               Tier 1   \n",
              "3                       1998         NaN               Tier 3   \n",
              "4                       1987        High               Tier 3   \n",
              "\n",
              "         Outlet_Type  Item_Outlet_Sales  \n",
              "0  Supermarket Type1          3735.1380  \n",
              "1  Supermarket Type2           443.4228  \n",
              "2  Supermarket Type1          2097.2700  \n",
              "3      Grocery Store           732.3800  \n",
              "4  Supermarket Type1           994.7052  "
            ],
            "text/html": [
              "\n",
              "  <div id=\"df-0134d4a4-6b1c-46c7-ac75-97f4fecec2d1\">\n",
              "    <div class=\"colab-df-container\">\n",
              "      <div>\n",
              "<style scoped>\n",
              "    .dataframe tbody tr th:only-of-type {\n",
              "        vertical-align: middle;\n",
              "    }\n",
              "\n",
              "    .dataframe tbody tr th {\n",
              "        vertical-align: top;\n",
              "    }\n",
              "\n",
              "    .dataframe thead th {\n",
              "        text-align: right;\n",
              "    }\n",
              "</style>\n",
              "<table border=\"1\" class=\"dataframe\">\n",
              "  <thead>\n",
              "    <tr style=\"text-align: right;\">\n",
              "      <th></th>\n",
              "      <th>Item_Identifier</th>\n",
              "      <th>Item_Weight</th>\n",
              "      <th>Item_Fat_Content</th>\n",
              "      <th>Item_Visibility</th>\n",
              "      <th>Item_Type</th>\n",
              "      <th>Item_MRP</th>\n",
              "      <th>Outlet_Identifier</th>\n",
              "      <th>Outlet_Establishment_Year</th>\n",
              "      <th>Outlet_Size</th>\n",
              "      <th>Outlet_Location_Type</th>\n",
              "      <th>Outlet_Type</th>\n",
              "      <th>Item_Outlet_Sales</th>\n",
              "    </tr>\n",
              "  </thead>\n",
              "  <tbody>\n",
              "    <tr>\n",
              "      <th>0</th>\n",
              "      <td>FDA15</td>\n",
              "      <td>9.30</td>\n",
              "      <td>Low Fat</td>\n",
              "      <td>0.016047</td>\n",
              "      <td>Dairy</td>\n",
              "      <td>249.8092</td>\n",
              "      <td>OUT049</td>\n",
              "      <td>1999</td>\n",
              "      <td>Medium</td>\n",
              "      <td>Tier 1</td>\n",
              "      <td>Supermarket Type1</td>\n",
              "      <td>3735.1380</td>\n",
              "    </tr>\n",
              "    <tr>\n",
              "      <th>1</th>\n",
              "      <td>DRC01</td>\n",
              "      <td>5.92</td>\n",
              "      <td>Regular</td>\n",
              "      <td>0.019278</td>\n",
              "      <td>Soft Drinks</td>\n",
              "      <td>48.2692</td>\n",
              "      <td>OUT018</td>\n",
              "      <td>2009</td>\n",
              "      <td>Medium</td>\n",
              "      <td>Tier 3</td>\n",
              "      <td>Supermarket Type2</td>\n",
              "      <td>443.4228</td>\n",
              "    </tr>\n",
              "    <tr>\n",
              "      <th>2</th>\n",
              "      <td>FDN15</td>\n",
              "      <td>17.50</td>\n",
              "      <td>Low Fat</td>\n",
              "      <td>0.016760</td>\n",
              "      <td>Meat</td>\n",
              "      <td>141.6180</td>\n",
              "      <td>OUT049</td>\n",
              "      <td>1999</td>\n",
              "      <td>Medium</td>\n",
              "      <td>Tier 1</td>\n",
              "      <td>Supermarket Type1</td>\n",
              "      <td>2097.2700</td>\n",
              "    </tr>\n",
              "    <tr>\n",
              "      <th>3</th>\n",
              "      <td>FDX07</td>\n",
              "      <td>19.20</td>\n",
              "      <td>Regular</td>\n",
              "      <td>0.000000</td>\n",
              "      <td>Fruits and Vegetables</td>\n",
              "      <td>182.0950</td>\n",
              "      <td>OUT010</td>\n",
              "      <td>1998</td>\n",
              "      <td>NaN</td>\n",
              "      <td>Tier 3</td>\n",
              "      <td>Grocery Store</td>\n",
              "      <td>732.3800</td>\n",
              "    </tr>\n",
              "    <tr>\n",
              "      <th>4</th>\n",
              "      <td>NCD19</td>\n",
              "      <td>8.93</td>\n",
              "      <td>Low Fat</td>\n",
              "      <td>0.000000</td>\n",
              "      <td>Household</td>\n",
              "      <td>53.8614</td>\n",
              "      <td>OUT013</td>\n",
              "      <td>1987</td>\n",
              "      <td>High</td>\n",
              "      <td>Tier 3</td>\n",
              "      <td>Supermarket Type1</td>\n",
              "      <td>994.7052</td>\n",
              "    </tr>\n",
              "  </tbody>\n",
              "</table>\n",
              "</div>\n",
              "      <button class=\"colab-df-convert\" onclick=\"convertToInteractive('df-0134d4a4-6b1c-46c7-ac75-97f4fecec2d1')\"\n",
              "              title=\"Convert this dataframe to an interactive table.\"\n",
              "              style=\"display:none;\">\n",
              "        \n",
              "  <svg xmlns=\"http://www.w3.org/2000/svg\" height=\"24px\"viewBox=\"0 0 24 24\"\n",
              "       width=\"24px\">\n",
              "    <path d=\"M0 0h24v24H0V0z\" fill=\"none\"/>\n",
              "    <path d=\"M18.56 5.44l.94 2.06.94-2.06 2.06-.94-2.06-.94-.94-2.06-.94 2.06-2.06.94zm-11 1L8.5 8.5l.94-2.06 2.06-.94-2.06-.94L8.5 2.5l-.94 2.06-2.06.94zm10 10l.94 2.06.94-2.06 2.06-.94-2.06-.94-.94-2.06-.94 2.06-2.06.94z\"/><path d=\"M17.41 7.96l-1.37-1.37c-.4-.4-.92-.59-1.43-.59-.52 0-1.04.2-1.43.59L10.3 9.45l-7.72 7.72c-.78.78-.78 2.05 0 2.83L4 21.41c.39.39.9.59 1.41.59.51 0 1.02-.2 1.41-.59l7.78-7.78 2.81-2.81c.8-.78.8-2.07 0-2.86zM5.41 20L4 18.59l7.72-7.72 1.47 1.35L5.41 20z\"/>\n",
              "  </svg>\n",
              "      </button>\n",
              "      \n",
              "  <style>\n",
              "    .colab-df-container {\n",
              "      display:flex;\n",
              "      flex-wrap:wrap;\n",
              "      gap: 12px;\n",
              "    }\n",
              "\n",
              "    .colab-df-convert {\n",
              "      background-color: #E8F0FE;\n",
              "      border: none;\n",
              "      border-radius: 50%;\n",
              "      cursor: pointer;\n",
              "      display: none;\n",
              "      fill: #1967D2;\n",
              "      height: 32px;\n",
              "      padding: 0 0 0 0;\n",
              "      width: 32px;\n",
              "    }\n",
              "\n",
              "    .colab-df-convert:hover {\n",
              "      background-color: #E2EBFA;\n",
              "      box-shadow: 0px 1px 2px rgba(60, 64, 67, 0.3), 0px 1px 3px 1px rgba(60, 64, 67, 0.15);\n",
              "      fill: #174EA6;\n",
              "    }\n",
              "\n",
              "    [theme=dark] .colab-df-convert {\n",
              "      background-color: #3B4455;\n",
              "      fill: #D2E3FC;\n",
              "    }\n",
              "\n",
              "    [theme=dark] .colab-df-convert:hover {\n",
              "      background-color: #434B5C;\n",
              "      box-shadow: 0px 1px 3px 1px rgba(0, 0, 0, 0.15);\n",
              "      filter: drop-shadow(0px 1px 2px rgba(0, 0, 0, 0.3));\n",
              "      fill: #FFFFFF;\n",
              "    }\n",
              "  </style>\n",
              "\n",
              "      <script>\n",
              "        const buttonEl =\n",
              "          document.querySelector('#df-0134d4a4-6b1c-46c7-ac75-97f4fecec2d1 button.colab-df-convert');\n",
              "        buttonEl.style.display =\n",
              "          google.colab.kernel.accessAllowed ? 'block' : 'none';\n",
              "\n",
              "        async function convertToInteractive(key) {\n",
              "          const element = document.querySelector('#df-0134d4a4-6b1c-46c7-ac75-97f4fecec2d1');\n",
              "          const dataTable =\n",
              "            await google.colab.kernel.invokeFunction('convertToInteractive',\n",
              "                                                     [key], {});\n",
              "          if (!dataTable) return;\n",
              "\n",
              "          const docLinkHtml = 'Like what you see? Visit the ' +\n",
              "            '<a target=\"_blank\" href=https://colab.research.google.com/notebooks/data_table.ipynb>data table notebook</a>'\n",
              "            + ' to learn more about interactive tables.';\n",
              "          element.innerHTML = '';\n",
              "          dataTable['output_type'] = 'display_data';\n",
              "          await google.colab.output.renderOutput(dataTable, element);\n",
              "          const docLink = document.createElement('div');\n",
              "          docLink.innerHTML = docLinkHtml;\n",
              "          element.appendChild(docLink);\n",
              "        }\n",
              "      </script>\n",
              "    </div>\n",
              "  </div>\n",
              "  "
            ]
          },
          "metadata": {},
          "execution_count": 5
        }
      ]
    },
    {
      "cell_type": "code",
      "source": [
        "df.shape"
      ],
      "metadata": {
        "colab": {
          "base_uri": "https://localhost:8080/"
        },
        "id": "TN1gMQbrVzRy",
        "outputId": "326d75db-22fd-41df-a0a5-3092aac005b7"
      },
      "execution_count": 6,
      "outputs": [
        {
          "output_type": "execute_result",
          "data": {
            "text/plain": [
              "(8523, 12)"
            ]
          },
          "metadata": {},
          "execution_count": 6
        }
      ]
    },
    {
      "cell_type": "markdown",
      "source": [
        "## Data Cleaning"
      ],
      "metadata": {
        "id": "teqfxMLZvbqP"
      }
    },
    {
      "cell_type": "markdown",
      "source": [
        "### Data types"
      ],
      "metadata": {
        "id": "_oazdDwssKli"
      }
    },
    {
      "cell_type": "code",
      "source": [
        "df.dtypes"
      ],
      "metadata": {
        "id": "nfyFY4ugvd7Y",
        "colab": {
          "base_uri": "https://localhost:8080/"
        },
        "outputId": "7a7846f1-5d61-460c-b78f-28d46b2f4095"
      },
      "execution_count": 7,
      "outputs": [
        {
          "output_type": "execute_result",
          "data": {
            "text/plain": [
              "Item_Identifier               object\n",
              "Item_Weight                  float64\n",
              "Item_Fat_Content              object\n",
              "Item_Visibility              float64\n",
              "Item_Type                     object\n",
              "Item_MRP                     float64\n",
              "Outlet_Identifier             object\n",
              "Outlet_Establishment_Year      int64\n",
              "Outlet_Size                   object\n",
              "Outlet_Location_Type          object\n",
              "Outlet_Type                   object\n",
              "Item_Outlet_Sales            float64\n",
              "dtype: object"
            ]
          },
          "metadata": {},
          "execution_count": 7
        }
      ]
    },
    {
      "cell_type": "markdown",
      "source": [
        "All data types seems to be correct, at least in the first watch. If in the next steps I find I have to change in the data types it will be done. "
      ],
      "metadata": {
        "id": "Ya-gUcTNWJ0T"
      }
    },
    {
      "cell_type": "markdown",
      "source": [
        "### Finding Duplicates"
      ],
      "metadata": {
        "id": "hxnr-bCTsOy0"
      }
    },
    {
      "cell_type": "code",
      "source": [
        "df.duplicated().sum()"
      ],
      "metadata": {
        "colab": {
          "base_uri": "https://localhost:8080/"
        },
        "id": "WcmTk5oPVi3b",
        "outputId": "8c3f68a0-0029-4f35-805b-1d7fe5fd9d75"
      },
      "execution_count": 8,
      "outputs": [
        {
          "output_type": "execute_result",
          "data": {
            "text/plain": [
              "0"
            ]
          },
          "metadata": {},
          "execution_count": 8
        }
      ]
    },
    {
      "cell_type": "markdown",
      "source": [
        "There are no duplicated entries in the data set."
      ],
      "metadata": {
        "id": "32iMMDQqWqZt"
      }
    },
    {
      "cell_type": "markdown",
      "source": [
        "### Solving Missing Values"
      ],
      "metadata": {
        "id": "p5jk25kdsRp5"
      }
    },
    {
      "cell_type": "code",
      "source": [
        "df.isna().sum()"
      ],
      "metadata": {
        "colab": {
          "base_uri": "https://localhost:8080/"
        },
        "id": "h3Ui-Ix7WpDm",
        "outputId": "9c3ed49d-8e95-4b6a-a078-3bd8b084f326"
      },
      "execution_count": 9,
      "outputs": [
        {
          "output_type": "execute_result",
          "data": {
            "text/plain": [
              "Item_Identifier                 0\n",
              "Item_Weight                  1463\n",
              "Item_Fat_Content                0\n",
              "Item_Visibility                 0\n",
              "Item_Type                       0\n",
              "Item_MRP                        0\n",
              "Outlet_Identifier               0\n",
              "Outlet_Establishment_Year       0\n",
              "Outlet_Size                  2410\n",
              "Outlet_Location_Type            0\n",
              "Outlet_Type                     0\n",
              "Item_Outlet_Sales               0\n",
              "dtype: int64"
            ]
          },
          "metadata": {},
          "execution_count": 9
        }
      ]
    },
    {
      "cell_type": "markdown",
      "source": [
        "There are have missing values in `Item_Weight` and `Outlet_type` columns. \n",
        "\n",
        "I'll impute the mean value according the `Item_Type`, let's say, not just only 1 mean for all the missing values but the ones grouped by `Item_Type`.\n"
      ],
      "metadata": {
        "id": "g1UIh1d6XCqO"
      }
    },
    {
      "cell_type": "code",
      "source": [
        "df['Item_Weight'] = df.groupby(\"Item_Type\")[\"Item_Weight\"].transform(lambda x: x.fillna(x.mean()))\n",
        "\n",
        "\n",
        "## taken from \n",
        "## 'https://datascience.stackexchange.com/questions/37717/imputation-missing-values-other-than-using-mean-median-in-python'"
      ],
      "metadata": {
        "id": "PzFjsEZGV0AX"
      },
      "execution_count": 10,
      "outputs": []
    },
    {
      "cell_type": "code",
      "source": [
        "df.isna().sum()"
      ],
      "metadata": {
        "colab": {
          "base_uri": "https://localhost:8080/"
        },
        "id": "34VZfW2vUekJ",
        "outputId": "8aafd91e-97c2-43d1-b71f-6911bdc8a2f9"
      },
      "execution_count": 11,
      "outputs": [
        {
          "output_type": "execute_result",
          "data": {
            "text/plain": [
              "Item_Identifier                 0\n",
              "Item_Weight                     0\n",
              "Item_Fat_Content                0\n",
              "Item_Visibility                 0\n",
              "Item_Type                       0\n",
              "Item_MRP                        0\n",
              "Outlet_Identifier               0\n",
              "Outlet_Establishment_Year       0\n",
              "Outlet_Size                  2410\n",
              "Outlet_Location_Type            0\n",
              "Outlet_Type                     0\n",
              "Item_Outlet_Sales               0\n",
              "dtype: int64"
            ]
          },
          "metadata": {},
          "execution_count": 11
        }
      ]
    },
    {
      "cell_type": "markdown",
      "source": [
        "Done!"
      ],
      "metadata": {
        "id": "UfmDRKdOZGnX"
      }
    },
    {
      "cell_type": "markdown",
      "source": [
        "Other columns that presented missing values is `Outlet_Size` variable:"
      ],
      "metadata": {
        "id": "0wwmbf7drMQ7"
      }
    },
    {
      "cell_type": "code",
      "source": [
        "df['Outlet_Size'].value_counts()"
      ],
      "metadata": {
        "colab": {
          "base_uri": "https://localhost:8080/"
        },
        "id": "hYcSCk9VZK8w",
        "outputId": "3d1caf81-171e-4022-ad3e-4ebd5bfec526"
      },
      "execution_count": 12,
      "outputs": [
        {
          "output_type": "execute_result",
          "data": {
            "text/plain": [
              "Medium    2793\n",
              "Small     2388\n",
              "High       932\n",
              "Name: Outlet_Size, dtype: int64"
            ]
          },
          "metadata": {},
          "execution_count": 12
        }
      ]
    },
    {
      "cell_type": "markdown",
      "source": [
        "There are three categories in the `Outlet_Size` variable:\n",
        "* Small\n",
        "* Medium\n",
        "* High\n",
        "\n",
        "Due to the this variable is categorical, and due to we don't know more information about the reason of the missing values, I will impute the missing values to `unknown` category. "
      ],
      "metadata": {
        "id": "5Pg0Vs5zrYKi"
      }
    },
    {
      "cell_type": "markdown",
      "source": [
        "Once this is corrected, I can continue with the previus analysis between `Outlet_Size` and `Item_Fat_Content`"
      ],
      "metadata": {
        "id": "frcEgOoozQm_"
      }
    },
    {
      "cell_type": "markdown",
      "source": [
        "#### Imputing missing values to `unknown` category."
      ],
      "metadata": {
        "id": "Ixy2kKQR3au_"
      }
    },
    {
      "cell_type": "code",
      "source": [
        "# IMPUTING MISSING VALUES TO UNKNOWN CATEGORY\n",
        "\n",
        "#imputing the missing values to Unknown\n",
        "df['Outlet_Size'].fillna('Unknown', inplace=True)"
      ],
      "metadata": {
        "id": "eCnnJzt-dqDB"
      },
      "execution_count": 13,
      "outputs": []
    },
    {
      "cell_type": "markdown",
      "source": [
        "#### Checking the data with imputed values"
      ],
      "metadata": {
        "id": "If0sSuVs4Yky"
      }
    },
    {
      "cell_type": "code",
      "source": [
        "df.isna().sum()"
      ],
      "metadata": {
        "colab": {
          "base_uri": "https://localhost:8080/"
        },
        "id": "QwNHYadp4edy",
        "outputId": "eda8923b-9a3f-4b0a-b70a-04839f8c0382"
      },
      "execution_count": 14,
      "outputs": [
        {
          "output_type": "execute_result",
          "data": {
            "text/plain": [
              "Item_Identifier              0\n",
              "Item_Weight                  0\n",
              "Item_Fat_Content             0\n",
              "Item_Visibility              0\n",
              "Item_Type                    0\n",
              "Item_MRP                     0\n",
              "Outlet_Identifier            0\n",
              "Outlet_Establishment_Year    0\n",
              "Outlet_Size                  0\n",
              "Outlet_Location_Type         0\n",
              "Outlet_Type                  0\n",
              "Item_Outlet_Sales            0\n",
              "dtype: int64"
            ]
          },
          "metadata": {},
          "execution_count": 14
        }
      ]
    },
    {
      "cell_type": "code",
      "source": [
        "df['Outlet_Size'].unique()"
      ],
      "metadata": {
        "colab": {
          "base_uri": "https://localhost:8080/"
        },
        "id": "fYX9l87P4g_U",
        "outputId": "f97dde87-c976-448e-a81b-2a52c98b3ccb"
      },
      "execution_count": 15,
      "outputs": [
        {
          "output_type": "execute_result",
          "data": {
            "text/plain": [
              "array(['Medium', 'Unknown', 'High', 'Small'], dtype=object)"
            ]
          },
          "metadata": {},
          "execution_count": 15
        }
      ]
    },
    {
      "cell_type": "markdown",
      "source": [
        "Done!, \n",
        "\n",
        "No more missing values. "
      ],
      "metadata": {
        "id": "JYSJZOG_45Kb"
      }
    },
    {
      "cell_type": "markdown",
      "source": [
        "### Looking for Inconsistencies"
      ],
      "metadata": {
        "id": "RV7McsLL5edM"
      }
    },
    {
      "cell_type": "code",
      "source": [
        "df['Item_Fat_Content'].unique()"
      ],
      "metadata": {
        "colab": {
          "base_uri": "https://localhost:8080/"
        },
        "id": "Yl0A2MYkyPIZ",
        "outputId": "890e4a96-b599-4b60-d4af-fc1341b4e9ea"
      },
      "execution_count": 16,
      "outputs": [
        {
          "output_type": "execute_result",
          "data": {
            "text/plain": [
              "array(['Low Fat', 'Regular', 'low fat', 'LF', 'reg'], dtype=object)"
            ]
          },
          "metadata": {},
          "execution_count": 16
        }
      ]
    },
    {
      "cell_type": "markdown",
      "source": [
        "I will assume that the category `LF` is the same as `Low Fat`, as well as `reg` to `Regular`. And the will be added capt to `low fat`. "
      ],
      "metadata": {
        "id": "WO1Tz6J7yqoM"
      }
    },
    {
      "cell_type": "code",
      "source": [
        "df['Item_Fat_Content'].replace({'LF': 'Low Fat', \n",
        "                                'low fat': 'Low Fat', \n",
        "                                'reg': 'Regular'}, \n",
        "                                inplace=True)\n",
        "\n",
        "df['Item_Fat_Content'].unique()"
      ],
      "metadata": {
        "colab": {
          "base_uri": "https://localhost:8080/"
        },
        "id": "rJiXCZQRyYY-",
        "outputId": "cdebe95d-1efa-4e85-e6ed-5feec6018eb9"
      },
      "execution_count": 17,
      "outputs": [
        {
          "output_type": "execute_result",
          "data": {
            "text/plain": [
              "array(['Low Fat', 'Regular'], dtype=object)"
            ]
          },
          "metadata": {},
          "execution_count": 17
        }
      ]
    },
    {
      "cell_type": "code",
      "source": [
        "df['Item_Identifier'].unique()"
      ],
      "metadata": {
        "colab": {
          "base_uri": "https://localhost:8080/"
        },
        "id": "8b5BG5Ncvfj7",
        "outputId": "bad07fbd-bf7e-4dcf-a483-3eccb282155f"
      },
      "execution_count": 18,
      "outputs": [
        {
          "output_type": "execute_result",
          "data": {
            "text/plain": [
              "array(['FDA15', 'DRC01', 'FDN15', ..., 'NCF55', 'NCW30', 'NCW05'],\n",
              "      dtype=object)"
            ]
          },
          "metadata": {},
          "execution_count": 18
        }
      ]
    },
    {
      "cell_type": "code",
      "source": [
        "df['Outlet_Establishment_Year'].unique()"
      ],
      "metadata": {
        "colab": {
          "base_uri": "https://localhost:8080/"
        },
        "id": "bH4rzCVTv1ee",
        "outputId": "6f4f0811-a69c-4bd8-9646-bf9b09a78883"
      },
      "execution_count": 19,
      "outputs": [
        {
          "output_type": "execute_result",
          "data": {
            "text/plain": [
              "array([1999, 2009, 1998, 1987, 1985, 2002, 2007, 1997, 2004])"
            ]
          },
          "metadata": {},
          "execution_count": 19
        }
      ]
    },
    {
      "cell_type": "code",
      "source": [
        "df['Outlet_Identifier'].unique()"
      ],
      "metadata": {
        "colab": {
          "base_uri": "https://localhost:8080/"
        },
        "id": "I8m3ts9gv7jv",
        "outputId": "1c3b3206-b808-473d-a2f8-ef39aa105a50"
      },
      "execution_count": 20,
      "outputs": [
        {
          "output_type": "execute_result",
          "data": {
            "text/plain": [
              "array(['OUT049', 'OUT018', 'OUT010', 'OUT013', 'OUT027', 'OUT045',\n",
              "       'OUT017', 'OUT046', 'OUT035', 'OUT019'], dtype=object)"
            ]
          },
          "metadata": {},
          "execution_count": 20
        }
      ]
    },
    {
      "cell_type": "code",
      "source": [
        "df['Outlet_Location_Type'].unique()"
      ],
      "metadata": {
        "colab": {
          "base_uri": "https://localhost:8080/"
        },
        "id": "q5Vs-U7_wDCa",
        "outputId": "2c668c08-b58a-400a-f25f-6704dc9f810e"
      },
      "execution_count": 21,
      "outputs": [
        {
          "output_type": "execute_result",
          "data": {
            "text/plain": [
              "array(['Tier 1', 'Tier 3', 'Tier 2'], dtype=object)"
            ]
          },
          "metadata": {},
          "execution_count": 21
        }
      ]
    },
    {
      "cell_type": "code",
      "source": [
        "df['Outlet_Type'].unique()"
      ],
      "metadata": {
        "colab": {
          "base_uri": "https://localhost:8080/"
        },
        "id": "aA8i7hlCwJHz",
        "outputId": "144bdcc4-828f-4256-a91c-c55a04b405ed"
      },
      "execution_count": 22,
      "outputs": [
        {
          "output_type": "execute_result",
          "data": {
            "text/plain": [
              "array(['Supermarket Type1', 'Supermarket Type2', 'Grocery Store',\n",
              "       'Supermarket Type3'], dtype=object)"
            ]
          },
          "metadata": {},
          "execution_count": 22
        }
      ]
    },
    {
      "cell_type": "markdown",
      "source": [
        "I see no more inconsistencies"
      ],
      "metadata": {
        "id": "XoItI5Jr5_Mq"
      }
    },
    {
      "cell_type": "markdown",
      "source": [
        "### Summary statistics"
      ],
      "metadata": {
        "id": "bdlZjpwgy8qG"
      }
    },
    {
      "cell_type": "code",
      "source": [
        "df.describe()"
      ],
      "metadata": {
        "colab": {
          "base_uri": "https://localhost:8080/",
          "height": 300
        },
        "id": "BAb1c9PbysrF",
        "outputId": "5e901409-6d37-482f-b6a1-5bcdfadbfab6"
      },
      "execution_count": 23,
      "outputs": [
        {
          "output_type": "execute_result",
          "data": {
            "text/plain": [
              "       Item_Weight  Item_Visibility     Item_MRP  Outlet_Establishment_Year  \\\n",
              "count  8523.000000      8523.000000  8523.000000                8523.000000   \n",
              "mean     12.857890         0.066132   140.992782                1997.831867   \n",
              "std       4.232804         0.051598    62.275067                   8.371760   \n",
              "min       4.555000         0.000000    31.290000                1985.000000   \n",
              "25%       9.310000         0.026989    93.826500                1987.000000   \n",
              "50%      12.867061         0.053931   143.012800                1999.000000   \n",
              "75%      16.000000         0.094585   185.643700                2004.000000   \n",
              "max      21.350000         0.328391   266.888400                2009.000000   \n",
              "\n",
              "       Item_Outlet_Sales  \n",
              "count        8523.000000  \n",
              "mean         2181.288914  \n",
              "std          1706.499616  \n",
              "min            33.290000  \n",
              "25%           834.247400  \n",
              "50%          1794.331000  \n",
              "75%          3101.296400  \n",
              "max         13086.964800  "
            ],
            "text/html": [
              "\n",
              "  <div id=\"df-639e6732-b4cc-4394-b7e2-321ba840b438\">\n",
              "    <div class=\"colab-df-container\">\n",
              "      <div>\n",
              "<style scoped>\n",
              "    .dataframe tbody tr th:only-of-type {\n",
              "        vertical-align: middle;\n",
              "    }\n",
              "\n",
              "    .dataframe tbody tr th {\n",
              "        vertical-align: top;\n",
              "    }\n",
              "\n",
              "    .dataframe thead th {\n",
              "        text-align: right;\n",
              "    }\n",
              "</style>\n",
              "<table border=\"1\" class=\"dataframe\">\n",
              "  <thead>\n",
              "    <tr style=\"text-align: right;\">\n",
              "      <th></th>\n",
              "      <th>Item_Weight</th>\n",
              "      <th>Item_Visibility</th>\n",
              "      <th>Item_MRP</th>\n",
              "      <th>Outlet_Establishment_Year</th>\n",
              "      <th>Item_Outlet_Sales</th>\n",
              "    </tr>\n",
              "  </thead>\n",
              "  <tbody>\n",
              "    <tr>\n",
              "      <th>count</th>\n",
              "      <td>8523.000000</td>\n",
              "      <td>8523.000000</td>\n",
              "      <td>8523.000000</td>\n",
              "      <td>8523.000000</td>\n",
              "      <td>8523.000000</td>\n",
              "    </tr>\n",
              "    <tr>\n",
              "      <th>mean</th>\n",
              "      <td>12.857890</td>\n",
              "      <td>0.066132</td>\n",
              "      <td>140.992782</td>\n",
              "      <td>1997.831867</td>\n",
              "      <td>2181.288914</td>\n",
              "    </tr>\n",
              "    <tr>\n",
              "      <th>std</th>\n",
              "      <td>4.232804</td>\n",
              "      <td>0.051598</td>\n",
              "      <td>62.275067</td>\n",
              "      <td>8.371760</td>\n",
              "      <td>1706.499616</td>\n",
              "    </tr>\n",
              "    <tr>\n",
              "      <th>min</th>\n",
              "      <td>4.555000</td>\n",
              "      <td>0.000000</td>\n",
              "      <td>31.290000</td>\n",
              "      <td>1985.000000</td>\n",
              "      <td>33.290000</td>\n",
              "    </tr>\n",
              "    <tr>\n",
              "      <th>25%</th>\n",
              "      <td>9.310000</td>\n",
              "      <td>0.026989</td>\n",
              "      <td>93.826500</td>\n",
              "      <td>1987.000000</td>\n",
              "      <td>834.247400</td>\n",
              "    </tr>\n",
              "    <tr>\n",
              "      <th>50%</th>\n",
              "      <td>12.867061</td>\n",
              "      <td>0.053931</td>\n",
              "      <td>143.012800</td>\n",
              "      <td>1999.000000</td>\n",
              "      <td>1794.331000</td>\n",
              "    </tr>\n",
              "    <tr>\n",
              "      <th>75%</th>\n",
              "      <td>16.000000</td>\n",
              "      <td>0.094585</td>\n",
              "      <td>185.643700</td>\n",
              "      <td>2004.000000</td>\n",
              "      <td>3101.296400</td>\n",
              "    </tr>\n",
              "    <tr>\n",
              "      <th>max</th>\n",
              "      <td>21.350000</td>\n",
              "      <td>0.328391</td>\n",
              "      <td>266.888400</td>\n",
              "      <td>2009.000000</td>\n",
              "      <td>13086.964800</td>\n",
              "    </tr>\n",
              "  </tbody>\n",
              "</table>\n",
              "</div>\n",
              "      <button class=\"colab-df-convert\" onclick=\"convertToInteractive('df-639e6732-b4cc-4394-b7e2-321ba840b438')\"\n",
              "              title=\"Convert this dataframe to an interactive table.\"\n",
              "              style=\"display:none;\">\n",
              "        \n",
              "  <svg xmlns=\"http://www.w3.org/2000/svg\" height=\"24px\"viewBox=\"0 0 24 24\"\n",
              "       width=\"24px\">\n",
              "    <path d=\"M0 0h24v24H0V0z\" fill=\"none\"/>\n",
              "    <path d=\"M18.56 5.44l.94 2.06.94-2.06 2.06-.94-2.06-.94-.94-2.06-.94 2.06-2.06.94zm-11 1L8.5 8.5l.94-2.06 2.06-.94-2.06-.94L8.5 2.5l-.94 2.06-2.06.94zm10 10l.94 2.06.94-2.06 2.06-.94-2.06-.94-.94-2.06-.94 2.06-2.06.94z\"/><path d=\"M17.41 7.96l-1.37-1.37c-.4-.4-.92-.59-1.43-.59-.52 0-1.04.2-1.43.59L10.3 9.45l-7.72 7.72c-.78.78-.78 2.05 0 2.83L4 21.41c.39.39.9.59 1.41.59.51 0 1.02-.2 1.41-.59l7.78-7.78 2.81-2.81c.8-.78.8-2.07 0-2.86zM5.41 20L4 18.59l7.72-7.72 1.47 1.35L5.41 20z\"/>\n",
              "  </svg>\n",
              "      </button>\n",
              "      \n",
              "  <style>\n",
              "    .colab-df-container {\n",
              "      display:flex;\n",
              "      flex-wrap:wrap;\n",
              "      gap: 12px;\n",
              "    }\n",
              "\n",
              "    .colab-df-convert {\n",
              "      background-color: #E8F0FE;\n",
              "      border: none;\n",
              "      border-radius: 50%;\n",
              "      cursor: pointer;\n",
              "      display: none;\n",
              "      fill: #1967D2;\n",
              "      height: 32px;\n",
              "      padding: 0 0 0 0;\n",
              "      width: 32px;\n",
              "    }\n",
              "\n",
              "    .colab-df-convert:hover {\n",
              "      background-color: #E2EBFA;\n",
              "      box-shadow: 0px 1px 2px rgba(60, 64, 67, 0.3), 0px 1px 3px 1px rgba(60, 64, 67, 0.15);\n",
              "      fill: #174EA6;\n",
              "    }\n",
              "\n",
              "    [theme=dark] .colab-df-convert {\n",
              "      background-color: #3B4455;\n",
              "      fill: #D2E3FC;\n",
              "    }\n",
              "\n",
              "    [theme=dark] .colab-df-convert:hover {\n",
              "      background-color: #434B5C;\n",
              "      box-shadow: 0px 1px 3px 1px rgba(0, 0, 0, 0.15);\n",
              "      filter: drop-shadow(0px 1px 2px rgba(0, 0, 0, 0.3));\n",
              "      fill: #FFFFFF;\n",
              "    }\n",
              "  </style>\n",
              "\n",
              "      <script>\n",
              "        const buttonEl =\n",
              "          document.querySelector('#df-639e6732-b4cc-4394-b7e2-321ba840b438 button.colab-df-convert');\n",
              "        buttonEl.style.display =\n",
              "          google.colab.kernel.accessAllowed ? 'block' : 'none';\n",
              "\n",
              "        async function convertToInteractive(key) {\n",
              "          const element = document.querySelector('#df-639e6732-b4cc-4394-b7e2-321ba840b438');\n",
              "          const dataTable =\n",
              "            await google.colab.kernel.invokeFunction('convertToInteractive',\n",
              "                                                     [key], {});\n",
              "          if (!dataTable) return;\n",
              "\n",
              "          const docLinkHtml = 'Like what you see? Visit the ' +\n",
              "            '<a target=\"_blank\" href=https://colab.research.google.com/notebooks/data_table.ipynb>data table notebook</a>'\n",
              "            + ' to learn more about interactive tables.';\n",
              "          element.innerHTML = '';\n",
              "          dataTable['output_type'] = 'display_data';\n",
              "          await google.colab.output.renderOutput(dataTable, element);\n",
              "          const docLink = document.createElement('div');\n",
              "          docLink.innerHTML = docLinkHtml;\n",
              "          element.appendChild(docLink);\n",
              "        }\n",
              "      </script>\n",
              "    </div>\n",
              "  </div>\n",
              "  "
            ]
          },
          "metadata": {},
          "execution_count": 23
        }
      ]
    },
    {
      "cell_type": "markdown",
      "source": [
        "## Exploratory Visuals"
      ],
      "metadata": {
        "id": "E3AwQqQ5vei0"
      }
    },
    {
      "cell_type": "markdown",
      "source": [
        "Before perform any explortory analysis I will covert variables into categorical"
      ],
      "metadata": {
        "id": "Rs1suNRUuj03"
      }
    },
    {
      "cell_type": "code",
      "source": [
        "df.info()"
      ],
      "metadata": {
        "colab": {
          "base_uri": "https://localhost:8080/"
        },
        "id": "1-U8MDJUvGav",
        "outputId": "7aadcf16-152c-4226-89c0-6b9389d228fb"
      },
      "execution_count": 24,
      "outputs": [
        {
          "output_type": "stream",
          "name": "stdout",
          "text": [
            "<class 'pandas.core.frame.DataFrame'>\n",
            "RangeIndex: 8523 entries, 0 to 8522\n",
            "Data columns (total 12 columns):\n",
            " #   Column                     Non-Null Count  Dtype  \n",
            "---  ------                     --------------  -----  \n",
            " 0   Item_Identifier            8523 non-null   object \n",
            " 1   Item_Weight                8523 non-null   float64\n",
            " 2   Item_Fat_Content           8523 non-null   object \n",
            " 3   Item_Visibility            8523 non-null   float64\n",
            " 4   Item_Type                  8523 non-null   object \n",
            " 5   Item_MRP                   8523 non-null   float64\n",
            " 6   Outlet_Identifier          8523 non-null   object \n",
            " 7   Outlet_Establishment_Year  8523 non-null   int64  \n",
            " 8   Outlet_Size                8523 non-null   object \n",
            " 9   Outlet_Location_Type       8523 non-null   object \n",
            " 10  Outlet_Type                8523 non-null   object \n",
            " 11  Item_Outlet_Sales          8523 non-null   float64\n",
            "dtypes: float64(4), int64(1), object(7)\n",
            "memory usage: 799.2+ KB\n"
          ]
        }
      ]
    },
    {
      "cell_type": "code",
      "source": [
        "# Converting variables into categorial when is the case. \n",
        "\n",
        "df['Item_Identifier'] = df['Item_Identifier'].astype('category')\n",
        "df['Item_Fat_Content'] = df['Item_Fat_Content'].astype('category')\n",
        "df['Item_Type'] = df['Item_Type'].astype('category')\n",
        "df['Outlet_Identifier'] = df['Outlet_Identifier'].astype('category')\n",
        "df['Outlet_Establishment_Year'] = df['Outlet_Establishment_Year'].astype('category')\n",
        "df['Outlet_Size'] = df['Outlet_Size'].astype('category')\n",
        "df['Outlet_Location_Type'] = df['Outlet_Location_Type'].astype('category')\n",
        "df['Outlet_Type'] = df['Outlet_Type'].astype('category')\n",
        "\n"
      ],
      "metadata": {
        "id": "TLXhqUWO1EJv"
      },
      "execution_count": 25,
      "outputs": []
    },
    {
      "cell_type": "markdown",
      "source": [
        "Checking the results"
      ],
      "metadata": {
        "id": "imqhLF_Q18xq"
      }
    },
    {
      "cell_type": "code",
      "source": [
        "df.dtypes"
      ],
      "metadata": {
        "colab": {
          "base_uri": "https://localhost:8080/"
        },
        "id": "etzfLAnF17T0",
        "outputId": "acfa5853-46f2-44dd-ce01-2d65ba06eb1f"
      },
      "execution_count": 26,
      "outputs": [
        {
          "output_type": "execute_result",
          "data": {
            "text/plain": [
              "Item_Identifier              category\n",
              "Item_Weight                   float64\n",
              "Item_Fat_Content             category\n",
              "Item_Visibility               float64\n",
              "Item_Type                    category\n",
              "Item_MRP                      float64\n",
              "Outlet_Identifier            category\n",
              "Outlet_Establishment_Year    category\n",
              "Outlet_Size                  category\n",
              "Outlet_Location_Type         category\n",
              "Outlet_Type                  category\n",
              "Item_Outlet_Sales             float64\n",
              "dtype: object"
            ]
          },
          "metadata": {},
          "execution_count": 26
        }
      ]
    },
    {
      "cell_type": "markdown",
      "source": [
        "Perfect. Now I will create a new df with the values of the categories codes because that codes will be used to build the charts. "
      ],
      "metadata": {
        "id": "i9MD7cCX5xcm"
      }
    },
    {
      "cell_type": "code",
      "source": [
        "df.columns.tolist()"
      ],
      "metadata": {
        "colab": {
          "base_uri": "https://localhost:8080/"
        },
        "id": "0ZnbDS8m6lnU",
        "outputId": "cb9ee2f1-c767-44a4-ca8c-2ce746fce475"
      },
      "execution_count": 27,
      "outputs": [
        {
          "output_type": "execute_result",
          "data": {
            "text/plain": [
              "['Item_Identifier',\n",
              " 'Item_Weight',\n",
              " 'Item_Fat_Content',\n",
              " 'Item_Visibility',\n",
              " 'Item_Type',\n",
              " 'Item_MRP',\n",
              " 'Outlet_Identifier',\n",
              " 'Outlet_Establishment_Year',\n",
              " 'Outlet_Size',\n",
              " 'Outlet_Location_Type',\n",
              " 'Outlet_Type',\n",
              " 'Item_Outlet_Sales']"
            ]
          },
          "metadata": {},
          "execution_count": 27
        }
      ]
    },
    {
      "cell_type": "code",
      "source": [
        "# copy the datagrame into df_cat\n",
        "df_cat = df.copy()"
      ],
      "metadata": {
        "id": "72I7V-A06HGB"
      },
      "execution_count": 28,
      "outputs": []
    },
    {
      "cell_type": "code",
      "source": [
        "#the .cat.codes property I imputes the category code in one new column.\n",
        "\n",
        "df_cat['Item_Identifier'] = df_cat['Item_Identifier'].cat.codes\n",
        "df_cat['Item_Fat_Content'] = df_cat['Item_Fat_Content'].cat.codes\n",
        "df_cat['Item_Type'] = df_cat['Item_Type'].cat.codes\n",
        "df_cat['Outlet_Identifier'] = df_cat['Outlet_Identifier'].cat.codes\n",
        "df_cat['Outlet_Size'] = df_cat['Outlet_Size'].cat.codes\n",
        "df_cat['Outlet_Location_Type'] = df_cat['Outlet_Location_Type'].cat.codes\n",
        "df_cat['Outlet_Type'] = df_cat['Outlet_Type'].cat.codes\n"
      ],
      "metadata": {
        "id": "_F1RA2bO6-03"
      },
      "execution_count": 29,
      "outputs": []
    },
    {
      "cell_type": "markdown",
      "source": [
        "The results:"
      ],
      "metadata": {
        "id": "DAv8p19Py7Kj"
      }
    },
    {
      "cell_type": "code",
      "source": [
        "df_cat.head()"
      ],
      "metadata": {
        "colab": {
          "base_uri": "https://localhost:8080/",
          "height": 270
        },
        "id": "dASXZzzr7eMb",
        "outputId": "d78e7416-590c-4853-cd75-987bf6778d69"
      },
      "execution_count": 30,
      "outputs": [
        {
          "output_type": "execute_result",
          "data": {
            "text/plain": [
              "   Item_Identifier  Item_Weight  Item_Fat_Content  Item_Visibility  Item_Type  \\\n",
              "0              156         9.30                 0         0.016047          4   \n",
              "1                8         5.92                 1         0.019278         14   \n",
              "2              662        17.50                 0         0.016760         10   \n",
              "3             1121        19.20                 1         0.000000          6   \n",
              "4             1297         8.93                 0         0.000000          9   \n",
              "\n",
              "   Item_MRP  Outlet_Identifier Outlet_Establishment_Year  Outlet_Size  \\\n",
              "0  249.8092                  9                      1999            1   \n",
              "1   48.2692                  3                      2009            1   \n",
              "2  141.6180                  9                      1999            1   \n",
              "3  182.0950                  0                      1998            3   \n",
              "4   53.8614                  1                      1987            0   \n",
              "\n",
              "   Outlet_Location_Type  Outlet_Type  Item_Outlet_Sales  \n",
              "0                     0            1          3735.1380  \n",
              "1                     2            2           443.4228  \n",
              "2                     0            1          2097.2700  \n",
              "3                     2            0           732.3800  \n",
              "4                     2            1           994.7052  "
            ],
            "text/html": [
              "\n",
              "  <div id=\"df-30f603a6-475f-45cc-8581-fc861f525a72\">\n",
              "    <div class=\"colab-df-container\">\n",
              "      <div>\n",
              "<style scoped>\n",
              "    .dataframe tbody tr th:only-of-type {\n",
              "        vertical-align: middle;\n",
              "    }\n",
              "\n",
              "    .dataframe tbody tr th {\n",
              "        vertical-align: top;\n",
              "    }\n",
              "\n",
              "    .dataframe thead th {\n",
              "        text-align: right;\n",
              "    }\n",
              "</style>\n",
              "<table border=\"1\" class=\"dataframe\">\n",
              "  <thead>\n",
              "    <tr style=\"text-align: right;\">\n",
              "      <th></th>\n",
              "      <th>Item_Identifier</th>\n",
              "      <th>Item_Weight</th>\n",
              "      <th>Item_Fat_Content</th>\n",
              "      <th>Item_Visibility</th>\n",
              "      <th>Item_Type</th>\n",
              "      <th>Item_MRP</th>\n",
              "      <th>Outlet_Identifier</th>\n",
              "      <th>Outlet_Establishment_Year</th>\n",
              "      <th>Outlet_Size</th>\n",
              "      <th>Outlet_Location_Type</th>\n",
              "      <th>Outlet_Type</th>\n",
              "      <th>Item_Outlet_Sales</th>\n",
              "    </tr>\n",
              "  </thead>\n",
              "  <tbody>\n",
              "    <tr>\n",
              "      <th>0</th>\n",
              "      <td>156</td>\n",
              "      <td>9.30</td>\n",
              "      <td>0</td>\n",
              "      <td>0.016047</td>\n",
              "      <td>4</td>\n",
              "      <td>249.8092</td>\n",
              "      <td>9</td>\n",
              "      <td>1999</td>\n",
              "      <td>1</td>\n",
              "      <td>0</td>\n",
              "      <td>1</td>\n",
              "      <td>3735.1380</td>\n",
              "    </tr>\n",
              "    <tr>\n",
              "      <th>1</th>\n",
              "      <td>8</td>\n",
              "      <td>5.92</td>\n",
              "      <td>1</td>\n",
              "      <td>0.019278</td>\n",
              "      <td>14</td>\n",
              "      <td>48.2692</td>\n",
              "      <td>3</td>\n",
              "      <td>2009</td>\n",
              "      <td>1</td>\n",
              "      <td>2</td>\n",
              "      <td>2</td>\n",
              "      <td>443.4228</td>\n",
              "    </tr>\n",
              "    <tr>\n",
              "      <th>2</th>\n",
              "      <td>662</td>\n",
              "      <td>17.50</td>\n",
              "      <td>0</td>\n",
              "      <td>0.016760</td>\n",
              "      <td>10</td>\n",
              "      <td>141.6180</td>\n",
              "      <td>9</td>\n",
              "      <td>1999</td>\n",
              "      <td>1</td>\n",
              "      <td>0</td>\n",
              "      <td>1</td>\n",
              "      <td>2097.2700</td>\n",
              "    </tr>\n",
              "    <tr>\n",
              "      <th>3</th>\n",
              "      <td>1121</td>\n",
              "      <td>19.20</td>\n",
              "      <td>1</td>\n",
              "      <td>0.000000</td>\n",
              "      <td>6</td>\n",
              "      <td>182.0950</td>\n",
              "      <td>0</td>\n",
              "      <td>1998</td>\n",
              "      <td>3</td>\n",
              "      <td>2</td>\n",
              "      <td>0</td>\n",
              "      <td>732.3800</td>\n",
              "    </tr>\n",
              "    <tr>\n",
              "      <th>4</th>\n",
              "      <td>1297</td>\n",
              "      <td>8.93</td>\n",
              "      <td>0</td>\n",
              "      <td>0.000000</td>\n",
              "      <td>9</td>\n",
              "      <td>53.8614</td>\n",
              "      <td>1</td>\n",
              "      <td>1987</td>\n",
              "      <td>0</td>\n",
              "      <td>2</td>\n",
              "      <td>1</td>\n",
              "      <td>994.7052</td>\n",
              "    </tr>\n",
              "  </tbody>\n",
              "</table>\n",
              "</div>\n",
              "      <button class=\"colab-df-convert\" onclick=\"convertToInteractive('df-30f603a6-475f-45cc-8581-fc861f525a72')\"\n",
              "              title=\"Convert this dataframe to an interactive table.\"\n",
              "              style=\"display:none;\">\n",
              "        \n",
              "  <svg xmlns=\"http://www.w3.org/2000/svg\" height=\"24px\"viewBox=\"0 0 24 24\"\n",
              "       width=\"24px\">\n",
              "    <path d=\"M0 0h24v24H0V0z\" fill=\"none\"/>\n",
              "    <path d=\"M18.56 5.44l.94 2.06.94-2.06 2.06-.94-2.06-.94-.94-2.06-.94 2.06-2.06.94zm-11 1L8.5 8.5l.94-2.06 2.06-.94-2.06-.94L8.5 2.5l-.94 2.06-2.06.94zm10 10l.94 2.06.94-2.06 2.06-.94-2.06-.94-.94-2.06-.94 2.06-2.06.94z\"/><path d=\"M17.41 7.96l-1.37-1.37c-.4-.4-.92-.59-1.43-.59-.52 0-1.04.2-1.43.59L10.3 9.45l-7.72 7.72c-.78.78-.78 2.05 0 2.83L4 21.41c.39.39.9.59 1.41.59.51 0 1.02-.2 1.41-.59l7.78-7.78 2.81-2.81c.8-.78.8-2.07 0-2.86zM5.41 20L4 18.59l7.72-7.72 1.47 1.35L5.41 20z\"/>\n",
              "  </svg>\n",
              "      </button>\n",
              "      \n",
              "  <style>\n",
              "    .colab-df-container {\n",
              "      display:flex;\n",
              "      flex-wrap:wrap;\n",
              "      gap: 12px;\n",
              "    }\n",
              "\n",
              "    .colab-df-convert {\n",
              "      background-color: #E8F0FE;\n",
              "      border: none;\n",
              "      border-radius: 50%;\n",
              "      cursor: pointer;\n",
              "      display: none;\n",
              "      fill: #1967D2;\n",
              "      height: 32px;\n",
              "      padding: 0 0 0 0;\n",
              "      width: 32px;\n",
              "    }\n",
              "\n",
              "    .colab-df-convert:hover {\n",
              "      background-color: #E2EBFA;\n",
              "      box-shadow: 0px 1px 2px rgba(60, 64, 67, 0.3), 0px 1px 3px 1px rgba(60, 64, 67, 0.15);\n",
              "      fill: #174EA6;\n",
              "    }\n",
              "\n",
              "    [theme=dark] .colab-df-convert {\n",
              "      background-color: #3B4455;\n",
              "      fill: #D2E3FC;\n",
              "    }\n",
              "\n",
              "    [theme=dark] .colab-df-convert:hover {\n",
              "      background-color: #434B5C;\n",
              "      box-shadow: 0px 1px 3px 1px rgba(0, 0, 0, 0.15);\n",
              "      filter: drop-shadow(0px 1px 2px rgba(0, 0, 0, 0.3));\n",
              "      fill: #FFFFFF;\n",
              "    }\n",
              "  </style>\n",
              "\n",
              "      <script>\n",
              "        const buttonEl =\n",
              "          document.querySelector('#df-30f603a6-475f-45cc-8581-fc861f525a72 button.colab-df-convert');\n",
              "        buttonEl.style.display =\n",
              "          google.colab.kernel.accessAllowed ? 'block' : 'none';\n",
              "\n",
              "        async function convertToInteractive(key) {\n",
              "          const element = document.querySelector('#df-30f603a6-475f-45cc-8581-fc861f525a72');\n",
              "          const dataTable =\n",
              "            await google.colab.kernel.invokeFunction('convertToInteractive',\n",
              "                                                     [key], {});\n",
              "          if (!dataTable) return;\n",
              "\n",
              "          const docLinkHtml = 'Like what you see? Visit the ' +\n",
              "            '<a target=\"_blank\" href=https://colab.research.google.com/notebooks/data_table.ipynb>data table notebook</a>'\n",
              "            + ' to learn more about interactive tables.';\n",
              "          element.innerHTML = '';\n",
              "          dataTable['output_type'] = 'display_data';\n",
              "          await google.colab.output.renderOutput(dataTable, element);\n",
              "          const docLink = document.createElement('div');\n",
              "          docLink.innerHTML = docLinkHtml;\n",
              "          element.appendChild(docLink);\n",
              "        }\n",
              "      </script>\n",
              "    </div>\n",
              "  </div>\n",
              "  "
            ]
          },
          "metadata": {},
          "execution_count": 30
        }
      ]
    },
    {
      "cell_type": "markdown",
      "source": [
        "This will use to perform better analytics with categorical data and to build the heatmap to se correlations. "
      ],
      "metadata": {
        "id": "hzGMFsxZy-aJ"
      }
    },
    {
      "cell_type": "markdown",
      "source": [
        "#### Histograms"
      ],
      "metadata": {
        "id": "dgY_nDRxAB-X"
      }
    },
    {
      "cell_type": "markdown",
      "source": [
        "I want to see the distribution of data of some variables"
      ],
      "metadata": {
        "id": "y7Ot0kRpzJXX"
      }
    },
    {
      "cell_type": "markdown",
      "source": [
        "##### Item_fat_content"
      ],
      "metadata": {
        "id": "0kw8uEgVA4Ue"
      }
    },
    {
      "cell_type": "code",
      "source": [
        "ax = sns.FacetGrid(data = df,\n",
        "              col= 'Outlet_Establishment_Year',\n",
        "              sharex= True, sharey= True,\n",
        "              col_wrap=3,\n",
        "              size=4, aspect=1\n",
        "              )\n",
        "ax.map_dataframe(sns.histplot,  \n",
        "             x=\"Item_Fat_Content\", \n",
        "             color = '#29B6F6',\n",
        "             ax = ax)\n",
        "ax.fig.subplots_adjust(top=0.9)\n",
        "ax.fig.suptitle('Item Fat Content Histograms by Year')\n",
        "ax.set_xticklabels(rotation=0)  #rotate xlabels\n",
        "#save image\n",
        "#plt.tight_layout()\n",
        "#plt.savefig('imagename.png', dpi = 300)\n",
        "plt.show()\n",
        "\n",
        "# FacetGrid taken from Seaborn Documentation.\n",
        "# Title taken from https://stackoverflow.com/questions/29813694/how-to-add-a-title-to-seaborn-facet-plot"
      ],
      "metadata": {
        "colab": {
          "base_uri": "https://localhost:8080/",
          "height": 902
        },
        "id": "zuLYvIFmAPzO",
        "outputId": "a0223f81-3b5b-4fb1-9cc0-37cba5c293cc"
      },
      "execution_count": 31,
      "outputs": [
        {
          "output_type": "stream",
          "name": "stderr",
          "text": [
            "/usr/local/lib/python3.7/dist-packages/seaborn/axisgrid.py:337: UserWarning: The `size` parameter has been renamed to `height`; please update your code.\n",
            "  warnings.warn(msg, UserWarning)\n"
          ]
        },
        {
          "output_type": "display_data",
          "data": {
            "text/plain": [
              "<Figure size 864x864 with 9 Axes>"
            ],
            "image/png": "[encoded data removed]"
          },
          "metadata": {
            "needs_background": "light"
          }
        }
      ]
    },
    {
      "cell_type": "markdown",
      "source": [
        "Insights:\n",
        "\n",
        "* The low fat items almost doubled the regular items in quantity every year."
      ],
      "metadata": {
        "id": "MBw7QQGpCKms"
      }
    },
    {
      "cell_type": "markdown",
      "source": [
        "##### Item_Type\n"
      ],
      "metadata": {
        "id": "HOxBFrD4CXR3"
      }
    },
    {
      "cell_type": "code",
      "source": [
        "#facet grid creates the subdivided graph\n",
        "ax = sns.FacetGrid(data = df,\n",
        "              col= 'Outlet_Establishment_Year',\n",
        "              sharex= True, sharey= True,\n",
        "              col_wrap=3,\n",
        "              size=4, aspect=1\n",
        "              )\n",
        "#build every graph\n",
        "ax.map_dataframe(sns.countplot, \n",
        "                 x=\"Item_Type\", \n",
        "                 color = '#29B6F6',\n",
        "                 order=df.Item_Type.value_counts(ascending=True).index, \n",
        "                 ax=ax)\n",
        "ax.set_xticklabels(rotation=90)  #rotate xlabels\n",
        "ax.fig.subplots_adjust(top=0.9)\n",
        "ax.fig.suptitle('Item Type Histograms by Year') #Mail title\n",
        "#save image\n",
        "#plt.tight_layout()\n",
        "#plt.savefig('imagename.png', dpi = 300)\n",
        "plt.show()\n",
        "\n",
        "# FacetGrid taken from Seaborn Documentation.\n",
        "# Title taken from https://stackoverflow.com/questions/29813694/how-to-add-a-title-to-seaborn-facet-plot"
      ],
      "metadata": {
        "colab": {
          "base_uri": "https://localhost:8080/",
          "height": 1000
        },
        "id": "WDTc2eeaCWuW",
        "outputId": "ac351c34-aeba-4aaa-f6a6-5bee1301185c"
      },
      "execution_count": 32,
      "outputs": [
        {
          "output_type": "stream",
          "name": "stderr",
          "text": [
            "/usr/local/lib/python3.7/dist-packages/seaborn/axisgrid.py:337: UserWarning: The `size` parameter has been renamed to `height`; please update your code.\n",
            "  warnings.warn(msg, UserWarning)\n"
          ]
        },
        {
          "output_type": "display_data",
          "data": {
            "text/plain": [
              "<Figure size 864x864 with 9 Axes>"
            ],
            "image/png": "[encoded data removed]"
          },
          "metadata": {
            "needs_background": "light"
          }
        }
      ]
    },
    {
      "cell_type": "markdown",
      "source": [
        "Insights:\n",
        "\n",
        "- Seafood was the item with less quantity every year. \n",
        "- Fruits and Vegetables was the item with more quantity almost every year except 2007, followed by Snack Foods that was the first one in 2007.."
      ],
      "metadata": {
        "id": "P73yc-JuDsHP"
      }
    },
    {
      "cell_type": "markdown",
      "source": [
        "##### Outlet_stablishment_Year"
      ],
      "metadata": {
        "id": "5GOmaNQhDPtg"
      }
    },
    {
      "cell_type": "code",
      "source": [
        "fig, ax = plt.subplots(figsize=(10, 5))\n",
        "sns.histplot(data=df, \n",
        "             x=\"Outlet_Establishment_Year\", \n",
        "             color = '#29B6F6',\n",
        "             ax = ax)\n",
        "\n",
        "plt.title('Outlet Establishment Year Histogram')\n",
        "plt.xlabel('Year')\n",
        "plt.xticks(rotation = 90)\n",
        "#save image\n",
        "#plt.tight_layout()\n",
        "#plt.savefig('imagename.png', dpi = 300)\n",
        "plt.show()"
      ],
      "metadata": {
        "colab": {
          "base_uri": "https://localhost:8080/",
          "height": 365
        },
        "id": "T7wMss-ECU-d",
        "outputId": "601a4780-4928-4cb9-e67c-e1020806b60c"
      },
      "execution_count": 33,
      "outputs": [
        {
          "output_type": "display_data",
          "data": {
            "text/plain": [
              "<Figure size 720x360 with 1 Axes>"
            ],
            "image/png": "[encoded data removed]"
          },
          "metadata": {
            "needs_background": "light"
          }
        }
      ]
    },
    {
      "cell_type": "markdown",
      "source": [
        "Insights:\n",
        "\n",
        "- Not every year were established Outlets.\n",
        "- 1985 was the year of the greater amounts of outlets. "
      ],
      "metadata": {
        "id": "0pQ3mfypD28s"
      }
    },
    {
      "cell_type": "markdown",
      "source": [
        "##### Outlet Size"
      ],
      "metadata": {
        "id": "2z142isDpX5C"
      }
    },
    {
      "cell_type": "code",
      "source": [
        "ax = sns.FacetGrid(data = df,\n",
        "              col= 'Outlet_Establishment_Year',\n",
        "              sharex= True, sharey= True,\n",
        "              col_wrap=3,\n",
        "              size=4, aspect=1\n",
        "              )\n",
        "ax.map_dataframe(sns.histplot,  \n",
        "             x=\"Outlet_Size\", \n",
        "             color = '#29B6F6',\n",
        "             ax = ax)\n",
        "ax.fig.subplots_adjust(top=0.9)\n",
        "ax.fig.suptitle('Outlet Size Histogra by Year')\n",
        "ax.set_xticklabels(rotation=0)  #rotate xlabels\n",
        "#save image\n",
        "#plt.tight_layout()\n",
        "#plt.savefig('imagename.png', dpi = 300)\n",
        "plt.show()"
      ],
      "metadata": {
        "colab": {
          "base_uri": "https://localhost:8080/",
          "height": 902
        },
        "id": "S3ZbAu96pXPX",
        "outputId": "41cca7a0-1b66-432f-dd75-ab393bf2b2fc"
      },
      "execution_count": 34,
      "outputs": [
        {
          "output_type": "stream",
          "name": "stderr",
          "text": [
            "/usr/local/lib/python3.7/dist-packages/seaborn/axisgrid.py:337: UserWarning: The `size` parameter has been renamed to `height`; please update your code.\n",
            "  warnings.warn(msg, UserWarning)\n"
          ]
        },
        {
          "output_type": "display_data",
          "data": {
            "text/plain": [
              "<Figure size 864x864 with 9 Axes>"
            ],
            "image/png": "[encoded data removed]"
          },
          "metadata": {
            "needs_background": "light"
          }
        }
      ]
    },
    {
      "cell_type": "markdown",
      "source": [
        "Insights:\n",
        "\n",
        "- 1985 were established small and medium sized outlets. And medium sized outlets doubled the small ones.\n",
        "- 1987 was the only year in which was established high sized outlets. \n",
        "- 1998, 2002 and 2007 we don't know the size of the outlet.\n",
        "- The other years were medium sized oulets. "
      ],
      "metadata": {
        "id": "x2hHOsWB-oe_"
      }
    },
    {
      "cell_type": "markdown",
      "source": [
        "#### Boxplots"
      ],
      "metadata": {
        "id": "4f4M33gbpH7I"
      }
    },
    {
      "cell_type": "markdown",
      "source": [
        "##### Fat Content vs Outlet Sales"
      ],
      "metadata": {
        "id": "XoDzJrg8cE_f"
      }
    },
    {
      "cell_type": "markdown",
      "source": [
        "I want to know how the sales performed by Item Fat Content."
      ],
      "metadata": {
        "id": "MnRsVnF3LL5y"
      }
    },
    {
      "cell_type": "code",
      "source": [
        "fig, ax = plt.subplots(figsize = (10,5))\n",
        "sns.boxplot(data = df,\n",
        "            x = 'Item_Fat_Content',\n",
        "            y = 'Item_Outlet_Sales',\n",
        "            notch = True,\n",
        "            width = 0.15,\n",
        "            palette = ['#29B6F6', '#26A69A'],\n",
        "            ax = ax\n",
        "            )\n",
        "\n",
        "plt.title('Fat Content vs Outlet Sales')\n",
        "plt.xlabel('Fat Content')\n",
        "plt.ylabel('Outlet Sales')\n",
        "#save image\n",
        "#plt.tight_layout()\n",
        "#plt.savefig('imagename.png', dpi = 300)\n",
        "plt.show()"
      ],
      "metadata": {
        "colab": {
          "base_uri": "https://localhost:8080/",
          "height": 350
        },
        "id": "HWbZgieUhD2L",
        "outputId": "9a3ea1bb-bbea-4842-8694-879dfda63b5f"
      },
      "execution_count": 35,
      "outputs": [
        {
          "output_type": "display_data",
          "data": {
            "text/plain": [
              "<Figure size 720x360 with 1 Axes>"
            ],
            "image/png": "[encoded data removed]"
          },
          "metadata": {
            "needs_background": "light"
          }
        }
      ]
    },
    {
      "cell_type": "code",
      "source": [
        "print('Low Fat Median:', np.median(df[df.Item_Fat_Content == 'Low Fat']['Item_Outlet_Sales']))\n",
        "print('Regular Median:', np.median(df[df.Item_Fat_Content == 'Regular']['Item_Outlet_Sales']))\n",
        "print('Low Fat Q3:', np.percentile(df[df.Item_Fat_Content == 'Low Fat']['Item_Outlet_Sales'], 75))\n",
        "print('Regular Q3:', np.percentile(df[df.Item_Fat_Content == 'Regular']['Item_Outlet_Sales'], 75))\n",
        "print('Most Sold LF:', np.max(df[df.Item_Fat_Content == 'Low Fat']['Item_Outlet_Sales']))\n",
        "print('Most Sold Reg:', np.max(df[df.Item_Fat_Content == 'Regular']['Item_Outlet_Sales']))"
      ],
      "metadata": {
        "colab": {
          "base_uri": "https://localhost:8080/"
        },
        "id": "ElrKOM4rDOfN",
        "outputId": "93428bba-8044-4b28-c35d-4676c9a3ff3b"
      },
      "execution_count": 36,
      "outputs": [
        {
          "output_type": "stream",
          "name": "stdout",
          "text": [
            "Low Fat Median: 1765.0358\n",
            "Regular Median: 1844.5989\n",
            "Low Fat Q3: 3050.6956\n",
            "Regular Q3: 3198.66965\n",
            "Most Sold LF: 13086.9648\n",
            "Most Sold Reg: 12117.56\n"
          ]
        }
      ]
    },
    {
      "cell_type": "markdown",
      "source": [
        "Insights:\n",
        "\n",
        "- In average, the outlets sold near 1800 both in Low Fat and Regulat Items. \n",
        "- 75% of the sales in Low Fat items are bellow the 3050, versus Regular Items are bellow 3198.\n",
        "- We see a long number of dots above both boxes but in this case ther are not to be considered outliers because they are all part of the observations. \n",
        "- The item that sold the most in Low Fat made 13086 vs the one in Regular made 12117\n",
        "\n",
        "\n"
      ],
      "metadata": {
        "id": "PNV0Z4UHkZV-"
      }
    },
    {
      "cell_type": "markdown",
      "source": [
        "##### Outlet Size vs Outlet Sales"
      ],
      "metadata": {
        "id": "SPhaFWghs6ka"
      }
    },
    {
      "cell_type": "markdown",
      "source": [
        "I will to do the same with the Outlet Size"
      ],
      "metadata": {
        "id": "Tj3OaXekQIXV"
      }
    },
    {
      "cell_type": "code",
      "source": [
        "fig, ax = plt.subplots(figsize = (10,5))\n",
        "sns.boxplot(data = df,\n",
        "            x = 'Outlet_Size',\n",
        "            y = 'Item_Outlet_Sales',\n",
        "            notch = True,\n",
        "            width = 0.15,\n",
        "            palette = ['#29B6F6', '#26A69A', '#66BB6A', '#D4E157'],\n",
        "            ax = ax\n",
        "            )\n",
        "\n",
        "plt.title('Outlet Size vs Outlet Sales')\n",
        "plt.xlabel('Outlet Size')\n",
        "plt.ylabel('Outlet Sales')\n",
        "#save image\n",
        "#plt.tight_layout()\n",
        "#plt.savefig('imagename.png', dpi = 300)\n",
        "plt.show()"
      ],
      "metadata": {
        "colab": {
          "base_uri": "https://localhost:8080/",
          "height": 350
        },
        "id": "CW8yU8mts6C9",
        "outputId": "f1d1d8f4-3f52-47dd-ee9f-e3e2f494ce1f"
      },
      "execution_count": 37,
      "outputs": [
        {
          "output_type": "display_data",
          "data": {
            "text/plain": [
              "<Figure size 720x360 with 1 Axes>"
            ],
            "image/png": "[encoded data removed]"
          },
          "metadata": {
            "needs_background": "light"
          }
        }
      ]
    },
    {
      "cell_type": "code",
      "source": [
        "print('High Median:', np.median(df[df.Outlet_Size == 'High']['Item_Outlet_Sales']))\n",
        "print('Medium Median:', np.median(df[df.Outlet_Size == 'Medium']['Item_Outlet_Sales']))\n",
        "print('Small Median:', np.median(df[df.Outlet_Size == 'Small']['Item_Outlet_Sales']))\n",
        "print('Unknown Median:', np.median(df[df.Outlet_Size == 'Unknown']['Item_Outlet_Sales']))\n",
        "\n",
        "print('High Q3:', np.percentile(df[df.Outlet_Size == 'High']['Item_Outlet_Sales'], 75))\n",
        "print('Medium Q3:', np.percentile(df[df.Outlet_Size == 'Medium']['Item_Outlet_Sales'], 75))\n",
        "print('Small Q3:', np.percentile(df[df.Outlet_Size == 'Small']['Item_Outlet_Sales'], 75))\n",
        "print('Unknown Q3:', np.percentile(df[df.Outlet_Size == 'Unknown']['Item_Outlet_Sales'], 75))\n",
        "\n",
        "print('High Most sold:', np.max(df[df.Outlet_Size == 'High']['Item_Outlet_Sales']))\n",
        "print('Medium Most sold:', np.max(df[df.Outlet_Size == 'Medium']['Item_Outlet_Sales']))\n",
        "print('Small Most sold:', np.max(df[df.Outlet_Size == 'Small']['Item_Outlet_Sales']))\n",
        "print('Unknown Most sold:', np.max(df[df.Outlet_Size == 'Unknown']['Item_Outlet_Sales']))"
      ],
      "metadata": {
        "colab": {
          "base_uri": "https://localhost:8080/"
        },
        "id": "jEYogYPOQjcd",
        "outputId": "94beb4c1-25f1-49b4-bcfb-ba272d60bb13"
      },
      "execution_count": 38,
      "outputs": [
        {
          "output_type": "stream",
          "name": "stdout",
          "text": [
            "High Median: 2050.664\n",
            "Medium Median: 2251.0698\n",
            "Small Median: 1544.656\n",
            "Unknown Median: 1443.4544\n",
            "High Q3: 3166.37835\n",
            "Medium Q3: 3691.1952\n",
            "Small Q3: 2824.3236\n",
            "Unknown Q3: 2681.5095\n",
            "High Most sold: 10256.649\n",
            "Medium Most sold: 13086.9648\n",
            "Small Most sold: 9779.9362\n",
            "Unknown Most sold: 9664.7528\n"
          ]
        }
      ]
    },
    {
      "cell_type": "markdown",
      "source": [
        "Insights:\n",
        "\n",
        "- Small sized Outlet made sales with an median of 1544. The 75% of the sales located bellow of 3166, and made the maximum of 10256. \n",
        "- Medium sized Outlet made the more amount of sales with an median of 2251. The 75% of the sales located bellow of 2824, and made the maximum of 9779. This is correct because Medium sized outlets sales is the greater part in the dataset. \n",
        "- High sized Outlet made sales with an median of 2050. The 75% of the sales located bellow of 3166, and made the maximum of 10256. \n",
        "- Unknown sized Outlet made sales with an median of 1443. The 75% of the sales located bellow of 2681, and made the maximum of 9664. "
      ],
      "metadata": {
        "id": "wS41_gVgR1Wl"
      }
    },
    {
      "cell_type": "markdown",
      "source": [
        "#### Correlations of the variables"
      ],
      "metadata": {
        "id": "BsUtnlkJ3Vqx"
      }
    },
    {
      "cell_type": "markdown",
      "source": [
        "For this task I will plot a heatmap for better undestanding the data"
      ],
      "metadata": {
        "id": "2mWzU2Py3mqC"
      }
    },
    {
      "cell_type": "code",
      "source": [
        "corr = df_cat.corr()"
      ],
      "metadata": {
        "id": "bIh60LDwGhRb"
      },
      "execution_count": 39,
      "outputs": []
    },
    {
      "cell_type": "code",
      "source": [
        "corr"
      ],
      "metadata": {
        "colab": {
          "base_uri": "https://localhost:8080/",
          "height": 395
        },
        "id": "xSNNTgfWtr8X",
        "outputId": "bde9b97a-bca7-4521-871b-504861161d8c"
      },
      "execution_count": 40,
      "outputs": [
        {
          "output_type": "execute_result",
          "data": {
            "text/plain": [
              "                      Item_Identifier  Item_Weight  Item_Fat_Content  \\\n",
              "Item_Identifier              1.000000     0.052944         -0.114660   \n",
              "Item_Weight                  0.052944     1.000000         -0.022152   \n",
              "Item_Fat_Content            -0.114660    -0.022152          1.000000   \n",
              "Item_Visibility             -0.025482    -0.011620          0.047314   \n",
              "Item_Type                   -0.017973     0.034027         -0.139434   \n",
              "Item_MRP                     0.012853     0.025821          0.006063   \n",
              "Outlet_Identifier           -0.008602    -0.008045          0.000764   \n",
              "Outlet_Size                  0.000855    -0.014861         -0.001365   \n",
              "Outlet_Location_Type         0.003656     0.003527         -0.001598   \n",
              "Outlet_Type                 -0.001178    -0.001379          0.002199   \n",
              "Item_Outlet_Sales            0.002869     0.012088          0.018719   \n",
              "\n",
              "                      Item_Visibility  Item_Type  Item_MRP  Outlet_Identifier  \\\n",
              "Item_Identifier             -0.025482  -0.017973  0.012853          -0.008602   \n",
              "Item_Weight                 -0.011620   0.034027  0.025821          -0.008045   \n",
              "Item_Fat_Content             0.047314  -0.139434  0.006063           0.000764   \n",
              "Item_Visibility              1.000000  -0.035249 -0.001315          -0.100439   \n",
              "Item_Type                   -0.035249   1.000000  0.032651           0.001656   \n",
              "Item_MRP                    -0.001315   0.032651  1.000000           0.003319   \n",
              "Outlet_Identifier           -0.100439   0.001656  0.003319           1.000000   \n",
              "Outlet_Size                  0.087796   0.000827 -0.002473           0.053224   \n",
              "Outlet_Location_Type        -0.028099   0.003084  0.000232          -0.716176   \n",
              "Outlet_Type                 -0.173468   0.003053 -0.001975           0.099873   \n",
              "Item_Outlet_Sales           -0.128625   0.017048  0.567574           0.162325   \n",
              "\n",
              "                      Outlet_Size  Outlet_Location_Type  Outlet_Type  \\\n",
              "Item_Identifier          0.000855              0.003656    -0.001178   \n",
              "Item_Weight             -0.014861              0.003527    -0.001379   \n",
              "Item_Fat_Content        -0.001365             -0.001598     0.002199   \n",
              "Item_Visibility          0.087796             -0.028099    -0.173468   \n",
              "Item_Type                0.000827              0.003084     0.003053   \n",
              "Item_MRP                -0.002473              0.000232    -0.001975   \n",
              "Outlet_Identifier        0.053224             -0.716176     0.099873   \n",
              "Outlet_Size              1.000000             -0.290216    -0.432062   \n",
              "Outlet_Location_Type    -0.290216              1.000000     0.467219   \n",
              "Outlet_Type             -0.432062              0.467219     1.000000   \n",
              "Item_Outlet_Sales       -0.172477              0.089367     0.401522   \n",
              "\n",
              "                      Item_Outlet_Sales  \n",
              "Item_Identifier                0.002869  \n",
              "Item_Weight                    0.012088  \n",
              "Item_Fat_Content               0.018719  \n",
              "Item_Visibility               -0.128625  \n",
              "Item_Type                      0.017048  \n",
              "Item_MRP                       0.567574  \n",
              "Outlet_Identifier              0.162325  \n",
              "Outlet_Size                   -0.172477  \n",
              "Outlet_Location_Type           0.089367  \n",
              "Outlet_Type                    0.401522  \n",
              "Item_Outlet_Sales              1.000000  "
            ],
            "text/html": [
              "\n",
              "  <div id=\"df-25887e59-33a7-44bf-8d20-474cfc6f50cb\">\n",
              "    <div class=\"colab-df-container\">\n",
              "      <div>\n",
              "<style scoped>\n",
              "    .dataframe tbody tr th:only-of-type {\n",
              "        vertical-align: middle;\n",
              "    }\n",
              "\n",
              "    .dataframe tbody tr th {\n",
              "        vertical-align: top;\n",
              "    }\n",
              "\n",
              "    .dataframe thead th {\n",
              "        text-align: right;\n",
              "    }\n",
              "</style>\n",
              "<table border=\"1\" class=\"dataframe\">\n",
              "  <thead>\n",
              "    <tr style=\"text-align: right;\">\n",
              "      <th></th>\n",
              "      <th>Item_Identifier</th>\n",
              "      <th>Item_Weight</th>\n",
              "      <th>Item_Fat_Content</th>\n",
              "      <th>Item_Visibility</th>\n",
              "      <th>Item_Type</th>\n",
              "      <th>Item_MRP</th>\n",
              "      <th>Outlet_Identifier</th>\n",
              "      <th>Outlet_Size</th>\n",
              "      <th>Outlet_Location_Type</th>\n",
              "      <th>Outlet_Type</th>\n",
              "      <th>Item_Outlet_Sales</th>\n",
              "    </tr>\n",
              "  </thead>\n",
              "  <tbody>\n",
              "    <tr>\n",
              "      <th>Item_Identifier</th>\n",
              "      <td>1.000000</td>\n",
              "      <td>0.052944</td>\n",
              "      <td>-0.114660</td>\n",
              "      <td>-0.025482</td>\n",
              "      <td>-0.017973</td>\n",
              "      <td>0.012853</td>\n",
              "      <td>-0.008602</td>\n",
              "      <td>0.000855</td>\n",
              "      <td>0.003656</td>\n",
              "      <td>-0.001178</td>\n",
              "      <td>0.002869</td>\n",
              "    </tr>\n",
              "    <tr>\n",
              "      <th>Item_Weight</th>\n",
              "      <td>0.052944</td>\n",
              "      <td>1.000000</td>\n",
              "      <td>-0.022152</td>\n",
              "      <td>-0.011620</td>\n",
              "      <td>0.034027</td>\n",
              "      <td>0.025821</td>\n",
              "      <td>-0.008045</td>\n",
              "      <td>-0.014861</td>\n",
              "      <td>0.003527</td>\n",
              "      <td>-0.001379</td>\n",
              "      <td>0.012088</td>\n",
              "    </tr>\n",
              "    <tr>\n",
              "      <th>Item_Fat_Content</th>\n",
              "      <td>-0.114660</td>\n",
              "      <td>-0.022152</td>\n",
              "      <td>1.000000</td>\n",
              "      <td>0.047314</td>\n",
              "      <td>-0.139434</td>\n",
              "      <td>0.006063</td>\n",
              "      <td>0.000764</td>\n",
              "      <td>-0.001365</td>\n",
              "      <td>-0.001598</td>\n",
              "      <td>0.002199</td>\n",
              "      <td>0.018719</td>\n",
              "    </tr>\n",
              "    <tr>\n",
              "      <th>Item_Visibility</th>\n",
              "      <td>-0.025482</td>\n",
              "      <td>-0.011620</td>\n",
              "      <td>0.047314</td>\n",
              "      <td>1.000000</td>\n",
              "      <td>-0.035249</td>\n",
              "      <td>-0.001315</td>\n",
              "      <td>-0.100439</td>\n",
              "      <td>0.087796</td>\n",
              "      <td>-0.028099</td>\n",
              "      <td>-0.173468</td>\n",
              "      <td>-0.128625</td>\n",
              "    </tr>\n",
              "    <tr>\n",
              "      <th>Item_Type</th>\n",
              "      <td>-0.017973</td>\n",
              "      <td>0.034027</td>\n",
              "      <td>-0.139434</td>\n",
              "      <td>-0.035249</td>\n",
              "      <td>1.000000</td>\n",
              "      <td>0.032651</td>\n",
              "      <td>0.001656</td>\n",
              "      <td>0.000827</td>\n",
              "      <td>0.003084</td>\n",
              "      <td>0.003053</td>\n",
              "      <td>0.017048</td>\n",
              "    </tr>\n",
              "    <tr>\n",
              "      <th>Item_MRP</th>\n",
              "      <td>0.012853</td>\n",
              "      <td>0.025821</td>\n",
              "      <td>0.006063</td>\n",
              "      <td>-0.001315</td>\n",
              "      <td>0.032651</td>\n",
              "      <td>1.000000</td>\n",
              "      <td>0.003319</td>\n",
              "      <td>-0.002473</td>\n",
              "      <td>0.000232</td>\n",
              "      <td>-0.001975</td>\n",
              "      <td>0.567574</td>\n",
              "    </tr>\n",
              "    <tr>\n",
              "      <th>Outlet_Identifier</th>\n",
              "      <td>-0.008602</td>\n",
              "      <td>-0.008045</td>\n",
              "      <td>0.000764</td>\n",
              "      <td>-0.100439</td>\n",
              "      <td>0.001656</td>\n",
              "      <td>0.003319</td>\n",
              "      <td>1.000000</td>\n",
              "      <td>0.053224</td>\n",
              "      <td>-0.716176</td>\n",
              "      <td>0.099873</td>\n",
              "      <td>0.162325</td>\n",
              "    </tr>\n",
              "    <tr>\n",
              "      <th>Outlet_Size</th>\n",
              "      <td>0.000855</td>\n",
              "      <td>-0.014861</td>\n",
              "      <td>-0.001365</td>\n",
              "      <td>0.087796</td>\n",
              "      <td>0.000827</td>\n",
              "      <td>-0.002473</td>\n",
              "      <td>0.053224</td>\n",
              "      <td>1.000000</td>\n",
              "      <td>-0.290216</td>\n",
              "      <td>-0.432062</td>\n",
              "      <td>-0.172477</td>\n",
              "    </tr>\n",
              "    <tr>\n",
              "      <th>Outlet_Location_Type</th>\n",
              "      <td>0.003656</td>\n",
              "      <td>0.003527</td>\n",
              "      <td>-0.001598</td>\n",
              "      <td>-0.028099</td>\n",
              "      <td>0.003084</td>\n",
              "      <td>0.000232</td>\n",
              "      <td>-0.716176</td>\n",
              "      <td>-0.290216</td>\n",
              "      <td>1.000000</td>\n",
              "      <td>0.467219</td>\n",
              "      <td>0.089367</td>\n",
              "    </tr>\n",
              "    <tr>\n",
              "      <th>Outlet_Type</th>\n",
              "      <td>-0.001178</td>\n",
              "      <td>-0.001379</td>\n",
              "      <td>0.002199</td>\n",
              "      <td>-0.173468</td>\n",
              "      <td>0.003053</td>\n",
              "      <td>-0.001975</td>\n",
              "      <td>0.099873</td>\n",
              "      <td>-0.432062</td>\n",
              "      <td>0.467219</td>\n",
              "      <td>1.000000</td>\n",
              "      <td>0.401522</td>\n",
              "    </tr>\n",
              "    <tr>\n",
              "      <th>Item_Outlet_Sales</th>\n",
              "      <td>0.002869</td>\n",
              "      <td>0.012088</td>\n",
              "      <td>0.018719</td>\n",
              "      <td>-0.128625</td>\n",
              "      <td>0.017048</td>\n",
              "      <td>0.567574</td>\n",
              "      <td>0.162325</td>\n",
              "      <td>-0.172477</td>\n",
              "      <td>0.089367</td>\n",
              "      <td>0.401522</td>\n",
              "      <td>1.000000</td>\n",
              "    </tr>\n",
              "  </tbody>\n",
              "</table>\n",
              "</div>\n",
              "      <button class=\"colab-df-convert\" onclick=\"convertToInteractive('df-25887e59-33a7-44bf-8d20-474cfc6f50cb')\"\n",
              "              title=\"Convert this dataframe to an interactive table.\"\n",
              "              style=\"display:none;\">\n",
              "        \n",
              "  <svg xmlns=\"http://www.w3.org/2000/svg\" height=\"24px\"viewBox=\"0 0 24 24\"\n",
              "       width=\"24px\">\n",
              "    <path d=\"M0 0h24v24H0V0z\" fill=\"none\"/>\n",
              "    <path d=\"M18.56 5.44l.94 2.06.94-2.06 2.06-.94-2.06-.94-.94-2.06-.94 2.06-2.06.94zm-11 1L8.5 8.5l.94-2.06 2.06-.94-2.06-.94L8.5 2.5l-.94 2.06-2.06.94zm10 10l.94 2.06.94-2.06 2.06-.94-2.06-.94-.94-2.06-.94 2.06-2.06.94z\"/><path d=\"M17.41 7.96l-1.37-1.37c-.4-.4-.92-.59-1.43-.59-.52 0-1.04.2-1.43.59L10.3 9.45l-7.72 7.72c-.78.78-.78 2.05 0 2.83L4 21.41c.39.39.9.59 1.41.59.51 0 1.02-.2 1.41-.59l7.78-7.78 2.81-2.81c.8-.78.8-2.07 0-2.86zM5.41 20L4 18.59l7.72-7.72 1.47 1.35L5.41 20z\"/>\n",
              "  </svg>\n",
              "      </button>\n",
              "      \n",
              "  <style>\n",
              "    .colab-df-container {\n",
              "      display:flex;\n",
              "      flex-wrap:wrap;\n",
              "      gap: 12px;\n",
              "    }\n",
              "\n",
              "    .colab-df-convert {\n",
              "      background-color: #E8F0FE;\n",
              "      border: none;\n",
              "      border-radius: 50%;\n",
              "      cursor: pointer;\n",
              "      display: none;\n",
              "      fill: #1967D2;\n",
              "      height: 32px;\n",
              "      padding: 0 0 0 0;\n",
              "      width: 32px;\n",
              "    }\n",
              "\n",
              "    .colab-df-convert:hover {\n",
              "      background-color: #E2EBFA;\n",
              "      box-shadow: 0px 1px 2px rgba(60, 64, 67, 0.3), 0px 1px 3px 1px rgba(60, 64, 67, 0.15);\n",
              "      fill: #174EA6;\n",
              "    }\n",
              "\n",
              "    [theme=dark] .colab-df-convert {\n",
              "      background-color: #3B4455;\n",
              "      fill: #D2E3FC;\n",
              "    }\n",
              "\n",
              "    [theme=dark] .colab-df-convert:hover {\n",
              "      background-color: #434B5C;\n",
              "      box-shadow: 0px 1px 3px 1px rgba(0, 0, 0, 0.15);\n",
              "      filter: drop-shadow(0px 1px 2px rgba(0, 0, 0, 0.3));\n",
              "      fill: #FFFFFF;\n",
              "    }\n",
              "  </style>\n",
              "\n",
              "      <script>\n",
              "        const buttonEl =\n",
              "          document.querySelector('#df-25887e59-33a7-44bf-8d20-474cfc6f50cb button.colab-df-convert');\n",
              "        buttonEl.style.display =\n",
              "          google.colab.kernel.accessAllowed ? 'block' : 'none';\n",
              "\n",
              "        async function convertToInteractive(key) {\n",
              "          const element = document.querySelector('#df-25887e59-33a7-44bf-8d20-474cfc6f50cb');\n",
              "          const dataTable =\n",
              "            await google.colab.kernel.invokeFunction('convertToInteractive',\n",
              "                                                     [key], {});\n",
              "          if (!dataTable) return;\n",
              "\n",
              "          const docLinkHtml = 'Like what you see? Visit the ' +\n",
              "            '<a target=\"_blank\" href=https://colab.research.google.com/notebooks/data_table.ipynb>data table notebook</a>'\n",
              "            + ' to learn more about interactive tables.';\n",
              "          element.innerHTML = '';\n",
              "          dataTable['output_type'] = 'display_data';\n",
              "          await google.colab.output.renderOutput(dataTable, element);\n",
              "          const docLink = document.createElement('div');\n",
              "          docLink.innerHTML = docLinkHtml;\n",
              "          element.appendChild(docLink);\n",
              "        }\n",
              "      </script>\n",
              "    </div>\n",
              "  </div>\n",
              "  "
            ]
          },
          "metadata": {},
          "execution_count": 40
        }
      ]
    },
    {
      "cell_type": "code",
      "source": [
        "fig, ax = plt.subplots(figsize=(10, 10))\n",
        "sns.heatmap(corr, \n",
        "            cmap = 'magma', \n",
        "            annot = True, \n",
        "            linewidth=.5, \n",
        "            ax = ax)\n",
        "\n",
        "plt.title('Correlation Plot')\n",
        "#save image\n",
        "#plt.tight_layout()\n",
        "#plt.savefig('imagename.png', dpi = 300)\n",
        "plt.show()"
      ],
      "metadata": {
        "colab": {
          "base_uri": "https://localhost:8080/",
          "height": 703
        },
        "id": "Jsp60v6XGdbk",
        "outputId": "ba7afd73-bb04-4175-96d4-ec31af241003"
      },
      "execution_count": 41,
      "outputs": [
        {
          "output_type": "display_data",
          "data": {
            "text/plain": [
              "<Figure size 720x720 with 2 Axes>"
            ],
            "image/png": "[encoded data removed]"
          },
          "metadata": {
            "needs_background": "light"
          }
        }
      ]
    },
    {
      "cell_type": "markdown",
      "source": [
        "I can see the following correlations:\n",
        "\n",
        "- Item_Outlet_Sales and Item_MRP, with moderate correlation of 0.57\n",
        "- Outlet_Location_Type and Outlet_Identifier with an high inverse correlation of -0.72\n",
        "- Outlet_Location_Type and Outlet_Type with a low-to-moderate correlation of 0.47\n",
        "- Oulet_Type and Oulet_Size with an low-to-moderate inverse correlation of -0.43\n",
        "- Outlet_Type and Item_Oulet_Sales with a low-to-moderate correlation of 0.4.\n",
        "\n"
      ],
      "metadata": {
        "id": "v_XHdXc8GmCx"
      }
    },
    {
      "cell_type": "markdown",
      "source": [
        "## Explanatory Visuals"
      ],
      "metadata": {
        "id": "3827ej84viEo"
      }
    },
    {
      "cell_type": "code",
      "source": [],
      "metadata": {
        "id": "BVQdspJvvll_"
      },
      "execution_count": 41,
      "outputs": []
    }
  ]
}