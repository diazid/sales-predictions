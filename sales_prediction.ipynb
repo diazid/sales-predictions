{
  "nbformat": 4,
  "nbformat_minor": 0,
  "metadata": {
    "colab": {
      "provenance": [],
      "collapsed_sections": [],
      "toc_visible": true,
      "authorship_tag": "ABX9TyMObok1CYveKVljkCllcpJh",
      "include_colab_link": true
    },
    "kernelspec": {
      "name": "python3",
      "display_name": "Python 3"
    },
    "language_info": {
      "name": "python"
    }
  },
  "cells": [
    {
      "cell_type": "markdown",
      "metadata": {
        "id": "view-in-github",
        "colab_type": "text"
      },
      "source": [
        "<a href=\"https://colab.research.google.com/github/diazid/sales-predictions/blob/main/sales_prediction.ipynb\" target=\"_parent\"><img src=\"https://colab.research.google.com/assets/colab-badge.svg\" alt=\"Open In Colab\"/></a>"
      ]
    },
    {
      "cell_type": "markdown",
      "source": [
        "# Project 1 - Part 2: Food Sales Prediction\n",
        "\n",
        "Name: Israel Diaz\n",
        "\n"
      ],
      "metadata": {
        "id": "mYISzyPjvICw"
      }
    },
    {
      "cell_type": "markdown",
      "source": [
        "**Description:**\n",
        "\n",
        "This project will be a sales prediction for food items sold at various stores. The goal of this is to help the retailer understand the properties of products and outlets that play crucial roles in increasing sales."
      ],
      "metadata": {
        "id": "7YljQ6D-ocra"
      }
    },
    {
      "cell_type": "markdown",
      "source": [
        "## Loading Data"
      ],
      "metadata": {
        "id": "6__zyAHuvV4o"
      }
    },
    {
      "cell_type": "markdown",
      "source": [
        "Loading data from container"
      ],
      "metadata": {
        "id": "cuSWe_qHLlEU"
      }
    },
    {
      "cell_type": "code",
      "source": [
        "filepath = 'https://drive.google.com/uc?export=download&id=1apwZQiYRcktux62Ki6qaJa_JI-hDGb75'"
      ],
      "metadata": {
        "id": "t9jF7cvgMCP1"
      },
      "execution_count": null,
      "outputs": []
    },
    {
      "cell_type": "code",
      "source": [
        "#IMPORTING PANDAS LIBRARY\n",
        "import pandas as pd"
      ],
      "metadata": {
        "id": "6ahp_E0BNawL"
      },
      "execution_count": null,
      "outputs": []
    },
    {
      "cell_type": "code",
      "source": [
        "#LOADING DATA INTO PANDAS DATAFRAME\n",
        "df = pd.read_csv(filepath)"
      ],
      "metadata": {
        "id": "AknmUylRNj0A"
      },
      "execution_count": null,
      "outputs": []
    },
    {
      "cell_type": "markdown",
      "source": [
        "Previewing the content and info."
      ],
      "metadata": {
        "id": "EDoTSC9QPLEJ"
      }
    },
    {
      "cell_type": "code",
      "source": [
        "df.info()"
      ],
      "metadata": {
        "colab": {
          "base_uri": "https://localhost:8080/"
        },
        "id": "tLhPyzRcODuI",
        "outputId": "15ec1193-abad-4574-c510-b1ac0fc2d483"
      },
      "execution_count": null,
      "outputs": [
        {
          "output_type": "stream",
          "name": "stdout",
          "text": [
            "<class 'pandas.core.frame.DataFrame'>\n",
            "RangeIndex: 8523 entries, 0 to 8522\n",
            "Data columns (total 12 columns):\n",
            " #   Column                     Non-Null Count  Dtype  \n",
            "---  ------                     --------------  -----  \n",
            " 0   Item_Identifier            8523 non-null   object \n",
            " 1   Item_Weight                7060 non-null   float64\n",
            " 2   Item_Fat_Content           8523 non-null   object \n",
            " 3   Item_Visibility            8523 non-null   float64\n",
            " 4   Item_Type                  8523 non-null   object \n",
            " 5   Item_MRP                   8523 non-null   float64\n",
            " 6   Outlet_Identifier          8523 non-null   object \n",
            " 7   Outlet_Establishment_Year  8523 non-null   int64  \n",
            " 8   Outlet_Size                6113 non-null   object \n",
            " 9   Outlet_Location_Type       8523 non-null   object \n",
            " 10  Outlet_Type                8523 non-null   object \n",
            " 11  Item_Outlet_Sales          8523 non-null   float64\n",
            "dtypes: float64(4), int64(1), object(7)\n",
            "memory usage: 799.2+ KB\n"
          ]
        }
      ]
    },
    {
      "cell_type": "markdown",
      "source": [
        "I see that there is a couple of the variables that has missing values:\n",
        "\n",
        "* No. Entries : 8523\n",
        "* `Item Weight` : 7060 non null values\n",
        "* `Outlet_Size` : 6113 non null values\n",
        "\n",
        "Other variables are complete. "
      ],
      "metadata": {
        "id": "v2SXhv2jOehP"
      }
    },
    {
      "cell_type": "code",
      "source": [
        "df.head()"
      ],
      "metadata": {
        "colab": {
          "base_uri": "https://localhost:8080/",
          "height": 357
        },
        "id": "xWzO8E0iOR5U",
        "outputId": "111e6404-86cd-4c66-cb14-ce6ee7132eab"
      },
      "execution_count": null,
      "outputs": [
        {
          "output_type": "execute_result",
          "data": {
            "text/plain": [
              "  Item_Identifier  Item_Weight Item_Fat_Content  Item_Visibility  \\\n",
              "0           FDA15         9.30          Low Fat         0.016047   \n",
              "1           DRC01         5.92          Regular         0.019278   \n",
              "2           FDN15        17.50          Low Fat         0.016760   \n",
              "3           FDX07        19.20          Regular         0.000000   \n",
              "4           NCD19         8.93          Low Fat         0.000000   \n",
              "\n",
              "               Item_Type  Item_MRP Outlet_Identifier  \\\n",
              "0                  Dairy  249.8092            OUT049   \n",
              "1            Soft Drinks   48.2692            OUT018   \n",
              "2                   Meat  141.6180            OUT049   \n",
              "3  Fruits and Vegetables  182.0950            OUT010   \n",
              "4              Household   53.8614            OUT013   \n",
              "\n",
              "   Outlet_Establishment_Year Outlet_Size Outlet_Location_Type  \\\n",
              "0                       1999      Medium               Tier 1   \n",
              "1                       2009      Medium               Tier 3   \n",
              "2                       1999      Medium               Tier 1   \n",
              "3                       1998         NaN               Tier 3   \n",
              "4                       1987        High               Tier 3   \n",
              "\n",
              "         Outlet_Type  Item_Outlet_Sales  \n",
              "0  Supermarket Type1          3735.1380  \n",
              "1  Supermarket Type2           443.4228  \n",
              "2  Supermarket Type1          2097.2700  \n",
              "3      Grocery Store           732.3800  \n",
              "4  Supermarket Type1           994.7052  "
            ],
            "text/html": [
              "\n",
              "  <div id=\"df-bf780e20-575a-46da-a104-dbd3a45de29c\">\n",
              "    <div class=\"colab-df-container\">\n",
              "      <div>\n",
              "<style scoped>\n",
              "    .dataframe tbody tr th:only-of-type {\n",
              "        vertical-align: middle;\n",
              "    }\n",
              "\n",
              "    .dataframe tbody tr th {\n",
              "        vertical-align: top;\n",
              "    }\n",
              "\n",
              "    .dataframe thead th {\n",
              "        text-align: right;\n",
              "    }\n",
              "</style>\n",
              "<table border=\"1\" class=\"dataframe\">\n",
              "  <thead>\n",
              "    <tr style=\"text-align: right;\">\n",
              "      <th></th>\n",
              "      <th>Item_Identifier</th>\n",
              "      <th>Item_Weight</th>\n",
              "      <th>Item_Fat_Content</th>\n",
              "      <th>Item_Visibility</th>\n",
              "      <th>Item_Type</th>\n",
              "      <th>Item_MRP</th>\n",
              "      <th>Outlet_Identifier</th>\n",
              "      <th>Outlet_Establishment_Year</th>\n",
              "      <th>Outlet_Size</th>\n",
              "      <th>Outlet_Location_Type</th>\n",
              "      <th>Outlet_Type</th>\n",
              "      <th>Item_Outlet_Sales</th>\n",
              "    </tr>\n",
              "  </thead>\n",
              "  <tbody>\n",
              "    <tr>\n",
              "      <th>0</th>\n",
              "      <td>FDA15</td>\n",
              "      <td>9.30</td>\n",
              "      <td>Low Fat</td>\n",
              "      <td>0.016047</td>\n",
              "      <td>Dairy</td>\n",
              "      <td>249.8092</td>\n",
              "      <td>OUT049</td>\n",
              "      <td>1999</td>\n",
              "      <td>Medium</td>\n",
              "      <td>Tier 1</td>\n",
              "      <td>Supermarket Type1</td>\n",
              "      <td>3735.1380</td>\n",
              "    </tr>\n",
              "    <tr>\n",
              "      <th>1</th>\n",
              "      <td>DRC01</td>\n",
              "      <td>5.92</td>\n",
              "      <td>Regular</td>\n",
              "      <td>0.019278</td>\n",
              "      <td>Soft Drinks</td>\n",
              "      <td>48.2692</td>\n",
              "      <td>OUT018</td>\n",
              "      <td>2009</td>\n",
              "      <td>Medium</td>\n",
              "      <td>Tier 3</td>\n",
              "      <td>Supermarket Type2</td>\n",
              "      <td>443.4228</td>\n",
              "    </tr>\n",
              "    <tr>\n",
              "      <th>2</th>\n",
              "      <td>FDN15</td>\n",
              "      <td>17.50</td>\n",
              "      <td>Low Fat</td>\n",
              "      <td>0.016760</td>\n",
              "      <td>Meat</td>\n",
              "      <td>141.6180</td>\n",
              "      <td>OUT049</td>\n",
              "      <td>1999</td>\n",
              "      <td>Medium</td>\n",
              "      <td>Tier 1</td>\n",
              "      <td>Supermarket Type1</td>\n",
              "      <td>2097.2700</td>\n",
              "    </tr>\n",
              "    <tr>\n",
              "      <th>3</th>\n",
              "      <td>FDX07</td>\n",
              "      <td>19.20</td>\n",
              "      <td>Regular</td>\n",
              "      <td>0.000000</td>\n",
              "      <td>Fruits and Vegetables</td>\n",
              "      <td>182.0950</td>\n",
              "      <td>OUT010</td>\n",
              "      <td>1998</td>\n",
              "      <td>NaN</td>\n",
              "      <td>Tier 3</td>\n",
              "      <td>Grocery Store</td>\n",
              "      <td>732.3800</td>\n",
              "    </tr>\n",
              "    <tr>\n",
              "      <th>4</th>\n",
              "      <td>NCD19</td>\n",
              "      <td>8.93</td>\n",
              "      <td>Low Fat</td>\n",
              "      <td>0.000000</td>\n",
              "      <td>Household</td>\n",
              "      <td>53.8614</td>\n",
              "      <td>OUT013</td>\n",
              "      <td>1987</td>\n",
              "      <td>High</td>\n",
              "      <td>Tier 3</td>\n",
              "      <td>Supermarket Type1</td>\n",
              "      <td>994.7052</td>\n",
              "    </tr>\n",
              "  </tbody>\n",
              "</table>\n",
              "</div>\n",
              "      <button class=\"colab-df-convert\" onclick=\"convertToInteractive('df-bf780e20-575a-46da-a104-dbd3a45de29c')\"\n",
              "              title=\"Convert this dataframe to an interactive table.\"\n",
              "              style=\"display:none;\">\n",
              "        \n",
              "  <svg xmlns=\"http://www.w3.org/2000/svg\" height=\"24px\"viewBox=\"0 0 24 24\"\n",
              "       width=\"24px\">\n",
              "    <path d=\"M0 0h24v24H0V0z\" fill=\"none\"/>\n",
              "    <path d=\"M18.56 5.44l.94 2.06.94-2.06 2.06-.94-2.06-.94-.94-2.06-.94 2.06-2.06.94zm-11 1L8.5 8.5l.94-2.06 2.06-.94-2.06-.94L8.5 2.5l-.94 2.06-2.06.94zm10 10l.94 2.06.94-2.06 2.06-.94-2.06-.94-.94-2.06-.94 2.06-2.06.94z\"/><path d=\"M17.41 7.96l-1.37-1.37c-.4-.4-.92-.59-1.43-.59-.52 0-1.04.2-1.43.59L10.3 9.45l-7.72 7.72c-.78.78-.78 2.05 0 2.83L4 21.41c.39.39.9.59 1.41.59.51 0 1.02-.2 1.41-.59l7.78-7.78 2.81-2.81c.8-.78.8-2.07 0-2.86zM5.41 20L4 18.59l7.72-7.72 1.47 1.35L5.41 20z\"/>\n",
              "  </svg>\n",
              "      </button>\n",
              "      \n",
              "  <style>\n",
              "    .colab-df-container {\n",
              "      display:flex;\n",
              "      flex-wrap:wrap;\n",
              "      gap: 12px;\n",
              "    }\n",
              "\n",
              "    .colab-df-convert {\n",
              "      background-color: #E8F0FE;\n",
              "      border: none;\n",
              "      border-radius: 50%;\n",
              "      cursor: pointer;\n",
              "      display: none;\n",
              "      fill: #1967D2;\n",
              "      height: 32px;\n",
              "      padding: 0 0 0 0;\n",
              "      width: 32px;\n",
              "    }\n",
              "\n",
              "    .colab-df-convert:hover {\n",
              "      background-color: #E2EBFA;\n",
              "      box-shadow: 0px 1px 2px rgba(60, 64, 67, 0.3), 0px 1px 3px 1px rgba(60, 64, 67, 0.15);\n",
              "      fill: #174EA6;\n",
              "    }\n",
              "\n",
              "    [theme=dark] .colab-df-convert {\n",
              "      background-color: #3B4455;\n",
              "      fill: #D2E3FC;\n",
              "    }\n",
              "\n",
              "    [theme=dark] .colab-df-convert:hover {\n",
              "      background-color: #434B5C;\n",
              "      box-shadow: 0px 1px 3px 1px rgba(0, 0, 0, 0.15);\n",
              "      filter: drop-shadow(0px 1px 2px rgba(0, 0, 0, 0.3));\n",
              "      fill: #FFFFFF;\n",
              "    }\n",
              "  </style>\n",
              "\n",
              "      <script>\n",
              "        const buttonEl =\n",
              "          document.querySelector('#df-bf780e20-575a-46da-a104-dbd3a45de29c button.colab-df-convert');\n",
              "        buttonEl.style.display =\n",
              "          google.colab.kernel.accessAllowed ? 'block' : 'none';\n",
              "\n",
              "        async function convertToInteractive(key) {\n",
              "          const element = document.querySelector('#df-bf780e20-575a-46da-a104-dbd3a45de29c');\n",
              "          const dataTable =\n",
              "            await google.colab.kernel.invokeFunction('convertToInteractive',\n",
              "                                                     [key], {});\n",
              "          if (!dataTable) return;\n",
              "\n",
              "          const docLinkHtml = 'Like what you see? Visit the ' +\n",
              "            '<a target=\"_blank\" href=https://colab.research.google.com/notebooks/data_table.ipynb>data table notebook</a>'\n",
              "            + ' to learn more about interactive tables.';\n",
              "          element.innerHTML = '';\n",
              "          dataTable['output_type'] = 'display_data';\n",
              "          await google.colab.output.renderOutput(dataTable, element);\n",
              "          const docLink = document.createElement('div');\n",
              "          docLink.innerHTML = docLinkHtml;\n",
              "          element.appendChild(docLink);\n",
              "        }\n",
              "      </script>\n",
              "    </div>\n",
              "  </div>\n",
              "  "
            ]
          },
          "metadata": {},
          "execution_count": 5
        }
      ]
    },
    {
      "cell_type": "code",
      "source": [
        "df.shape"
      ],
      "metadata": {
        "colab": {
          "base_uri": "https://localhost:8080/"
        },
        "id": "TN1gMQbrVzRy",
        "outputId": "d25e851e-6db3-41ba-c8cb-b610cda94e49"
      },
      "execution_count": null,
      "outputs": [
        {
          "output_type": "execute_result",
          "data": {
            "text/plain": [
              "(8523, 12)"
            ]
          },
          "metadata": {},
          "execution_count": 6
        }
      ]
    },
    {
      "cell_type": "markdown",
      "source": [
        "The data frame register 8523 entries and 12 variable. Each variable represent the following. \n",
        "\n",
        "\n",
        "\n",
        "|Variable Name            \t| Description |\n",
        "|---------------------------|-------------|\n",
        "|Item_Identifier            |\tUnique product ID|\n",
        "|Item_Weight\t              | Weight of product|\n",
        "|Item_Fat_Content           |\tWhether the product is low fat or regular|\n",
        "|Item_Visibility          \t|The percentage of total display area of all products in a store allocated to the particular product|\n",
        "|Item_Type\t                |The category to which the product belongs|\n",
        "|Item_MRP\t                  |Maximum Retail Price (list price) of the product|\n",
        "|Outlet_Identifier          |Unique store ID|\n",
        "|Outlet_Establishment_Year\t|The year in which store was established|\n",
        "|Outlet_Size\t              |The size of the store in terms of ground area covered|\n",
        "|Outlet_Location_Type\t      |The type of area in which the store is located|\n",
        "|Outlet_Type\t              |Whether the outlet is a grocery store or some sort of supermarket|\n",
        "|Item_Outlet_Sales         \t|Sales of the product in the particular store. This is the target variable to be predicted. |\n",
        "\n",
        "In the next section I will be dealing with the data preparation."
      ],
      "metadata": {
        "id": "t1dVYMNflQiK"
      }
    },
    {
      "cell_type": "markdown",
      "source": [
        "## Data Cleaning"
      ],
      "metadata": {
        "id": "teqfxMLZvbqP"
      }
    },
    {
      "cell_type": "markdown",
      "source": [
        "### Data types"
      ],
      "metadata": {
        "id": "_oazdDwssKli"
      }
    },
    {
      "cell_type": "code",
      "source": [
        "df.dtypes"
      ],
      "metadata": {
        "id": "nfyFY4ugvd7Y",
        "colab": {
          "base_uri": "https://localhost:8080/"
        },
        "outputId": "68cbfa36-95e7-4a64-fabf-1bc84b34d668"
      },
      "execution_count": null,
      "outputs": [
        {
          "output_type": "execute_result",
          "data": {
            "text/plain": [
              "Item_Identifier               object\n",
              "Item_Weight                  float64\n",
              "Item_Fat_Content              object\n",
              "Item_Visibility              float64\n",
              "Item_Type                     object\n",
              "Item_MRP                     float64\n",
              "Outlet_Identifier             object\n",
              "Outlet_Establishment_Year      int64\n",
              "Outlet_Size                   object\n",
              "Outlet_Location_Type          object\n",
              "Outlet_Type                   object\n",
              "Item_Outlet_Sales            float64\n",
              "dtype: object"
            ]
          },
          "metadata": {},
          "execution_count": 7
        }
      ]
    },
    {
      "cell_type": "markdown",
      "source": [
        "All data types seems to be correct, at least in the first watch. If in the next steps I find I have to change in the data types it will be done. "
      ],
      "metadata": {
        "id": "Ya-gUcTNWJ0T"
      }
    },
    {
      "cell_type": "markdown",
      "source": [
        "### Finding Duplicates"
      ],
      "metadata": {
        "id": "hxnr-bCTsOy0"
      }
    },
    {
      "cell_type": "code",
      "source": [
        "df.duplicated().sum()"
      ],
      "metadata": {
        "colab": {
          "base_uri": "https://localhost:8080/"
        },
        "id": "WcmTk5oPVi3b",
        "outputId": "019b3355-6c8e-4349-b17e-d4a69c286810"
      },
      "execution_count": null,
      "outputs": [
        {
          "output_type": "execute_result",
          "data": {
            "text/plain": [
              "0"
            ]
          },
          "metadata": {},
          "execution_count": 8
        }
      ]
    },
    {
      "cell_type": "markdown",
      "source": [
        "There is no duplicated entries in the data set."
      ],
      "metadata": {
        "id": "32iMMDQqWqZt"
      }
    },
    {
      "cell_type": "markdown",
      "source": [
        "### Solving Missing Values"
      ],
      "metadata": {
        "id": "p5jk25kdsRp5"
      }
    },
    {
      "cell_type": "code",
      "source": [
        "df.isna().sum()"
      ],
      "metadata": {
        "colab": {
          "base_uri": "https://localhost:8080/"
        },
        "id": "h3Ui-Ix7WpDm",
        "outputId": "79da8b5d-2a34-44e3-c2b2-415255bca857"
      },
      "execution_count": null,
      "outputs": [
        {
          "output_type": "execute_result",
          "data": {
            "text/plain": [
              "Item_Identifier                 0\n",
              "Item_Weight                  1463\n",
              "Item_Fat_Content                0\n",
              "Item_Visibility                 0\n",
              "Item_Type                       0\n",
              "Item_MRP                        0\n",
              "Outlet_Identifier               0\n",
              "Outlet_Establishment_Year       0\n",
              "Outlet_Size                  2410\n",
              "Outlet_Location_Type            0\n",
              "Outlet_Type                     0\n",
              "Item_Outlet_Sales               0\n",
              "dtype: int64"
            ]
          },
          "metadata": {},
          "execution_count": 9
        }
      ]
    },
    {
      "cell_type": "markdown",
      "source": [
        "There are have missing values in `Item_Weight` and `Outlet_type` columns. We'll be exploring that columns in the following steps\n",
        "\n",
        "I decided to frop the column `Item_Weight` due to the following reasons:\n",
        "\n",
        "* They are weight values. \n",
        "* They are mostly unique values for each item. "
      ],
      "metadata": {
        "id": "g1UIh1d6XCqO"
      }
    },
    {
      "cell_type": "code",
      "source": [
        "# Dropping the Item Weight column\n",
        "df.drop(columns=['Item_Weight'], inplace= True)"
      ],
      "metadata": {
        "id": "xhrwLIb0XBhL"
      },
      "execution_count": null,
      "outputs": []
    },
    {
      "cell_type": "markdown",
      "source": [
        "Other columns that presented missing values is `Outlet_Size` variable:"
      ],
      "metadata": {
        "id": "0wwmbf7drMQ7"
      }
    },
    {
      "cell_type": "code",
      "source": [
        "df['Outlet_Size'].value_counts()"
      ],
      "metadata": {
        "colab": {
          "base_uri": "https://localhost:8080/"
        },
        "id": "hYcSCk9VZK8w",
        "outputId": "b56635c4-2f67-4d75-f85b-f9cd8ee95e5f"
      },
      "execution_count": null,
      "outputs": [
        {
          "output_type": "execute_result",
          "data": {
            "text/plain": [
              "Medium    2793\n",
              "Small     2388\n",
              "High       932\n",
              "Name: Outlet_Size, dtype: int64"
            ]
          },
          "metadata": {},
          "execution_count": 11
        }
      ]
    },
    {
      "cell_type": "markdown",
      "source": [
        "There are three categories in the `Outlet_Size` variable:\n",
        "* Small\n",
        "* Medium\n",
        "* High\n",
        "\n",
        "I'll try to undestand why are the reasons of the missing values:\n",
        "\n",
        "1. The first instance is that `Small` and `Medium` categories exceed in more than 2000 entries to each other, but the `High` categorie no even reach 1000. \n",
        "2. Despite the previous reason will be necessary to perform an in-depth exploration to understand what is happening within the data. "
      ],
      "metadata": {
        "id": "5Pg0Vs5zrYKi"
      }
    },
    {
      "cell_type": "markdown",
      "source": [
        "#### Looking for relationships in the data."
      ],
      "metadata": {
        "id": "7XcCi43Es_kc"
      }
    },
    {
      "cell_type": "markdown",
      "source": [
        "I'll explore the relations that exist between `Outlet_Size` and other variables, as follow:\n",
        "\n",
        "* `Item_Type`\n",
        "* `Outlet_type`\n",
        "* `Outlet_Identifier`\n",
        "* `Item_Fat_Content`\n",
        "* `Outlet_Location_Type`\n",
        "\n",
        "I have choosen this variables because they are all categorical variables. \n"
      ],
      "metadata": {
        "id": "w_AIBVvRtL-Z"
      }
    },
    {
      "cell_type": "markdown",
      "source": [
        "#### `Outlet_Size` vs `Item_Type`"
      ],
      "metadata": {
        "id": "akP4xGHQv3Pm"
      }
    },
    {
      "cell_type": "code",
      "source": [
        "df.groupby(by=['Item_Type'])['Outlet_Size'].value_counts(normalize=True)"
      ],
      "metadata": {
        "colab": {
          "base_uri": "https://localhost:8080/"
        },
        "id": "tTu6wwYDc9nb",
        "outputId": "b0f1c125-5c5f-4811-c9f7-8686b17485ea"
      },
      "execution_count": null,
      "outputs": [
        {
          "output_type": "execute_result",
          "data": {
            "text/plain": [
              "Item_Type              Outlet_Size\n",
              "Baking Goods           Medium         0.438445\n",
              "                       Small          0.403888\n",
              "                       High           0.157667\n",
              "Breads                 Medium         0.463687\n",
              "                       Small          0.396648\n",
              "                       High           0.139665\n",
              "Breakfast              Medium         0.455696\n",
              "                       Small          0.379747\n",
              "                       High           0.164557\n",
              "Canned                 Medium         0.460722\n",
              "                       Small          0.401274\n",
              "                       High           0.138004\n",
              "Dairy                  Medium         0.439516\n",
              "                       Small          0.399194\n",
              "                       High           0.161290\n",
              "Frozen Foods           Medium         0.445528\n",
              "                       Small          0.404878\n",
              "                       High           0.149593\n",
              "Fruits and Vegetables  Medium         0.467724\n",
              "                       Small          0.371461\n",
              "                       High           0.160815\n",
              "Hard Drinks            Medium         0.506757\n",
              "                       Small          0.337838\n",
              "                       High           0.155405\n",
              "Health and Hygiene     Medium         0.463215\n",
              "                       Small          0.370572\n",
              "                       High           0.166213\n",
              "Household              Medium         0.445300\n",
              "                       Small          0.395994\n",
              "                       High           0.158706\n",
              "Meat                   Medium         0.482201\n",
              "                       Small          0.385113\n",
              "                       High           0.132686\n",
              "Others                 Small          0.447154\n",
              "                       Medium         0.422764\n",
              "                       High           0.130081\n",
              "Seafood                Medium         0.456522\n",
              "                       Small          0.434783\n",
              "                       High           0.108696\n",
              "Snack Foods            Medium         0.470046\n",
              "                       Small          0.385945\n",
              "                       High           0.144009\n",
              "Soft Drinks            Medium         0.439103\n",
              "                       Small          0.403846\n",
              "                       High           0.157051\n",
              "Starchy Foods          Medium         0.457143\n",
              "                       Small          0.361905\n",
              "                       High           0.180952\n",
              "Name: Outlet_Size, dtype: float64"
            ]
          },
          "metadata": {},
          "execution_count": 12
        }
      ]
    },
    {
      "cell_type": "markdown",
      "source": [
        "* For every Item category there is less gat between Small and Medium categories, on the contrary we see a wide gap with the High category.  \n",
        "* The normalized values shown that the High category is from 13% to 17% of the entire data, while Small and High are the between the 87% to the 83#, or at least 42% each."
      ],
      "metadata": {
        "id": "-HBOUPhXdq-8"
      }
    },
    {
      "cell_type": "markdown",
      "source": [
        "#### `Outlet_Size` vs `Outlet_Type`"
      ],
      "metadata": {
        "id": "3G12xIiMv5zk"
      }
    },
    {
      "cell_type": "code",
      "source": [
        "df.groupby(by=['Outlet_Type'])['Outlet_Size'].value_counts(normalize= True)"
      ],
      "metadata": {
        "colab": {
          "base_uri": "https://localhost:8080/"
        },
        "id": "Rn-c6iShwC5-",
        "outputId": "85581f2c-3762-4b4e-c61f-c047a9079a81"
      },
      "execution_count": null,
      "outputs": [
        {
          "output_type": "execute_result",
          "data": {
            "text/plain": [
              "Outlet_Type        Outlet_Size\n",
              "Grocery Store      Small          1.000000\n",
              "Supermarket Type1  Small          0.499731\n",
              "                   High           0.250403\n",
              "                   Medium         0.249866\n",
              "Supermarket Type2  Medium         1.000000\n",
              "Supermarket Type3  Medium         1.000000\n",
              "Name: Outlet_Size, dtype: float64"
            ]
          },
          "metadata": {},
          "execution_count": 13
        }
      ]
    },
    {
      "cell_type": "markdown",
      "source": [
        "* I can't conclude any relationship between the variables that are confronting. Because I don't see the same insight in the last pair of variables. "
      ],
      "metadata": {
        "id": "WYGDednFwQi6"
      }
    },
    {
      "cell_type": "markdown",
      "source": [
        "#### `Outlet_Size` vs `Outlet_Identifier`"
      ],
      "metadata": {
        "id": "8m5P46qBw1N7"
      }
    },
    {
      "cell_type": "code",
      "source": [
        "df.groupby(by=['Outlet_Identifier'])['Outlet_Size'].value_counts(normalize= True)"
      ],
      "metadata": {
        "colab": {
          "base_uri": "https://localhost:8080/"
        },
        "id": "jnAqXmyaw-EK",
        "outputId": "6c5f470b-b7b7-46cf-a209-583e1fd714de"
      },
      "execution_count": null,
      "outputs": [
        {
          "output_type": "execute_result",
          "data": {
            "text/plain": [
              "Outlet_Identifier  Outlet_Size\n",
              "OUT013             High           1.0\n",
              "OUT018             Medium         1.0\n",
              "OUT019             Small          1.0\n",
              "OUT027             Medium         1.0\n",
              "OUT035             Small          1.0\n",
              "OUT046             Small          1.0\n",
              "OUT049             Medium         1.0\n",
              "Name: Outlet_Size, dtype: float64"
            ]
          },
          "metadata": {},
          "execution_count": 14
        }
      ]
    },
    {
      "cell_type": "markdown",
      "source": [
        "* Also, there is imposible to determine any relationship with this variable pair. "
      ],
      "metadata": {
        "id": "IVhFF5h6xVtP"
      }
    },
    {
      "cell_type": "markdown",
      "source": [
        "#### `Outlet_Size` vs `Item_Fat_Content`"
      ],
      "metadata": {
        "id": "unVckQYrxWI7"
      }
    },
    {
      "cell_type": "code",
      "source": [
        "df.groupby(by=['Item_Fat_Content'])['Outlet_Size'].value_counts(normalize= True)"
      ],
      "metadata": {
        "colab": {
          "base_uri": "https://localhost:8080/"
        },
        "id": "8GJoCXJcxlUL",
        "outputId": "f134e234-36f1-4018-9198-f220807ffa16"
      },
      "execution_count": null,
      "outputs": [
        {
          "output_type": "execute_result",
          "data": {
            "text/plain": [
              "Item_Fat_Content  Outlet_Size\n",
              "LF                Medium         0.450644\n",
              "                  Small          0.412017\n",
              "                  High           0.137339\n",
              "Low Fat           Medium         0.455919\n",
              "                  Small          0.391376\n",
              "                  High           0.152705\n",
              "Regular           Medium         0.458574\n",
              "                  Small          0.390655\n",
              "                  High           0.150771\n",
              "low fat           Medium         0.419753\n",
              "                  Small          0.358025\n",
              "                  High           0.222222\n",
              "reg               Medium         0.512195\n",
              "                  Small          0.329268\n",
              "                  High           0.158537\n",
              "Name: Outlet_Size, dtype: float64"
            ]
          },
          "metadata": {},
          "execution_count": 15
        }
      ]
    },
    {
      "cell_type": "markdown",
      "source": [
        "Here I see a view of the same insigh of the first two pairs of variables analyzed, but before giving some conclution is necesary to treat the inconsistencies in the categories. I will solve this as follow"
      ],
      "metadata": {
        "id": "P4TfJeLZxvpl"
      }
    },
    {
      "cell_type": "markdown",
      "source": [
        "#### Solving preliminary inconsistencies within the categories in the `Item_Fat_Content` variable"
      ],
      "metadata": {
        "id": "8MN5EK-DydF0"
      }
    },
    {
      "cell_type": "code",
      "source": [
        "df['Item_Fat_Content'].unique()"
      ],
      "metadata": {
        "colab": {
          "base_uri": "https://localhost:8080/"
        },
        "id": "Yl0A2MYkyPIZ",
        "outputId": "67e86a56-de2e-45cb-9080-c32811bc052e"
      },
      "execution_count": null,
      "outputs": [
        {
          "output_type": "execute_result",
          "data": {
            "text/plain": [
              "array(['Low Fat', 'Regular', 'low fat', 'LF', 'reg'], dtype=object)"
            ]
          },
          "metadata": {},
          "execution_count": 16
        }
      ]
    },
    {
      "cell_type": "markdown",
      "source": [
        "I will assume that the category `LF` is the same as `Low Fat`, as well as `reg` to `Regular`. And the will be added capt to `low fat`. "
      ],
      "metadata": {
        "id": "WO1Tz6J7yqoM"
      }
    },
    {
      "cell_type": "code",
      "source": [
        "df['Item_Fat_Content'].replace({'LF': 'Low Fat', \n",
        "                                'low fat': 'Low Fat', \n",
        "                                'reg': 'Regular'}, \n",
        "                                inplace=True)\n",
        "\n",
        "df['Item_Fat_Content'].unique()"
      ],
      "metadata": {
        "colab": {
          "base_uri": "https://localhost:8080/"
        },
        "id": "rJiXCZQRyYY-",
        "outputId": "d4d1e15e-db25-4a90-c3f4-dc8005fa284d"
      },
      "execution_count": null,
      "outputs": [
        {
          "output_type": "execute_result",
          "data": {
            "text/plain": [
              "array(['Low Fat', 'Regular'], dtype=object)"
            ]
          },
          "metadata": {},
          "execution_count": 17
        }
      ]
    },
    {
      "cell_type": "markdown",
      "source": [
        "Once this is corrected, I can continue with the previus analysis between `Outlet_Size` and `Item_Fat_Content`"
      ],
      "metadata": {
        "id": "frcEgOoozQm_"
      }
    },
    {
      "cell_type": "markdown",
      "source": [
        "#### `Outlet_Siz`e vs `Item_Fat_Content` (Cont.)"
      ],
      "metadata": {
        "id": "J19GHlkZzd-t"
      }
    },
    {
      "cell_type": "code",
      "source": [
        "df.groupby(by=['Item_Fat_Content'])['Outlet_Size'].value_counts(normalize= True)"
      ],
      "metadata": {
        "colab": {
          "base_uri": "https://localhost:8080/"
        },
        "id": "bg-UBoCUzdRU",
        "outputId": "24166f7a-2b66-4434-fdcf-6c490a08bd04"
      },
      "execution_count": null,
      "outputs": [
        {
          "output_type": "execute_result",
          "data": {
            "text/plain": [
              "Item_Fat_Content  Outlet_Size\n",
              "Low Fat           Medium         0.454867\n",
              "                  Small          0.391909\n",
              "                  High           0.153224\n",
              "Regular           Medium         0.460612\n",
              "                  Small          0.388323\n",
              "                  High           0.151066\n",
              "Name: Outlet_Size, dtype: float64"
            ]
          },
          "metadata": {},
          "execution_count": 18
        }
      ]
    },
    {
      "cell_type": "markdown",
      "source": [
        "Now I can see more clearly that is happening the same thing than the first pair of variables. \n"
      ],
      "metadata": {
        "id": "6zqk4E9rznrF"
      }
    },
    {
      "cell_type": "markdown",
      "source": [
        "#### `Outlet_Size` vs `Outlet_Location_Type`"
      ],
      "metadata": {
        "id": "Thec6XaF0Rwo"
      }
    },
    {
      "cell_type": "code",
      "source": [
        "df.groupby(by=['Outlet_Location_Type'])['Outlet_Size'].value_counts(normalize= True)"
      ],
      "metadata": {
        "colab": {
          "base_uri": "https://localhost:8080/"
        },
        "id": "IOWbmp17zPLR",
        "outputId": "03e30ff0-a713-436f-ded2-d383b1e495f2"
      },
      "execution_count": null,
      "outputs": [
        {
          "output_type": "execute_result",
          "data": {
            "text/plain": [
              "Outlet_Location_Type  Outlet_Size\n",
              "Tier 1                Small          0.610553\n",
              "                      Medium         0.389447\n",
              "Tier 2                Small          1.000000\n",
              "Tier 3                Medium         0.666547\n",
              "                      High           0.333453\n",
              "Name: Outlet_Size, dtype: float64"
            ]
          },
          "metadata": {},
          "execution_count": 19
        }
      ]
    },
    {
      "cell_type": "markdown",
      "source": [
        "With this pair is difficult to see any relationshitp that helps me determine how to assign the missing values of this variable. "
      ],
      "metadata": {
        "id": "o20M3H460gmF"
      }
    },
    {
      "cell_type": "markdown",
      "source": [
        "Breafly resuming the conclutions:\n",
        "\n",
        "* There is no relationship that allow me to make a decison about where to impute the missing values between `Outlet_Size` and the [`Outlet_Type`, `Outlet_Identifier`, `Outlet_Location_Type`] variables.\n",
        "* On the contrary, I can see relationship or correlation on the categories between `Outlet_Size` and [`Item_Type`,`Item_Fat_Content`].\n",
        "\n",
        "There are to options of imputing the missing values here:\n",
        "\n",
        "* Create a new category, it could call 'undefined' for example.\n",
        "* Impute the missing values to the 'High' category and analize how is the distribution.\n",
        "\n",
        "I'll continue with the 2nd one, and if I see any problems whith the analysis I always be able to return to implement a new solution. "
      ],
      "metadata": {
        "id": "4VoGtmNt0yhG"
      }
    },
    {
      "cell_type": "markdown",
      "source": [
        "#### Imputing missing values to `High` category.\n",
        "\n",
        "First of all I'll create a copy of the dataframe in case I have to return and take the other option of create a new category.\n"
      ],
      "metadata": {
        "id": "Ixy2kKQR3au_"
      }
    },
    {
      "cell_type": "code",
      "source": [
        "# IMPUTING MISSING VALUES TO HIGH CATEGORY\n",
        "\n",
        "#Copy the original dataframe\n",
        "df_2 = df.copy(deep=True)\n",
        "\n",
        "#imputing the missing values to High\n",
        "df_2['Outlet_Size'].fillna('High', inplace=True)"
      ],
      "metadata": {
        "id": "eCnnJzt-dqDB"
      },
      "execution_count": null,
      "outputs": []
    },
    {
      "cell_type": "markdown",
      "source": [
        "#### Checking the data with imputed values"
      ],
      "metadata": {
        "id": "If0sSuVs4Yky"
      }
    },
    {
      "cell_type": "code",
      "source": [
        "df_2.isna().sum()"
      ],
      "metadata": {
        "colab": {
          "base_uri": "https://localhost:8080/"
        },
        "id": "QwNHYadp4edy",
        "outputId": "a3c9a459-73f3-4140-9503-ca37a3aa8ed6"
      },
      "execution_count": null,
      "outputs": [
        {
          "output_type": "execute_result",
          "data": {
            "text/plain": [
              "Item_Identifier              0\n",
              "Item_Fat_Content             0\n",
              "Item_Visibility              0\n",
              "Item_Type                    0\n",
              "Item_MRP                     0\n",
              "Outlet_Identifier            0\n",
              "Outlet_Establishment_Year    0\n",
              "Outlet_Size                  0\n",
              "Outlet_Location_Type         0\n",
              "Outlet_Type                  0\n",
              "Item_Outlet_Sales            0\n",
              "dtype: int64"
            ]
          },
          "metadata": {},
          "execution_count": 21
        }
      ]
    },
    {
      "cell_type": "code",
      "source": [
        "df_2['Outlet_Size'].unique()"
      ],
      "metadata": {
        "colab": {
          "base_uri": "https://localhost:8080/"
        },
        "id": "fYX9l87P4g_U",
        "outputId": "ab4560c9-623a-4aeb-f30e-f0b28acba183"
      },
      "execution_count": null,
      "outputs": [
        {
          "output_type": "execute_result",
          "data": {
            "text/plain": [
              "array(['Medium', 'High', 'Small'], dtype=object)"
            ]
          },
          "metadata": {},
          "execution_count": 22
        }
      ]
    },
    {
      "cell_type": "code",
      "source": [
        "df_2.groupby(by=['Item_Type'])['Outlet_Size'].value_counts(normalize=True)"
      ],
      "metadata": {
        "colab": {
          "base_uri": "https://localhost:8080/"
        },
        "id": "c8xWdmenfY7f",
        "outputId": "926f4939-0937-444e-d6cc-457fbae7c335"
      },
      "execution_count": null,
      "outputs": [
        {
          "output_type": "execute_result",
          "data": {
            "text/plain": [
              "Item_Type              Outlet_Size\n",
              "Baking Goods           High           0.398148\n",
              "                       Medium         0.313272\n",
              "                       Small          0.288580\n",
              "Breads                 High           0.386454\n",
              "                       Medium         0.330677\n",
              "                       Small          0.282869\n",
              "Breakfast              High           0.400000\n",
              "                       Medium         0.327273\n",
              "                       Small          0.272727\n",
              "Canned                 High           0.374422\n",
              "                       Medium         0.334361\n",
              "                       Small          0.291217\n",
              "Dairy                  High           0.390029\n",
              "                       Medium         0.319648\n",
              "                       Small          0.290323\n",
              "Frozen Foods           High           0.389019\n",
              "                       Medium         0.320093\n",
              "                       Small          0.290888\n",
              "Fruits and Vegetables  High           0.398539\n",
              "                       Medium         0.335227\n",
              "                       Small          0.266234\n",
              "Hard Drinks            High           0.415888\n",
              "                       Medium         0.350467\n",
              "                       Small          0.233645\n",
              "Health and Hygiene     High           0.411538\n",
              "                       Medium         0.326923\n",
              "                       Small          0.261538\n",
              "Household              High           0.400000\n",
              "                       Medium         0.317582\n",
              "                       Small          0.282418\n",
              "Meat                   High           0.369412\n",
              "                       Medium         0.350588\n",
              "                       Small          0.280000\n",
              "Others                 High           0.366864\n",
              "                       Small          0.325444\n",
              "                       Medium         0.307692\n",
              "Seafood                High           0.359375\n",
              "                       Medium         0.328125\n",
              "                       Small          0.312500\n",
              "Snack Foods            High           0.380833\n",
              "                       Medium         0.340000\n",
              "                       Small          0.279167\n",
              "Soft Drinks            High           0.408989\n",
              "                       Medium         0.307865\n",
              "                       Small          0.283146\n",
              "Starchy Foods          High           0.418919\n",
              "                       Medium         0.324324\n",
              "                       Small          0.256757\n",
              "Name: Outlet_Size, dtype: float64"
            ]
          },
          "metadata": {},
          "execution_count": 23
        }
      ]
    },
    {
      "cell_type": "code",
      "source": [
        "df_2.groupby(by=['Item_Fat_Content'])['Outlet_Size'].value_counts(normalize= True)"
      ],
      "metadata": {
        "colab": {
          "base_uri": "https://localhost:8080/"
        },
        "id": "tyNSbr3s4WWp",
        "outputId": "8dace409-35f7-4051-ea48-e6e94e2cad97"
      },
      "execution_count": null,
      "outputs": [
        {
          "output_type": "execute_result",
          "data": {
            "text/plain": [
              "Item_Fat_Content  Outlet_Size\n",
              "Low Fat           High           0.392967\n",
              "                  Medium         0.326083\n",
              "                  Small          0.280950\n",
              "Regular           High           0.390552\n",
              "                  Medium         0.330672\n",
              "                  Small          0.278776\n",
              "Name: Outlet_Size, dtype: float64"
            ]
          },
          "metadata": {},
          "execution_count": 24
        }
      ]
    },
    {
      "cell_type": "markdown",
      "source": [
        "* I am going forward with this data as I see that the one seems more uniform.\n",
        "* I always could return and take the other path in case of the model present high amount of error.  "
      ],
      "metadata": {
        "id": "JYSJZOG_45Kb"
      }
    },
    {
      "cell_type": "markdown",
      "source": [
        "### Looking for Inconsistencies\n",
        "\n",
        "I previous started this with the `Item_Fat_Content` variable, but I want to see all the variables in case more of them be found."
      ],
      "metadata": {
        "id": "RV7McsLL5edM"
      }
    },
    {
      "cell_type": "code",
      "source": [
        "df_2['Item_Identifier'].unique()"
      ],
      "metadata": {
        "colab": {
          "base_uri": "https://localhost:8080/"
        },
        "id": "8b5BG5Ncvfj7",
        "outputId": "b857d30a-88d4-41ed-e8cc-901d44da8e37"
      },
      "execution_count": null,
      "outputs": [
        {
          "output_type": "execute_result",
          "data": {
            "text/plain": [
              "array(['FDA15', 'DRC01', 'FDN15', ..., 'NCF55', 'NCW30', 'NCW05'],\n",
              "      dtype=object)"
            ]
          },
          "metadata": {},
          "execution_count": 25
        }
      ]
    },
    {
      "cell_type": "code",
      "source": [
        "df_2['Outlet_Establishment_Year'].unique()"
      ],
      "metadata": {
        "colab": {
          "base_uri": "https://localhost:8080/"
        },
        "id": "bH4rzCVTv1ee",
        "outputId": "600772b6-a445-4cdd-bb36-49fb91f5e8ec"
      },
      "execution_count": null,
      "outputs": [
        {
          "output_type": "execute_result",
          "data": {
            "text/plain": [
              "array([1999, 2009, 1998, 1987, 1985, 2002, 2007, 1997, 2004])"
            ]
          },
          "metadata": {},
          "execution_count": 26
        }
      ]
    },
    {
      "cell_type": "code",
      "source": [
        "df_2['Outlet_Identifier'].unique()"
      ],
      "metadata": {
        "colab": {
          "base_uri": "https://localhost:8080/"
        },
        "id": "I8m3ts9gv7jv",
        "outputId": "d9d91c18-a51a-452b-8c0f-78425e82f25f"
      },
      "execution_count": null,
      "outputs": [
        {
          "output_type": "execute_result",
          "data": {
            "text/plain": [
              "array(['OUT049', 'OUT018', 'OUT010', 'OUT013', 'OUT027', 'OUT045',\n",
              "       'OUT017', 'OUT046', 'OUT035', 'OUT019'], dtype=object)"
            ]
          },
          "metadata": {},
          "execution_count": 27
        }
      ]
    },
    {
      "cell_type": "code",
      "source": [
        "df_2['Outlet_Location_Type'].unique()"
      ],
      "metadata": {
        "colab": {
          "base_uri": "https://localhost:8080/"
        },
        "id": "q5Vs-U7_wDCa",
        "outputId": "d598a0dc-0afa-40be-d186-683e8f2b4434"
      },
      "execution_count": null,
      "outputs": [
        {
          "output_type": "execute_result",
          "data": {
            "text/plain": [
              "array(['Tier 1', 'Tier 3', 'Tier 2'], dtype=object)"
            ]
          },
          "metadata": {},
          "execution_count": 28
        }
      ]
    },
    {
      "cell_type": "code",
      "source": [
        "df_2['Outlet_Type'].unique()"
      ],
      "metadata": {
        "colab": {
          "base_uri": "https://localhost:8080/"
        },
        "id": "aA8i7hlCwJHz",
        "outputId": "3071a048-ddd2-4344-fd3d-1969d8fdf1fe"
      },
      "execution_count": null,
      "outputs": [
        {
          "output_type": "execute_result",
          "data": {
            "text/plain": [
              "array(['Supermarket Type1', 'Supermarket Type2', 'Grocery Store',\n",
              "       'Supermarket Type3'], dtype=object)"
            ]
          },
          "metadata": {},
          "execution_count": 29
        }
      ]
    },
    {
      "cell_type": "markdown",
      "source": [
        "I see no more inconsistencies"
      ],
      "metadata": {
        "id": "XoItI5Jr5_Mq"
      }
    },
    {
      "cell_type": "markdown",
      "source": [
        "### Summary statistics"
      ],
      "metadata": {
        "id": "bdlZjpwgy8qG"
      }
    },
    {
      "cell_type": "code",
      "source": [
        "df.describe()"
      ],
      "metadata": {
        "colab": {
          "base_uri": "https://localhost:8080/",
          "height": 300
        },
        "id": "BAb1c9PbysrF",
        "outputId": "2d5d1a42-794e-428b-a917-444dcbd0e131"
      },
      "execution_count": null,
      "outputs": [
        {
          "output_type": "execute_result",
          "data": {
            "text/plain": [
              "       Item_Visibility     Item_MRP  Outlet_Establishment_Year  \\\n",
              "count      8523.000000  8523.000000                8523.000000   \n",
              "mean          0.066132   140.992782                1997.831867   \n",
              "std           0.051598    62.275067                   8.371760   \n",
              "min           0.000000    31.290000                1985.000000   \n",
              "25%           0.026989    93.826500                1987.000000   \n",
              "50%           0.053931   143.012800                1999.000000   \n",
              "75%           0.094585   185.643700                2004.000000   \n",
              "max           0.328391   266.888400                2009.000000   \n",
              "\n",
              "       Item_Outlet_Sales  \n",
              "count        8523.000000  \n",
              "mean         2181.288914  \n",
              "std          1706.499616  \n",
              "min            33.290000  \n",
              "25%           834.247400  \n",
              "50%          1794.331000  \n",
              "75%          3101.296400  \n",
              "max         13086.964800  "
            ],
            "text/html": [
              "\n",
              "  <div id=\"df-aa21369e-277f-4c64-9d17-04afa2567250\">\n",
              "    <div class=\"colab-df-container\">\n",
              "      <div>\n",
              "<style scoped>\n",
              "    .dataframe tbody tr th:only-of-type {\n",
              "        vertical-align: middle;\n",
              "    }\n",
              "\n",
              "    .dataframe tbody tr th {\n",
              "        vertical-align: top;\n",
              "    }\n",
              "\n",
              "    .dataframe thead th {\n",
              "        text-align: right;\n",
              "    }\n",
              "</style>\n",
              "<table border=\"1\" class=\"dataframe\">\n",
              "  <thead>\n",
              "    <tr style=\"text-align: right;\">\n",
              "      <th></th>\n",
              "      <th>Item_Visibility</th>\n",
              "      <th>Item_MRP</th>\n",
              "      <th>Outlet_Establishment_Year</th>\n",
              "      <th>Item_Outlet_Sales</th>\n",
              "    </tr>\n",
              "  </thead>\n",
              "  <tbody>\n",
              "    <tr>\n",
              "      <th>count</th>\n",
              "      <td>8523.000000</td>\n",
              "      <td>8523.000000</td>\n",
              "      <td>8523.000000</td>\n",
              "      <td>8523.000000</td>\n",
              "    </tr>\n",
              "    <tr>\n",
              "      <th>mean</th>\n",
              "      <td>0.066132</td>\n",
              "      <td>140.992782</td>\n",
              "      <td>1997.831867</td>\n",
              "      <td>2181.288914</td>\n",
              "    </tr>\n",
              "    <tr>\n",
              "      <th>std</th>\n",
              "      <td>0.051598</td>\n",
              "      <td>62.275067</td>\n",
              "      <td>8.371760</td>\n",
              "      <td>1706.499616</td>\n",
              "    </tr>\n",
              "    <tr>\n",
              "      <th>min</th>\n",
              "      <td>0.000000</td>\n",
              "      <td>31.290000</td>\n",
              "      <td>1985.000000</td>\n",
              "      <td>33.290000</td>\n",
              "    </tr>\n",
              "    <tr>\n",
              "      <th>25%</th>\n",
              "      <td>0.026989</td>\n",
              "      <td>93.826500</td>\n",
              "      <td>1987.000000</td>\n",
              "      <td>834.247400</td>\n",
              "    </tr>\n",
              "    <tr>\n",
              "      <th>50%</th>\n",
              "      <td>0.053931</td>\n",
              "      <td>143.012800</td>\n",
              "      <td>1999.000000</td>\n",
              "      <td>1794.331000</td>\n",
              "    </tr>\n",
              "    <tr>\n",
              "      <th>75%</th>\n",
              "      <td>0.094585</td>\n",
              "      <td>185.643700</td>\n",
              "      <td>2004.000000</td>\n",
              "      <td>3101.296400</td>\n",
              "    </tr>\n",
              "    <tr>\n",
              "      <th>max</th>\n",
              "      <td>0.328391</td>\n",
              "      <td>266.888400</td>\n",
              "      <td>2009.000000</td>\n",
              "      <td>13086.964800</td>\n",
              "    </tr>\n",
              "  </tbody>\n",
              "</table>\n",
              "</div>\n",
              "      <button class=\"colab-df-convert\" onclick=\"convertToInteractive('df-aa21369e-277f-4c64-9d17-04afa2567250')\"\n",
              "              title=\"Convert this dataframe to an interactive table.\"\n",
              "              style=\"display:none;\">\n",
              "        \n",
              "  <svg xmlns=\"http://www.w3.org/2000/svg\" height=\"24px\"viewBox=\"0 0 24 24\"\n",
              "       width=\"24px\">\n",
              "    <path d=\"M0 0h24v24H0V0z\" fill=\"none\"/>\n",
              "    <path d=\"M18.56 5.44l.94 2.06.94-2.06 2.06-.94-2.06-.94-.94-2.06-.94 2.06-2.06.94zm-11 1L8.5 8.5l.94-2.06 2.06-.94-2.06-.94L8.5 2.5l-.94 2.06-2.06.94zm10 10l.94 2.06.94-2.06 2.06-.94-2.06-.94-.94-2.06-.94 2.06-2.06.94z\"/><path d=\"M17.41 7.96l-1.37-1.37c-.4-.4-.92-.59-1.43-.59-.52 0-1.04.2-1.43.59L10.3 9.45l-7.72 7.72c-.78.78-.78 2.05 0 2.83L4 21.41c.39.39.9.59 1.41.59.51 0 1.02-.2 1.41-.59l7.78-7.78 2.81-2.81c.8-.78.8-2.07 0-2.86zM5.41 20L4 18.59l7.72-7.72 1.47 1.35L5.41 20z\"/>\n",
              "  </svg>\n",
              "      </button>\n",
              "      \n",
              "  <style>\n",
              "    .colab-df-container {\n",
              "      display:flex;\n",
              "      flex-wrap:wrap;\n",
              "      gap: 12px;\n",
              "    }\n",
              "\n",
              "    .colab-df-convert {\n",
              "      background-color: #E8F0FE;\n",
              "      border: none;\n",
              "      border-radius: 50%;\n",
              "      cursor: pointer;\n",
              "      display: none;\n",
              "      fill: #1967D2;\n",
              "      height: 32px;\n",
              "      padding: 0 0 0 0;\n",
              "      width: 32px;\n",
              "    }\n",
              "\n",
              "    .colab-df-convert:hover {\n",
              "      background-color: #E2EBFA;\n",
              "      box-shadow: 0px 1px 2px rgba(60, 64, 67, 0.3), 0px 1px 3px 1px rgba(60, 64, 67, 0.15);\n",
              "      fill: #174EA6;\n",
              "    }\n",
              "\n",
              "    [theme=dark] .colab-df-convert {\n",
              "      background-color: #3B4455;\n",
              "      fill: #D2E3FC;\n",
              "    }\n",
              "\n",
              "    [theme=dark] .colab-df-convert:hover {\n",
              "      background-color: #434B5C;\n",
              "      box-shadow: 0px 1px 3px 1px rgba(0, 0, 0, 0.15);\n",
              "      filter: drop-shadow(0px 1px 2px rgba(0, 0, 0, 0.3));\n",
              "      fill: #FFFFFF;\n",
              "    }\n",
              "  </style>\n",
              "\n",
              "      <script>\n",
              "        const buttonEl =\n",
              "          document.querySelector('#df-aa21369e-277f-4c64-9d17-04afa2567250 button.colab-df-convert');\n",
              "        buttonEl.style.display =\n",
              "          google.colab.kernel.accessAllowed ? 'block' : 'none';\n",
              "\n",
              "        async function convertToInteractive(key) {\n",
              "          const element = document.querySelector('#df-aa21369e-277f-4c64-9d17-04afa2567250');\n",
              "          const dataTable =\n",
              "            await google.colab.kernel.invokeFunction('convertToInteractive',\n",
              "                                                     [key], {});\n",
              "          if (!dataTable) return;\n",
              "\n",
              "          const docLinkHtml = 'Like what you see? Visit the ' +\n",
              "            '<a target=\"_blank\" href=https://colab.research.google.com/notebooks/data_table.ipynb>data table notebook</a>'\n",
              "            + ' to learn more about interactive tables.';\n",
              "          element.innerHTML = '';\n",
              "          dataTable['output_type'] = 'display_data';\n",
              "          await google.colab.output.renderOutput(dataTable, element);\n",
              "          const docLink = document.createElement('div');\n",
              "          docLink.innerHTML = docLinkHtml;\n",
              "          element.appendChild(docLink);\n",
              "        }\n",
              "      </script>\n",
              "    </div>\n",
              "  </div>\n",
              "  "
            ]
          },
          "metadata": {},
          "execution_count": 30
        }
      ]
    },
    {
      "cell_type": "markdown",
      "source": [
        "## Exploratory Visuals"
      ],
      "metadata": {
        "id": "E3AwQqQ5vei0"
      }
    },
    {
      "cell_type": "code",
      "source": [],
      "metadata": {
        "id": "TdkjqGrKvhUv"
      },
      "execution_count": null,
      "outputs": []
    },
    {
      "cell_type": "markdown",
      "source": [
        "## Explanatory Visuals"
      ],
      "metadata": {
        "id": "3827ej84viEo"
      }
    },
    {
      "cell_type": "code",
      "source": [],
      "metadata": {
        "id": "BVQdspJvvll_"
      },
      "execution_count": null,
      "outputs": []
    }
  ]
}